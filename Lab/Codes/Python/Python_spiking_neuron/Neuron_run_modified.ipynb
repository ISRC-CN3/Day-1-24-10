{
 "cells": [
  {
   "cell_type": "code",
   "execution_count": null,
   "id": "f16d2c34",
   "metadata": {},
   "outputs": [],
   "source": [
    "!wget https://raw.githubusercontent.com/ISRC-CN3/Day-1-25-10/main/Lab/Codes/Python/Python_spiking_neuron/Neuron.py -O Neuron.py"
   ]
  },
  {
   "cell_type": "code",
   "execution_count": null,
   "metadata": {},
   "outputs": [],
   "source": [
    "from Neuron import Neuron\n",
    "neuron_one=Neuron()\n",
    "neuron_one.create_injection_current()\n",
    "neuron_one.leaky_integrate_and_fire()\n",
    "neuron_one.plot_neuron()"
   ]
  }
 ],
 "metadata": {
  "kernelspec": {
   "display_name": "Python 3 (ipykernel)",
   "language": "python",
   "name": "python3"
  },
  "language_info": {
   "codemirror_mode": {
    "name": "ipython",
    "version": 3
   },
   "file_extension": ".py",
   "mimetype": "text/x-python",
   "name": "python",
   "nbconvert_exporter": "python",
   "pygments_lexer": "ipython3",
   "version": "3.9.10"
  }
 },
 "nbformat": 4,
 "nbformat_minor": 4
}
