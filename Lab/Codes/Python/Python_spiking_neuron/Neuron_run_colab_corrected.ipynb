{
 "cells": [
  {
   "cell_type": "markdown",
   "id": "3e4d6e95",
   "metadata": {},
   "source": [
    "# How to run this notebook in Google Colab\n",
    "\n",
    "1. Upload the `Neuron.py` file to your Google Drive.\n",
    "2. Mount your Google Drive in this Colab notebook:\n",
    "\n",
    "```python\n",
    "from google.colab import drive\n",
    "drive.mount('/content/drive')\n",
    "```\n",
    "\n",
    "3. Change your working directory to the location of `Neuron.py`:\n",
    "\n",
    "```python\n",
    "import os\n",
    "os.chdir('/content/drive/My Drive/path/to/Neuron.py')\n",
    "```\n",
    "\n",
    "4. Run the code as you would in a local environment."
   ]
  },
  {
   "cell_type": "code",
   "execution_count": null,
   "id": "85479782",
   "metadata": {},
   "outputs": [],
   "source": [
    "from google.colab import drive\n",
    "drive.mount('/content/drive')"
   ]
  },
  {
   "cell_type": "code",
   "execution_count": null,
   "id": "ae674e69",
   "metadata": {},
   "outputs": [],
   "source": [
    "import os\n",
    "os.chdir('/content/drive/My Drive/path/to/Neuron.py')"
   ]
  },
  {
   "cell_type": "code",
   "execution_count": null,
   "id": "e3e0e175",
   "metadata": {},
   "outputs": [],
   "source": [
    "from Neuron import Neuron\n",
    "neuron_one = Neuron()\n",
    "neuron_one.create_injection_current()\n",
    "neuron_one.leaky_integrate_and_fire()\n",
    "neuron_one.plot_neuron()"
   ]
  }
 ],
 "metadata": {},
 "nbformat": 4,
 "nbformat_minor": 5
}
