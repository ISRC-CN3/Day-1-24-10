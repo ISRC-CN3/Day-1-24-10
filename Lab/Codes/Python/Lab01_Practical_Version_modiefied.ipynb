{
  "cells": [
    {
      "cell_type": "markdown",
      "id": "respiratory-issue",
      "metadata": {
        "id": "respiratory-issue"
      },
      "source": [
        "# Lab 01\n",
        "Welcome to the first Lab sesion. This  Lab Tutorial provides an introductionary overview of:\n",
        "##### 1) Python Basics\n",
        "\n",
        "covering the basic semantic of Python\n",
        "\n",
        "##### 2) Data Science\n",
        "\n",
        "which provides a step-by step simplistic overview of how to train a machine learning model\\\n",
        "<br/>\n",
        "\n",
        "\n",
        "The majority of this notebook simply requires reading and understanding of the description, and execution of the provided code cells.\n",
        "\n",
        "This provides a foundation and a quick reference for **Excercises**, which require user to enter code, or modify existing code based on provided instructions.\n",
        "\n",
        "All **Excercises** contain expected output, which provides insight of how data/variable/model should look like after completion.\n",
        "\n",
        "Have fun!"
      ]
    },
    {
      "cell_type": "markdown",
      "id": "worse-account",
      "metadata": {
        "id": "worse-account"
      },
      "source": [
        "## Basics"
      ]
    },
    {
      "cell_type": "markdown",
      "id": "sonic-perry",
      "metadata": {
        "id": "sonic-perry"
      },
      "source": [
        "### Variables"
      ]
    },
    {
      "cell_type": "code",
      "execution_count": 1,
      "id": "different-perry",
      "metadata": {
        "id": "different-perry",
        "outputId": "d79510aa-e5e8-4805-a458-8501bdec1abf",
        "colab": {
          "base_uri": "https://localhost:8080/"
        }
      },
      "outputs": [
        {
          "output_type": "stream",
          "name": "stdout",
          "text": [
            "1\n"
          ]
        }
      ],
      "source": [
        "a = 1\n",
        "print(a)"
      ]
    },
    {
      "cell_type": "code",
      "execution_count": 2,
      "id": "australian-celtic",
      "metadata": {
        "id": "australian-celtic",
        "outputId": "ce5e74b6-e863-46e9-904d-f80d03ade389",
        "colab": {
          "base_uri": "https://localhost:8080/"
        }
      },
      "outputs": [
        {
          "output_type": "stream",
          "name": "stdout",
          "text": [
            "3.0\n"
          ]
        }
      ],
      "source": [
        "b = 2.0\n",
        "print(a + b)"
      ]
    },
    {
      "cell_type": "code",
      "execution_count": 3,
      "id": "three-gathering",
      "metadata": {
        "id": "three-gathering",
        "outputId": "ca51d7ad-06ab-46ef-ee17-ea2b71524f50",
        "colab": {
          "base_uri": "https://localhost:8080/"
        }
      },
      "outputs": [
        {
          "output_type": "stream",
          "name": "stdout",
          "text": [
            "True\n"
          ]
        }
      ],
      "source": [
        "c = True\n",
        "print(c)"
      ]
    },
    {
      "cell_type": "code",
      "execution_count": 4,
      "id": "german-knight",
      "metadata": {
        "id": "german-knight",
        "outputId": "5d80c14f-ab66-4b94-d245-e5361b9fed02",
        "colab": {
          "base_uri": "https://localhost:8080/"
        }
      },
      "outputs": [
        {
          "output_type": "stream",
          "name": "stdout",
          "text": [
            "Hello\n"
          ]
        }
      ],
      "source": [
        "text = \"Hello\"\n",
        "print(text)"
      ]
    },
    {
      "cell_type": "code",
      "execution_count": 5,
      "id": "regulation-metro",
      "metadata": {
        "id": "regulation-metro",
        "outputId": "21f9f1ae-4377-411c-dc01-631e1bc9577f",
        "colab": {
          "base_uri": "https://localhost:8080/"
        }
      },
      "outputs": [
        {
          "output_type": "stream",
          "name": "stdout",
          "text": [
            "<class 'str'>\n"
          ]
        }
      ],
      "source": [
        "# Cast integer to string\n",
        "print(type(str(a)))"
      ]
    },
    {
      "cell_type": "code",
      "execution_count": 6,
      "id": "friendly-finish",
      "metadata": {
        "id": "friendly-finish",
        "outputId": "04ea4670-9bb7-48c5-92fc-4350b6779f08",
        "colab": {
          "base_uri": "https://localhost:8080/"
        }
      },
      "outputs": [
        {
          "output_type": "stream",
          "name": "stdout",
          "text": [
            "My name is Marcus\n"
          ]
        }
      ],
      "source": [
        "#f-strings\n",
        "firstname = 'Marcus'\n",
        "print(f'My name is {firstname}')"
      ]
    },
    {
      "cell_type": "markdown",
      "id": "played-portland",
      "metadata": {
        "id": "played-portland"
      },
      "source": [
        "### Math Operators"
      ]
    },
    {
      "cell_type": "markdown",
      "id": "other-horror",
      "metadata": {
        "id": "other-horror"
      },
      "source": [
        "- +, -, *, and /\n",
        "- Exponentiation **\n",
        "- Modulo % (Remainder of a division)"
      ]
    },
    {
      "cell_type": "code",
      "execution_count": 7,
      "id": "short-forest",
      "metadata": {
        "id": "short-forest",
        "outputId": "d35e86f5-c804-4227-a7e2-9a4a6f3bf559",
        "colab": {
          "base_uri": "https://localhost:8080/"
        }
      },
      "outputs": [
        {
          "output_type": "stream",
          "name": "stdout",
          "text": [
            "a = 9, -5\n"
          ]
        }
      ],
      "source": [
        "#Addition/Subtraction\n",
        "a = 2 + 7\n",
        "print(f'a = {a}, {2 - 7}')"
      ]
    },
    {
      "cell_type": "code",
      "execution_count": 8,
      "id": "neither-mailman",
      "metadata": {
        "id": "neither-mailman",
        "outputId": "93331688-1593-4ed9-ad96-7bbe29b0a7f9",
        "colab": {
          "base_uri": "https://localhost:8080/"
        }
      },
      "outputs": [
        {
          "output_type": "stream",
          "name": "stdout",
          "text": [
            "a = 14, 0.2857142857142857\n"
          ]
        }
      ],
      "source": [
        "#Multiplication/Division\n",
        "b = 2 * 7\n",
        "print(f'a = {b}, {2 / 7}')"
      ]
    },
    {
      "cell_type": "code",
      "execution_count": 9,
      "id": "threaded-packaging",
      "metadata": {
        "id": "threaded-packaging",
        "outputId": "a25f8db2-c8fe-4ace-bb7b-9616ec1e1d41",
        "colab": {
          "base_uri": "https://localhost:8080/"
        }
      },
      "outputs": [
        {
          "output_type": "stream",
          "name": "stdout",
          "text": [
            "b^2 = 4\n"
          ]
        }
      ],
      "source": [
        "# Exponentiation\n",
        "c = 2\n",
        "print(f'b^2 = {c**2}')"
      ]
    },
    {
      "cell_type": "code",
      "execution_count": 10,
      "id": "approved-audio",
      "metadata": {
        "id": "approved-audio",
        "outputId": "f729f66f-d419-4adf-ed51-e7f432dca761",
        "colab": {
          "base_uri": "https://localhost:8080/"
        }
      },
      "outputs": [
        {
          "output_type": "stream",
          "name": "stdout",
          "text": [
            "remainder of b/2 = 5\n"
          ]
        }
      ],
      "source": [
        "d = 9\n",
        "print(f'remainder of b/2 = {b%9}')"
      ]
    },
    {
      "cell_type": "markdown",
      "id": "complimentary-blond",
      "metadata": {
        "id": "complimentary-blond"
      },
      "source": [
        "### Logical Operators"
      ]
    },
    {
      "cell_type": "markdown",
      "id": "gross-satisfaction",
      "metadata": {
        "id": "gross-satisfaction"
      },
      "source": [
        "- x == y # x is equal to y\n",
        "\n",
        "- x != y # x is not equal to y\n",
        "\n",
        "- x > y # x is greater than y\n",
        "\n",
        "- x < y # x is less than y\n",
        "\n",
        "- x >= y # x is greater than or equal to y\n",
        "\n",
        "- x <= y # x is less than or equal to y"
      ]
    },
    {
      "cell_type": "code",
      "execution_count": 14,
      "id": "prostate-minute",
      "metadata": {
        "id": "prostate-minute",
        "outputId": "a473d89b-8b3e-4eb5-97c5-5f1f88407b85",
        "colab": {
          "base_uri": "https://localhost:8080/"
        }
      },
      "outputs": [
        {
          "output_type": "stream",
          "name": "stdout",
          "text": [
            "d < e: True\n",
            "d >= e: False\n"
          ]
        }
      ],
      "source": [
        "a = 3\n",
        "b = 5\n",
        "print('d < e: ' + str(a < b))\n",
        "print('d >= e: ' + str(a >= b))"
      ]
    },
    {
      "cell_type": "markdown",
      "id": "chinese-military",
      "metadata": {
        "id": "chinese-military"
      },
      "source": [
        "### If Statement"
      ]
    },
    {
      "cell_type": "code",
      "execution_count": 13,
      "id": "verified-posting",
      "metadata": {
        "id": "verified-posting",
        "outputId": "954ff822-fe24-444c-b3d5-41c4f65ef440",
        "colab": {
          "base_uri": "https://localhost:8080/"
        }
      },
      "outputs": [
        {
          "output_type": "stream",
          "name": "stdout",
          "text": [
            "The name Marcus has more than 5 characters.\n"
          ]
        }
      ],
      "source": [
        "name = \"Marcus\"\n",
        "\n",
        "if len(name) > 5:\n",
        "    print(f\"The name {name} has more than 5 characters.\")\n",
        "elif len(name) == 3:\n",
        "    print(f\"The name {name} has exactly 3 characters.\")\n",
        "else:\n",
        "    print(f\"The name {name} is neither greater than 5 nor exactly 3 characters!\")"
      ]
    },
    {
      "cell_type": "markdown",
      "id": "sustained-hierarchy",
      "metadata": {
        "id": "sustained-hierarchy"
      },
      "source": [
        "### Functions\n",
        "In python indentations deliminate code blocks, such as loops, functions or if statements"
      ]
    },
    {
      "cell_type": "code",
      "execution_count": 12,
      "id": "united-virtue",
      "metadata": {
        "id": "united-virtue",
        "outputId": "47be1b73-972c-4401-9ec5-1edac4acb4ea",
        "colab": {
          "base_uri": "https://localhost:8080/"
        }
      },
      "outputs": [
        {
          "output_type": "stream",
          "name": "stdout",
          "text": [
            "Marcus\n"
          ]
        }
      ],
      "source": [
        "def print_name():\n",
        "    #Indentation to denote this code block belongs to the function\n",
        "    print(\"Marcus\")\n",
        "print_name()"
      ]
    },
    {
      "cell_type": "markdown",
      "id": "derived-manitoba",
      "metadata": {
        "id": "derived-manitoba"
      },
      "source": [
        "Similarly to other languages we can provide arguments to function, and provide a return statement\n"
      ]
    },
    {
      "cell_type": "code",
      "execution_count": 11,
      "id": "cross-stations",
      "metadata": {
        "id": "cross-stations",
        "outputId": "d02942cf-1801-4e4f-f291-64096f357d3c",
        "colab": {
          "base_uri": "https://localhost:8080/",
          "height": 174
        }
      },
      "outputs": [
        {
          "output_type": "stream",
          "name": "stdout",
          "text": [
            "Marcus\n",
            "M\n",
            "a\n",
            "r\n",
            "c\n",
            "u\n",
            "s\n",
            "Finished!\n"
          ]
        },
        {
          "output_type": "execute_result",
          "data": {
            "text/plain": [
              "'Marcus'"
            ],
            "application/vnd.google.colaboratory.intrinsic+json": {
              "type": "string"
            }
          },
          "metadata": {},
          "execution_count": 11
        }
      ],
      "source": [
        "def print_name(name):\n",
        "    #Indentation to denote this code block belongs to the function\n",
        "    print(name)\n",
        "    for i in name:\n",
        "        # Indent for loop code block\n",
        "        print(i)\n",
        "    # This code belongs to function once again\n",
        "    print(\"Finished!\")\n",
        "    return name\n",
        "\n",
        "returned_name = print_name(\"Marcus\")\n",
        "returned_name"
      ]
    },
    {
      "cell_type": "markdown",
      "id": "working-halifax",
      "metadata": {
        "id": "working-halifax"
      },
      "source": [
        "### Exercise 1)\n",
        "Modify the function to print name and age"
      ]
    },
    {
      "cell_type": "code",
      "execution_count": 15,
      "id": "proprietary-match",
      "metadata": {
        "id": "proprietary-match",
        "outputId": "5d62d854-f042-4797-b841-537e9c12e072",
        "colab": {
          "base_uri": "https://localhost:8080/",
          "height": 331
        }
      },
      "outputs": [
        {
          "output_type": "error",
          "ename": "NotImplementedError",
          "evalue": "ignored",
          "traceback": [
            "\u001b[0;31m---------------------------------------------------------------------------\u001b[0m",
            "\u001b[0;31mNotImplementedError\u001b[0m                       Traceback (most recent call last)",
            "\u001b[0;32m<ipython-input-15-ecc80394d4d2>\u001b[0m in \u001b[0;36m<cell line: 6>\u001b[0;34m()\u001b[0m\n\u001b[1;32m      4\u001b[0m     \u001b[0;32mraise\u001b[0m \u001b[0mNotImplementedError\u001b[0m\u001b[0;34m(\u001b[0m\u001b[0;34m\"Pass two arguments to a function and print them.\"\u001b[0m\u001b[0;34m)\u001b[0m\u001b[0;34m\u001b[0m\u001b[0;34m\u001b[0m\u001b[0m\n\u001b[1;32m      5\u001b[0m \u001b[0;34m\u001b[0m\u001b[0m\n\u001b[0;32m----> 6\u001b[0;31m \u001b[0mprint_name\u001b[0m\u001b[0;34m(\u001b[0m\u001b[0;34m)\u001b[0m\u001b[0;34m\u001b[0m\u001b[0;34m\u001b[0m\u001b[0m\n\u001b[0m",
            "\u001b[0;32m<ipython-input-15-ecc80394d4d2>\u001b[0m in \u001b[0;36mprint_name\u001b[0;34m()\u001b[0m\n\u001b[1;32m      2\u001b[0m \u001b[0;32mdef\u001b[0m \u001b[0mprint_name\u001b[0m\u001b[0;34m(\u001b[0m\u001b[0;34m)\u001b[0m\u001b[0;34m:\u001b[0m\u001b[0;34m\u001b[0m\u001b[0;34m\u001b[0m\u001b[0m\n\u001b[1;32m      3\u001b[0m     \u001b[0;31m##Enter your code and remove NotImplementedError\u001b[0m\u001b[0;34m\u001b[0m\u001b[0;34m\u001b[0m\u001b[0m\n\u001b[0;32m----> 4\u001b[0;31m     \u001b[0;32mraise\u001b[0m \u001b[0mNotImplementedError\u001b[0m\u001b[0;34m(\u001b[0m\u001b[0;34m\"Pass two arguments to a function and print them.\"\u001b[0m\u001b[0;34m)\u001b[0m\u001b[0;34m\u001b[0m\u001b[0;34m\u001b[0m\u001b[0m\n\u001b[0m\u001b[1;32m      5\u001b[0m \u001b[0;34m\u001b[0m\u001b[0m\n\u001b[1;32m      6\u001b[0m \u001b[0mprint_name\u001b[0m\u001b[0;34m(\u001b[0m\u001b[0;34m)\u001b[0m\u001b[0;34m\u001b[0m\u001b[0;34m\u001b[0m\u001b[0m\n",
            "\u001b[0;31mNotImplementedError\u001b[0m: Pass two arguments to a function and print them."
          ]
        }
      ],
      "source": [
        "## Pass another argument\n",
        "def print_name():\n",
        "    ##Enter your code and remove NotImplementedError\n",
        "    raise NotImplementedError(\"Pass two arguments to a function and print them.\")\n",
        "\n",
        "print_name()"
      ]
    },
    {
      "cell_type": "markdown",
      "id": "electronic-lobby",
      "metadata": {
        "id": "electronic-lobby"
      },
      "source": [
        "### Modules\n",
        "Module is an external code providing collections of code written for specific tasks, such as machine learning, plotting or manipulating array"
      ]
    },
    {
      "cell_type": "code",
      "execution_count": 16,
      "id": "accessory-nightlife",
      "metadata": {
        "id": "accessory-nightlife"
      },
      "outputs": [],
      "source": [
        "import math\n",
        "import pandas as pd\n",
        "import numpy as np\n",
        "import matplotlib.pyplot as plt"
      ]
    },
    {
      "cell_type": "markdown",
      "id": "pleasant-warren",
      "metadata": {
        "id": "pleasant-warren"
      },
      "source": [
        "### Arrays/Lists\n",
        "In python lists are a mutable sequence of values. The type can be a mix of any data type."
      ]
    },
    {
      "cell_type": "code",
      "execution_count": 17,
      "id": "charming-device",
      "metadata": {
        "scrolled": true,
        "id": "charming-device",
        "outputId": "c20fcec9-57fb-4aa5-dcbf-c49d871b6fe1",
        "colab": {
          "base_uri": "https://localhost:8080/"
        }
      },
      "outputs": [
        {
          "output_type": "stream",
          "name": "stdout",
          "text": [
            "[1, 2, 3]\n"
          ]
        }
      ],
      "source": [
        "#Defining a list\n",
        "a = [1, 2, 3]\n",
        "print(a)"
      ]
    },
    {
      "cell_type": "code",
      "execution_count": 18,
      "id": "packed-ottawa",
      "metadata": {
        "id": "packed-ottawa",
        "outputId": "8a2715a4-32f0-480d-e541-bb2ae911316a",
        "colab": {
          "base_uri": "https://localhost:8080/"
        }
      },
      "outputs": [
        {
          "output_type": "stream",
          "name": "stdout",
          "text": [
            "[1, 2, 'three', ['f', 'o', 'u', 'r']]\n"
          ]
        }
      ],
      "source": [
        "#List with mutiple types, including a list\n",
        "b = [1, 2, \"three\", [\"f\", \"o\", \"u\", \"r\"]]\n",
        "print(b)"
      ]
    },
    {
      "cell_type": "markdown",
      "id": "alternate-authentication",
      "metadata": {
        "id": "alternate-authentication"
      },
      "source": [
        "Side note, when assigning value of an existing object into a new variable, it is passed by reference.\n",
        "\n",
        "<img src=\"https://blog.penjee.com/wp-content/uploads/2015/02/pass-by-reference-vs-pass-by-value-animation.gif\"/>\n",
        "\n"
      ]
    },
    {
      "cell_type": "code",
      "execution_count": 19,
      "id": "killing-crime",
      "metadata": {
        "id": "killing-crime",
        "outputId": "b10a25bd-4142-48e9-a05f-014f5b4ce477",
        "colab": {
          "base_uri": "https://localhost:8080/"
        }
      },
      "outputs": [
        {
          "output_type": "stream",
          "name": "stdout",
          "text": [
            "[1, 2, 3]\n"
          ]
        }
      ],
      "source": [
        "c = [1, 2, 3]\n",
        "d = a\n",
        "d[1] = 10\n",
        "print(c)"
      ]
    },
    {
      "cell_type": "markdown",
      "id": "negative-murder",
      "metadata": {
        "id": "negative-murder"
      },
      "source": [
        "### Exercise 2)\n",
        "Assign an array with 5 values to variable **c**. Then access the last element and set it to 8."
      ]
    },
    {
      "cell_type": "code",
      "execution_count": 20,
      "id": "incorrect-assessment",
      "metadata": {
        "id": "incorrect-assessment",
        "outputId": "fbcc8e2d-945c-4a0c-a059-410c3f71f128",
        "colab": {
          "base_uri": "https://localhost:8080/",
          "height": 193
        }
      },
      "outputs": [
        {
          "output_type": "error",
          "ename": "NotImplementedError",
          "evalue": "ignored",
          "traceback": [
            "\u001b[0;31m---------------------------------------------------------------------------\u001b[0m",
            "\u001b[0;31mNotImplementedError\u001b[0m                       Traceback (most recent call last)",
            "\u001b[0;32m<ipython-input-20-dcdb7de54d1e>\u001b[0m in \u001b[0;36m<cell line: 2>\u001b[0;34m()\u001b[0m\n\u001b[1;32m      1\u001b[0m \u001b[0;31m##Enter your code and remove NotImplementedError\u001b[0m\u001b[0;34m\u001b[0m\u001b[0;34m\u001b[0m\u001b[0m\n\u001b[0;32m----> 2\u001b[0;31m \u001b[0;32mraise\u001b[0m \u001b[0mNotImplementedError\u001b[0m\u001b[0;34m(\u001b[0m\u001b[0;34m\"Create a list, and assign last variable.\"\u001b[0m\u001b[0;34m)\u001b[0m\u001b[0;34m\u001b[0m\u001b[0;34m\u001b[0m\u001b[0m\n\u001b[0m",
            "\u001b[0;31mNotImplementedError\u001b[0m: Create a list, and assign last variable."
          ]
        }
      ],
      "source": [
        "##Enter your code and remove NotImplementedError\n",
        "raise NotImplementedError(\"Create a list, and assign last variable.\")"
      ]
    },
    {
      "cell_type": "code",
      "execution_count": 21,
      "id": "joined-ebony",
      "metadata": {
        "id": "joined-ebony",
        "outputId": "4aa947d6-eafa-4e14-f97f-62f4cb2e8cb6",
        "colab": {
          "base_uri": "https://localhost:8080/"
        }
      },
      "outputs": [
        {
          "output_type": "stream",
          "name": "stdout",
          "text": [
            "[1, 2, '7', 3]\n"
          ]
        }
      ],
      "source": [
        "# Insterting a new element\n",
        "e = [1, 2, 3]\n",
        "\n",
        "e.insert(2,'7')\n",
        "print(e)"
      ]
    },
    {
      "cell_type": "code",
      "execution_count": 22,
      "id": "pending-destination",
      "metadata": {
        "id": "pending-destination",
        "outputId": "bd49682f-209e-4058-d6ba-b079350ccf61",
        "colab": {
          "base_uri": "https://localhost:8080/"
        }
      },
      "outputs": [
        {
          "output_type": "stream",
          "name": "stdout",
          "text": [
            "[1, 2, 3, 8]\n"
          ]
        }
      ],
      "source": [
        "# Append an element to the list\n",
        "f = [1, 2, 3]\n",
        "f.append(8)\n",
        "print(f)"
      ]
    },
    {
      "cell_type": "markdown",
      "id": "combined-weight",
      "metadata": {
        "id": "combined-weight"
      },
      "source": [
        "### Dictionaries\n",
        "In Python, a dictionary is mapping between a set of string indices (keys) and a set of values\n",
        "\n",
        "The items in a dictionary are key-value pairs"
      ]
    },
    {
      "cell_type": "code",
      "execution_count": 23,
      "id": "complex-hearts",
      "metadata": {
        "id": "complex-hearts"
      },
      "outputs": [],
      "source": [
        "person = {\n",
        "    'name': \"Marcus\",\n",
        "    'age':11,\n",
        "    'other': [1, 'e', 2, 'f', 'whatever']\n",
        "}"
      ]
    },
    {
      "cell_type": "code",
      "execution_count": 24,
      "id": "apparent-voluntary",
      "metadata": {
        "id": "apparent-voluntary",
        "outputId": "eb3a7877-dace-4e8c-f8be-fec39b5e6060",
        "colab": {
          "base_uri": "https://localhost:8080/",
          "height": 35
        }
      },
      "outputs": [
        {
          "output_type": "execute_result",
          "data": {
            "text/plain": [
              "'Marcus'"
            ],
            "application/vnd.google.colaboratory.intrinsic+json": {
              "type": "string"
            }
          },
          "metadata": {},
          "execution_count": 24
        }
      ],
      "source": [
        "person[\"name\"]"
      ]
    },
    {
      "cell_type": "code",
      "execution_count": 25,
      "id": "shared-atlanta",
      "metadata": {
        "id": "shared-atlanta",
        "outputId": "95fa757c-7538-488b-cbf7-03449db40613",
        "colab": {
          "base_uri": "https://localhost:8080/"
        }
      },
      "outputs": [
        {
          "output_type": "stream",
          "name": "stdout",
          "text": [
            "dict_keys(['name', 'age', 'other'])\n",
            "dict_values(['Marcus', 11, [1, 'e', 2, 'f', 'whatever']])\n"
          ]
        }
      ],
      "source": [
        "# keys vs values\n",
        "print(person.keys())\n",
        "print(person.values())"
      ]
    },
    {
      "cell_type": "markdown",
      "id": "twelve-frost",
      "metadata": {
        "id": "twelve-frost"
      },
      "source": [
        "### Tuples\n",
        "Tuples are used to hold together multiple variables. They are like lists, but without the extensive functionality."
      ]
    },
    {
      "cell_type": "code",
      "execution_count": 26,
      "id": "civil-permit",
      "metadata": {
        "id": "civil-permit",
        "outputId": "84f66b43-fa25-49f4-e871-9eb0b0b501e6",
        "colab": {
          "base_uri": "https://localhost:8080/",
          "height": 35
        }
      },
      "outputs": [
        {
          "output_type": "execute_result",
          "data": {
            "text/plain": [
              "'Marcus'"
            ],
            "application/vnd.google.colaboratory.intrinsic+json": {
              "type": "string"
            }
          },
          "metadata": {},
          "execution_count": 26
        }
      ],
      "source": [
        "person = (\"Marcus\", 25)\n",
        "person[0]"
      ]
    },
    {
      "cell_type": "markdown",
      "id": "owned-relationship",
      "metadata": {
        "id": "owned-relationship"
      },
      "source": [
        "You can easily split tuple into variables, as long as the sequence length is matched"
      ]
    },
    {
      "cell_type": "code",
      "execution_count": 27,
      "id": "stretch-motel",
      "metadata": {
        "id": "stretch-motel",
        "outputId": "61d06908-3e46-462a-f1b6-f9f48659a6b0",
        "colab": {
          "base_uri": "https://localhost:8080/"
        }
      },
      "outputs": [
        {
          "output_type": "stream",
          "name": "stdout",
          "text": [
            "Marcus 25\n"
          ]
        }
      ],
      "source": [
        "name, age = (\"Marcus\", 25)\n",
        "print(name, age)"
      ]
    },
    {
      "cell_type": "code",
      "execution_count": null,
      "id": "classified-ambassador",
      "metadata": {
        "id": "classified-ambassador"
      },
      "outputs": [],
      "source": [
        "name, age, _ = (\"Marcus\", 25, \"value to discard\")\n",
        "print(name, age)"
      ]
    },
    {
      "cell_type": "markdown",
      "id": "seeing-above",
      "metadata": {
        "id": "seeing-above"
      },
      "source": [
        "### Exercise 3)\n",
        "Split the tuple below, representing name, age, height, nationality, profession and eye colour into variables"
      ]
    },
    {
      "cell_type": "code",
      "execution_count": 28,
      "id": "choice-pricing",
      "metadata": {
        "id": "choice-pricing",
        "outputId": "d2442d50-af52-44cc-9e95-b2042cc8eeea",
        "colab": {
          "base_uri": "https://localhost:8080/",
          "height": 210
        }
      },
      "outputs": [
        {
          "output_type": "error",
          "ename": "NotImplementedError",
          "evalue": "ignored",
          "traceback": [
            "\u001b[0;31m---------------------------------------------------------------------------\u001b[0m",
            "\u001b[0;31mNotImplementedError\u001b[0m                       Traceback (most recent call last)",
            "\u001b[0;32m<ipython-input-28-a42039530b17>\u001b[0m in \u001b[0;36m<cell line: 5>\u001b[0;34m()\u001b[0m\n\u001b[1;32m      3\u001b[0m \u001b[0;34m\u001b[0m\u001b[0m\n\u001b[1;32m      4\u001b[0m \u001b[0;31m##Split the tuple and remove NotImplementedError line\u001b[0m\u001b[0;34m\u001b[0m\u001b[0;34m\u001b[0m\u001b[0m\n\u001b[0;32m----> 5\u001b[0;31m \u001b[0;32mraise\u001b[0m \u001b[0mNotImplementedError\u001b[0m\u001b[0;34m(\u001b[0m\u001b[0;34m\"Split the tuple below\"\u001b[0m\u001b[0;34m)\u001b[0m\u001b[0;34m\u001b[0m\u001b[0;34m\u001b[0m\u001b[0m\n\u001b[0m",
            "\u001b[0;31mNotImplementedError\u001b[0m: Split the tuple below"
          ]
        }
      ],
      "source": [
        "##Enter your code and remove NotImplementedError\n",
        "(\"Marcus\", 25, 178, \"polish\", \"PhD Student\", \"Blue\")\n",
        "\n",
        "##Split the tuple and remove NotImplementedError line\n",
        "raise NotImplementedError(\"Split the tuple below\")"
      ]
    },
    {
      "cell_type": "markdown",
      "id": "immediate-diagnosis",
      "metadata": {
        "id": "immediate-diagnosis"
      },
      "source": [
        "#### Itternating lists"
      ]
    },
    {
      "cell_type": "raw",
      "id": "sized-bubble",
      "metadata": {
        "id": "sized-bubble"
      },
      "source": [
        "for target in sequence:\n",
        "    do_statement"
      ]
    },
    {
      "cell_type": "code",
      "execution_count": 29,
      "id": "backed-theater",
      "metadata": {
        "id": "backed-theater",
        "outputId": "6b4183ce-dcb6-4b00-e0c9-c4ca8a9fb338",
        "colab": {
          "base_uri": "https://localhost:8080/"
        }
      },
      "outputs": [
        {
          "output_type": "stream",
          "name": "stdout",
          "text": [
            "1\n",
            "2\n",
            "3\n",
            "4\n",
            "5\n"
          ]
        }
      ],
      "source": [
        "for i in [1, 2, 3, 4, 5]:\n",
        "    print(i)"
      ]
    },
    {
      "cell_type": "code",
      "execution_count": null,
      "id": "monetary-wrong",
      "metadata": {
        "id": "monetary-wrong",
        "outputId": "4ae581fa-06bf-4950-d200-fb4647676c35"
      },
      "outputs": [
        {
          "name": "stdout",
          "output_type": "stream",
          "text": [
            "1\n",
            "2\n",
            "3\n",
            "4\n",
            "5\n"
          ]
        }
      ],
      "source": [
        "for i in range(1, 6):\n",
        "    print(i)"
      ]
    },
    {
      "cell_type": "code",
      "execution_count": null,
      "id": "crude-lightning",
      "metadata": {
        "id": "crude-lightning",
        "outputId": "ec85dbf8-cac6-4f28-af2a-0ea25d6a718c"
      },
      "outputs": [
        {
          "name": "stdout",
          "output_type": "stream",
          "text": [
            "0 a\n",
            "1 2\n",
            "2 c\n",
            "3 d\n",
            "4 8\n"
          ]
        }
      ],
      "source": [
        "for i, x in enumerate([\"a\", 2, \"c\", \"d\", 8]):\n",
        "    print(i, x)"
      ]
    },
    {
      "cell_type": "code",
      "execution_count": null,
      "id": "improved-right",
      "metadata": {
        "id": "improved-right",
        "outputId": "9b143308-ecb8-43b9-9432-3a15dfcc4589"
      },
      "outputs": [
        {
          "name": "stdout",
          "output_type": "stream",
          "text": [
            "[1, 2, 3, 4, 5]\n"
          ]
        }
      ],
      "source": [
        "# Appending\n",
        "number_list = []\n",
        "for i in range(1, 6):\n",
        "    number_list.append(i)\n",
        "print(number_list)"
      ]
    },
    {
      "cell_type": "code",
      "execution_count": null,
      "id": "unlike-hypothetical",
      "metadata": {
        "id": "unlike-hypothetical",
        "outputId": "bb27b303-b368-4bd9-e89a-e2e8cacb9e18"
      },
      "outputs": [
        {
          "data": {
            "text/plain": [
              "[0.5, 1.0, 1.5, 2.0, 2.5]"
            ]
          },
          "execution_count": 20,
          "metadata": {},
          "output_type": "execute_result"
        }
      ],
      "source": [
        "#\n",
        "[a / 2 for a in number_list]"
      ]
    },
    {
      "cell_type": "code",
      "execution_count": null,
      "id": "blessed-amplifier",
      "metadata": {
        "id": "blessed-amplifier",
        "outputId": "adb2ed73-71a4-44fc-d8f6-3aba8111e46b"
      },
      "outputs": [
        {
          "name": "stdout",
          "output_type": "stream",
          "text": [
            "M\n",
            "a\n",
            "r\n",
            "c\n",
            "u\n",
            "s\n"
          ]
        }
      ],
      "source": [
        "name = \"Marcus\"\n",
        "for c in name:\n",
        "    print(c)"
      ]
    },
    {
      "cell_type": "markdown",
      "id": "silent-natural",
      "metadata": {
        "id": "silent-natural"
      },
      "source": [
        "#### zip()\n",
        "Takes one or more sequences as arguments and returns a list of tuples.\n",
        "\n",
        "The ith tuple contains the ith values of each sequence, e.g. 5th tuple contains 5th value from sequences.\n",
        "\n",
        "If the input sequences do not have the same length, the list is truncated to the length of the shortest sequence."
      ]
    },
    {
      "cell_type": "code",
      "execution_count": 30,
      "id": "consistent-aurora",
      "metadata": {
        "id": "consistent-aurora",
        "outputId": "fc075e0e-d3dc-4c7e-f82e-4d0e29f0b1b3",
        "colab": {
          "base_uri": "https://localhost:8080/"
        }
      },
      "outputs": [
        {
          "output_type": "stream",
          "name": "stdout",
          "text": [
            "1 a 4\n",
            "2 b 5\n",
            "3 c 6\n"
          ]
        }
      ],
      "source": [
        "for x,y,z in zip([1,2,3], [\"a\", \"b\", \"c\", \"d\"], [4, 5, 6, 7]):\n",
        "    print (x, y, z)"
      ]
    },
    {
      "cell_type": "markdown",
      "id": "forward-potter",
      "metadata": {
        "id": "forward-potter"
      },
      "source": [
        "#### Exercise 4)\n",
        "Write a **nested** for loop, where the outer loop has range(0, 6) and the second one range(0, 2).\n",
        "Multiply the itterator of first and second loop, and append the result to an array. After the loop completes print the array."
      ]
    },
    {
      "cell_type": "code",
      "execution_count": 31,
      "id": "distant-childhood",
      "metadata": {
        "id": "distant-childhood",
        "outputId": "9a08e203-dec8-4df8-b018-7ddb38837747",
        "colab": {
          "base_uri": "https://localhost:8080/",
          "height": 193
        }
      },
      "outputs": [
        {
          "output_type": "error",
          "ename": "NotImplementedError",
          "evalue": "ignored",
          "traceback": [
            "\u001b[0;31m---------------------------------------------------------------------------\u001b[0m",
            "\u001b[0;31mNotImplementedError\u001b[0m                       Traceback (most recent call last)",
            "\u001b[0;32m<ipython-input-31-4f9549045dd5>\u001b[0m in \u001b[0;36m<cell line: 2>\u001b[0;34m()\u001b[0m\n\u001b[1;32m      1\u001b[0m \u001b[0;31m##Implement code and remove NotImplementedError line\u001b[0m\u001b[0;34m\u001b[0m\u001b[0;34m\u001b[0m\u001b[0m\n\u001b[0;32m----> 2\u001b[0;31m \u001b[0;32mraise\u001b[0m \u001b[0mNotImplementedError\u001b[0m\u001b[0;34m(\u001b[0m\u001b[0;34m\"Implement code and remove NotImplementedError line. Hint: array_name.append(i * j)\"\u001b[0m\u001b[0;34m)\u001b[0m\u001b[0;34m\u001b[0m\u001b[0;34m\u001b[0m\u001b[0m\n\u001b[0m",
            "\u001b[0;31mNotImplementedError\u001b[0m: Implement code and remove NotImplementedError line. Hint: array_name.append(i * j)"
          ]
        }
      ],
      "source": [
        "\n",
        "##Implement code and remove NotImplementedError line\n",
        "raise NotImplementedError(\"Implement code and remove NotImplementedError line. Hint: array_name.append(i * j)\")"
      ]
    },
    {
      "cell_type": "markdown",
      "id": "double-flexibility",
      "metadata": {
        "id": "double-flexibility"
      },
      "source": [
        "## Array Manipulation\n",
        "This section aims to provide visual and programatic understanding of array operations, which come usefull wen preprocessing datasets"
      ]
    },
    {
      "cell_type": "markdown",
      "id": "parliamentary-campbell",
      "metadata": {
        "id": "parliamentary-campbell"
      },
      "source": [
        "Numpy Arrays provide certain benefits which make them more desireable for use in Data Science.\n",
        "\n",
        "Below are an example of an 1D array, 2D array and 3D aray, in the following order.\n",
        "\n",
        "\n",
        "Please pay attention to the axis numbering throughout this excercise.\n",
        "\n",
        "In general, 1D arrays contain values from (x) axis, 2D from (y,x) axis and 3D from (z, y, x) axis."
      ]
    },
    {
      "cell_type": "markdown",
      "id": "systematic-literacy",
      "metadata": {
        "id": "systematic-literacy"
      },
      "source": [
        "![download.png](data:image/png;base64,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)"
      ]
    },
    {
      "cell_type": "markdown",
      "id": "amber-pollution",
      "metadata": {
        "id": "amber-pollution"
      },
      "source": [
        "#### Creating Arrays"
      ]
    },
    {
      "cell_type": "markdown",
      "id": "italian-scott",
      "metadata": {
        "id": "italian-scott"
      },
      "source": [
        "To create an array simpy pass a list of any dimension into **np.array()**"
      ]
    },
    {
      "cell_type": "code",
      "execution_count": null,
      "id": "existing-denmark",
      "metadata": {
        "id": "existing-denmark",
        "outputId": "958ef882-7b17-4689-d834-292b7d2728b9"
      },
      "outputs": [
        {
          "data": {
            "text/plain": [
              "array([1, 2, 3])"
            ]
          },
          "execution_count": 28,
          "metadata": {},
          "output_type": "execute_result"
        }
      ],
      "source": [
        "import numpy as np\n",
        "a = np.array([1, 2, 3])\n",
        "a"
      ]
    },
    {
      "cell_type": "markdown",
      "id": "announced-calculation",
      "metadata": {
        "id": "announced-calculation"
      },
      "source": [
        "Or to prefill array with certain values you can use one of many methods, such as"
      ]
    },
    {
      "cell_type": "code",
      "execution_count": 32,
      "id": "descending-collectible",
      "metadata": {
        "id": "descending-collectible",
        "outputId": "ac9dce5b-5b18-4fe7-9cdc-a235d7aa5ac4",
        "colab": {
          "base_uri": "https://localhost:8080/"
        }
      },
      "outputs": [
        {
          "output_type": "stream",
          "name": "stdout",
          "text": [
            "[1. 1. 1.]\n",
            "[0. 0. 0.]\n",
            "[0.87255706 0.34003283 0.47171392]\n"
          ]
        }
      ],
      "source": [
        "a = np.ones(3)\n",
        "print(a)\n",
        "\n",
        "b = np.zeros(3)\n",
        "print(b)\n",
        "\n",
        "c = np.random.random(3)\n",
        "print(c)"
      ]
    },
    {
      "cell_type": "markdown",
      "id": "colonial-classics",
      "metadata": {
        "id": "colonial-classics"
      },
      "source": [
        "#### Indexing and slicing"
      ]
    },
    {
      "cell_type": "markdown",
      "id": "encouraging-survivor",
      "metadata": {
        "id": "encouraging-survivor"
      },
      "source": [
        "To access a particular index from an array, use [] operator."
      ]
    },
    {
      "cell_type": "code",
      "execution_count": null,
      "id": "dirty-picture",
      "metadata": {
        "id": "dirty-picture",
        "outputId": "bf5978bf-e7f4-467f-ac58-dc80e24e30e2"
      },
      "outputs": [
        {
          "name": "stdout",
          "output_type": "stream",
          "text": [
            "1.0\n"
          ]
        }
      ],
      "source": [
        "print(a[1])"
      ]
    },
    {
      "cell_type": "markdown",
      "id": "equivalent-frontier",
      "metadata": {
        "id": "equivalent-frontier"
      },
      "source": [
        "or use slicing operator, same as in python lists"
      ]
    },
    {
      "cell_type": "code",
      "execution_count": null,
      "id": "planned-madness",
      "metadata": {
        "id": "planned-madness",
        "outputId": "aa02b3d6-73e8-4d25-fa6f-32f396a10519"
      },
      "outputs": [
        {
          "name": "stdout",
          "output_type": "stream",
          "text": [
            "[1 2 3 4]\n",
            "[5 6 7]\n",
            "[3 4]\n"
          ]
        }
      ],
      "source": [
        "a = np.array([1, 2, 3, 4, 5, 6, 7])\n",
        "print(a[:4])\n",
        "print(a[4:])\n",
        "print(a[2:4])"
      ]
    },
    {
      "cell_type": "markdown",
      "id": "streaming-favor",
      "metadata": {
        "id": "streaming-favor"
      },
      "source": [
        "Frequent operation which can couse some misunderstanding is joining two deifrent arrays together. Note in many cases this can increase the dimensionality."
      ]
    },
    {
      "cell_type": "markdown",
      "id": "covered-generic",
      "metadata": {
        "id": "covered-generic"
      },
      "source": [
        "![image_2.png](data:image/png;base64,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)"
      ]
    },
    {
      "cell_type": "code",
      "execution_count": null,
      "id": "chemical-breath",
      "metadata": {
        "id": "chemical-breath",
        "outputId": "3408ed4b-649d-4271-ac8c-5f7a83a1b422"
      },
      "outputs": [
        {
          "name": "stdout",
          "output_type": "stream",
          "text": [
            "(5,)\n",
            "(2, 3)\n",
            "(3, 2)\n"
          ]
        }
      ],
      "source": [
        "x = np.array([0, 1, 2])\n",
        "z = np.array([0, 1])\n",
        "y = np.array([0, 1, 2])\n",
        "\n",
        "a = np.hstack((x, z))\n",
        "print(a.shape)\n",
        "\n",
        "b = np.vstack((x, y))\n",
        "print(b.shape)\n",
        "\n",
        "c = np.column_stack((x, y))\n",
        "print(c.shape)"
      ]
    },
    {
      "cell_type": "markdown",
      "id": "optical-fighter",
      "metadata": {
        "id": "optical-fighter"
      },
      "source": [
        "#### Matrices (2D Arrays)"
      ]
    },
    {
      "cell_type": "markdown",
      "id": "amino-channel",
      "metadata": {
        "id": "amino-channel"
      },
      "source": [
        "To create an 2D array  pass two dimensional list into **np.array()**"
      ]
    },
    {
      "cell_type": "markdown",
      "id": "emerging-pressing",
      "metadata": {
        "id": "emerging-pressing"
      },
      "source": [
        "![image_3.png](data:image/png;base64,iVBORw0KGgoAAAANSUhEUgAABMUAAALGCAYAAABF6ib1AAAgAElEQVR4Aey9D4wc5X3/P1KlJqpatSp/tAWk5sBparDArkt9G6u2vIppOeqmHJiGC84XuCQI3xcncBgBFzfBWvgF50KBOFgxh9W43UvBHCUmZ74GzoESzlCbcxSTI47LuQHEkcC313yJdEmc5PPTM7PP7uzu7N7u7MzszDyvk067O3+eeZ7XM/M8733v53keS/iDAAQgAAEIQAACEIAABCAAAQhAAAIQgIBhBCzDyktxIQABCEAAAhCAAAQgAAEIQAACEIAABCAgmGLcBBCAAAQgAAEIQAACEIAABCAAAQhAAALGEcAUM67KKTAEIAABCEAAAhCAAAQgAAEIQAACEIAAphj3AAQgAAEIQAACEIAABCAAAQhAAAIQgIBxBDDFjKtyCgwBCEAAAhCAAAQgAAEIQAACEIAABCCAKcY9AAEIQAACEIAABCAAAQhAAAIQgAAEIGAcAUwx46qcAkMAAhCAAAQgAAEIQAACEIAABCAAAQhginEPQAACEIAABCAAAQhAAAIQgAAEIAABCBhHAFPMuCqnwBCAAAQgAAEIQAACEIAABCAAAQhAAAKYYtwDEIAABCAAAQhAAAIQgAAEIAABCEAAAsYRwBQzrsopMAQgAAEIQAACEIAABCAAAQhAAAIQgACmGPcABCAAAQhAAAIQgAAEIAABCEAAAhCAgHEEMMWMq3IKDAEIQAACEIAABCAAAQhAAAIQgAAEIIApxj0AAQhAAAIQgAAEIAABCEAAAhCAAAQgYBwBTDHjqpwCQwACEIAABCAAAQhAAAIQgAAEIAABCGCKcQ9AAAIQgAAEIAABCEAAAhCAAAQgAAEIGEcAU8y4KqfAEIAABCAAAQhAAAIQgAAEIAABCEAAAsaaYr/5zW/k17/+tecdoPbxBwEIOAR4TrgTIAABCEAAAp0loLQp+rSzdcDVIQABCEAgnQSMM8XUF/zHH39cbrjhBlm/fr3s3btXfvWrX9lC45vf/KZce+21ct1118lTTz2VzhqnVBBoksDPf/5zuf/+++WjH/2o7Ny5s8JE/u53vyt/+Zd/2WRKHAYBCEAAAhCAgB8CSqMePXpUxsbG5HOf+5z8y7/8i/zP//yP3SefPHkSo8wPVM6BAAQgAAEIuAgYZYopQ+wf//EfxbIsWbt2rfT399vvlch44YUX5N5777UFx4oVK2TJkiXy4x//2IWKtxAwh8C+ffvkvPPOs58P9byof/WcKAGuBLoyyjZu3GgOEEoKAQhAAAIQiJjAT37yE/mbv/kbuw8+++yz5ZOf/KR84AMfkFwuJ7fffru9/Wtf+1rEueJyEIAABCAAgXQRMMYUUyHno6Oj8gd/8AfyrW99y/5lTW275JJLbFGxaNEiUcJCRccMDAzY2/7pn/6JX+DSdb9TmiYI/OIXv5Bly5bZz8Cf/Mmf2AJcG2OrV6+Wyy67TFatWmWbY00kxyEQgAAEIAABCLRI4NixY/LhD3/Y7ou/8pWvlKK1VR+tjDHdL6sfrPiDAAQgAAEIQMA/AWNMMRXhcuGFF8qOHTtKtJQppn51U8JCRY6pY5RxpoXGyMgIpliJFm9MITA0NGQ/A88//7z9TPzyl7+Uf//3f5cvfvGLthn2wQ9+UI4cOWIKDsoJAQhAAAIQiJTAf//3f8sFF1xg98Vqqo/qucR0P630quqr+YMABCAAAQhAwD8BY0yx3bt32+HmauiX/lMmmIp4UaLitttus0XH8ePH5YwzzrCHjql5k/iDgGkE1HOhjDD3nxLkap49ZYh9//vfd+/iPQQgAAEIQAACARFQU33cfPPNtjb9wz/8Q3s+seqkVXSY0q6/93u/Z/94Vb2fzxCAAAQgAAEINE/AGFPs1VdflYmJiQoyyiBTgkMJiyeeeKK0T5kCbvOstIM3EDCQgBLo//Zv/yZqiPF//ud/loZwGIiCIkMAAhCAAARCJbB//35blyptqhZ/qo4SU33yxRdfbB+jfthVn/mDAAQgAAEIQMA/AWNMMS9EDz/8sC0qfuu3fkvm5+e9DmEbBIwmoMxhtQLlmWeeKW+88YbRLCg8BCAAAQhAIEwCygBTK6ArQ0z9q2k8qv/UIlC//du/be//zGc+U72bzxCAAAQgAAEItEjAaFPs1ltvtUWFmjycX9pavHM4PPUE1DOxefNmO5ry7bffTn15KSAEIAABCECgkwTUSAWlSbUp5jVdQaFQKO0fHx/vZHa5NgQgAAEIQCAVBIw1xdSvcVp4fPazn/UMT09FDVMICPggoCLEPv7xj8v73/9++elPf1qTgjLMMJJrsLABAhCAAAQg4JuAMsVOO+002/Q655xzPPtZFR2mTDMVLaaOV3+qP64eZuk7E5wIAQhAAAIQMIyAMaaYmjhcrTy5c+dOWzyoJa31L3FqEn7338zMjL2PecXcVHhvCgH1bKxZs0b+6I/+SNT76j/1LKl5TNTE+/xBAAIQgAAEIBAMAWVy/f7v/76tQT/xiU/UGF3K/NILRP3VX/2VrWf1NvrkYOqAVCAAAQhAwDwCRphiytxSk5UqE+wDH/iAPYm+WllSm2JHjhypqPmNGzfKpz71Kc9f6CoO5AMEUkZAievLL7/cFt0/+9nPap4BJdjPO+88+eM//uPSL9QpQ0BxIAABCEAAAh0hoPTqkiVLbH36D//wDzV5UItGqRUnlX5VWlX9Pf/88/bn733vezXHswECEIAABCAAgYUJGGGKqcgWHY6ezWZtU+xLX/pSyRT7+c9/XiL15JNP2pOK/+hHPypt4w0ETCCgxPgXv/hF+7l43/veZxvI6nm54YYbRC1KsWXLFjn33HPt/Wo5eIZqmHBXUEYIQAACEIiKgPphSpldyvS67LLLKvpZ9aOU2qZ/0B0dHbWztW3bNunp6an5ESuqPHMdCEAAAhCAQNIJGGGKKZFxySWX2HOIqeiXF154QTKZjAwODtri4mtf+5od9fLII4/IGWecIffeey/iIul3NvlvmcCBAwdEmWHK8Pqv//ove6ixFt/u16uuukqU0cwfBCAAAQhAAALBEnj99ddtbXrWWWfJAw88YE9jMDY2Jh/+8Ifl05/+tCxbtszer7Tqs88+K6eccoqo/ps/CEAAAhCAAAT8ETDCFFNovvWtb4matFR9uVfG1759+2wj7IorrrC3qe2LFi0SZZAxl5i/m4mzkktAmVxq4YkNGzaUfplWz4Fa5Uo9L+r5+PM//3PZvn07hlhyq5mcQwACEIBAAggcPHhQ+vv7S0MlVZT2nXfeaetTNeXHX/zFX5T0rPohC92agEolixCAAAQgEFsCxphiaqjX3NycPTm4MgD00C/1+uMf/1j+4z/+wzbJ9PbY1hgZg0AIBNR9//TTT5eeC/cl1PNy6NAhng83FN5DAAIQgAAEQiSghkuq1Z+VCabeu/WpMsHUHGLvvvsuIxtCrAOShgAEIAABMwgYY4qZUZ2UEgIQgAAEIAABCEAAAhCAAAQgAAEIQKAZAphizVDiGAhAAAIQgAAEIAABCEAAAhCAAAQgAIFUEcAUS1V1UhgIQAACEIAABCAAAQhAAAIQgAAEIACBZghgijVDiWMgAAEIQAACEIAABCAAAQhAAAIQgAAEUkUAUyxV1UlhIAABCEAAAhCAAAQgAAEIQAACEIAABJohgCnWDCWOgQAEIAABCEAAAhCAAAQgAAEIQAACEEgVAUyxVFUnhYEABCAAAQhAAAIQgAAEIAABCEAAAhBohgCmWDOUOAYCEIAABCAAAQhAAAIQgAAEIAABCEAgVQQwxVJVnRQGAhCAAAQgAAEIQAACEIAABCAAAQhAoBkCmGLNUOIYCEAAAhCAAAQgAAEIQAACEIAABCAAgVQRwBRLVXVSGAiI/O97vs1/yhlwn0MAAvEm8OqDlvAPg7TcA+iK9OuqeLeo5A4CEIBAuAQSaYqlRWRQDgSzvgeCfMyVeP3h278y5t/E8gZ5v5AWBCAQPAHVtstbh435p7zprmsT+1nTdFTwrSApQgACEEgOgcSaYojN9AowI8V1gG0G4jXdhqCqX/4gAIF4EzCyH8METK0Jiq5AV8S7xSV3EIAABNojgCmWABGHuE6vAajMXbt+23uOK85GvCJeK24IPkAAApEToN82oN9OgH4M6gdkdAW6IvJGlAtCAAIQiJAAplgCRA3i2gBxHeBDj3hFvAZ4O5EUBCDggwD9tgH9dgL0I6aYPz1goo7y0cxxCgQgAIHUEMAUS4CoQVwbIK4DbFJMFHPM/RHgDURSEIBA2wTotw3otxOgHzHFMMWa0UdKN/IHAQhAwGQCmGIJEDWIawPEdYCtEKaYPxHcjHCMwzGI1wAfFpKCQEgE6LcN6LcToB8xxfzpARN1VEhNIclCAAIQSAQBTLEEiBrEtQHiOsDmwkQxFwezKqo8YIoF+LCQFARCIkC/bUC/nQD9iCmGKdaMNkFXhNQRkCwEIJAYAphiCRA1iGsDxHWATQammD8R3IxwjMMxiNcAHxaSgkBIBOi3Dei3E6AfMcX86QETdVRITSHJQgACEEgEAUyxBIgaxLUB4jrA5sJEMRcHsyqqPGCKBfiwkBQEQiJAv21Av50A/YgphinWjDZBV4TUEZAsBCCQGAKYYgkQNYhrA8R1gE0Gppg/EdyMcIzDMYjXAB8WkoJASATotw3otxOgHzHF/OkBE3VUSE0hyUIAAhBIBAFMsQSIGsS1AeI6wObCRDEXB7MqqjxgigX4sJAUBEIiQL9tQL+dAP2IKYYp1ow2QVeE1BGQLAQgkBgCmGIJEDWIawPEdYBNBqaYPxHcjHCMwzGI1wAfFpKCQEgE6LcN6LcToB8xxfzpARN1VEhNIclCAAIQSAQBTLEEiBrEtQHiOsDmwkQxFwezKqo8YIoF+LCQFARCIkC/bUC/nQD9iCmGKdaMNkFXhNQRkCwEIJAYAphiCRA1iGsDxHWATQammD8R3IxwjMMxiNcAHxaSgkBIBOi3Dei3E6AfMcX86QETdVRITSHJQgACEEgEAUyxBIgaxLUB4jrA5sJEMRcHsyqqPGCKBfiwkBQEQiJAv21Av50A/YgphinWjDZBV4TUEZAsBCCQGAKYYgkQNYhrA8R1gE0Gppg/EdyMcIzDMYjXAB8WkoJASATotw3otxOgHzHF/OkBE3VUSE0hyUIAAhBIBAFMsQSIGsS1AeI6wObCRDEXB7MqqjxgigX4sJAUBEIiQL9tQL+dAP2IKYYp1ow2QVeE1BGQLAQgkBgCmGIJEDWIawPEdYBNBqaYPxHcjHCMwzGI1wAfFpKCQEgE6LcN6LcToB8xxfzpARN1VEhNIclCAAIQSAQBTLEEiBrEtQHiOsDmwkQxFwezKqo8YIoF+LCQFARCIkC/bUC/nQD9iCmGKdaMNkFXhNQRkCwEIJAYAphiCRA1iGsDxHWATQammD8R3IxwjMMxaRevk1stsSxLekdnA3wqvJKak+nRQdl+yGtf2NsmJW+pcuZl0sel5vYOSMbqlcIb3icvtN/7rKi3zsn49RnJbCjIjOelF9rveVJsNtJvG9BvJ0A/Yor50wMm6qjYNJ5kBAIQgEAHCGCKJUDUIK4NENcBPvwmirk4mFVR5QFTLJiHZequjG2+5Q8Gk15rqbRhir0xJn0ZS3p2eltJstD+1jIa7tFvFKRXGaC765Vlgf3h5q6t1Om3Dei3E6AfMcUwxZrRJmnXFW015pwMAQgYQQBTLAGiBnFtgLgOsLmJzhR7V57ctVXWr1wsp9lRL12ybN1G+fzYm9KMCAvqmOjKWymujz58k13uG8crtwdVrnrppF28RhUppq+TLFPMiZ6yMkMyMe/VaCy03+uczm6buicrVoOot4X2dzb39a8eXb/9bZl+aKP0r+ySjN0OnyHZdVfI9j37JShDpJl0oitvpR6Y/9er7HLnn6jc3kye2zkmsvL+YK+M56+Q3uVn2Ca+iqLtWp6TgfwOmX09ujJH18+iK5SeQlfUb1vZAwEIQCAMAphiDU0xxKYS2YjNcIWnLa4DfLqjEa/vyu5N3UWRnpFzVq6R7uVdpc+r7zgsR9+OxiyKpryVZTn6zDZZfbpllxfxGuDNKyLarAp7+KS+TqJMsSPDssyypGdXnciqhfYHW1XBpPbOmPRblmQ2T4inz7fQ/mByEXgq0Zgm35aJG84vtrunyOKVF0quZJ6cIj1fKMh8Q40TXN8WTXkr8zv/9Gelp9gOp1KnvLRN+j/g9DOWdYZkV10ouVXnS5dtflpiLb9Cxl+qZNKO0dfo3Gj6WXQFuiLwppgEIQABCDRFAFOsrmBEbCI2oxGbSTTFXnjwSic6bPntsnu6bBgdfnanrLO/pHTLjft/FknEWDRivVzGA7s22saE+sVe/afHFKsc0jd7YLsMrFtcjD7pkuw1eRk7OlfTsbjNpflXxyR/Tbb4pa3+OTWJuDbo9GxTbHZCtl/fI4szDuuu7l4ZHJ2W2lyoBOZk+rG89K/RebZEHT9w/7jMuE8oDtnT9adfK024OZnZNyKD1+RK17asjCxe0y/50UmZPenKsPvtyVmZHHXnoXjOY9V5rmTtTmJm74Bk1b2V6ZHhI26baE7GrlEc+mXsHfcZ+n29/TNS2OAMFc1sGJOamdrem5ShpSrdjPSN1jHb9CUavM6O9hbNGaeuNNea163Vs6jNy8RtKn89MnLc6wIL7fc6p/PbojCJZr/2187zufxamXil3F/NHdgifXY7fL7kn5yMJGIsivK6TZuZh65wnpNiO5w+U2yvjOScZyl7w32VUWE/2CMjl5/iPG/r8jJbV8eW7wk3Oz/vo+hn0RXltjM9uqLzbTE5gAAEINAMAUyxOmICsVnunBGbwQlLLzGaPFPssNy6RN0fS+XWZ8pmkR7up4cVWh/bI4cjiBaLQqyrsh098rTcuq4cDXda6iLFtFEzIPm7cs6X7UVZya3NSXaRbg+6ZGCf22EqR3YN3jUsOdu86pLs2pzkljhGTKtmizbFchv6K9Pr1uwt6bphvMoYKxs/llW8/lqXodU9KBPaSJodl0FXmbq6c3YZB/dqu8idljK1nP3l8ljek8O/Nyn5NeUy2+e5DLrKCeU168qJ9ueez9cxxETk+Ij0KAPg+uqyF7v6RvuL84ypuhjY666/eZncssz+cu1pmDWjIorHzO4dtDmq+6Xmv1R3Gel7RHMuJz7/1KCdh2XbpsobXe8W2u86NDZvwzeJCjJ8nnouPyTDT9f2UXpYofX322Sujs7x6o/8bgu/vE4Z51/eIcPr9FDCUyST1kixpz/r/Phy3mdlyqv+ju+QQbvsF8rIZG39+63HeueF38+iK1T7nD5dEZsmmYxAAAIQaEgAU8xLbLyF2LQsxKZlRSM2E2eKPbNNzlVfzlfvlAOeptd35Hr71/uN8uCxWtNMm2dBvYYv1lUZviM3FiMSTlt5k3z5O0fly+scoyg9v+hqo0aVKytD+9zmxZxMblVzP1liLR0Wt3WhTSy1L7NhRKZdnsvsvqFiNEdWho807ItKO93pZW8YkxlXsFTJNLKWVaQ3f2DINvFs48kdxXWybHBVGy76OtXDJ2d29TjlXL+9oiwqg3OHhh1jyspIvmLVyjl7JUUvBjI3Kflu514pD3vUrMum2PxBbYjlJH/QVegimZmdOTtflRFtJWyy0P7ZR/ocozMzKBPvOecps8meh8q1rZxiUO/KdZDdOuk9RHJuXAY87q1SDhbaXzowPm9CN4m0abJqi8x46phdMmS3WVfI+A/CN01CL69dxl3FVVstyay8Sgr/vkcKxXY4bT/ezX79Kmco7OZddSL99kda9tD7WXRFSnVFfNpkcgIBCECgEQFMMS8xidhEbEYotJNmiqkhDrY5ctN36gyPfDNSwyh0sW4bf4fl1ku3ypfH9SIC0ZbRbSCq8obzp40aS6oNJPt68xMyaH/J7pMxl1+mzSWrjrEys7NoMtWbM6qqMKX0qsw357B5mdjsGEzuiCM9dM9zFcPjI5JTEW+fKoh7cKC+TqUpNiOFT6nIuErTrZzF8vUrzCl1DcWmDgM5MizZJTnJ3aajvDRrxxRThpgTZZf1NMREZmVsgyp3tRmnc7bQfnWcOsaJZFu2ZVLm3xmXATuyb5kMPV9rwumU230t1X93XqbqXmZGRtaq8uXqDKFcaH+7uQz+/LBNIhXNbrfDN8bDNAm7vE4EU0GG/26jFJ7QiwhEawy5o6iiKW8jM3OvjKxy2sIoDMGw+1l0hfrxLY26Ivi2lRQhAAEIhEEAU8zDFENsKiGG2FRfOKIQm0kzxR6/Y6n9ZezcOw7XMcV+JQ/f4oj1i3ZoEym8iLGwxbrbkCq/T6N41UZNPeNlSvK2idIrhTfK3ZE2l5bd444fK++X0hxeQ1I9m5TrqNJbnV7mLu/0vCKi5vYOOAZB94CMHJyReXe0WCnlyjf6OpWmWOUxXp/0eW5TbGa3M59Wpma+LK8U1DbNOi8TJwrSZ3OtZ4i5j680JMup6/Tq7S8eWRpGmZVccahn3eitcuK+35Wj3/qkcKJxMpNbnDajcnhn+ZyF9pePjMe7sE2TqS98yL7nl32hUCeS6LBMFg3k3ge0idTIZGlvX9jldRtS5fcG6xT94+3p18rEifbqrsyzfjph97PoCkyxeLTc5AICEDCVAKaYhymG2FTCCLFpRSQ2k2aKNWN4NXNM2WBqzzALW6x75zPNplil6VXuHGelsF4ZF5X7tUk0+FS9MCBt2FSeV0638p1Oz206uY8oRYWNusLV5qdkuDSfl8pjl2TXD8jw6IRMv+OdL32dxqbYvMzNzcnMkQkZH91eMfG+O386Lfc2d55r32smGcnYhpjKc/V8X66zSsZiebila6+Ujcc6+10Hl4ZRqsi27rxMFodSug4J5m1TZl/5UlN3OVFsntF+IrLQ/nJK8XgXtknUjOHVzDHNGCLNHBN2eb3zYKhOOb5L8ssdE7nnS3vrmqLezOobX42OD7ufbUYzNHOMd3/dusYIu7ze+UyjrohHe0wuIAABCCxEAFPMwxRrRkg2c0wjgdHKPsSmPxHXCuPSsR0Qm5hirQtWt6BEvC7UzDe7Xxs19cyrxqZYfXNpoXQr87eQweRpiqkkTs7KxP0D0lOa4N/50qgiPrsuHpSxqkglfR2vfFeuvFlOR5ltXcVFB9wGmE7Lva2yVNWfNBOVdlaGtgw0ntsrQFOsbKCpOeA8VqOszqqfz2rRAXseteZXtNT1atWJtltov59shnlO2P12MxqkmWNKfZ+HFmplX9jl9c6LgabY8YIMr3VWnsxcnq8zn1zwminsfrYZw6uZY9zaoJ33YZfXO2+YYmG2yaQNAQhAoBEBTDEPIdiMkGzmGG8R17pYQWy2zswX+w6JTUwxTDFvgezNRYn1cP60UePPFBt6vl6uFkq38ryFDCZtjjQyoObfmZbJx0Zk8JqsdNnzoKn5voZkwhU0pq9TbYrNjBYnpC9Gmw1tG5GxAxMydWLOHpapz3Nf32tbZamqP2kmWck/r1YmmCtP1O8191pgplh5XjF7PirLezXI6ty29rmJifU9EtT1iinWXH/XjAZp5hhffaWHbkKnNFdvbfF+ZYcMrdSG2BaZPh7BNYt1HbZJ1Izh1cwxrfSljY4Nu7ze18YU8+ga2AQBCEAgEgKYYh7irhkh2cwxbYkfV74QmxEIvw6KzaSZYgeG19hz2XQPH19wTrF1DzKnmLf49Ta8mjk2rqZYbqd7GntX/6UNnUy+YtVK1xEVbxcymLR54jalKhKo/jA3IUNLnWgvtwGmr+PeJnqVQ6v+/F56biv39fU8Z3XnFFOLFGQWS27tsEza851pU8w13LE035fHxPeaoeU63l3OhfYXjy0Nnewelik1+b+9OECfjLnmiHMn2/r7+dIqpfZKoC0ksNDwyIX2t3CpSA4Nu9+e+dKFdjucazB8TuuUvq8xp1hQekynE3b96uvo1/l/3yL9H3Dasa6/z8vM6xHoIpcODdskQlcoTYApFknjzEUgAAEIeBDAFHN1+lp8IDaV2DJnWEKnxWbSTDEzV4mqNrHSKF61UeMvUsy6eKRidUfd3+jVBzO3TYgrUEvvrnnVZpXbdHIfVGuKzcr4jTnJLcnK8BH3kfq9HvZpidsA09dxb5ODeWfC/nrm03vK3HK+mFbk78iwLGuw+uT8U4PO8MhrxkTFhbkn2ncvPqAn7K+d62uhullov4iUTLes5A+pmpiXqbuydnmDGkZZirLLtGq0lVf19J5of6H9uq7j8xq2aWLmgkDVRpAZOmXm61c4BrZ1iuRu2yVzHrpV69ewXsM2xdAVmGLxab3JCQQgYCIBTDEPcYHYNMcUi4PYTJop9sNntsm5ygBYvVMOvF1tFv1Kfvijp+Vae8jaRnnwmMd+r3Pa2Ba2WPeO3sIU0x2mNpfUcLzsbeMy61r5cXbfUPHLXD2jTadSftXpVZhO5d1Sa4qJzOzqccys7rxMvOM6WA1MfD5fjIgakHHXvtJ1drsi3EoRV8tkcJ9jX+nU5t+YkPw6ZzJ4VdbK/LmGP24YkWn3qSfGZMCeX2uZ5A9qW1CbWNWRXzMycrFjumXvmnKZiGrYo9peb2XQZvY7ea9I973JYhRd+8MoyytN5lzl1PQWep2RkbWqfDkZOe517EL7vc7p7LawTTHRqw+u2uI9r9SJHTJot8NXyPgPqs2k4D+HXl4PrWbCj3cz9/+1Y6hb58vAQ9FMqu9lrIXez6IriBTrbJPN1SEAAcMJYIp5CS3EphGRYnERm4kzxd4+LLcuUV9gl8qtz9SaXkcfvklOU1/GPrZHDrdhdnmbUbXXC12se5YBU0z3ndpcym3oK5pPapigitzSBlJWhp5yu0TOmdrcstYXxLWOpOj0Kk0nfTXxNMVkfkq2uwyrru5cTR4G9rrMLymnY69UuTYn/bY5Vh7+p4yvzJKqdBb1y/DWXie66q6pcqbUOzW5fGkFzLU4/QsAACAASURBVC7JKgZrFhe/0Gak5x63yVXPFBMRPazRqox808ZfvWGqjfaXIriWDtWsNlmKYsv0ScG1GEG9+qkstP40JXm9iuairMNeld/zf3vtMFo9bHXpcO0+dYmF9utsxOg1fJOoIMPnqXb4QzL8dK3JNf+vVzn33t9viySyKPzy1pYx7abYzANFQ+z0CyX/+LcjWWXSyxBT28LvZ9EVDJ+MUQNOViAAAeMIYIp5mWJvITYRm14CPJxtyTPFfiVqqINtfC2/XR78XtmoOvzsTll3umOY3Tj+s7pzjjVreDVzXPhivVy+cn4wxXRvWTaxZmTuaEEG1xWNoMxi6bl+u0y4HS99ktuUCsIUU+menJXJ0bz0r3VNrr8oK7118zAj45t7ZLE2c0oT3M/J9GN56e/uKg6lzMjiNf2SH510ouCOj0hOmb5eBo7OQ+ncLsmuH5SRg9UQGphirmGNlpr7SzM7PiI96rpVvPRuqbf/REH67DJmZPApHalWOsseRjmx2TEw3fOAtWaK6fKoZ3+h/+roOJG5vQP2ecvuKZXWncEF91ccHJMPUZhEKqo9o3gvv1bGv1vun+YObJE+ux3+kOSfmIzETImivLWGTYqHT768rViH50dWh7V8y/dUFP0suiKNuiImDTLZgAAEILAAAUwxT1PssCA2EZuNBGKQ+5Joiv3w7ePyYH93yTQ4Z+Ua6V5eNhFW33FYjnpGWHkZTO1ti0Ksl80wnVfEq+5byqZYtfGjj+A1GAJzMnaNMpx66gwxXGh/67lQUWR1TbjWk6tzxkL5Xmh/nWQ7vDkak2ivjF97frEdPkUWr7xQcsvPKH3u+UJB5utonCD7MJVWNOUtmzRO/tOrUyY3O6tMLmwyW5J/oppL8J+j6WfRFV9e5/yocOO41hrRvKr65Q8CEICAyQQwxeoKRsRmodg5RyG43AI9bHEdN7GZTFNMCbV35cldW2X9ysVO1JjVJcvWbZTPj4W/4qTbpIpGrFcLU0wx3XFiimkSEbwWJ/TP1omoUkMv1YT/dfe3ksX5GSlsyEj2/ulWzmr92GKEW92FGBba3/oVIzkj7H6s3Gd+W6Yf2ij9K7uKQ3XPkOy6K2T7nvBXnCznAVPMzaL993q0wkJRl87+KDRadP0sukIZoZhikTTTXAQCEIBAiQCmWF1TTP3ShthUnXMUgsstIsP9MhE/sZlcU6zaKOrM5+jEemfK5zYA1fu4/aKLKVbqTyN4Myfj12fEygzJhNdISFlof/NZnH9qSHpuHJMZ18IJzZ/d/JFT25aJZdVfiGGh/c1fKdojw+3Hgo8EcvfBft5T3vjViZ96rHeOif1sdd+b5s9x0xXRttZcDQIQgIAIplhDUyweIgexGY96qCcW292OKdae2WSiWI9T54UpFnFtvDFmzxHWs7Ny4YBSLhbaXzowBm+Kq33WL0tBei1L6u6PQRHqZYF+24B+OwH6sV19os83sZ9NswlWXTZMsXotOdshAAFTCGCKJUDUIK4NENcBtjiI1/ZMtmqxGLfPcROvmGIBPrxNJjX7SJ9kMn0y9ob3CQvt9z4r6q3zoib4d0/uX5mDhfZXHh23T/TbBvTbCdCP2tRq9xVdga6IWxtLfiAAAQgESQBTLAGiBnFtgLgO8KlGvCJeA7ydSAoCEPBBgH7bgH47AfqxXTNMn4+uQFf4aAY5BQIQgEBiCGCKJUDUIK4NENcBNhmIV8RrgLcTSUEAAj4I0G8b0G8nQD9qU6vdV3QFusJHM8gpEIAABBJDAFMsAaIGcW2AuA6wyUC8Il4DvJ1ICgIQ8EGAftuAfjsB+rFdM0yfj65AV/hoBjkFAhCAQGIIYIolQNQgrg0Q1wE2GYhXxGuAtxNJQQACPgjQbxvQbydAP2pTq91XdAW6wkczyCkQgAAEEkMAUywBogZxbYC4DrDJQLwiXgO8nUgKAhDwQYB+24B+OwH6sV0zTJ+PrkBX+GgGOQUCEIBAYghgiiVA1CCuDRDXATYZiFfEa4C3E0lBILYE/t+JmdjmjX7bgH47AfpRm1rtvqIr0BWxbWzJGAQgAIEACGCKJUDUIK4NENcBPMw6CcQr4lXfC7xCIM0Ejj/8DfmPz39O/u8rR2NXTPptA/rtBOjHds0wfT66Al0Ru0aWDEEAAhAIkACmWAJEDeLaAHEd4EONeEW8Bng7kRQEYkvg5M9+Js98ok/+z+V/FztzjH7bgH47AfpRm1rtvqIr0BWx7QjIGAQgAIEACGCKJUDUIK4NENcBPMw6CcQr4lXfC7xCIO0EVLSYMsX0f1wix+i3Dei3E6Af2zXD9PnoCnRF2vsSygcBCJhNAFMsAaIGcW2AuA6wHUK8Il4DvJ1ICgKxJuCOFtPGWBwix+i3Dei3E6AftanV7iu6Al0R646AzEEAAhBokwCmWAJEDeLaAHHd5oPsPh3xinh13w+8h0DaCVRHi8XBHKPfNqDfToB+bNcM0+ejK9AVae9HKB8EIGA2AUyxBIgaxLUB4jrAdgjxingN8HYiKQjEnkC9aLFOmmP02wb02wnQj9rUavcVXYGuiH1HQAYhAAEItEEAUywBogZxbYC4buMhrj4V8Yp4rb4n+AyBtBNoFC3WCXOMftuAfjsB+rFdM0yfj65AV6S9D6F8EICA2QQwxRIgahDXBojrANshxCvi1et2chsDvC9PzA4LM1mEPSE//bYB/XYC9KM2tdp9RVegK7x0BdsgAAEIpIUAplgCRA3i2gBxHWCLgnhFvHrdTpg/Zpo/1Hvjeg/LHKPfNqDfToB+bNcM0+ejK9AVXrqCbRCAAATSQgBTLAGiBnFtgLgOsEVBvCJevW4nzJHG5gh8zOTzH/8wJP/3laNej0xb2+i3Dei3E6AftanV7iu6Al3RVoPIyRCAAARiTgBTLAGiBnFtgLgOsKFAvCJevW4nTB8zTR/q3bvewzLD9LNHv21Av50A/diuGabPR1egK3TbxisEIACBNBLAFEuAqEFcGyCuA2xdEK+I1wBvJ5KCQCIIND3RfkiRYdWQ6LcN6LcToB+1qdXuK7oCXVHdxvEZAhCAQJoIYIolQNQgrg0Q1wG2Kkq88p9uBgHeLiQFgcQTOPmzn8kz/+vj0igqLuzIsGqIqt/mHwZpuQfQFOnWFKp++YMABCBgMoHEmmJpERqUA9Gs7oEg/5S4+eHb6f5V010+E8sb5P1CWhBIOoFGUWJRm2Gapd2uJ+BHt3YjiPT5lDfdP96Z2M+6dUba32OK6ZabVwhAwFQCwX4bj4gi4ivd4svI+g3w2UG8ptsQRLwG+LCQVOIJ1IsS65QZpoEa2Y9hAoo2CdP2iq5AV+i2jVcIQAACaSSAKZYAEYe4NsAEDLB1QbwiXgO8nUgKArEmUB0l1mkzTMOi3zag306AfgzKnENXoCt028YrBCAAgTQSwBRLgKhBXBsgrgNsXRCviNcAbyeSgkBsCbijxOJihmlY9NsG9NsJ0I+YYv70gIk6SrddvEIAAhAwkQCmWAJEDeLaAHEdYOtjophL+3wf7vKp+uUPAhAQUVFicTPDdL3QbxvQbydAP2KKYYq59UO99+gK3XLzCgEImEoAUywBogZxbYC4DrAFwhTzJ4LricW4bUe8BviwkFSiCfy/EzOxzT/9tgH9dgL0I6aYPz1goo6KbWNKxiAAAQhEQABTLAGiBnFtgLgO8GE3UczFzbgKMz+YYgE+LCQFgZAI0G8b0G8nQD9iimGKNaNH0BUhdQQkCwEIJIYAplgCRA3i2gBxHWCTgSnmTwQ3IxzjcAziNcCHhaQgEBIB+m0D+u0E6EdMMX96wEQdFVJTSLIQgAAEEkEAUywBogZxbYC4DrC5MFHMxcGsiioPmGIBPiwkBYGQCNBvG9BvJ0A/YophijWjTdAVIXUEJAsBCCSGAKZYAkQN4toAcR1gk4Ep5k8ENyMc43AM4jXAh4WkIBASAfptA/rtBOhHTDF/esBEHRVSU0iyEIAABBJBAFMsAaIGcW2AuA6wuTBRzMXBrIoqD5hiAT4sJAWBkAjQbxvQbydAP2KKYYo1o03QFSF1BCQLAQgkhgCmWAJEDeLaAHEdYJOBKeZPBDcjHONwDOI1wIeFpCAQEgH6bQP67QToR0wxf3rARB0VUlNIshCAAAQSQQBTLAGiBnFtgLgOsLkwUczFwayKKg+YYgE+LCQFgZAI0G8b0G8nQD9iimGKNaNN0BUhdQQkCwEIJIYAplgCRA3i2gBxHWCTgSnmTwQ3IxzjcAziNcCHhaQgEBIB+m0D+u0E6EdMMX96wEQdFVJTSLIQgAAEEkEAUywBogZxbYC4DrC5MFHMxcGsiioPmGIBPiwkBYGQCNBvG9BvJ0A/YophijWjTdAVIXUEJAsBCCSGAKZYAkQN4toAcR1gk4Ep5k8ENyMc43AM4jXAh4WkIBASAfptA/rtBOhHTDF/esBEHRVSU0iyEIAABBJBAFMsAaIGcW2AuA6wuTBRzMXBrIoqD5hiAT4sJAWBkAjQbxvQbydAP2KKYYo1o03QFSF1BCQLAQgkhgCmWAJEDeLaAHEdYJOBKeZPBDcjHONwDOI1wIeFpCAQEgH6bQP67QToR0wxf3rARB0VUlNIshCAAAQSQQBTLAGiBnFtgLgOsLkwUczFwayKKg+YYgE+LCQFgZAI0G8b0G8nQD9iimGKNaNN0BUhdQQkCwEIJIYAplgCRA3i2gBxHWCTgSnmTwQ3IxzjcAziNcCHhaQgEBIB+m0D+u0E6EdMMX96wEQdFVJTSLIQgAAEEkEAUywBogZxbYC4DrC5MFHMxcGsiioPmGIBPiwkBYGQCNBvG9BvJ0A/YophijWjTdAVIXUEJAsBCCSGAKZYAkQN4toAcR1gkxGZKXbsuDx450a5aHmXWJZl/5+1/FL5+J1Pywtv+hOizYi36mMiK++bb8pud3lPXyzdH9sq2599V6rzFOZnxGuADwtJQSAkApH126/vl4n8FdK7/AynHT69S3J/v1HGDnxbgjJEmkknsvLWaLa9Ulin+p+cFF6OTitEU95Jmdjo9K26j615XZeX2RomwXOIrJ9FV6ArQmqTSRYCEIBAIwKYYo3EBGITsdno/ghony2uGz2lLe6LRLwe2iPru7RY75Jlq9dI9+puOatojlnLN8qDh6IxxiIp72vfkRtXZormX7G8JTMwI6vvOCxH346uvC3eEhwOAQhETCAS0+T4LsmvPKXYLp0h2VUXSk6bY9Yp0vOFgswH1E8tZIxFUl6Pskx94fxi+dNoihVk+Dzdz9Z5TZMphq6QbnRFxC01l4MABCDgEMAU8xBZtvhDbApiM5pfYJNnih2XO3OOQF+26YnKqLBjR+XO9UXzaN0/ywsRGEXhm2I/k90bnTKdtv6f5YArCu7wsztl3emKRbfc+gymGB0rBCDgEAjfJFJRRI4hlrk8LzOvl6OD5g5skT67XTpfhp8ub1/I2Gpnf/jlrS3H/BMbJat/iEljpNgP7pMBVb7zPitT9bRqRNvD72fRFTrCHF1BLwIBCEAgegKYYp6CArGJ2KwV4O18YWh0buJMsWe2yblKqC/ZJo97mV6vPS3X2l/I1sidB8M3ikIX60f+WS6yv3hdK9una8tzYHiNHalw2u2HIxlGqcrLHwQgEG8CoZtEL+el126XPipjr9T2VzNfutBulzK3FSIZRhl6eau1mvrhcrkl1vK/lr5V6oeJFEaKPblRMqqON+6ILOKvnlYJvZ9FV1ToB3RFvNt3cgcBCKSPAKZYtdBSnxGbiE2v+yKkbUkzxV7YfZMT4n/LdypEnP6V84dvvylftud4seTG8VoTqXxcMPvCFutHn90p61evkXP6n5DDHibgCzsudYbv9D8RyRBKTLH0dcSUKH0EwjaJ5g9skf5VF8ria++TOY++afaBnNMuXXtfJIZK2OWtNGv0D5fnS/7J9M4pNvu1v7brMPelvZEYm5WMK43WsPtZdEWlHkJXpK9PoEQQgEC8CWCKeYhJxKYakoHYbCQQg9yXNFNsYVPruNy52hlemQZTrHF5y0MrV997vI5JWCl2G6e38LGYYvHuVMkdBBSBaE2iSgND3tKmkSU9/xiNoRJleee+foUdQdVjm0X7Uzv36eSNTj86tOfbMv3AVdLzp8Xhsn+6UgbyO2TWNWQ2SE3ilVbYptjC/SK6YmFGC+uHemmgK+i3IAAB0wlginmYYl6CoLwNsVlmUS3Eg/kchbiOk9hMnSmmh0Gcfrvs/pF/kVZPvFVv75RYPzp9WL583Ro5TQ1vWb5VHn4t/LKqsiNeTe+2KX8SCETRj3n1xfOvFKTw6QudYXfLN8rk8WD6Za9rubdFVt6X8s58aevyMmPrt7SaYnulcLEyxT4kuZVqZdHiQgoru5y6tfuda2XCY+isu16Cet+pfrbU36MrQv3RDV2RhF6FPEIAAmESwBRrwRRDbKZFXMdLbKbKFFOrNKp5XixLVg9HFzlVEs4ewxsD3ze+1RmWZM/nY8k5l94vjx+LxhDDFAuzOyRtCARHIDKTSGuYJzZWtEuL/+4WmfpBNH22Ml6iKe9eKVx+ilin/7UUXtJlS6kpdmKHDBb7mMzlW2TaXZev7JLhtcVVR0vmoOYRzmtHTTF0RaiGGLoiuHaflCAAgeQSwBTTgrLRK2JTCi+HI7S8fsUMXVzHTGymxhR77bDcepFrlcYoDKpi5FTgxleDvB/efZMsW71Guld3y1nFLy2nrbxJHjwUjTHGL7rJ7XDJuTkEQu/HqjTL3NevkuyqCyW36nzp0mbKyqtkvGQehduHR1HemS+tFMs6RfoecA8JTakp9lJe+lVd1ov2O75DBu0FbU6RoT2Toc851jFTDF0RuiGGKWZOv0RJIQCB+gQwxaqEpZdJg9hM2apOMRObqTDFpp+W61dqQ2ynPBnRUEIt5qI0xSqudeyofLm/24nQWL5VHo9ouGj9Jp09EIBAHAhEYRJ56RV72w/2SOHa84vt0kaZOhGuIaauGXZ555/cKFnLksz/ql5YIKWmWBPadHJzcY6xCFYY7Ygphq6wp2ZAV8ShRScPEIBA2glgijUhPCqEJ2Iz9F8kwxbXFfVZp/6jFJtJN8WOfmenrO9yhkye9bF/lgNvRhMxpc2pjoj1ikiyw3LrEqf8H9/9bui/6hIplvZumfKlgUDn+7GCDJ/ntEsDX/92svvt47ucFbFPv0omauZIM9cUK60wunlX6PUbdT+LrkBXpKEfoAwQgEByCGCK1TFFGhsniM3GfNr7VbrzXyYOS5RiM8mm2IHdG2WZPVQnI923f0cOV5hF0ZhjUYt1bca5Xx++xfnyee4dhzHFktP/kVMIhEYgDv3Y5GanXVr2hULopkmo5a2awkLNWdnov/eB/ckur9alJ74tcw2i/GbuzzkcUmaKoSsc7YSuCK15JmEIQAACNQQwxbT4aPEVsdme8dXIVAtVXOt6jpHYTKopduArVzorL1rd8vFd0Uyq7zai9PuwTbHHv3ixdC/vku4GCwc8fJPzJe2ir4TPgUixmn6MDRCIHYGw+7Gp/2+l5JafIbkvuefXquyX9SrLvffXP6ZRX9zKvlDL++QtkrPnS1NzptX+Ly7OrbV4pbNv8OvJN8WmvvAhx/C6sV4UmFoJ3el3ojABw+5ndX+Orij/mIiuiF2zToYgAIEUE8AU0yaJ6xWxWRadiM2IxHWAjUwU4vXAjqIhdvoaufGb4Q8Z1ILZ6zXs8h59+Cbny8mSbfK4VyTca0/LtfaXsqVy6zNlQeuV1yC2YYoF+LCQFARCIhCqSfTWYZn/16ucdum8z8qUS7+UjKzSROwfkuGnK82y0jFe5/ncFnZ56+c5ncMn5/dcKxkVEec5ZPSwyEt56bUj5lbKyGT49Rt2P6v6RnSFSz+gK0JqmUkWAhCAgDcBTDEPAYjY1AILsRmF2LS/THg/n762hi5ej+yRdbYJ1C03jv8s9OGCCxlJoZf37cNy6/LiMKRNT8gL7jnTvve03FhacXOPvOBlmgW8DVPM12PBSRCIlED4JlFBhovtUvaG+2T2dd1vHxb57g7Jry1Own75Npn10Dn1TSZXOi2cF3556+UrnTpF3torIzmn38lcvkWmf+Aq/0vbZEDX/W0FmW+hnvzWe+j9LLqirKXQFZG21VwMAhCAgCKAKeYpJhCbjnBCbEYhNpNmij18i7PKZKM5XfS+G8ddv3wGbA5psyx0sa7yfWhPaTEBy+qSZavX2EMqdTlPu2ibPB7RipuYYnTeEIg/gUhMope2Sf8HHOPEss6QrBpauPwMJ4JMrdS49rMyVTMxvctc8dQ//vZHUl7P/KZVp6hosPtK5pdX/WavvU9mPJn4q8NGhlnY/Sy6Al0R/1adHEIAAmkmgClWT1AgNkXeQmw2EolB7UuWKVZeEUkbQo1eU2OKKWPs2HF58M6NctHyruKXzi5Ztm6jfH70eKQLDGCKpblLpmxpIRCZSfSDvTKev0J6S2bYGZJdd4Vs/5e9MldP34SwPbLy1uQ9xTpFlfX1/TLhVb97wp/awa1xwjXF0BXoirS0/JQDAhBIKgFMsRqB5fqFDbEphXXqV+icFF52cWnELIB9kYnrmIjNZJli4Ud+6QiwZl/DFevxLG9SOxzyDQFTCETWjwXQ57rND7/vKW90GslvHbVznon9bLMaJA3H8WObKT0T5YQABOoRwBSLiaBsJFYQm+kWm5hi7RlPJor1eg062yEAgXgQoN82oN9OgH5spC1b2WdiP5sGs6vZMmCKxaPfIBcQgEDnCGCKJUDUIK4NENcBtgGI1/ZMtmZFZKeOQ7wG+LCQFARCIkC/bUC/nQD92Irx1ehYdAW6IqSmkmQhAAEIxIIAplgCRA3i2gBxHWBzgHhFvAZ4O5EUBCDggwD9tgH9dgL0YyOjq5V96Ap0hY9mkFMgAAEIJIYAplgCRA3i2gBxHWCTgXhFvAZ4O5EUBCDggwD9tgH9dgL0YyvGV6Nj0RXoCh/NIKdAAAIQSAwBTLEEiBrEtQHiOsAmA/GKeA3wdiIpCEDABwH6bQP67QTox0ZGVyv70BXoCh/NIKdAAAIQSAwBTLEEiBrEtQHiOsAmA/GKeA3wdiIpCEDABwH6bQP67QTox1aMr0bHoivQFT6aQU6BAAQgkBgCmGIJEDWIawPEdYBNBuIV8Rrg7URSEICADwL02wb02wnQj42Mrlb2oSvQFT6aQU6BAAQgkBgCmGIJEDWIawPEdYBNBuIV8Rrg7URSEICADwL02wb02wnQj60YX42ORVegK3w0g5wCAQhAIDEEMMUSIGoQ1waI6wCbDMQr4jXA24mkIAABHwTotw3otxOgHxsZXa3sQ1egK3w0g5wCAQhAIDEEMMUSIGoQ1waI6wCbDMQr4jXA24mkIAABHwTotw3otxOgH1sxvhodi65AV/hoBjkFAhCAQGIIYIolQNQgrg0Q1wE2GYhXxGuAtxNJQQACPgjQbxvQbydAPzYyulrZh65AV/hoBjkFAhCAQGIIYIolQNQgrg0Q1wE2GYhXxGuAtxNJQQACPgjQbxvQbydAP7ZifDU6Fl2BrvDRDHIKBCAAgcQQwBRLgKhBXBsgrgNsMhCviNcAbyeSggAEfBCg3zag306AfmxkdLWyD12BrvDRDHIKBCAAgcQQwBRLgKhBXBsgrgNsMhCviNcAbyeSggAEfBCg3zag306AfmzF+Gp0LLoCXeGjGeQUCEAAAokhgCmWAFGDuDZAXAfYZCBeEa8B3k4kBQEI+CBAv21Av50A/djI6GplH7oCXeGjGeQUCEAAAokhgCmWAFGDuDZAXAfYZCBeEa8B3k4kBQEI+CBAv21Av50A/diK8dXoWHQFusJHM8gpEIAABBJDAFMsAaIGcW2AuA6wyUC8Il4DvJ1ICgIQ8EGAftuAfjsB+rGR0dXKPnQFusJHM8gpEIAABBJDAFMsAaIGcW2AuA6wyUC8Il4DvJ1ICgIQ8EGAftuAfjsB+rEV46vRsegKdIWPZpBTIAABCCSGAKZYAkQN4toAcR1gk4F4RbwGeDuRFAQg4IMA/bYB/XYC9GMjo6uVfegKdIWPZpBTIAABCCSGAKZYAkQN4toAcR1gk4F4RbwGeDuRFAQg4IMA/bYB/XYC9GMrxlejY9EV6AofzSCnQAACEEgMAUyxBIgaxLUB4jrAJkOJV/7TzSDA24WkIACBEAiofpt/GKTlHkBTpFtTqPrlDwIQgIDJBBJriqVFaFAORLO6B/iDAAQgAAEIQAACEIAABCAAAQhAIFoCfBuPljdXgwAEIAABCEAAAhCAAAQgAAEIQAACEIgBAUyxGFQCWYAABCAAAQhAAAIQgAAEIAABCEAAAhCIlgCmWLS8uRoEIAABCEAAAhCAAAQgAAEIQAACEIBADAhgisWgEsgCBCAAAQhAAAIQgAAEIAABCEAAAhCAQLQEMMWi5c3VIAABCEAAAhCAAAQgAAEIQAACEIAABGJAAFMsBpVAFiAAAQhAAAIQgAAEIAABCEAAAhCAAASiJYApFi1vrgYBCEAAAhCAAAQgAAEIQAACEIAABCAQAwKYYjGoBLIAAQhAAAIQgAAEIAABCEAAAhCAAAQgEC0BTLFoeXM1CEAAAhCAAAQgAAEIQAACEIAABCAAgRgQwBSLQSWQBQhAAAIQgAAEIAABCEAAAhCAAAQgAIFoCWCKRcubq0EAAhCAAAQgAAEIQAACEIAABCAAAQjEgACmWAwqgSxAAAIQgAAEIAABCEAAAhCAAAQgAAEIREsAUyxa3lwNAhCAAAQgAAEIQAACEIAABCAAAQhAIAYEMMViUAlkAQIQgAAEIAABCEAAAhCAAAQgAAEIQCBaAphi0fLmahCAAAQgAAEIQAACEIAABCAAAQhAAAIxIIApFoNKIAsQgAAEIAABCEAAAhCAAAQgAAEIQAAC0RLAFIuWN1eDAAQgAAEIQAACEIAABCAAf9z6cgAAIABJREFUAQhAAAIQiAEBTLEYVAJZgAAEIAABCEAAAhCAAAQgAAEIQAACEIiWQCJNsa1PfFr4h0Ga7oFoH3uuBgEIQAACEIAABCAAAQhAAAIQgEBiTbHvv/2KmPKvzB9TyqrKaWJ5aYogAAEIQAACEIAABCAAAQhAAAIQiJYAplgCzDUTTSLTTMBoH3uuBgEIQAACEIAABCAAAQhAAAIQgACmGKZY7KLQTDQBaYogAAEIQAACEIAABCAAAQhAAAIQiJYAphimGKZYh+8BZQLyBwEIQAACEIAABCAAAQhAAAIQgEC0BDDFOmyINDNM0MTIqWa4pOUYTLFoGz2uBgEIQAACEIAABCAAAQhAAAIQUAQwxTDFiBTr8D2AKUZjDAEIQAACEIAABCAAAQhAAAIQiJ4ApliHDZFmop2IFEv3SqOYYtE3fFwRAhCAAAQgAAEIQAACEIAABCCAKYYpRqRYh+8BTDEaYghAAAIQgAAEIAABCEAAAhCAQPQEMMU6bIgQKVYbBWZiZFz0jz5XhAAEIAABCEAAAhCAAAQgAAEImE0AUwxTjEixDt8DRIqZ3QhTeghAAAIQgAAEIAABCEAAAhDoDAFMsQ4bIkSKESmGKdaZxo+rQgACEIAABCAAAQhAAAIQgIDZBDDFMMWIFOvwPYApZnYjTOkhAAEzCcweLMjw9b2SW5IRy7Ls/8ySnPRePyyFg7My74llUvL2sb1SeMPzAGM2zoz2SSYzIOPvVBX55KxMjualf21WuopcrUVZ6b1+u0zMVh3b1McpGV7q1I+up9rXvEy60zpRkF4rI32jM+6tvIcABCAAAQhAIIYEMMU6bIgQKUakGKZYDFtGsgQBCEAgLAInZ6RwTVfJCKs1WIoG2Zohmag2fARTzK6W4yPSY1nSs7PKdJqblPwabTJmZPGanOTW5mRxRptaWRnYW3XOQvU8Ny4D2lyr+1plionI1D1ZsTJ9Ujix0AXYDwEIQAACEIBAJwlgimGKESnW4XsAU6yTTSDXhgAEIBAlgXmZuivrGGKLemV437TMvue6/nuzMr1vWHoXFU2c7mGZcu0WTDERmZHCekuspXmZrAinm5WxDY4hltkwIlMVhuKcTO/sk4xtavXIyPEKqI0/HMo7560vSEuBZu9NyGDGksz14zLX+ArshQAEIAABCECggwQwxTpsiBApRqQYplgHW0AuDQEIQCBKAu+MSX8zxsyJgvQVo5sGn3I7P0SKze0dsE2q/seqrKbjI5Kz2Q7IuNtoLNXvvExsLppmWysGO5aO8Hoz+0ifY2K2cI5OZ2Znj1hWRoYOuOtQ7+UVAhCAAAQgAIE4EMAUwxQjUqzD9wCmWByaQvIAAQhAIAICB/PFYZO1w+0qr64MHEuszGLJPeCOFTPdFJuS4W4VRTcoE1U+09zeQcl1d4nVIKJr/qlBh3+DYyrrQWTqLsdI63ukpTgxJxltgl48Ii0O2qzOBp8hAAEIQAACEAiJAKZYhw0RIsWIFMMUC6l1I1kIQAACcSOgh+JZ/TJWMbyv2YxWmmKzB0dkcL2eUF7NodUv+cem6w/Xm5uR8V2DlZPQW12SXVvvPH09x8SbPTAs/cp4UhFZyrC7Ji9jR6sittxFOTkrE/cPSK8+xyrmcXRSZk+6Dyy/n9xaHDrqYVzNHxhyhjJunqizEEE5Ha93KsrMzrtH2l7Hi8w6QzWtjOQPeR/ReOucjF2jyrNMho80PpK9EIAABCAAAQh0hgCmGKYYkWIdvgcwxTrT+HFVCEAAAtETKK9kmFkzKCN1V5mslzNtUuWk75qcYxAtytqTybtXscxunawxjeYP5iWnJ5xXhtZaZxL6rJ6/zLIks2Gsat4sfb1BGb6/x7le8dzyeV3S/4hHHNSJMekvpa2MN3U9beBZklmTl0mPYY71TbF5mbjNidoa2NvAiKuHTvwMn9Tl75OxE47B11MsU2ZJjwzcPy4zC2RldrTXNuKWbXNH/NXNJDsgAAEIQAACEIiYAKZYhw0RIsWIFMMUi7jV43IQgAAEOkhAmVNZe+6rYkSUitS6ZlCGd43J5KtzNWZWZVa1SaPOzcrAaGVU2OzeQVlmp52rmkxem3EZ6dtZeY5Kf3bfUDFP1RFN7utlpOeeKVcU2pxM7+qXLvt62cpIqPcmJW8Pc7Qke9u4zLqHOs7PyNgNzmIDmQ2FmmGF9U2xScnbpl6vrxUdy9yr8loJuPLTiYL0FsuXVeXRZuKaxY5BqPYt6pexRitMHhl26mRp9aIJlZfiEwQgAAEIQAACnSGAKYYpRqRYh+8BTLHONH5cFQIQgEDHCMxOyPCVLmPFNl7cJlm9YYllk8o78kgP97OkYg6sI9ulR0Vp1TVmZqRwqXP9ivNKq11akvEcsjgvk1uX2ZFQmdvKQxpndqkJ5i17fi+PGDJ7BcmRi9X1WpiEvmRQLTQfm0etuhYu8Iqi8zjD2fT8kFMOq2juuYd8vjMpw+ucyDWr2zvqzU5kfkIG7frtkzEf05LVzRs7IAABCEAAAhAIhACmWIcNESLFiBTDFAukLSMRCEAAAskj8N6MTO0ryPbN/eIe/mgbSlZGclsmXJFZqnjaFKs/x5WOtOodbc2B8T5PX686gsyFurTq45A4azqWjblGwxxnduYcM+2uJocV6kUKmp4PrJhH1zBOr8g0V0lq3qrIOzV5f+2w0uKh703K0FLHTOzZ5W3/iUwVI9wsyR+suQQbIAABCEAAAhDoMAFMsRZMsamHr5ZTLUs2jdcaOc2YW36PUaaJ33NbOu/Yftlx55WydvmZpV9Gz1r+EbnyzofkuTejK3Nk5X3zWdnlLu/pZ8uKj22S+549GA3v4r2HKdbhVpDLQwACEIgJgfm5GZl6bLv0rylGIKkIpXvcppE2qXql8IZ3pr3Nrapj5+dkTl3rwISM7RqWwWvKc31Vmmn6etrwqkrH/jgpQ3YklM6TPseSrm5n3jI9f1nF65JiGZs0ufTcXI1Wl6zO3fyrI9JXnEfNNsTckV7VB/v8PHWPEyln1czHphMsm4SYYpoJrxCAAAQgAIH4EMAUa9IUm3rmZll1uvNrYCpNsUP3ymVdTvks60xZunqFrFh9gZylh3Qsv1J2HIrGGIvEFHutIJtWnlo0/4rlLZmBp8qqO/bIVJP3RkvGo0eamGLxaRDJCQQgAIF4EJiTya3OvFtWZkgmSnNyacNJG1C1ua1rihVXgtQTxTvRaLrf75Ku4gTy3qZYoyGL1XnSn3XaC7yGZIrNPaXnSbMke8N4zdxlteT8bVnYrCubYpVDU/1dj7MgAAEIQAACEAiWAKaYh0lRbXLs33WlLNXmUCojxfbL1pwjWpdueqAyKuzYXtm6vmgerbtbnmuCVzW/Vj+Hb4q9LLs2OmU6df3dst8VBffis1vlEtv8vEA2PxOdCRjsY01qEIAABCAQPwJTst1efbHBUER3pt/Qk7y7DTBtOLm3uU8S8TTFXBPfW2pi/7X9MrhtWEYem5DJV2dl/qTI5BZHB7RsipXmzNJ50nmsnuy/Mp+tflrYfNIpzsvUPcWVMi1ncYCSp6gPaeF1fm7O5lPvlIXzVTbFiBSrR5HtEIAABCAAgc4RwBRrYPJMHXlINq/TQwlPlVPTGin2zM2yWJl+S26WR714vPaQXG2XfYVsPRi+URS6KXbkbllbHOpx33RtefYPr7AjyE69fU8kwyiJFOtcA8iVIQABCERHoGyO5B6YXviys2PSZ/dV7gnateGkDajaZLxMsdIQPzUh/FztOSLlvHmbYg1WfNSrK2Z0NNmMjKx1DLb+xzwv5pWBhbfpOcUurV2xsnzyvEzelSuuDJmVgb315vkqn1H/XbkclUwqz5jc6gwDzWx1ZlSr3Ks+6TnF6s8DV3sOWyAAAQhAAAIQiIoAppiXCWRvK8imYnTYqSuvlm3f2Svb1jkiL23DJ5/bfbWsUEMHbynUMYGejbTsYZtiU89ulctWr5Cz+x+QFz3q/7kdH3GGVfY/EMkQSkyxqJo7rgMBCECgswRKUUWZPhl5tXH80szO4gqOF4+4hv75McXmZOwaR79Y9Yyb0sqOllQaQPp6lvTs9DKY5mVyS3H1SVfa0/cXh35W5N3Nfl4mNmcksyQnPffUM5Pcx4tIKY/15zebGe0rGWL559s35Ka2FecLq1eO0qqWyyR/sE59zo3LQI25WVU2PkIAAhCAAAQg0DECmGIepogz3G+PbL50k2wbf7ZoFEVrDLmHHIZtErmv5f1+v2xdHZ0h2NnylodWrrp3fx2TsDa6zJtbc8dhinWs/ePCEIAABCImMCOFDXoS/S7p3VqQyRNzUrZT5mXuxKSM3FiOdsofKu8trz4ZXKTY3JGCDHQXTTOrvilmWVkZeMxtjM3J9M6iCZXpkzH3xP/vTchgcYL7rmtGZNrtT52ckyl9ntUjI8crq0BHutVOqK8jruoMyywNN81I36g7n5Xpe30qmZWWjnYrHvXGWGmi/uxt4zLrnqh/dlyGitwy149XrRLquoqOpFvrNjdd+3kLAQhAAAIQgEBHCWCK1TXFqg0Ng00xPbzy9E/Lrh9Vcwn+c6dMsanpPbLtuhX2CqPW8k1SeC34snmZZ5hiHW0DuTgEIACBaAm8Ny0j13SVVnmunPC+bE5ZmZwMPeV2k1Q2deRWa6aYuMwdy8rI4jXOqpDZ4uT6mTWDkt+cs/OUuctrtcuc9G0oRn8tyopaRVKfq/LpFSWlVn7sL6bvvubiollmm2wewxvrm2JqvjTHUBzYW81FpBTVVYzyr8tV7a+a3L+uKSYi8wfzktN5ziy2y57rLtefbfq9V/8WmtnpcF1WsYpo/ePZAwEIQAACEIBAtAQwxTDFGkdDqVUalzsifdVwdJFTXuZRaNvGN1V8OTn70iF59Fg0hpgqE6ZYtI0eV4MABCAQBwJzr47LyOZ+ya1ZXBzyp/paZxL8/OikzLoDxEoZ9mmKqfPnpmVsa3/ZzFLXWj8g2/fNOFFOOqJp6bCUbTH39eZl+rG89GtDaFFW+reOydQ7pczVvpmbkfH7B6TXVUY1ZLJfRcjN1h6utjQyxUTnsSYyqzwnWkMzTBtmLZhidi7fmbLZ5ZaUo/wq2HkXRcpztTW5uELddNgBAQhAAAIQgEBYBDDFMMXqm2Kv7ZHNF7lWaWyaVXuGUtSRYi/uvlqWrl4hK1ZfIGcVBbOaR27HofbK0ayJhykWVvNGuhCAAAQg0B4BtynWXkrBnD0jIxcr87BfxhqZcX4uZs9ZVjV80k867nOOj0iP0hXXjNUfXuk+nvcQgAAEIAABCEROAFOsaaPHsOGT0w/JdSu1IbZVnohoKKGOnGrWUAr8uGN7ZVv/BU7k2PJN8mhEw0Ujf/K5IAQgAAEIQGBBAnEzxUTmnxq0I+t6drU2b9hCRVXpWgHP++UM6WwwCf9CmWI/BCAAAQhAAAKhE8AUwxSriRSb+s5WuazLGTJ51sfulv1vRhMxpQ2uqCPF9HXLr3tk8xKn/FfuPljDp3xcMFyIFAu9neMCEIAABCDgi0D8TDGRGSmst8RampdJzyGmPgr63qTkuy0J1GgrLjbQcBJ+H1nlFAhAAAIQgAAEgiWAKYYpVmH67N99pSy1hxCeKituL8iLTfMJxiBShlPnTbFXpHCLY4otvmNPBZ+gDTFd3mAfa1KDAAQgAAEIBEEgjqaYiBSHJfbsDCha7Mh26btxXAJKzQY/dU9WrEyfFE4EUQ+kAQEIQAACEIBAWAQwxZo2fdI/fHL/Vy5xVl60LpArd0Uzqb6XyRS2KfboF1fJiuVnyooGCwcUbnJMsbVfCZ8DkWJhNW+kCwEIQAAC7RGIqSkmIjOjfZLJDMh40HOLtQfMOduenywjfaNB2mxBZIw0IAABCEAAAhCoJoAphilmR0Lt31E0xE5fIZu+Gf6QQS8zTG8L2xSbevhqZ86wJTfLo171/9pDcvXpyhRbLJufCS4CTpev+hVTrLpZ4jMEIAABCEAAAhCAAAQgAAEIQCB8AphiXqaI57YUR4oduVcusU2gC2TT+MuhDxesNoWqP4dtin3/7T2yebkTCbZ00wPynHvOtO89JJtKK27eK8953gvBGmWYYuE3dFwBAhCAAAQgAAEIQAACEIAABCBQTQBTrGnTI72mWOEWZ5VJy55LzDGL6r3fNB6sIVRtiKnP4Ztir8j3D91bWkzAss6UpatX2EMqdblPvehmeTSiFTcxxaqbJT5DAAIQgAAEIAABCEAAAhCAAATCJ4ApZrwpVl5pURtCjV5TY4qpej+2X3bceaWsXX6mM5xSmWPrrpTPje6PdIEBTLHwGzquAAEIQAACEIAABCAAAQhAAAIQqCaAKda0KRZ+hJRX1FRkkVMx4hBJpFjMylv9YPIZAhCAAAQgAAEIQAACEIAABCAAgXAJYIrFyBzBFHOMR0yxcB96UocABCAAAQhAAAIQgAAEIAABCEBABFMMU6zjE+tXm4GYYjRNEIAABCAAAQhAAAIQgAAEIAABCIRNAFMMUwxTrMP3AHOKhd3MkT4EIAABCEAAAhCAAAQgAAEIQKCWAKZYhw2R6igpr88mRk55cUjrNkyx2oaJLRCAAAQgAAEIQAACEIAABCAAgbAJYIphihEp1uF7AFMs7GaO9CEAAQhAAAIQgAAEIAABCEAAArUEMMU6bIg0E/1EpFjnVv5spn7aPQZTrLZhYgsEIAABCEAAAhCAAAQgAAEIQCBsAphimGJEinX4HsAUC7uZI30IQAACEIAABCAAAQhAAAIQgEAtAUyxDhsizUQZESlGpFjto8sWCEAAAhCAAAQgAAEIQAACEIAABNohgCmGKUakWIfvASLF2mnCOBcCEIAABCAAAQhAAAIQgAAEIOCPAKZYhw0RIsVqo8BMjIzz9/hyFgQgAAEIQAACEIAABCAAAQhAAAJ+CWCKYYoRKdbhe4BIMb/NF+dBAAIQgAAEIAABCEAAAhCAAAT8E8AU67AhQqQYkWKYYv4bMM6EAAQgAAEIQAACEIAABCAAAQj4JYAphilGpFiH7wFMMb/NF+dBAAIQgAAEIAABCEAAAhCAAAT8E2jbFPvNb34jv/71r0W9RvVn4pxTzUSUpeUYE+s3qmeH60AAAhCAAAQgAAEIQAACEIAABCDgEGjLFDt58qRs2rRJent75atf/aq8/fbbNVyVYfb888/LN77xjZp9fjeYaJqkxfBqphwm1q/fZ4HzIAABCEAAAhCAAAQgAAEIQAACEPBHwLcp9qtf/Uosy5KPfvSj8thjj9nvt23bZkeNubMyOjpq71PHBvVnomnSjJmUlmNMrN+gng3SgQAEIAABCEAAAhCAAAQgAAEIQKA5Ar6cKjVU8pZbbpHLLrtMVLTY7t27bePrgx/8oPzyl78sXVkdd91119n7Lr300tL2dt+YaJqkxfBqphwm1m+7zwTnQwACEIAABCAAAQhAAAIQgAAEINAaAV+m2PT0tG10HTt2zL7aDTfcYH8+99xzbZNMZ0ENnVy9erW9784779Sb23410TRpxkxKyzEm1m/bDwUJQAACEIAABCAAAQhAAAIQgAAEINASAV+m2D333GObXcr0Uv/ZbNY2vtT8Yu4J99966y17uxo6+dJLL7WUsUYHm2iapMXwaqYcJtZvo/udfRCAAAQgAAEIQAACEIAABCAAAQgET8CXKabNMJUdNbn+7/7u79rm1759+ypyuHPnTnv77/zO71REkFUc5OODiaZJM2ZSWo4xsX59PAacAgEIQAACEIAABCAAAQhAAAIQgEAbBHyZYvp6KipMrSqpIsGWLl1aYXwp46y/v9/e95GPfKRmAn6dhp9XZZrwD4M03QN+ngPOgQAEIAABCEAAAhCAAAQgAAEIQMA/gbZMMWV8XXHFFbbx9bnPfa7C+FKrU55zzjn2vi1btlTs859d50wTI4nSEgXWTDlMrN92nwnOhwAEIAABCEAAAhCAAAQgAAEIQKA1Am2ZYmrlyQ996EO28TU6Olpx5dnZWXu7iiKrHlZZcaCPDyaaJs2YSWk5xsT69fEYcAoEIAABCEAAAhCAAAQgAAEIQAACbRBoyxT7xS9+Ie9///tt8+vEiRMV2Thw4EDJFPvpT39asa/dDyaaJmkxvJoph4n12+4zwfkQgAAEIAABCEAAAhCAAAQgAAEItEagLVNMRYqpSDD1/93vfrd0ZbW9r6/P3q7mGlPDLIP8M9E0acZMSssxJtZvkM8HaUEAAhCAAAQgAAEIQAACEIAABCCwMIG2TDE1b9jAwIBtft19992iPv/yl78UNb+YNstuvPFGURPyB/lnommSFsOrmXKYWL9BPh+kBQEIQAACEIAABCAAAQhAAAIQgMDCBNoyxVTyb731lmSzWdsEW7RokXR1dcnHP/7xkin26KOPLpyLFo8w0TRpxkxKyzEm1m+LjwCHQwACEIAABCAAAQhAAAIQgAAEINAmgbZNMRUFpoZLvvvuu/LUU0/JM888I1//+tdLptjrr7/eZhZrTzfRNEmL4dVMOUys39q7nC0QgAAEIAABCEAAAhCAAAQgAAEIhEnAtymmjLDLL79cLrvsMvnJT35SyqPa/olPfMI2xT75yU8GPp+YupCJpkkzZlJajjGxfksPEG8gAAEIQAACEIAABCAAAQhAAAIQiISAL1NMTZyv5grT84Y9/fTTpcy+8MILpe0vvvhiaXuQb0w0TdJieDVTDhPrN8jng7QgAAEIQAACEIAABCAAAQhAAAIQWJiAL1NMTaj/t3/7t7b5tXr1apmbm7Ov9Itf/ELOOecce/vo6GgoUWLqQiaaJs2YSWk5xsT6XfhR5QgIQAACEIAABCAAAQhAAAIQgAAEgiTgyxRTkWKf//zn5bzzzpP7779fVKSYWn3yfe97n/zZn/2ZfOMb37DnGQsyo+60TDRN0mJ4NVMOE+vXfX/zHgIQgAAEIAABCEAAAhCAAAQgAIHwCfgyxVS2VLRYoVCQz3zmM7Jq1Sq59tpr5atf/WqoZpjGYaJp0oyZlJZjTKxffW/zCgEIQAACEIAABCAAAQhAAAIQgEA0BHybYjp7amJ9NWxSRY9F9WeiaZIWw6uZcphYv1E9O1wHAhCAAAQgAAEIQAACEIAABCAAAYdA26ZYJ0CaaJo0Yyal5RgT67cTzxHXhAAEIAABCEAAAhCAAAQgAAEImEwAU+ztVyTuZpKJJlHc6yTI/Kn65Q8CEIAABCAAAQhAAAIQgAAEIACBaAlgimGKxc4UNNEEjPax52oQgAAEIAABCEAAAhCAAAQgAAEIYIphimGKdfgeIFKMhhgCEIAABCAAAQhAAAIQgAAEIBA9AUyxDhsizQzDMzFyqhkuaTkGUyz6ho8rQgACEIAABCAAAQhAAAIQgAAEMMUwxYgU6/A9gClGQwwBCEAAAhCAAAQgAAEIQAACEIieAKZYhw2RZqKdiBSL/2IIzdRjvWMwxaJv+LgiBCAAAQhAAAIQgAAEIAABCEAAUwxTjEixDt8DmGI0xBCAAAQgAAEIQAACEIAABCAAgegJYIo1MkTefFZ23XmlrF1+pliWJdbpZ8uKj22S+549GKmR1LlIsf2ybZ0llvUR2XYkumitaMr7suzaqMrW4H/d3fJco/sjoH2YYtE3fFwRAhCAAAQgAAEIQAACEIAABCCAKVbP2HitIJtWnlo0Tc6UpatXyAptjlmnyqo79shUvXMD3h6NSVRrej16xwXF8qfRFNsjm5c0MMSUWYYpRgsJAQhAAAIQgAAEIAABCEAAAhBILQFMMU8DS0UROYbYqevvlv1vlg2jF5/dKpecrsyUC2TzM+Xt9eaLCmJ7J0yxqfFNsrQURZVCU+zYA3KlKt+Sm+VRz3sgmrpV9weRYqltXykYBCAAAQhAAAIQgAAEIAABCMSYAKaYlyFy5G5ZaxtCvXLfdK05sn94hR1BderteyIZRhm5Kaai5JZbYi2/RC5ZrQzAFJpi+zfJqaqONz4UWcRfPYMUUyzGLSRZgwAEIAABCEAAAhCAAAQgAIHUEsAU8zDFpp7dKpetXiFn9z8gL3rsf27HR5xhhf0PRGKoRGuK6Si5C2TT/vTOKfbcg5fYdbhieH8kxmY9Q4xIsdS2rRQMAhCAAAQgAAEIQAACEIAABGJOAFPMw/RqZGB8/21tGlmy6t5oDJUoTbEXd19pR1Ctss2iZ1M70X7hJmc+sevGDsoTO66WVX9aHC77p6vkyjsfkudcQ2Yb3w+1kYStHk+kWMxbSbIHAQhAAAIQgAAEIAABCEAAAqkkgCnWgik2Nb1Htl23whl2t3yTFF5r3xBpxkCJzBQ7dLczX9q6u2W/zSWtpth+2dajTLHFsmKlWlm0uJDCyrOdulXDKpd/WnZ5DJ1tpr5aPQZTLJVtK4WCAAQgAAEIQAACEIAABCAAgZgTwBRrxhQb31RchdGJLjr70iF59Fg0hpgyWKIxxfbLtvWninX6JbLtkC5bSk2xHz0kV9tzxlly6vqt8oS7LqcLsvmi4qqjJXNQ8wjnFVMs5q0k2YMABCAAAQhAAAIQgAAEIACBVBLAFGvCFHtx99WydPUKWbH6AjlLmykrr5YdJfMoHLNERxxFYYrtH14llnWqXLLDPSQ0pabYobvlMlWX9aL9XntIrrZXGD1Vrht7OfQ5xzDFUtm2UigIQAACEIAABCAAAQhAAAIQiDkBTLEmTDFtTtmvx/bKtv4LnMix5Zvk0R+Fa4hFESk2tX+TLLUsOfXq6oUFUmqKNVHnhVuKc4xFsMIopljMW0myBwEIQAACEIAABCAAAQhAAAKpJIAp1oRBUmGK2cfvkc1LnKGUV+4+GEkkUW0eAjLjXivIpuWWWKdfLbtq5kgz1xQrrTB6SyGS+k1l60KhIAABCEAAAhCAAAQgAAEIQAACMSaAKebLFHtFCrc4ptjiO/ZEYpqEZopVzZdmFYeH1ntdu+PZZJdX1/eacn+sAAAgAElEQVSPDsqLDaL89n/lI040IKZYjJsvsgYBCEAAAhCAAAQgAAEIQAACEPBPAFNMmySu10e/uEpWLD9TVgy759eqjMwq3OSYYmu/Uv+YoIysUOcU2z8kK+z50tScabX/Zxfn1jp7pbPv6t3JN8UevWOxY3jdVC8K7GXZtbFYvxGZgP4fYc6EAAQgAAEIQAACEIAABCAAAQhAwA8BTDGXGaZNrKmHr3ZMkyU3y6Me+79fmoh9sWx+ptIs02kE+RqqKeZVvtK2dA6fnBr7tJyqIuI8h4y+It8/dLestSPmVsnWg9HUr5+Hl3MgAAEIQAACEIAABCAAAQhAAAIQ8E8AU6xkALnNjz2yWc2zZVmydNMD8tybrn3fe0g2XVSchH39vfKc5/mu4wPYjykWLM/vv71ftuac+j11/VZ54pgr/UP3ypW67m/fI1MB1N9CBikT7ftvwDgTAhCAAAQgAAEIQAACEIAABCDglwCmWD3T49C9clmXY5xY1pmyVA0tXH6mE0GmVmq86GZ5tGZiepe5Ui9dH9sxxULgeuiBkvnlVb9L+x+Q/T7qaiEDzGs/ppjf5ovzIAABCEAAAhCAAAQgAAEIQAAC/glgijUyPo7tlx13XilrS2bYmbJ03ZXyudH98mKj8wLehykWgimm6ujNZ2WXV/2OhT9vmtscwxTz34BxJgQgAAEIQAACEIAABCAAAQhAwC8BTLGADSy32RHU+86ZYiGZUQswN7G8fh9gzoMABCAAAQhAAAIQgAAEIAABCEDAHwFMsQUMmqCMrXbSMdEkaodX0s4lUsxf48VZEIAABCAAAQhAAAIQgAAEIACBdghgimGKSdxMJBNNwHYeYs6FAAQgAAEIQAACEIAABCAAAQhAoHUCmGKYYphiHb4HiBRrveHiDAhAAAIQgAAEIAABCEAAAhCAQLsEMMU6bIg0E6VlYuRUM1zScgymWLvNGOdDAAIQgAAEIAABCEAAAhCAAARaJ4AphilGpFiH7wFMsdYbLs6AAAQgAAEIQAACEIAABCAAAQi0SwBTrMOGSDPRTkSKdWYVzGbqJohjMMXabcY4HwIQgAAEIAABCEAAAhCAAAQg0DoBTDFMMSLFOnwPYIq13nBxBgQgAAEIQAACEIAABCAAAQhAoF0CmGIdNkSaiTQiUoxIsXYfdM6HAAQgAAEIQAACEIAABCAAAQhAoJIAphimGJFiHb4HiBSrbJT4BAEIQAACEIAABCAAAQhAAAIQiIIApliHDREixWqjwEyMjIviYecaEIAABCAAAQhAAAIQgAAEIAABCJQJYIphihEp1uF7gEixcoPEOwhAAAIQgAAEIAABCEAAAhCAQFQEMMU6bIgQKUakGKZYVM0d14EABCAAAQhAAAIQgAAEIAABCJQJYIphihEp1uF7AFOs3CDxDgIQgAAEIAABCEAAAuknMCfTo4Oy/VAnSjorhfWWWFavFN7wcf0jw5K1lkn+4LznyXN7ByTjN23PFMPZaOcz0yeFE+GkH16qbdZfQBmbPViQ/DU5WZxR95IlVmax5K7Jy9jRudor2PdMtu49U3tCtFswxTpsiBApRqQYpli0jR5XgwAEIAABCEAAAhCAQCcJTN2VsY2E/MFO5KINU2V+SvLdlmQ2T4inJfbGmPRlLOnZOdOJgrV4zSKH9QVJQm7LhWuj/sqJtPFuXibvyklGGWGWJZklOcmtzUluiXNPW1ZGeu6Zqro/5mVy6zKxlg7J5HttXDqkUzHFMMWIFOvwPYApFlLrRrIQgAAEIAABCEAAAhCIIYHJrY6hkDRTbOqerFhWj4wc94I6J+PXZ8TKDMmEp2PmdU6Ht9kRTJb0js52OCPJufz8U4OOIZbpk5GqqLDZfUOStc0yj0jCd8ZlIGPJsq2TVYZZ58uOKdZhQ4RIMSLFMMU63xCSAwhAAAIQgAAEIAABCERFIJGm2Dtj0q8ig26rEyV2ZFiWWZb07EpS3NWcjF2jhv4NykQMI5iiuh+bv44yPh1Dt/8xj2GSIjKzs8cZTukRTTi1bVkDU7X5XAR9JKYYphiRYh2+BzDFgm7WSA8CEIAABCAAAQhAwAQCs6O99hdwO9JnblrGtvZLdpHzpT2zpEcG7p+Q2ZNVJN4oSK+KZllfkFmZk8n7B6SnOPSr7jlVSdR+nJPpx/LSv2ZxaVhZV3evDNw/LjNu70Bfuzj0zJ6LyaqNVFLzNQ1f31sqizrOM72KjMzJzL7tMrA+K13F9J1zqhnUH343f2RYeuw5orIysLfS3HIMjWUyfKTiosUPRXPJ6pexd9z7Z6SwwRlWl9kwJjXxWO9NytBSVV8Z6RutvJ47lYXeT92jzBZLMlsn6x46udXJR7WZM39gyK6zIM285utPDStU0XeWWN15maqJsJspzv9mSbYUYVW//mR2Qra775viPF+FgzXk63JqvGNKtq9V84g1mI/uYN4pj/18VaV2fER6GhmrVYdH9RFTrMOGCJFiRIphikXV3HEdCEAAAhCAAAQgAIE0ESiZYlvy0m+bYRlZvCYnOZc5lVmzXabchdbG1Pq8DF/T5Zgp9rxIZTNJGRTNz31UNn4sq0uyan4l2zhwzDmre1AmtFE0Oy6Da3Mls6ur2zl2cK82LVwmiW2EFedr6nbyqc2T2rzNyFixLI6Bps6rV546psqJgj0fmGXVGmIyPyFDyixbOlzJUnMtmh3W9ePi9gDt3cV5xpTxNbDXvXdeJrcUzSwvw0yn3czr8RHJKWMpkxdvW2xS8rbZNyDj7iyotOcnZFCdW69szVy/dIyP+ivO06bqLXtPxZ0qM7sd07fSMPOuv/mD+eLQRdc8X6X7JiM9u6ZLuRTRaRTv0aKJat9fHu9bGV6qhlfa6XiZYjIjI2vVNavNU1fWOvAWUwxTjEixDt8DmGIdaPm4pIsAqx+5YHTkLasfBYl9RkYu1r/+e6Qb89WPPHLMpo4QoF3sCPZYX1R/gWwQHRFF/ouRUKUJrRdlpff67TKh/ZSKPEzJcLc7uqRiZ2o+aFNMfQnPbBiRabfhUTJ5rEozRpti9pf/rAztcwGcm5YRHdnkZfB4kNORRpkNBZlxR6WdLJtly7ZVmh31hk/qtKylgzLuypZ92RNjMmBHVVnS90jlTmeuLxVtNFR5nisP5WGPHvdziVWX9D9SG7GljY56kVgzO3O2EVLPPJl9pK84D1V5mGJ5bqryNg+8TW4q9v9WRrzmadNcywzcyc4VhwTWi4JzH9v4vb5Oq/U3f0gbWq752rTRWDOHm0f9KbNJ6R8rK/nn3Q+ByNzzOm23EaXTCNoU0xGD9YfR6qi+SoO0Mdew92KKddgQIVKMSDFMsbCbOdJvRIDVjxrRiWpfUZiw+lGbwGdk/IbiEATPXydV8vFe/ahNAJweEAHaxYBApioZ/QWyg6bYOxMy1F38AquGRLmijaxMjwwfqRl3JSpyZJm1TIaer92Xluopm2LuL/zl0mmzJnOXy5RymWKeqyS+NyGDdlRRrs6E8uX01Tudh97dtWaSqAimRVnJfapyhcN6ptjkNmcVv+ohfvqKujyWe5igjnSqMU+KZ6m5wFQe1o+IEytUdT+fUPvVvVV/CKNuF6vNOOcKszK2wTk/f0jntPpVHeMMX1y2ZVLmi5OuWwHen7oeao2veZm4TV07I0MHvJ8FzTXX5qqZvurPRjUvU3eVNczMScfUVmZv7X1VVX/2+ZOSt03eIY9IuXmZ2OxEUA6HvNrpzGit+Vl9J2iD1fKYc6z62Kg+J9YUU0YC/zBIyz0Q1QPPdSBQTaCeKKs+LpzPXp16c1di9aPmOBlz1NyUDK9zxHb9kP0ijRivfmRMfcW8oLSLMa8gI7NXNhSyt024hqfNyfTO4pdQz/mI5pzVAJfmZdLbC0g8TW2EWHWG36kIJbtfcJtIJVPMYyhdkYief6rWkKhFpiK+7Wt0D8jIwRmZd0eL1R5ub/HbzpTK6y7P80MNhqt5ZcClv45OSt42W+sbYuWhdhnxNr20IdMnY5UBbJUXLw2jzEpujdNnl+fJqjzU16fiQgA1q1/qoZ91h1aKiGbYZHSgr/y5DNQKU1MnVhpGmZHcGscgs6MP9f7Sq6v+3tAbp2S4ODdbz13jMv1O9A/8zN6B4vDNrOQPNrj+ieKcfoEMV9Xlb+81kaZYe0Xm7IUI/J/L/07c/wsdz34IQCC5BPyKsmBK7NWpN5Eyqx81AcmQQ07OydTooOTsX/QtyWSKxljdSDGHS1xXPzKk1mJfTNrF2FeReRksrurnPeeREwWiTBnP6CK9ImCbETBxhe5pErkzqyf9dptI2hRbOyIesV322Qum677G/JQMF00e2xxT84qtH5Dh0Ym65kSz7cz83JzMvjopE4+NyJB7AnVXeVrKq1O64uTtGckU+0+V7+r5rMpF1KZXnUhJzdOqN59XOaXSMEoV1dTSvG3lNOq/00P3KiPCdGRS9RDWinQO5Z3hnZdWRvRVHOPjQzP15062PIxSzY/WJ4UT7r36vbd+nn2sv7TAgqrPzJKc9G8ekbEjzRm1OvXWX+dlepe+dlaGnqocvlmT3uyY9NWNaqs5OpINmGKRYE7WRdyGmHrPHwQgsDABLUhY/UixYvWjenNuKDr61+fqLy96HgpWP1r4edNH6OdOTWzcu23SnjfD/kKygCmmhrPEcfUjXa60vOr6oV1UNUq76KddbOlZmJ2UwrYB6S1NLG2JVZxza/y4+0uaayJsz+iqFld7q57nq2iIbN8344roaqkkNQfrOXjqDu1qGOVSnGsoMyQTDYI3ai6akA26nfGMvFFlaGSKNegrFky3ms/JWZlwrWLpmGPOcNeuiwdlrMrcaGSKzR39/9l7H+A4ijPvf+qt36/qrq7uT8WObwtyVxGhiig4xo7KZ+tUJf+ydc4FOU6IjA1WILERMbEVjEGIe4nsHCibXDB6CX98Vg5k3cGb9QsY8d7JCBBGxoawsuN4nWAjTHyRARPk4JAlmGQDNjy/6pnp2Zndmd2Z2fnTM/NVlWpmZ7p7up/ufqb7M08/PUyZ1Ton+TJAUJYnNpyvfvzxBIopaXZs6pXfiZLV8kvyDoqRBtCYDziT3SjL5erwN7faKy2hZNaSrJw1/IVp+aoN9mplyWn9GdIr5iij+o0zOtfXhzKHYiyE5bNTjdRxd16nk3gaTDa1/618xbF32/imtOovLl3hz0yf69J5jfZUChjYGaBYYKKOzoMAxaJTV8ipOBLgg6d27H6E3Y/Y4MLSRB+7H3m5+9H0o93G7e755KfKREfRGmLufiSORvMmJ9CLXI7YFc71rnBchDWO+l3XGAhj/rYMO+8x59P65TzaMqVK6xgnu72R5pxcAXDyc3W7Hjb36Jc6so8itSef2gRVgx7cX5NEvc9ZCKLGhJ77Syr/GGORWqQucz3jCopVsQqqmW4VKRVPTVLu0UHq1oOtMijJ20K5U/hSW2Y+oDqpe/MWyj4+TrmXpqlQLPkv05fXeV45EElRh+oHTXPUf7GZ9VwNiFGj/ZVEVVoGrLTzVMWGAaWwLs+0pZIqBC6MUhcbl1WxCpSfZLsM1fPlpv5KKer8iqmgqvl7eapk2bz+LCz3WIJnijR1aFT+UNA2u+ReovThladhTyeZQrHTOtcV53daWLWVSlc6q9GeSgEDOwMUC0zU0XkQoFh06go5FUcC2oAEux+pfjWw+1H5QJe1Vm4NVvqCqW/DBXtfM/VRLM75cxK3+5FtKEbELS9E2v3Iojojexl6Uak6bbKJXeFc7Apno/nzSbA0j7pHyhwanZmi4bXzlPdSmVVKaZmS293eSs67OVjQcqvBMqN1CgchGviqZqGhQTHuK8iYlvYs+aTGJJMvv/TZX5IxT8H80vSMJq+y5/L3gv6+BkC6La3nuFW3uWP5smdU+1kYp17V8kc/LuBtQX+NiNe1tX8vDdrqysOXB0qWH4TYh6AGal7MwQUHIjqoogPFlX7UarQvTZ7Vray0pZML+ykv7watLBEc1vxiVROk3Xu8X0rU/VSRuOVYCQZZpOPJ8kl39cdzpOmkVBeNHh6lLnlpazNlDpRjMZP644lYHKeG2h36nbNIiF8ucF90EqWW9lNeb4zLw1gdsXzSSjK4LpIEAMVEqg3kJSoS0AZlEnY/sjS/x+5H2P3I792P+OTHcmJQ0ijaJEKg3Y9KuYvHGfQiI+Hj1C2DDx140Vcv9GJNvagXl+n5RD+lmXXW6mHd0iBdSLb7n1wH5RN2nVUG2/3X8W5vuolp2dI49nRmndWwME2d2628VunyWPW0BpCQ49YIo7VDawhUNQsC39T0jA4SGbLL3wv6+xrEScngxBCe/dB2n7Tot4YI0zR6Pdsxspn6DxluqD94O5EMUNgUimn50sEqQ5LqUljWnvXl4dZQVssfVZcBJZ90PE/G5xSf66V5LO0KX1Y8vLEMpazVaH8soM7JvgJ5Sv3P82WUE4p/sFTfOI32MEsoYzlL+S6daWOCesCx2/pj2dCgZMl6rgQRM5Q3cDFeH7pyHdiiWMda6UHeD2yMj0pSsTg7XQJiDauZ7rQIZ3WZ62Q42reSEK6LIAFAMRFqAXmImgS0QVnZl2heDux+xCWhP+pe6tj9SBFMVb8wetnVd661V/2gmiepG5hFbvcjJ4M+AXc/4lUQl6PWzqAXydqCo7y2oRfLJVL3b22iWg7FjBNR5/qOW/dK1HztIOWOG2atdWe7lIAN4FDL5xNNUfbLDA5UszYrPTFKZ5qeMXufsYLw94L+vtYmFAA0eFhn5lKYpMErleVm8/pyJkvXKqUzNdSmWslnaPyU8X7huYyyIx+z/tHd41DMaJXFXSxI1L510vjsU3nKXqvsSChbGurLQ8z6Wb1XbpGq2525tAROp2cMVlqlTRvKQVX+e4pMzC3n+BJfq90pS8smDcsBT+dUK7oSCDJKz+0v1WJrbjM1M2srK1CkS54vMbb026cLa33qtv6sAKHOv6FhGaVJ/WkWs8qSWIM2OjNFWbVNW2+mYF0q4x19Xt1tSqABSIE+SmL5pLGW8YvIsPMkA2T4gwQggdoSqGtQVsXPQc109VnD7kfUbmoNoBeScq59fWPhsftRhYA0E37TL8Y8uMmgjG03HtruR7rJj50voQKa73PJxuVYU39Vm6xCL2JXOLcd4XSBCtOTlNs9TIOb9I73TaAY42IHVGjhQt8VD/Rru9/KoEJ27N9P2d2Tsv8nt0UwxvMCinFoUcUvmfGhkflVl56R2qlDhQXMqk/vhy515SBNni4XA6+LMoupYp62LC35bVLSYtZj/FozdY0YLQa1fLONGRanqVP17TW1vUNxWs7aI/ePxzePSKWp93vdijVXxccGve9C5o/MWJ7ma0d1O22av7/l0p7iy/ZSpHcvoLllsAAZHAyaQSWtTHN7KVcmUwZIUiZ9T5OPnfd5eTXJkFBdNm21K6shDgfc5dDYor4NcY0/tLI6qL+SH7L2Sr9c3MrP4BfRvP6mH+9SAKwsz8YK34ryMscy+Rtzb+OXHiiz51T7t6g7Ed1XAIrZqPukBYGlWNJqHOX1QgLay7vsy52WdrXJn8VLg8Wtma72APUEux+RZGNLcOx+pA7Urdpr5HY/Uts/72dV+lSpy/DBrm75QekmzjyQQE39xetL3w75gLtKHdZMtzzv0IvR1ovl9Wn2W90Bsvn8ykla6vwGFTKYQzGqU9/R9DhtWdtGjbL/H/3zG6itZ9iwtIhbB1WdSPJJptYv+MYgaRo8ZlZ4do3rsw4aLnOrxmPwZ5eshfidaB9r6oNqeoaNF5h+2NxJvO00LOykzKOT5ktxNTmXQTEmwjPTlNueoc7Ful0j1d1Px03rZIpGe3TtRgebpndvoa6ljRoca1jYXtpURlsKa+auQ93lVourOOvvr9gJ1Ryq8JagfTjUW7dxSySrjYQ4vCnX3Zp/PYulqqS3TitZHmn1Wp4ez2StI1+iJ3XRqM4Q0DQaX35asZyP9yuT+jZNSLnoqP50SxHb7jWCU/6IqXtLlogKVLSuv8KxUdqytl0HZJU2YN2m+VPsHbmPNls6zLTuuN81G/ViL0uehAIU80SM8UoEUCxe9YnSBCMB7eWtDWLLnlttUIbdj7D7EW8uHAjYAXs8jsmx9NXR/u5VpWRKpvF80GNY7qAFtB6UaUGC2P1Ie5hDSzFtcgMophehl+fQiy4+bBDvV9gVznZb1E0qU7PT1NnTT1u2j9L4xCRNs+36qupVD/UdFanwUo6Gh7qpk1v2sM13bh7XlsFxMMV1a9WjNp6wYeVVtYyKJPmz4wbFbLcTfUAb8tIHx7kigfxmZn2Vot7dhsV5qngKNLyaQWE7ftjsSVReZmcKVmzEV6GYvv9ZxSo82ilbPJk741egtHFDBKuUcL2mBNRNP+zUS820PAwAKOahMOOSFKBYXGoS5QhSAnVN/iRrx7fY/Uhfi/yLnQXEsDnI1b6AYvcjo6NeVdTaUqIo7H6kbx7snMNnO4NoLJ8sl57nv6EXiTTfKZZtErvCmU9E7TdHvhQndWXJysQQm/sPNPnY4Ke+K+xWnZabPNeQPxs/eBnNlqax6Fo7s3QSbgOs2chHbILYHC/EprxeFYRtDMJAr1U7U4FH/X6rWKNW/GA13z3pKvcc4NWGWermBale051IC7sz1MzGQ7WszVzlMmmR+M6g3oFTryQIKOaVJGOUDqBYjCoTRQlMAvVN/ixMyrH7UZlvBW5BYWXGXgOasdaA3Y/Ynmg0eLG6xEezRFC7is7JPnemW4KIgu1+ZNa7nUAxvrSiYrmEWcK45kYC0ItExJflWFlP8CVHWjvkes4I/5O8K1z1tsflJZGVBZS29KgcTtWr76ZHqXtxmhrZBxazTHoJXlTYUNo9UP/A0vKzzketZu58CWa5zyR9Ogk697JuEiQ2VlTFob8V1CjQ6NoUSRaAyYmoik/1Utv1xuXHNeOruyAWDg9SB1vOfPGgzo+aRWy1b5nrjykaXN5OWw5Y9SuLNHHZXAIqVLW7gYV5Iv5cBRTzR66RThVQLNLVh8yHJIH6Jn/Y/SiL3Y/klovdj+rswA6gmGZZofPjUufTEb1MAtCLikCwK5y+YTjfFU4f2+ycW1RLy7cYHaOfKVB+u87xtAGKlZZNGnfZc7Dbm+4DQ3PfOBXUCbmSxwLl+pTdAC2taswKY3lNt3vfzaM0rT2rQJP3qo7Z52YoZ7aqjaWp+aGytky3fHQcbwCKua9VFSanrN6d6sdHK/9Y7h9cK2YJkCvLkpspM2HVIXhaahw78IxHwdGlBIqU65tHUqqbxut19u8yB9WiAYpVk05C7wGKJbTiUey6JFDf5A+7HxmhGBFh9yNde+QWcFYWcrqg6mnsdz+qLLJyxQEU48uR9LtrWSWL6+4kAL3I5YZd4bgk2JH3PTZxrbRsKk1szS039Cmp55ojb2YBq+zkV9pFMEXpTRnqnsvulZzQl/wu1rfbW/HQFmrTHOzzZ6dLTvcXdtHocZM8u7l0fJS6FqpWvillZznuHF5KtVH/oSoAgFuaWS17c5OfKMcBFKur9pRlx82UOWDe5mQL81QHDRs+eNb1SFuR85uVzQlSszso85S503p9QuzjWCrVUbYqQR8C555JQLaKtgMqPXuio4QAxRyJKxmBAcWSUc8opbcSqG/yh92PKqAY23nzYfXrN3Y/ooy6G1lt3xildh3n3Y9KpSw7sw3FxNz9qKw0kf8JvaivQuwKp0mDL1023RXOBRRjCZfvAKnu+jd6jC17YssLFZgkQzidY34raxZtyeXCDNXa7Y2mc5Tt66S0zrm+slvguM6iSyt9fSfqLpvp2eoOwlV3Nyw9ioNIfAQoyQRnkAAkAAlwCQCKcUngqEkAUEwTBU4gAX8lgC+VruTLnadi9yNX4kMkJgHVakK03Y9QOczvX5baZQicoRwEYlsC8dKLCsSybSlmW0pJDah+BPDAz1NSJYhyQwKQQLwlACgW7/p1VTpAMVdiQyRIwLkEMPlzLjMWA7sfuZMbYqkSEHf3I1QRoJjrNhAjvVg8lqWOVDNtOexaGoiok0Bxdy+lJInq3eVTlyROIQFIABKIlQQAxWJVnd4UBlDMGzkiFUigpgQAxWqKyCoAdj+ykgyu15SAwLsf1cx7EgJAL7qu5XjoRQat26j70dr+gFwLKlERCzS8WiKpmhP+RMkDhYUEIAFIoFICgGKVMkn8FUCxxDcBCCAoCWDy517S2P3IvewSHVPs3Y8SXTW88NCLXBLOj7HSi86LjxiVEmAbCsyTUtT9lLlD9MoYuAIJQAKQQPIkACiWvDqvWWJAsZoiQgBIwBsJYPJXlxyx+1Fd4ktmZMF3P0pmpZSVGnqxTCDOfsZFLzorNUKbS2CKBi+WqLkvR0Bi5hLCVUgAEoAEmAQAxdAOKiQAKFYhElyABCABSAASgAQgAUgAEoAEIAFIABKABCCBmEkAUCxmFepFcQDFvJAi0oAEIAFIABKABCABSAASgAQgAUgAEoAEIAGRJQAoJnLthJQ3QLGQBI/HQgKQACQACUACkAAkAAlAApAAJAAJQAKQQGASABQLTNTReRCgWHTqCjmFBCABSAASgAQgAUgAEoAEIAFIABKABCABdxIAFHMnt1jHAhSLdfWicJAAJAAJQAKQACQACUACkAAkAAlAApAAJABH+2gDZhIAFDOTCq5BApAAJAAJQAKQACQACUACkAAkAAlAApBAnCQAS7E41aZHZQEU80iQSAYSgAQgAUgAEoAEIAFIABKABCABSAASgASElQCgmLBVg4xBApAAJAAJQAKQACQACUACkAAkAAlAApAAJAAJ+CUBQDG/JIt0IQFIABKABCABSAASgAQgAUgAEoAEIAFIABKABISVAKCYsFWDjEECkAAkAAlAApAAJAAJQAKQACQACUACkAAkAAn4JQFAMb8ki3QhAUgAEoAEIAFIABKABCABSEhqC7YAACAASURBVAASgAQgAUgAEoAEhJUAoJiwVYOMQQKQACQACUACkAAkAAlAApAAJAAJQAKQACQACfglAUAxvyTreboFmtzeTVsOeJ6wjQSnKbtcIklqp+wJG8HLgxzqp2ZpHmUmiuV35N+FkS5KuU3bNEV/Lsr5THVQ9rh5+rXum8fCVUgAEoAEIAFIABKABCABSAASgAQgAUgAEghDAoBiYUjdxTPz30uRJEmUmXARue4odUCxYp4yCyVK9YyTKRI7MUwdKYna7p2qO5f+J6DKYXmWzHNb677/OcQTIAFIABKABCABSAASgAQgAUgAEoAEIAFIwJ4EAMXsySn0ULk+ZqkVPSiWv6OZJKmNBo+ZibBAo2tTJKV6adyUmJnFCfmabPUmUfv2afOM1LpvHgtXIQFIABKABCABSAASgAQgAUgAEoAEIAFIIGAJAIoFLHC3j4skFDs1TJ2SRKmbLazEDvXTPEmitiFzuyu3svI3XoGGV0skpbpp/LTZk2rdN4uDa5AAJAAJQAKQACQACUACkAAkAAlAApAAJBC0BCIPxaa3t8sWVLLlTmGShvs6qfl8xaoqNbuNuu4ep+kzZWI9kaV2SSJpeZamqUC5u7uobbayPNEyTlkS2k+eVjVrJxX+SBcP6pbdFWjy0Qx1fraRUiwvkkQNC9up6+5RmipoqRPx9NUwLBz7L7dUmp7IUv/adq3slunpkiYq0NTjW6hreTM1GPJQLjPr5ZPFQ/3UlmJ5aqauESPcym+eR5I0j/oPGR6q/lDhkdRJw6f096coe6VaF1cOU4U91ukc9c5lz0tRx3bj8/Sp1DrP38HyJlGqL2cZNNen5KPzUX2FEBV398p1ZgXzat23fCBuRE4Cv564jl66T0rM/9Ft/29iysrqNWnlZWV+6/AdkeuHyLBYEji67f9JlJ54afB/oLwxfw9++MH7YnUy5CbSEph+9upE6YwfDX+O+nauSdT/wVefjXQbTWLm4wPFNmWoU4ZhKWr8bJrSOtiU+uwWyutrl4Om5RnqX92gwJHZaUovLsEhaWGGcqaWQPqE2DmHOynq3W2+BlCBQ3qQVQI/ktRAzYvZs9PUKMMliaSF3TTOQdH0KHUvTmuwq2GhErZ7hOOiIuX62BJFDtaU++mFSrnk66ZlmaJhtewKQKtWfgsodjwr+wMzA2JUHKdeVp65/UbZc/EdG6Q2lue1o2RETkSk+hlj4KtrRH+3SLlNKswyA2Y8bTvHY4OUZs9PZcgci+UoI9dHF43qs8DSLo5TN4trVbZa9+3kD2EiIQEGxd56/gaiN36aiP/jOy5EeWNc178e/wqgWCQ0j9iZZFDsw1/tS4ROZLqfQTGUN77vQLk9A4qJrXQiljsGxQr7ehOjIx968mp67PCD9OLJI4n4z+6/hwDFItYpiSg2UEy2+rlykCb1AEODNpIRrnAoJoOkZup9nAMmxrgmaZBbKpkBG5M6LjzaqYA102WCeeqXLZtKFlHckih1ZZam9FZsZ0qwbN5mA8Yjq+WTPC1pbjeN6oohZ/P4MHXJz5ao42HjTcXXFwNwvcZ4ujyUlj2aQDFNtg3U+XClxVbxqe6qllhT96bl++UWb1y80w93KBZ0umWKLE3Zqk53jYd3fpyiwYsVizOzzQu4XEsy0D+hQKNrWVxrK7jq9/Vp4TzKEgAUi+9EiE12kwYBAcWirI3EyTugWLz1YtIgIKCYOLolLjkBFIs3HAMUi2ZPjREUK0EnfVVw+JL6ng4y6aCY6a6Hp8epW7YSSls4iNc/QWc5ZLaEciKjgJzVw5pFlLbk84FKmETMgun8Zkp/3bjDoRUUy21OU3p2isqX+PEc8vJL+mWC3JLJygE+8wXG8rB8kCblhMqg2HF2XwFKVksY+W6Z5TBOydc0DV+pAqkDPKflRxZGWb44b1OOiqdGqUuuk3nU+5y5RV55CrV+83qoBF9FGr+ZPdva+o/LNW2xa2at+7XyhvvRkACgWLwnf4Bi0eiHyKVYEgAUi7deBBQTq78hN9GTAKAYoFj0Wm38cxwfKGaxnI5ZHMlLCPVQSINiJkvj1Drn/qTazcBVRbvgEEWi7qeMwIano18GWBjpUvK0sIsGJ6aoqLcWq0hbuWAFxSyCa5c5+DFAsed6lefLPtW0oFVOdFDscI4yC6sDMSIePkUZU+iVo4xspddBw0YDNmMetGWUzZT+rALImvtyZJSwMYqjX+pGABW7X/Kln5ZLK4mIy9DKmrDWfUcZRWBRJQAoFu/JH6CYqD0P+RJZAoBi8daLgGIi9z7kLQoSABQDFItCO01aHuMDxfTQS1+LExlrKLZY7/heH4nIFCYZgxh+8eV2Uo9up0UOV6RuGteTnGKe+lXIIwM75ldseRf1bx+nyVP6gKVH2IVixUKBpl/K0fijg9Srd7yvk4/TsukhV0q21mJQTKLmO3TWd6WsEhGHXu2UPWG4ofzQoKSVP69SHG0ZJYNopr7RSmGdn5n7g+NLP8uXsBrSP6BaAH7ZaNGnhal1XwuIkyhLAFAs3pM/QLEo907kPSwJAIrFWy8CioXVs/DcuEgAUAxQLC5tOU7lSDYUq2Ip5Rwccd9hJQDGQVnl8jwiOjNN47pdLxU4psCmhou7afi4sZlVg2KFw8OUWa3bJEC2wlKsuRrOVyys9JZizsvGLb9UC7FNvYqTfKvllx5CMf3umykLa0CjpJz94lZ7pToq1PAXpqZfC+zVuu8smwgtqAQAxeI9+QMUE7TjIVtCSwBQLN56EVBM6O6HzEVAAoBigGIRaKaJy2KyoZiVlQ85txRjLYfvMqksoeRLKlNk5shd39KKpyYp9+ggdevBVpl/MisoVpzIULMMwdium53UvXkLZR8fp9xL01QompfDPRRLUYe6nFRz1H+xmbWdV5ZiJb9iCjRMVWwYoJejq3NuzcflXRilLibPKlaE8nNqQa9a911lFpFEkwCgWLwnf4BiovU45CcKEgAUi7deBBSLQi9EHkWWAKAYoJjI7TOpeUs2FCtf1qhrBdwXmLmjeF1A/emhfprHgApbQslhy9x+slpkqI+qnRfGqVfdMVIP08yhGLdOS5GVw/upB9orlo/y5YGSpaXcFA0ubqDmxZ2UlS3WuKWYbjlkMa/6FpOo0u+aN1BMWzq5sJ/yh/oV+JfqoGGzJZmaAJ2ecHip+IPjlmNtQyabIOiTrrU8stZ9fVo4j6wEAMXiPfkDFIts10TGQ5QAoFi89SKgWIidC4+OhQQAxQDFYtGQY1aIhEOxVIVjfLl+td0n2+ztPqk1iikavJgtMeym4ZFeedfJSr9U0zR6Pdsxspn6D2kRdSccQEkGCzNTKKZZI+lglS4lIp4fifTLJ4lbQ1ktfzw2qCyP1IAez5PxOcXnehUImOpQ4Rl/OA9vLAO/W9PnGAuoc7KfOcD8rBUp/71mGfB5voxS3SE01TdOoz2s/ozlLOW7dKaBRQtH+7Xul1LCWZQlACgW78kfoFiUeyfyHpYEAMXirRcBxcLqWXhuXCQAKAYoFpe2HKdyJByKSSSlOmjwcKFUp4VJGrxS8cM1z8VOh1NDbSRJKVJ8ec0zBV9KGMVx/Pip0qPZWeE5dTlkqotGdfc4FDNaZeUoozq+b986adyV8VSestcqEEleeqhztM+eoy1/XNhLo/odIAt56l+qlL99O7/BIVc5LCrSeI8SthxU5b+nXDe3tGPLIhX/ZOa7U5aWTTZ/L18q1+mcakXn9TJK1eJubjM1M3muHiZdizBWkPpr6t60DOjS95pblNW6b5ooLkZOAoBi8Z78AYpFrksiwwJIAFAs3noRUEyAToYsRFoCgGKAYpFuwDHNfMKhWDt1qACsYWGa0otLzupTVw7S5OnyWufLAq0soJiFU5bauaN7U39bzOgpT1tU8MSAlfJsZj2mgCRJaqauESNs0fyAsZ0qF6epU/XtNbW9Q7ZIk8HX+c2UXpym9MIGZclkKk293+tWrLkqnNRP0fBqNZzE/JEZy9987SiVcmAFxYjo1Ch1yWAuRV0jJZTENxkw7MapEycHg2ZQSSvT3F7KldUBs8BKMfmWWadp8rFcEqp7uMlp/o55iswkiTofLZXDJChDlzWc8de6b54qrkZPAoBi8Z78AYpFr08ix+FLAFAs3noRUCz8PoYcRFsCgGKAYtFuwfHMfcKhWIZybBfIzZ3UfD6zXGKAqpMyj05aWArZgGJUoOHVSlpV/VKdmabc9gx16kCcdH4zta/dQuPcQMvQ5qZotKeNGlXLMD1smt69hbqWNmpwrGFhO3XdPUpTjO0Ux6lbhnSdNKyzPFOSLtDU4/q4irP+/senyspfBYqxTQkeVsGc3rqN+1RLZShnKIf6gy/RLIdYx7PUoUI2ZcOC8sh667SsBu7qhWJ0bJDSspy6aLQmE1Od8WvLS8vyyJenWt0vC46f0ZUAoFi8J3+AYtHtm8h5eBIAFIu3XgQUC69v4cnxkACgGKBYPFpyvEoReSjmqjo0ay4LYOMqUUQql4CyG2eKenczn2DlfxweOvXbVp5O6bfsx6scspVuVz9ToVjq5vHSck2LGIVHO2WAagU9a923SBaXIygBQLF4T/4AxSLYKZHl0CUAKBZvvQgoFnoXQwYiLgFAMUCxiDfhWGYfUCyW1SpIoU4NU6ckUcrCGT2pu3U23+Fof07zwhWnKHtliprvnjS/X+MqB3j6HT/No6ibF6R6adyM9fHNDSzvm6eKq9GUAKBYvCd/gGLR7JfIdbgSABSLt14EFAu3f+Hp0ZcAoBigWPRbcfxKACgWvzoVqkSKQ38razDmeytFkgcAqfhUL7VdP0xTZxwUXw1bODyoLNm08gGnT1IFeaVNCPQ3iTjos7xfFhw/oy0BQLF4T/4AxaLdP5H7cCQAKBZvvQgoFk6/wlPjIwFAMUCx+LTm+JQEUCw+dSlmSYp5yiyUKNVjsSzxxLAMpNosdnH0r1DcT5ri/41tbpCZMDX90mVBjWMJz2rd1yWF01hIAFAs3pM/QLFYdFMUImAJAIrFWy8CigXcofC42EkAUAxQLHaNOgYFAhSLQSWKXoTigQw1M+h0wBw6yY76Ux00fCLYkuQ3K5sTpGZ3UOap0l6bVrmQd74s2/VSH7bWfX1YnMdDAoBi8Z78AYrFo5+iFMFKAFAs3noRUCzY/oSnxU8CgGKAYvFr1dEvUTKhWPTrzdcSPHnpJaT/9/VhSBwSiLAEAMXiPfkDFItw56yS9XeO1/4IUiU6btWQAKBYvPUioFiNDoDbkEANCQCKAYrVaCK4HYIEAMVCELroj9QDMXaOP0gAEjCXAKBYvCd/gGLm7T7KV19/Zpx+8s8bo1wE4fMOKBZvvQgoJnwXRAYFlwCgGKCY4E00kdkDFEtktVcvNKBYdfngLiTAJQAoFu/JH6AYb+nxOe5d+3XZEvqtI4fjUyjBSgIoFm+9CCgmWIdDdiInAUAxQLHINdoEZBhQLAGV7LSIgGJOJYbwSZUAoFi8J3+AYvHq2cxKjL/fYC3mX90CisVbLwKK+dd3kHIyJAAoBiiWjJYerVICikWrvgLJLZ808GMgD8VDIIEISiA4KPYMTW5bR50tDZSS2I6p51Dz0hW0ZccY0RvBTcDCgkTFB6+Qy53ZGVxZmVwDK+/RERrNrKD2pnNIkutXooamNHVlBmj6teDK/Ovxr9Bbh++IYE+0l2VuJcbfbbAWsyc3p6GCg2Ji6MWwIFFYejGw8gqiF+X2/MH7TrsBwkMClhIIDoqJoSMfevJqeuzwg/TiSb9h2ATtHFpPy1rOo5nyWOpcmrt0JW0c3hPAs0tly+6/hw6++qxl/eOGmBIAFBOzXkLNFZ8w8GOomcHDIQGBJRAMFHuGxq+do8KSGdTYMp/SGjyZQW23ZKkYEBgLDBLpylPctYHaZjEQKFEsodj+zdT5caV8MuxsnU/p1jnUoMIxqWkFje4PBozFGYrprcT4uw3WYv4o12CgmDh6MTBIJIheDKS8AulFQDF/9ESSUw0GiomjI4OBYhM0tP4idaw8k85rWUALms7VfrfeuoPyvkM5BYwBikWzdwOKRbPefM01nzDwo68PQ+KQQIQlEAQUm/63zyvWYU1X0fiREhwp7N5EHTIsmkOZJ3KBWIwFDcWmtq2gZg6HYgnFRmgwrQCx5mvvMlqFHd1Bg5fOUAZ0SzM0rZsQ+2UdGGcoVm4lxt9vsBbzXgEHAcVE0ouBQCJd/w9bL/pfXrH0IqCY9zoi6SkGAcVE0pFBQLG99y1RrMOa1tDQZMlqa9+ePloij5UvovVjBwOxGAMUi2YPBxSLZr35mms+WeBHXx+GxCGBCEvAfyiWpf4LGTS5gPp3lYAYhyJ8+Yx02WYq6CZN/L7Xx6CgWPHgAPUv5UsJZ1AqrpZiuzbQPAb9LtxAebP6OzZA3XLZ59NgrrL+va7fuEIxMysx/n6DtZj3Cth/KCaWXvQfEil9XxS96Ht5BdOLgGLe64ikp+g/FBNLR/oPxXZQz2w2Vm6knqdLQIwv18w/tEoBZpffSfsCsBYDFItmDwcUi2a9+ZprPlngR18fhsQhgQhLwHcoxicHrZtoygyavDFEvbIl1QoaPeo/NAkGig1RRrUOS7VcQdlnd1B2qWJNFbflk9P3X6Eshe0ZsrD0Gwu07HGFYlZWYvwdB2sxb5Ww71BMML3oOySSdb84etHv8oqmFwHFvNUPSI3IdygmmI70HYo9fSM1snHjoj4aM4VeWbpGHleupIGXK6EZh2deHQHFotnLAcWiWW++5ppPFPjR14chcUggwhLwG4ox83fZ8fr1YkCTYKBYlvovWUfZnXwTgWDBkN76KpjyVoOZIzTYGhwQjCMUq2Ylxt9xsBbzVgn7DcVE04t+QyJFJ4mjF4Mprzh6EVDMW/2A1PyHYqLpSL+hGFs6KY+Vb8haLI/cQ5vVj6vrRwHF0AfNJQAoZi6XRF/lEwV+TLQwUHhIoIoE/IZi+VsukF/0827JWlgS/ZRyPQo0ad/KIVK1yUR998KBRAmGYvxr76yraPx4fXWnh31W53GEYrWsxPh7DtZiVRSdw1t+QzHR9GI4kCg8vRhOeXX6L2C9CCjmUAEgeE0J+G0pJpqO9BuKPXJrozxWbrx1hwUUO0LZm5Sx8uIB/3eihKVYzS4gZABAMSGrJdxM8UkCP4abGzwdEhBXAn5DMTvAy04YKwji9DqgmG5iZrqc1cP7x4Yo06QM4tpuH7GEok7rsFr4uEExO1Zi/D0HazHv9KzfUMyOzrMTplpfcHIvHEiUUCgWgl4EFPNONyAlRQJ+QzE7+s9OGCd6sFpYv6GYHeBlJwyWTya7hwKKJbv+TUvPJwn8aBoIFyEBSIAAxTyEQJaQKbzJXzgQ8KdEx7LUv1jZeTJ1acbCn5z3so8bFLNrJcbfdbAW80apA4p53zcrJ5zh6cVwIGB4ehFQzBu9gFRKEgAU83YJox3gZScMoFipjSbxDFAsibVeo8x8gsCPNYLjNiSQWAkAisV78hcKFDsyQL0tHIhtosljQchYeUacoJgTKzH+roO1mDeqHFAsiD6bMCgWol4EFPNGLyCVkgQAxQDFSq0BZ6JIAFBMlJoQKB98gsCPAmUNWYEEhJKA31Bs6vb5sp+EdJXlc9wEvuPf4FOs0pqivslp0FCs+Owm6vy4smSy4bIMTb1WX/6dyiNOUMyplRh/38FarH4V6zcUE00vhmM5lRwoFrZeBBSrXycgBaME/IZioulIv5dPjvUvkMfKC/rHavoUW3IffIoZWyN+cQkAinFJ4KhJgE8O+FG7gRNIABIwSMBvKCbaDkJBQyIF6oQ3+QuyvFP3r6BmecvwGZS+eYgKlstJ/QNlcYFiZlZiT3+1g3Z3fo34e40dc/90o+E3uwZrMYOKc/XDbygmml4EFPNPJ4mgFwHFXKkBRKoiAb+hmGg60m8oht0nqzQ23LItAUAx26JKTkD9pIGd4w8SgATMJeA3FCO+y1brJnO/UscHqFsGKSto9Kh/ExNucRQkJOLPpDfiD8Wm7v48peR6nENd24Jxql+Sb6ndxAWK6a3EGAw79tD/oTPvvkvPd19ngGDvvPIKMcuwn3y713Ad1mLm+s7uVb+hmGh6EVCspEPM9Irba6LoRUAxuz0f4exKwG8oJpqO9BuKvfj0jdTIxlCL+mjspMnSzFe30Sp5jLWSBl42uW8Wp45r2H3Sbk8QKxygmFj1IURuAMWEqAZkIgIS8B2KvZGl/gvZcroLqH9X5cSj+OAVCky5bHMglkWAYpV14HbCx+NNbVWB2Kz5lPnPZwLZZZI/u/wYByjGrcT0MIyrEjMoxu/p4RisxbhU3B19h2KC6UVAsXjrRUAxd3oAsawl4DsUE0xH+g7FTu6gntlsrNxIPU9XQq/8Q6toJoNil99J++qAXXYd8QOKWbd9ke8AiolcOyHlDVAsJMHjsZGTgP9Q7KfEzOBlK6Kmq2j0Z6XJR2H3JuqYpQCzzM5cIDAFUKwk/3Kg5Or3wc1qHc6hoOqwWj7jAMWev3GDZhlWrlCqQTEelsMxWItxiTg/+g/FxNKLgGLx1ouAYs51AGJUl4D/UEwsHek/FDtCbAmlDL6a1tDACyUwtm9PHy2Rx8qNtH70oKXPMbvAy044QLHq7V/Uu4BiotZMiPkCFAtR+Hh0pCQQBBSjN0Zo9Ko5shNRSZpBjS3zKd10jva77ZYsFQPyPwUo5u3kL9ej7DIpyWb9ioN9q/PMTm+fbQbHog7F2BJJ9m/1ZweK8bjV0uFhcDSXQBBQTCS9CCjmrW4STS8Cipn3c1x1L4EgoJhIOjIIKPbiyTEa6LxIHRvPpPNaFtCCpnO136237qB8AFZiDJoBirnvG2HGBBQLU/qCPhtQTNCKQbaEk0AwUIxNOJ6hyW3rqLOlQfU9dQ41L11BW3b4v+OkHp4Aink5+eNLY6vDMA7JAMXq7/5OoFj9T0tuCsFAMXH0IqBYvPVikqBYrQ8LydVq3pY8GCgmjo4MBoox67AJ2jm0npa1nKdYjUnn0tylK2njsP87TuotyADFvO0vQaUGKBaUpCP0HECxCFUWshqqBIKDYl5OOtynFQ4Uc59fPdBzc5608kbdUqyWMgAUqyUhb+4HB8XC0w16fRIOFAuv7Ekrb5KgGNuUhP3jz18JBAfFwtMTeh0ZHBQrLZvUQ6qgzwHF/O0/fqUOKOaXZCOcLqBYhCsPWQ9UAiJDscL+jfTSfRL+IYPYtIHpvavr6t+AYnWJz3Zk0aFY5rFvUN/ONYn5/87OaxJTVlavSSsvK/MHH5613T+tAjIrsae/9hX5H8vHraTkzXVAMTHglV+wDFDMm34SdCqAYkFLPALPAxSLQCUhi0JIQHQoNv3kJYE44Nd/EQzr/I0nvkC/erwN5Q3Iv1zQ9cwgL6CYEGqvZiaiAMUOT78QiMNlvyZdTtL9zmPXEMob30l45rG1nkAxZiHGx/+wFqup5uoKACgW3/7IdDOgWF3dI7TIgGKhiV7cB/OXIj+Km1PkDBIIVwKAYmKY5jNAAygmTl34AcwAxcLVdU6eDigm1oQPUEys+nACNO2E9QKKcSsxPu5nFmOwFnOi9ZyFjRIU+23uxthYm9tdPfGjJ5NjScytpg+++qyzRhzD0IBiMazUeovEX4r8WG96iA8JxFUCgGLigBhAMXHqAlAsrhrPXrkAxcSCMIBiYtWHHdDlJIwXUExvJcbH/rAWs6fv3ISKGhQ7uevyxFjhMwjIoNhjhx9MjDUxLNuUXgwo5kabxTwOfyHyY8yLi+JBAq4lACgmDogBFBOnLgDFXKuUWEQEFBMLwgCKiVUfToCXnbD1QrFyKzE+9oe1mH/qGFBM3PEKoJh/7V70lAHFRK8hH/L3zvEpeXcZK9No/kLkR7MssLj//fCDxNLCHySQVAkAiokzsAEUE6cuAMWSqhGVcgOKiQVhAMXEqg87oMtJmHqhmJmVGB//w1rMH10OKCbueAVQzJ82H4VUAcWiUEs+5PEn3+6Vd5hhYKscjvGXIT/qH89hGPuCxNLAHySQZAkAiokzsAEUE6cuAMWioxU//PBD+uCDD+jMmTN09uxZ+Vhv7gHFxIIwgGJi1YcT4GUnbD1QjI3p2Xiej/fLj7AWq1cbmscHFBN3vAIoZt5mk3AVUCwJtWxSxreOHNZeguylp4dj5S9FFl0Pw/h9lgb+IIEkSwBQTJyBDaCYOHUBKBYNrchAWHt7O7W2tsr/H/3oR0mS6h8WAoqJBWEAxcSqDzugy0mYeqBYNSsxPtaHtZj3+hxQTNzxCqCY9+09KinWP/qJSkmRzwoJMEsv/tJjRw7H9NfYOQNm5V+SYCVWIU5cSKAEAMXEGdgAiolTF4Bi0VCGu3btMsAwBsQYIKv3D1BMLAgDKCZWfTgBXnbCuoVitazE+FwA1mL1asTK+IBi4o5XAMUq26vTK1EF6YBiTms6RuH11mL85Wf3CCuxGDUEFMW1BADFxBnYAIqJUxeAYq5VSqAR2dJJtmTy3XfflS3EGBTbuHFj3XkAFBMLwgCKiVUfdkCXkzBuoZgdKzE+J4jqJLduZeZTAoBi4o5XAMXqa/R/ePPXssHN68+M15dQCLEBxUIQukiPLLcW4y/AakdYiYlUg8hLmBIAFBNnYAMoJk5dAIqFqZWcP/uBBx7QoBizHqv3D1BMLAgDKCZWfTgBXnbCuoFidq3E+FwA1mL1akVjfEAxcccrgGLGtur01wtb7pKh2N61a5xGDT08oFjoVRBuBtxYi8FKLNw6w9PFkQCgmDgDG0AxceoCUEwcHVUrJ8xabPXq1RoUY37G6v0DFBMLwgCKiVUfdkCXkzBuoJgTKzEOxmAtVq9mLMUHFBN3vAIoVmqnTs+4lRjXGVGzFgMUc1rjMQzvxFoMVmIxbAAokmsJAIqJM7ABFBOnLgDFXKuUwCO+99579PGPf1yGYp/97GflnSjr9rc03wAAIABJREFUzQSgmFgQBlBMrPpwArzshHUKxZxaifEJLqzF6tWMpfiAYuKOVwDFSu3U6Rm3EuM6I2rWYoBiTms8huGdWIvBSiyGDQBFci0BQDFxBjaAYuLUBaCYa5USeMSDBw9qVmJ9fX2ePB9QTCwIAygmVn3YAV1OwjiFYmZWYnvXfp3GVrQbNt/a+42vG36ziS6sxTxRkQQoJu54BVDMXRsvtxLjYCxK1mKAYu7qPnax7FiLwUosdtWOAtUpAUAxcQY2gGLi1AWgWJ2KxYfobJkkWxq5Z88e2Zn+c889R++//z7dd999GhT78Y9/7MmTAcXEgjCAYmLVhxPgZSesEyhWbiXGYBiftI5dtswAwT48e1a+x8LwCS6sxTxRkYBib4g7XgEUc9fGy63EuM6IkrUYoJi7uo9dLDvWYrASi121o0B1SgBQTJyBDaCYOHUBKFanYvE4OoNht99+O33iE5+QAdiiRYvkI9tpkvsT+/M//3MZmnnxaEAxsSAMoJhY9WEHdDkJ4wSKcSsxPQzjfd4MivF7DJxxOAZrMS4V90dYiok7XgEUc96urazEOBjj4N15ysHGABQLVt5CP62atRisxISuOmSuigQ++OADYlYSfvwBiokzsAEUE6cuAMX80Dbu0mRAbNmyZTIE+8IXvkBPP/20rA/37dunWYhJkkRLly4FFDsZT3gCKBbPeuXgzC4UY1Ziz9+4QbMMK9co1aAYD8smtywNlhb+3EsAUEzc8QqgmPN2bWUlxqFYVKzFAMWc131sY1SzFoOVWGyrPZYFO3v2LO3atYu+/e1vU2trK23atEn+7TUcAxQTZ2ADKCZOXQCKiaFW9UDsnHPOoTfffNOQsQ0bNmhgjFmSefUHSzGxIAygmFj1wWGWV0cnUKxaH7cDxXh8QDEuCXdHQDFxxyuAYs7adC0rMQ7GomAtBijmrO5jH9rMWgxWYrGv9tgUkEGvX/ziF3TxxRfLk72/+7u/k4EYg2PMGuKZZ57xtKyAYuIMbADFxKkLQDFP1YyrxBgQy2QyGvS6//77K9L54Q9/qN3/yU9+UnHf7QVAMbEgDKCYWPXhFQzj6diFYrX6sxMoVist3K8uAUAxcccrgGLV22753VpWYhyKRcFaDFCsvHYT/tvMWgxWYglvFBEq/pNPPkkNDQ3yRI9ZhzGLMbZ88vvf/752zcviAIqJM7ABFBOnLgDFvNQy7tI6cuQIzZw5U9Z7n/zkJ2U9qE+JfUBob2+X7//VX/2VZ0sn2TMAxcSCMIBiYtUHh1leHQHF9JotGueAYuKOVwDF7Pchu1ZiHIyJbi0GKGa/7hMTUm8tBiuxxFR75At66NAh+shHPiJP8h5++GGtPIVCgT760Y/K16+//nrtuhcn/3f8WurbuUbI///9cCu9+vgS8gNQiJgmg2KvP34xyivwrk71tJvC/o00vXd1Xd32+e7rtF3U2CDtnVdeqSs9kSMzXcesY9n/FVdcUZFV9sHgr//6r+X7X/ziFyugWUUEBxdeGvwf9NJ9krD/mZ1r6PD0C+QVlBA9ne/svAbljam/ONb2AMUcKCdBgk49MltY/Wimu6fH2hMztmJQ7If/dRk9dvjBxLwjsvvvoYOvPuu4d9i1EuNQTHRrMUAxx00g/hH01mKwEot/fcehhGyCt2LFCnmC94//+I+GCd77778vX2fA7LHHHvO0uE8eeZD+8+f/W8gX5+RPbqVfPXlJYgYyiqVYsiDgrxIEPQHF7Ksupg+/9KUvyXqPQbG77767IvKePXu0+176E2MPgqWYWJZJsBQTqz68hqiAYhXqTfgLsBSDpZjXeqCe9NxAMadWYhyMiWwtBigmvOoMJ4PMQgxWYuHIHk91LoF7771Xm+D94Ac/qEiA+ddh/17/AYqpA5vXxmg8s4Lam85R6mFWA6UvW0fDu58JDMqFC8VGKLuUWeWkKXswmMFecOXN0fg6xeKIWx5VHJdmaNpnCzVAMfvai+m68847T9OJR48erYh8yy23aPf1/sS82IwEUIxDmAnaObSelrWcRzNlq71zae7SlbRxeE+gH1LCgmL5h1bJ5V4/yuURzDGw8r48RgPfXUmLm87V+tLHmv6BVn53G+19PZiywlKsQrVF4gKgWDDjJDfW6Vg+aa8LObUS41BMZGsxQDF7dZ+4UMxCDFZiiav2SBaYWUVcffXV2qD0pZdeCqwcgGI/JTo2RJmWGar8z6Hm1vmU5nBMmkFtt2Sp6DMwYQOf4CBR5WAuf8sctfxxhGJZ6r8QUCwwpeLBgxgU+5M/+RO5Tf7N3/yNwXKWJc/AF7OoZXCT+xNj17761a/SddddV3cOAMUYEJmgofUXqXphJp3XsoAWaPBkJrXeuoPyAS3pCwwS6cqTf/pGap2l6I1YQrEDd9KyBq4Xz6W5ixbQgkUX0cfUJctS00oaOBAMGIOlWN0qK/AEAMUqx1FuAJYfcQDFancHMysxZkhz7KH/Y3BRcfBfMmQGz0S1FoskFDNb74xr4vrvQN3UrpvaKgghrCTAoNiiRYvkycdnPvOZigmgVTwvrgOKMSsiBYilLs3Q1GulgU5h9ybqkCdFc6h/V+m6H4OYMKFYcec6auYToThaih29i7pY+S7cQPkA4KZV+4ClmH2NxXTiBRdcIOtEBrrKrb9effVV+su//Ev5/pIlS2Sd+dZbb9Hf/u3f0uHDh+0/yCIkoNgR2nvfEsU6rGkNDU2W4Mi+PX20RNaLF9H6sYOBWIwFDcXGhlbSXE0nShQ/KDZGfWkFiM1dv9VoFfbyCPUtVza4kJbeRnt1oLCe5U3V4gKKWSgigS8DilmMCQVYdRAoFHt9Dw3prU1nnUcLLl9Pd+2ZCOTdwPWK0+WTetD1/I0bNCOa6dzzBij2s/+1We6FDKLp44hqLRZZKGY1cI7jdQaV4lguqzIlsrwCv7xFzxqziuCO9NetWxdodhMPxQ5mqF2e/HyJho9UDnKmbp8vT7xTN2d912GhWIoxK7kmiaSmz1NHK5skxdBS7Il1lGJ1vG4gEIs/q/cCoJh91cZ23P3CF74g9z3mW0wPxRgwW7ZsmXyPWYpt3LhRTpj5Hfv7v/97eu+99+w/yCIkoNgO6pnN9EEj9TxdAmJ8AsKXFUqX30n7AoAmQUGx/KFt1LOULyWcSTPjain29I3UyHTi7BvpEbP6++U2WiWXfQH1TVTWP28HXh0BxSwUkcCXAcUqx4uirDoIDIr9MkvrW1SALqnWpiFZEzuBYtxKbO/ar1O5xdfJiZwBih3qv83QC/VwjFmVifYHKBbil2+rwX/59URCogjUS3k9uf0t169omiFC+WFQjO86yXyLVfvTTw6rhbN7L+lQrLh7E3W2zqfGq+6igkmfnd6aVibfV93lO1AJHopxK7k5lHkivj7Fpv/t83Idpm8f8R1sVtOhgGJ2tZIS7uDBgxr42rp1K7ENR0ZGRmQg1tLSIi+VZFCM7TzJLMc+/elPa4DM2ZMqQyceinFosqiPxsygycksXSN/TFhJAy/7D02CgWJZWi+XSaKZLato849HaLPsZzF+lmJ7H1ilLIW9KWthzbEn0LIDilXqINGvAIqVQzE+npIo7FUHwUCxgzS0TgFiM5ffRmM6H4R6a2KzjypewXR9Ok6gGANh5TCM97eT+yaMUOz27/NbhiODYy8NDdKZd981XA/7B6CYyUSu2sA8jHuAYuXKM16/AcXqU4PM8mH+fMUi6eGHH7ZM7LXXXqMNGzZY3ndzI+lQrLo+LA1y2n7gP1AJGooV7l8hW1C1ybBoLLaO9nPXK8uEenc8Q5Nbr6C2T6rLZT/ZQl2ZAZrWLZmt3h7q09uAYs40FLMWm5iYoM7OTvqzP/szGZB94hOfoP7+fnnTkXw+r+lNBsfY7r0MnHnxl3QoxpZOMplKN4gBTYKBYjuo58vrafMo30QgWDCkn+AFU95qMHOM+hYpejOIpaOAYl5orWDTABQrGw8ItOogECh26DZaLH9EaKe7dMvruR4b618gv0NmfmuHBXivpn+c33MCxar1lF/v32eAYvnN/1ItuHD3AMUAxUL9+m82iUokBBRONUQnQ8z6q6+vT36BbNq0ybBUiJWC3b/jjjvk+/fdd5+nBQMUKxvYqPq0eCRL2TXzlWV3Tesod8w8nFn/d3stUCi2P6P4S1uaoSm5zHGFYiOUvZhN7i6gdAvbWVTdSKGlQalbNqhruorGTZbOuq1Hq3iAYu5UFwNdb7/9Nu3fv1+GYXprWfZB4Re/+AW98sorxM69+ks6FHvk1kb5fdN4q/WEJnuTAk0WD3CI5HwiwydQtY7hQKIEQzFuKThrDQ296l+98noHFPNKcwWXDqCYcUwo0qqDIKBYfk8fLVu0gM7r3Gq6hH7vwD/I7xCpc2sgG7J4BsV+st8IxW77XnCdyoMnAYoBigGKhdwGYClWvyZ79913ae7cuRoYY1ZhL7/8Mu3YsYMYKGMOpH/wgx947oQfUMw4sKGd65QXubqMpvGSmyh/tCyMT/0tOCg2QtlLZ5A06/OU3c/LFlModnyAutW6TF26iSb1dXlkiPoXq7uOanCQy8P7I6BY/XoyqBSSDsXsAC87YTj0qPcIKOY/mNLqiPkJYn4mJYla+8cCsfIAFAtKs3n3HEAxJ2OEYFcdBAHFNH1hury+tLSy9c5gdIhnUOzAT4xQ7Pvf9a7TBJASoJhPEzSrr91urifScioC9eKmLs3iAIp5o+kYGLvuuus0/2JsULpgwQK6/fbb6cSJExUWZF48FVDMOLAp3H8FNbfOp3TrHGrgMKXlChrV4JExvFl/cHstKCg2dXsLSdIM6tiqXxIaUyi2P0OdrC6trP2ODVC37FB6BvXuyPn6gQVQzAuNFUwagGK1rcAAxfwDVeFAwCP04i93UM/ndH6CTCe83pcbUCwYveblUwDF7I0Fw1h1ECYUy0/uoM3XLFB3Ll5P2V96ry/MgJxXUOzNnx4wQLGD/5Lxstv4nhagWATgC6CYPeXpdjIddjxAMe/0HPOjwxzvP/XUU/Sb3/xG9pGjXy7k3ZOUlADFqvTNozsoe9UcxXKsaR3lj1cJ64EeDgKKFZ9YR82SRKmvlW8sEFMoZqNecj2qjzGfdxgFFPNae/mXHqAYoNiLJxO2fHJyG12j7iQ3c3kf7QxoMssmuIBi/ukyv1IGFKsxHgxx1UEoUGx0vWGVxXlf7qVHAtiEhQMyz6DYwZ8aodj3vuNXF/IlXUAxG4N+IaBJBPLplZwSCQF96d5I1G8JAIrVGNi8kaX+C5UJYtf9z/hqSeQ7FDs2RBm2LGbWFTRe4SMtuVBM22G0Z8jX+gUU81ubeZd+0qEYd5K8oMryOW4ptuQ++BTjEzOvjkFbiuV/3EfLGpT33McuN+4k51WZqqUDKOad7goqJUCx6mPHMFcdhAHF9j2wiuYuWkALFl1EH1NXWbBdfAcORMtS7FT+oAGK/fS7fUF1KU+eAygWAdiUSEgUgXrxFAJ60p2RSNASABSrPrBhfSTXo0wW5t2S9RWa+A7Fyr5cyrvLqYMXs/P2rWPRLi/XwcefoUIVK7+pu9PKF05AsaDVj7DPSzoUS+buk+WTt2RYio09sJLmyu+BmbTgW1lTp9nVgJYX9wDFhFWFlhkDFKs9dtTmWAGvOggDihn0wMsjtLnzInWVxXp6JIDNOryyFDt1KG+EYplbLfuAiDcAxfjAX+AjoJgD5SlwPWoKviyPWD4pomq0l6ekQ7H8v7RQuukcSt+u969l7K+56xUo1n63dRirvuHkuu9Q7ImbKC37S2M+0yr/G1XfWo0tyr3u+6MPxfK3XKAMzK63sgJjDnDV+vUZAsJSzJ5OEiFU0qHYi3z3wUV9NGbmV+rVbbRKBikraSCAJTJBW04pE7z4Q7Gxe5Yovn+ki2jlUDAOsQ2TZ7VtAYqJoPWc5QFQzDhOrD3WC27VQehQTO7XO6hntjK2WvnAhO8bdngGxX52yAjFvnOLs44RcmhAsTJAUbtjOu3I9YcHFKtfhiLWK88ToFjIWrCOxycdihUfvEKBJhduoLyZLtUcsV9A/bv87ce+QzGz8mnX4rl8srjjKkqxybvpktGfEu3PULs8uW+hwZy/9QsoVoeiCjhq4qHYST6haaSep8stqI5Q/qFVCky5/M5ALIsAxSrrwAwuObk2NqACsVkLaP1/+T9prZY3QLGAFZwHjwMUcz5eCGrVgRhQ7AjxJfaNt+6IDBT7zc9/ZoBiB/r+2YPeElwSgGLapMZ5B+VQw+8joJi4deNF3QOKBafwvH5S0qEYMZ9h6vbzzdfeRdOv6frqzwYos1h1wn7pZpr2WdcCiulk75msR2gwrXytTF26iSaP6p6xfzN18bq/OUtFz56pe4YuTUAxr7WXf+kBih0htoRyJgPGTWto4IUSlNm3p4+WyFaljbR+9KDvkx0GUwDFSvKvBpds3zt0p1qHFwVWh9XyBijmny7zK2VAMeN7XqRVB0FAsUe+30oLms6lqn4nb1DGXovv8d8K1StLsd+88HMjFLv12351IV/SBRTTDbq9ABx+pAEoZlSefsg4zDQBxXzRbYEkCijGrIU2U+fHlZe3JJ1DzWxpYdM5igUZ26lx8QbKVzim975PA4p5L1NZL+6/S4NfZvXbfNVdNBXAexRQLBCV5slDAMUYhBmjAe4XRppJ57UskCdBiv/BmdR66w7Kmy2t9OEaoJi3UCx700zt/WbmT1J/bf2ot882g2OAYp6orUATARQzjldEWnUQBBRj1sKynph9Iz1ipvN/uY1WqR9PzKyNzfRAPde8gmJvHX7BAMV+csumQPtVvQ8DFAtgMF8vcAEUMyrPeuUpWnxAsXrVWHjxAcXUvnl0hEYzK6hdg2HnUPPSFbTlRyNUCEjHAor5qCdfG6Nxs/rd4a/fNL2uBhQLT885fTKgGAchE7RzaD0tazlP9T11Ls1dupI2Dvu/46R+ggQoxuvDiyNfGss/BFU/Aoo51R7JCA8oVj5eEWfVQRBQ7EW2xF61tJ+7fivtfV2nm17YRus/p4D3mcvvpL1m0Mzja55BsSOHjVDsnzdGqkMDigU0YdMP7p2eA4qVK894/QYUi5TONGQWUEycvhguFAteDkkrb/hQLEe5CUP3xw8LCQCK6SY4Hk9e9LDL7nk4UCw8GSStvLAUs1BEAl8GFDMZMwmy6iAYKHaEXjxwJy1r4FD9XJq7SG9NLNHMz91Ij/wyGD3qGRR78YgBiu3/dq/AvbAya4BigGLkFNL5HT6RELCyb+JKBCQAKGYysAlJpyYNEiWtvCJAsYy8qQAbxGYoFwH9FFYWAcWCmcgAipnLGVDMXc8fu2yZYUL74dmz7hJCrJoSABSzGDsKsOogMCjGPpi8PEYD311Ji5vOVZdkq9bE28cC2YSFv0O8gmK/nXzRoEP2b/pWzb4gUgBAsZAmcE7AUiIhUQTqxUkdVgsLSzGRVKKzvACKWQxsQui/SYNESStv+FBM0Q3T29uN/oSWZ2namdqIfWhAMXNYwycgQR+TBomSVl5YikVPpQKKiTN2LJ+fBQrFBLAkZu8jz6DYS5NGKLbx5kh1TkCxECZv5R2w1m9AMXGVZ626s3MfUCxSOtOQ2eCgmHPfNJM/uZV+9eQlwlmC2ukTbsIkDRIlrbyiQDGuACrgmCRR+3bgMSafwKBYua+7WQ2UvmwdDe9+pqreyzz2DTo8/UIgOz8GDcDMnpc0SJS08gKKca0cnWNYUIw5tE9JEmV22p9XMUh0ctflVXWqmzGbqHEAxdz3o8LRlwxQbF/v/3SfWAgxAcUAxYRTdImEgCF0fjyyfgkEA8UmaGj9Rap1iv1dzADF7A/6RB2cVcsXoJjz/vt893WGAds7r7ziPBE1hgLFSssoc33cN4hyzCTY/1ggUOzYEGVaZqh6sXzX2xnUdkuWihbjO0AxsSzZzEBePdcAxdypNSyfdCc3N7HCgGLFXRuoTd7REFCs2tgKUMxNi1biFF4+ahhj7fvWP7lPLISYgGIWg6ZqHSboe4mERBGoF6/aASzFQtB8Hj0yCCi2974lys5lTWtoaLI0mdm3p4+WyAOci2j92MEKqwdAMUAxr3SUCOmIaSlWgmIGlTKRSbTfMf+hWI7G1ylALHVphqZeK/X1wu5N1CHrxTnUv6t0Xd+GAcVK75F64JOocQHFDNrI9g9AMduiqjtg0FBsatsKatZ8YgKK6d8H5eeAYu6bd+EXLxug2MTNN7lPLISYgGIRgC+AYuYD23JFFtXfgGIhaD6PHuk/FOPbvzdSz9OVE5n8Q6sUYHb5nRVOOQHF4q03YCnmvBMHaSkm9SXXFb/vUOxghtrlCd6XaPhIZT+fun2+bEGWujlragkPKFb5LhEVcLnJF6CYc93IYgCKuZObm1hBQbHiwQHqX3qOalE7g1KwFDN9J+jnj4Biblq0EuftY78wQrH/2eM+sRBiAopVhWLP0OS2ddTZ0iCvwZakc6h56QrasmOsZqfSd7B6z8OCYm7WntdbVhY/sPJW7HIiUUNTmroyAzSt+/LsRZmqpQEoFoLm8+iRvkOxp2+kRjb5W9RHY6YOObN0jTw5XEkDLxsnOoBilZPlav0wavcAxZx3Yu+hmHHJpASn+3Kl+A3Firs3UWfrfGq86i4qmIzhpremlUngVXeZLqEEFDO+K9yAJ5HjAIo5140sBqCYUW4ffPABsX8//oKBYkPEd0xOtVxB2Wd3UHapurwfPsUs5/GAYu5b/Nv/fcwIxf7pRveJhRATUMxkQKVMjp6h8WvnaHS9sWU+pZtKtL2avwqvJ1eBQSKdLNyuPfei7IGUd/9m6vw4n9Co/kha51ADNy9uWkGj+4OZVAOKhaD5PHqk31CMLZ2UWJu8IVuxPFKZlOyhzeogZ/2ocaIDKBZM//VC57lJA1DMeSf2AopVOthvp+wJ53mJcwy/oVj1/lJaWtn2gxHTiQ+gmPFdITLgcpM3QDF32gVQjGQINjExQd3d3dTe3k5f/OIX6e6776YXX3yRPvzwQ3eCNYkVDBTLUv8l6yi7kxtyjAGK6ea5Vu8RQDGTBmvz0u9++d8GKJa7qdtmTDGCAYpZdJDpf/u8Yh3WdBWN68zz9f4qMk/kTAdcVh3N7fVAIJFODvWsPXdbRn08/8s7QoNpBYg1X3uX0Srs6A4avFR13rs0Q9M6uejz6OU5oJgYytBNLvyGYo/c2ihDscZbd1hAsSOUvUlpy4sH9hjCAIoBinmpp8JOK3yfYjntqzsD1Ul2pF9LV4YFxYpHspRdM18du62j3DFzHQAoBijmBraJGge7T9bSSPbuFwoF6uzslMdcH/vYx2QotmHDBlq8eLF8bfv27fYSshEqGChWrv8AxeyMYwDFbDRgiyC/m/qlEYr13GARUszLgGKm0CNL/ReyieYFpo5a+bJC6bLNpqb7djqdkzD+QyJFcXqx9txJuazC+l7eXRtoHrO+uXAD5c3q/9gAdcvr7ufTYK78peL9b0AxMZWjnVz5DcWsgJd+cG4VBlDM+75qpbPCuA5LMTs91BimPkuxHGW3TxsTxC9TCQQOxXauUyxqVUvvxktuovxR6/4PKAYopn+HRv0cUMxUDTm6eOzYMUqnlWXXzELs/fff1+K/8cYbsn658sorPbMWAxSz1s9hjKf0zwQU05q+45N3jk8ZoNjzN17vOI0wIwCKmUERDk1aN9GU2f03hqhXHnytoNEqAy99J6vn3HdIJJfRm7Xn9ZSTx/W7vNP3X6Eshe0ZsrD0c/c1heff6RFQLEwVWN+zAcXEGdgkDRIlrbxCWIpV9Rk2TdnlFrtR1qdmIhc7aChWuP8Kam6dT2mdCwTmQ8fKBQKgGKBY1EGYPv+AYvWpyDfffJPmzFHc5WzcuJHOnj1rSJD9/shHPkLsnldLKAHFxBk7ls/ZAMUMzd/Rj3deOW6EYt0bHMUPOzCgmAn0YksnZT8+1wsETUzyWd6R6/vtzdrz+vKgKEm/oVjtPI7QYKuyJC3jwBll7XTNXwKAYmGrQffPBxQzb9Nu+0I98ZIGiZJWXiGgmGqJVL50suRnDFCMadOgoZhBbxzdQdmrVH+wTesof7xSRwGKAYrpoVLUzwHF3I/hGPC69tpr5Tnfpz71KXrvvfcMiTFH+wyGsTnhL37xC8O9en4AilXqZYMe933Oa/18QDH3LfudV18xQrEbrnOfWAgxAcVMOl7+lgtkBTjvFvPtvFnHzfUo0KR9K3dgaN3B6u3o4UCiYK2l9DIKp7y6+uOWgrOuonGTAbU+r16cA4qFoPk8eqTfUGysf4Gsixb0jxn8hekH8Xz55JL74FPsV48vsbD+1PVvE53vRT8OOg1AMeeduL7lk+x5zBpMeffLO01OZOT+KX9E68s5z1BMY4QKxeT+zV1gSNR1/zMVOgFQDFBM/w6N+jmgmHtF+sQTT2g6nMEv5leMLaV8/vnn6b777qOVK1cSg2X/8R//UWFB5v6pRIBi4o7JAMXct+zTr71qgGI/vn69+8RCiAkoZjJBsgO87ITxapIUDiRKKBQ7NkSZJmXS03a7+c5VXtUrTwdQLATN59Ej/YZi2H3S/sApaZAoaeUN31JMpzT0MKzqkkpdnASdhg/FSh8uzT5uAooBikUdhOnzDyjmTrmypZD/+q//qkEx+eOGag3Mzj/3uc/JO08y6zFmMeblH6CY/bEdnysFdQQUc9/ST594zQjFNlzrPrEQYgKKAYpVfEVVFE8CodixLPUvVnaeTF2asfAn570iBxQLQfN59Ei/odiLT99IjWyQtqiPxk6aTGRe3Uar5EHcShp42Xgfjva976tBDcrsPAdQzHknrt9SjKi0VFK1GGP9D2DMUBl+Q7H8v7TIfkHTVT5c5a5Xrfnvrvy4BShmfFfoAUsczr/z2DV0ePoFS+vqOJRRXwZAMYP6sf2Dga4bbrhBg2J79uyRl0+eOXMAVvn3AAAgAElEQVSG2D9bWumVD7HyTAGKiTs+AxQrb632f7/7+gkDFHvuum/ajyxASEAxQDFAMdYGjgxQbwsHYpto0mIrdzuTVadhAMUE0IQus+A7FDu5g3pms8ldI/U8XTmRyT+0imaySfnld9K+MmgGKCbuoMupjjALDyjmvNPWB8VylJEBtETt+l0oT2SpXb1e7mvMeQ7jEcNvKMZ2AJetOmruIG2+gzigWOW7RA9Zon4OKOZOj4xdtswwof2wzOG8u1TFjcWg1+c/r/iQ/tM//VPDjpN+5xpQTNzxGaCY+9b/7q9eN+iQ59Z3uU8shJiAYiZQbOr2+fKAq+pXSNWnWMe/waeY2YStnmtBLxctPruJOj+ufFVuuCxDU68Fq6wBxULQfB490n8odoTYEkoZfDWtoYEXSpOZfXv6aMksBZitHz1Y8VUcUCzYflyPznMTF1DMeSeuG4pVsQjL9bG+CEf7rFb8hmL0Rpb6VTcHzdfeRdP6d/bPBiijWXxvpmmTMR6gWOk9EnUAZpZ/QDHnupHFSBoUY5ZizGcYA+yf/vSnZeuwapLz0moMUEzc8RmgWLVeUP3eu7/6lQGKPXvtuuoRBLsLKGYyYErm7pPlCioZyyen7l9BzfJX/hmUvnmICibtwc2E1UkcQDHBtKKD7AQBxV48OUYDnRepJv4z6byWBbSg6Vztd+utOyhfZiXGJgqAYuU6LV6/AcUcdFQ1aH1QzMbzTkzTtI1gcQ/iPxT7KdH+zdrHLEk6h5pb58tLKrlfoNTiDZS3sPgGFAMUM4NpUb2G5ZPuNCqDXD09PfJY6qMf/ail3zAWbnBwUN6F0iswBigm7ngMUMxdf2Kxfv/GG0Yo9s217hMLISagmBkE4bsPtm4y9yt1fIC6ZZCygkaP+t+xg7acUoBO/KHY1N2fp5Rcj3Ooa1ul3xEnYKuesIBiIWg+jx4ZDBRjE5gJ2jm0npa1nKdYjUnn0tylK2njsHHHSf2gHlDMf91cT7+vNy6gmPNO7DsUc56lWMYIBIqxsdvRERrNrKD2pnPUjwTnUPPSFbTlRyNVP3ABigGK6d+VUT8XA4rlKDcRPXX285//nP7iL/5C1h+PPvpoRQHeffdd+uY3vynfv/feez3zMQYoJu74DFCsohvYvvD76WkjFOv6hu24IgQEFDODYsw0/0K2FMLcHwXzZyHDlMs2Vx141Tvp4fEBxbxXnlNbVSA2az5l/rNyy3Yu+yCOgGIiqEJ3eQgOijmfxACKea83gtAHdp8BKOa8z9YHxUo+xbg1UuVRWT6pOONP7lLKwKCY6fitdr8HFHP+PokSOMLySee6kcWob/mkXj9GR/cxv2IbN26UoRfbbfLHP/4xvf3227R371665557qKWlhT7zmc/Iu1R6uQNlOFCstm40G38wSHRy1+UW/qfdpWn2HFGuAYq50x8s1h9OnjRAsb3rrnGfWAgxAcUsBlVsCaUMvpquotGflTp9Yfcm6pD9+FxAmZ25QJQEoFhJ/p4ozYOb1TqcE1gdVss3oFgIms+jR4oMxZ4dv4ZY28I/ZBCXNvDT//z/6uq59UGxuh6dqMiiQzEGTfp2rknM/3d2orxxr+8zH7xXt46pD4opj6/YnbeKH8a6M+xRAmynyR/+8If0qU99SrU4lWTrMeaE/9///d+pWCx6ZiHGswwo5vG8zmIuX23uZXUPUIy3UufHP/z610YotnaN80RCjAEoZtmRRmj0qjmqgpxBjS16fxUzqO2WLBUt43rb2WVoEtCzSkoivssncz3KLpOVX/kVZ/v665md3tZlSb6ldOX6DVEJ4NHuJSAyFBs9/BA9sO+uCgf8Ufri7ySv90/8gP4jdwfKa+JfzokcRQ3L2vN//ew/3HdWIgIUq0t8tiOLDsVgKQZLMVH1nJt8ibF80qgeKuCYVLZrrzF46L+YrzAGx1555RXat2+ffP7+++97DsN4QQHFSnMgs3lRmNcAxXgrdX78w5tvGqDYnm983XkiIcYAFKsKm56hyW3rqLOlQfU9pfqr2OH/jpN6hQAo5qXy5EtjKwGYHobxc0CxELVTBB4NKCbO5ApQTJy6cDOxqxVHFCgm7zLJrR9OZKld9kuJnSf16hpQTKy+mLTlhEkrr7hQrLSMUtmdtzTuzkTQ/5hex9V7HiUo9vpj6cStOLh79OrEWBJzK9r/e2hbvc2aiqdOGaHYNVfXnWaQCQCKVYViXsIY92mFA8Xc51cP9NycJ7K8QfZ6PMszCQCKiTP5AxQTpy5qAS4390WAYsrEjk/0pim7vATD5Ht9Oc90S5QTAhQTqy8mDRIlrbxRgGIGfTaRIUnietRwJzE/ogTF4FNMLH3uZvxUK052/z108NVn6+5/xd/8xgjF1nTWnWaQCQCKAYoF4hfNCRwDFAtSBeBZ9UgAUEycwQKgmDh1UWsA5uZ++FBMcSTdvn1aVRmqY2kOwjDR01QpoJhYfTFpkChp5Y0CFCu3FJO43tS0RrJOAMXCM7yoNR/F8kn3ffGPb71lgGLPfP0q94mFEBNQDFAMUCzkNiBDwBA6Px5ZvwQAxcSZ/AGKiVMXbqBXrTiiQDFt2Y8MwSQy/k629QPXqIBiYvXFpEGipJVXXChWWi4puyThy865okjwEVAMUKzWmCfI+15Ziv3xt781QrGrV0eqlwOKhQxEahFrdj+RllMRqBc7dWcnDKBYpHSmIbOAYuJM/gDFxKkLPwZz4UMxIv0SScXyoZ2yJ5hKUJdSJtz6gStHQDGx+mLSIFHSyisSFKt0sM91JNcOOMpvjGevpsK+XuGMEszmLFg+KZY+92N85RUUe69QMECx3Z2rItXhAcUiAF8AxcT9omD2AnF6LQpQ7P3Tp+mPv30rUsotiMwCiokzWAAUE6cu/Bi0iQDFNPilOtfnSymViSCsxLjOBRQTqy8mDRIlrbxiQDF1ObmqGzULWq4UcDRIAJZi4s7rsHzS0FQd/Xjv7beNUOyqrzmKH3ZgQDFAMeG+VCQSAoatCao8nwGxfd/6J8r1XA8wViYnQDFxJn+AYuLURXyhWJkCwE9TCQCKidUXkwaJklZeUaBYVvO3aKoWcFEnAUAxQDE/xklu0/TMUux3vzNCsdVf1bV68U8BxQDFAMVCbgMiW4pxIPbkpZfIig5gzKjUAcXEmfwBiolTF24HZtXiiWEpZuz/+GUuAUAxsfpi0iBR0sorChTLVPUZxpaYw5qWa0xAMUCxauOdoO95BcXef+cdAxQbX3Ulb/KROAKKhQxE7Cy1S6TlVATqxU7d2QkjMhT7+Q/6DQqOwTGAsZJuBxQTZ/IHKCZOXfgxoAMUK+kd0c8AxcTqi0mDREkrrzBQzGLpZMnPGKAY192AYoBifoyT3KbpGRQ7fdowZxz/2hW8yUfiCCgWAfgCKCau8rQDvWqFERmKMS0GMGatywHFxJn8AYqJUxduB2bV4gGKWesh0e4AionVF5MGiZJWXjGgGNNC6oYjDI4xqzF1h15550lsQmJQ04Bi4s7r4FPM0FQd/Tjz7rsGKPb0V7/iKH7YgQHFAMWwfDLkNiA6FGNKCmDMXFUDiokz+QMUE6cuqsEtt/cAxcx1kIhXAcXE6otJg0RJK684UEzVRnoYVnVJpYjaK5g8AYoBirkdC/kRzytLsTO//70Ril3ZEUyH8ugpgGIhA5FaVkTsPizFxFWeduqvVpgoQDGmbwDGKrUuoJg4kz9AMXHqwo9BG6BYpf4R9QqgmFh9MWmQKGnlFQmKlZZKSiRbiHGrMVGVVUj5AhQTd14HSzH3neLMH/5ghGJXrHSfWAgxAcUAxWApFnIbiAoUY/oJYMyopQHFxJn8AYqJUxeAYkY9kbRfgGJi9cWkQaKklVcMKJajjOpTrF2/C+WJLLVb+BpLml7UlxdQDFDMj3GS2zS9shQ7WywaoNiur1yub/bCnwOKhQxEalkRwVJMXMVpp+7shIkSFGMaDWCspNcBxcSZ/AGKiVMXbgdm1eLBUqykd0Q/AxQTqy8mDRIlrbzCQLEqSyVzfcxyDI72ue4GFBN3bgdLMd5KnR/P/vGPZVDsMueJhBgDUAxQDJZiIbeBqEExpq8AxhStDSgmzuQPUEycuqgGt9zeEx6KqX50MhMhjugEeTSgmFh9MWmQKGnlFQOK2VA+J6Zp2kawJAQBFAMUczsW8iOeV5ZiH7z3ngGKPdWxIlLdGVAsZCBi25IoAvm0UxY7YWRIlLTyRkptKJkFGCMCFBNn8gcoJk5d+DFoEx6KEZFsDVHFWiKCat5VlgHFxOqLSYNESStvZKCYK20Sz0iAYoBifoyT3KbpGRR7/30jFFu5PFIdGFAsAvAlkZAoAvViB/DZCRNFSzGu5ZIOxgDFxJn8AYqJUxduB2bV4kUBihGpfnUEAmMnnn6Kq+vAjoBiYvXFpEGipJVXDChW8immOdhXfYmVfivLJxVn/MleSgkoBihWbbwT9D3PoNiZMwYoNnb5pYGNO7x4EKBYBOALoJi4ytMO9KoVJspQjCmhJIMxQDFxJn+AYuLUhR8DuvChmJ1Jn27HNQH85/z3Iw/LA9SgwRigmFh9MWmQKGnlFQOKeTElTU4agGLizuvgU8x9P/zw7FkjFLtsmfvEQogJKAYoBp9iIbeBqEMxpreSCsYYFOvbuUbY/39/vp/8ABQipsmg2L8//79Q3pNiTci9aivhQ7EQRmh1PJIDsScvvSRwMMagGHuvifqf2bmGDk+/kBhd8Z2d16C8MdWLTL8CitWhKEOKOvXIbGH1o5nenh5rF26uWMvgwO19BsV++F+X0WOHH0zMO8IrS7EPP/jACMVWtIfUw9w9FlAsZCBip9PK0CQC+bRTFjthElled/1XqFhJBWNCVYIuM/lXn6Mf7b8nMS91BsXYv1cQRvR0klZeQDFd565x+qu9zxgGpmGAsRpZDPU2gwiJgmKPJQyKJay8IkExg1/FE1lq15ZQJnu5ZLnCg6UYLMVEGmN6BcXoww+NY4/lXy5v+kL/BhSLAGxKJCSKQL3YAXx2wsj1K7SasJ85gDH7svI7ZKBQ7PU9NPTdlbS46VyS/YfMOo8WXL6e7tozERikChcSjdHmpWzp3D/Q5kPBWGoFV96DNLROvyzQ5HzpbbTXZ0sMQDFnGgNgzFpegUExAfQim3iFt5wweL0YXHnF0IusvKJAMRmIacvGpym7nL0rFBgm3+vLWXfKhN0BFAMUiyUUIzJCsUsviVTPBhSLAHwBFBNXedqBXrXCxAmKMe0HMCbGOyAwKPbLLK1vmanAMOlcmrtoAS3gcEyaSa237qC8z8CEDS6Cg0SV0OuRWy9Syx9HKLaDemabgDDNAkAiCVBMjE5flguAsTKBqD8DgWKC6MXgIJEYejG48oqhF1l5xYBiis/F9u3Tai9TfTByEDaR0QCZea9M1lVAMXHndfApVl9fHFv+ZQMY+/DDD+tLMMDYkYViDCTgHzKISxsIsM8bHlU4NkpberZQ7rThct0/AMbqFmHdCQQDxdjXcgWIzVx+G429XpoY7dvTR0tmMZhyEfU8XbrOBvF+/IcFxfKj62muBohiCMVe3korWflm30iP+FR3dtoDLMXcqQSAsUq5+Q/FxNGLrG+FYSkWll4MrLyC6EVWXpGgWGZC7W8yBJPI+BtLKLk2AhSzC8VGKCtb4acpe9BunPrChQvFwrGu9Wz5JBGNrWg3QrEPPuDNXvhjZKFYLeubON2XLYkiYNHmlcwTWd5AVUWRpicGqfviBpJSzdQ8VyLp2lEqepwHgDGPBeowuUCg2KHbaLEMhNrprslK2DXWv0C2oJr5rR2+gDA9TAkFijFrkCaJpKYltGQRA4AxhGJj62kmq+N12wKx+NPXqf4cUMyhAtAFBxjTCYNIhgi++hQTSC+yPhQ4FAtRLwZWXkH0IiuvGFCMSL9EUllK2U7ZE6zvqUspudWYsTsm8hegmD1wlb9ljmqFnwwoFsaqA6ZDPIVily0zQrGzZyPTxwHFIgCbEgmJIlAvnkLAIFTGmWnKbc9Qx+wUSVIDtfcN0+SJUepOpah3t9dITCkQwFgQFWv+jCCgWH5PHy1btIDO69xK+0ysiPYO/IMyoOnc6jtQCR6KcWuQi2j9WPBf94Iq7977lsh1uKB/zHewyQZnVv+AYub93O5VgLGSpPy2FBNJL7L+FCwUC1cvBlVeUfQiK68oUEyDX6rlNF9KOb29HUsnS+pHPgMUqw3FijvXUbPaliQp/lAsTOtaL6HYU5dfaoBiH5w5U9b6xf0JKBYB+AIoVlt5egWowkhHrl8/dcSpSRrd3EGNKYmkVJo67x6lqYLywKmhNpLm9lPex+cDjPko3CpJBwHFrACGcp1PjiRqvdN/oBIUJOJl3vfAStmCqlWGRXti62g/e4PiT+ya4QnaObCKWj+pLpf9ZCut/O422qtbMstl48cRUKxKZ7d5C2BMEZTfUKx6+w9WL7K8BAnFwtaLQZVXFL3IyisOFLOpiBCMAMVqzOuODVFGtsL/PHW0sjFIzKFYyNa1nkKxlcuNUOz99yPT4wHFAMUoDBBU7ZmJhIA+qAzZX9jaNmpgX1rOb5ShWPsDU6UnFXOUmStR25DuWumup2cAY56K01ZiYUKx/OQO2nzNAmXZXdN6yv7S2gKo+gTSfrxAodiB2xR/aUtvozHZuimuUGyMNrexAWkjLWhhO4uqGym0nKfULdMtTWtoyGTprFf1ytMBFLPV7WsGAhgLYPmkhcVjGHqR9Z/AoJgAejGY8oqjF1l5AcVqqj3hAgCKVYNiORpfN4MkaQ5lnkiCTzH+oSScVQdMh3gJxXZ1rDBAsbPvvSdc/7PKEKAYoBigWMhtwBdLsRPD1JGSKDW7g/ofnyJmGFacyFA61UCdDysQrPBoJ0lSJw2fslIP3l4HGPNWnrVSCwWKja5X/T8o1kXnfbmXHnnZPthiL2e3/8FBsTHavHwmSbOW0OYDPL8xhWKvbqNV6vKFmcv7aKe+Liez1PM5dddRDQ5yeXh/BBSr1ePt3086GAvcUixEvcj0aTBQTAy9GEh5BdKLrLyAYvZ1nyghAcWsoVjh/hWUkiRqu32E6I2x2DvaF8G61lMo9pXLjFDsj38UpdvVzAegWMhApJrFFL+XSMupCNQLr596j75AMdb1TxcqnOdrYGz7KG25WKLUzeMVYWpqjToCAIzVITyHUcOAYvseWEVzFy2gBYsuoo9xmNKyigY0eOQ9LOEQLSgoNtbfSpI0k5YM6JeExhSKHbiNlrG6tLL2++U2WiXvMDqTrhk+6Bpo8jqsdgQUc6gAagRPMhgLGoqFqRdZnwoCiomiFwMpr0B6kZUXUKyGshPwNqCYBRTbn6EONqZYmqEpeR4YcygmiHWtp1DsisuNUKzoj89qP7o1oFgE4AugmIXyjEDd2QFmvkExC42hgDFmyTOP+g/pAxVo6rj/ygtgTC9z/87DgGIGqPHyCG3uvEixHGtaT4+86h8QY88NAorlx9bTXEmimavKNxaIKRSzYbmXvUn1MebzDqOAYt7riqSCsaChWJh6kT3bbygmkl4MoryG+rTQkUHpRZYXQDHvdaPfKQKKmc3rRih76QySZn2esvv5/ThDMXGsa72EYk9fudIAxc784Q9+dyfP0gcUiwBYARTjyjGex6ChGFGBhldLJF08SAZvYoVR6kp10LC8hbZnOsY0IYAxU7F4ejF0KCZPFnZQz2xlKeXKByZ8tSTyHYpxR6izVtFQhY+05EIxbYfRm7K+1i+gmKfqQUssiWAsVCgWsF70HRIJphd9L68FBCsHZUHpRUAxTZVF6gRQrHI+N3V7C0nSDOrYypZN8vvxhWIiWdd6CsW+2mGEYr//fWT6JqCY1vF4BxTvCCgmXp2UFHb9eQscih3ql7c57nxU3YKSq6tD/TRPaqdsAFCMPRJgjAven6MYUOwIZW9SoFjjrTt8hSa+Q7Eyv0CSujzU6rh4YE+0y8snf69O0L4qVn5j9/yDYg0IKOZPRw4g1aSBsfChWHB60XdIJJhe9L28gulFQLEAFKQPjwAUM86dik+sk+clqa/dRQXDvDyeUEw061ovodj4175igGLvv/uuDz3InyQBxQydz9hJvQQf9aQFKCZmvdRTp/q4wUKxIo3fnCIp1UvjZSslCyNdJKUylPdH15imCjBmKhZPLgYBxR75fistaDqXFvTr/WsZl0nyresX32Mdhg3s6/33HYqN9dIC2V8a85lW+X+e6lvrvBbl3qoHog/FHrm1UQFeN1hZgbFdkxTo6TcEhKWYJ2rBMpEkgTG/oZhIetF3SCSYXvS9vCePkEh6kZUXyyct1ZqwNwDFdPO6Y0OUaZJImnUFjR/TXZfn5zGEYgJa13oKxVZdYYRip08L2w/LMwYoBiimM1MtV0bh/E4kBCzvmX79Lo5Tb0qieZsr0Vf+jnkk9YxSoTBNkxPjNDy0hYZf0pOzIk0+Okx5j/UbwJg/lR0EFMs/tEqBJrNvpEfMwJbmiL2Rep6uH3xVA2e+QzGz8mnX4rl8Mj+8hmYyizjTJaNH6MUDt9Fi2WKulfom/K1fQDFVT5wpUP7RDHUs7KTscW91R1LAmN9QTCS9GAQkstbLwevFIMorkl5k5Y0EFJvIyGOFzIS3OiuqqQGK6eaXO9cp48ga1vfcKr9965iv89bf5m6kHz25hh47/GDdH2tNdaOA1rWeQrHVXzVCsXd+F5luCigGKOarctFbRNk9BxTzWX8cH6XxY0RFDX71U+/admo+X7H4UF48DdS8OE2dNw/TJOdiL22htNRM3Y9Pe55BgDHPRUpBQLEXT+6gHvaFT5Jo7vqttPd1HRh5YRut/5zqhH35nbRXA0i6MB5eAxTzQ65j1JdW6nfm8j7a+bLuGQfupJW87r+1g/Ie1qXZQDLxUKwwRaN3d1I6JVHqs53Usdif3YOTAMb8hmIi6cUgIJFZf1WuxROKvXhSHL3I5BwJKEZEuT6JpOVZ8n4E6f34ye8UAcV0UOyJmyjdOt/yv1G2wp9BjS1KmO77Iw7FBLSu9RKK7b7qawYo9t7v3nbYnXKUCwmeA4oBigGKhdwGgl0+qeimqe0dlJK/yqSo8bPt1LWpm9o/KVH70CQVKizBijR1TPE/VjhV5ofMoaqrFhxgrJp0nN8LBooxa6E7aVkDB6rn0ly2tLDpXO3L38zP3UiPVDim18EVj2AKoJj3MpUntge2avBLkirrd27nVhrzqA6tJ9dHKKlQrHhinLasbaMGSaLU7A7qf3yKCsez1F6xe7BzHWEVI+5gzH8oJo5eZH3K790nrfttXKEYq18x9CKTfVSgGFGOMmzcCTBGgGI6KFZ1DhbD5ZNVx0vh6ExPoVjnKiMUe9vpvFHVE/IcNUM5q4GKD9cBxap2Rrud1t9wibScikC92LV8qxUuDCjGdEmxUCBuBEbFceqWUpQ5UK5lijR5LwNobbTlsBa6PJBnvwHGPBNlQJZiKoh5eYwGvruSFmsw7Fyau3Qlbdw+RvuqDgC8AzmAYt7JsmKS+/oeGjKr32F//abp85E0KDY9kaXM8gYZLjdc3E2DE9Oavs5vnle5e7B3qkNOKc5gLBAoxvSeAHqR9SFAMZ90owB6URwopp/I8o9k1Y7BTnY9Vo91JwcoZnfeDCimHwf5de4lFHvm6tUGKPbHwm9d9Zfp7e3ax3V5BVMAMB1QLALwBVDMrvKMZriwoJhBS8k7T3bRqAHocyDWTF0jU4bgfv4AGPNGuoFZigUEvWoNBsKFYj5NuqrINmnlTQQU4/7CZqdIklLUuLKLOhdK1NyX04AYnRqlrpREFbsHe6M2DKnEFYwFBsWq9N9a+szL++FBseD1IpNb0sobHUsxg3pJ9A9AMbvzNUAxL98FVml5CsW+fpURiv32rbr6egUckyRq3+7PImxAMUAxLJ8MuQ2IAMWmH+4gaW6/budJEyBWnKb87nHKvWQgZ3UpO6vIAGNWkrF/HVAsnAmZ1aDD6+uAYvb7Ag/5fPd1hsHaO6+8wm+JcTydo8zCFKW/voXGT6iWucdHqUsHxqaG2kx3D/arAHEEY4Bi8daNgGLutMHYZcsM+vHDs2fdJYRYNSUAKAYoZj4mjP7yyT1rOg16pPjWb2r2h2oBFChWsiyVfRPqNmXwcvMOQLGQgUitpXXsPizF7CrPaIYTBYql1o6SgrtMgBizTjif+bRJyw75G1YPk9+2YwBj1V4Tte8BisV74gcoVrsPlIcQHoqVZ5j/5mDs5gx1zzXfPZgH9eMYNzAGKBZv3Qgo5k4LAIq5k5ubWIBi4s7XfN99UhALYj2U89JSbM81Vxuh2G9OuekiWpxyKKbdYCfyrrYlYGa45+IHoBigGCzFQm4DIkAxpjumjjNzVBMgRkSyJZnUqzg8PDNF2StTxiU9LpSPnSgAY3akZB4GUCzeEz9AMfN2X+1qZKEYK5QKxiSpjQaPGUuZv7efchUbpBjD1PsrTmAMUCzeuhFQzF1vBxRzJzc3sQKDYkdHaDSzgtqbztH8MzU0pakrM0DTr9kDUwwSndx1uXBzRTtGJW7CAIq5adGlOHu+8XUjFDv1Zummi7NyKFZuKSb1eeeKH1AsZCBip8PCUsye4rYjSxHDiALFZF3FdjVLlXyIabtNyj7H5lH/IVWjybuftVP2hAsN5zAKwJhDganBAcXiPfEDFHPeLyINxWiKBi+WSFo9rFr08vJPU3a5RM13T/ILvh3jAsYAxeKtGwHF3KkAQDF3cnMTKxAotn8zdX6cb3ZwDjW3zqd06xx5J2PZcXnTChrdX3t+BSgWb33JLMa8tBTbu3aNAYr94c1fu+kiWhwzn2J+7WALKAYoJhz9TyQE1Lp/+CdsV0r5rzhOvakU9e5mvm0KNLo2Vdrx7NggpaV0hcWCX7kHGHMuWUCxeA9kAMWc94koQ7Hi7l5KSVwf68uu7PrWNeK/r0f21DiAMR/cQWkAACAASURBVECxeOtGQDG9frB/DihmX1b1hvQfio3QYFoBYs3X3mW0Cju6gwYvnaFYji3N0HSNeTCgWLz1pedQbN01Rij265OuukslDPPfEANQrIYyEMGyKJGQKAL14lXbEMpSTK+6TmSpXdIpoWOD1CalSJl8FWlyd77MYkEf2ftzgDFnMgUUi/dABlDMWX9goaMLxQo0vFoq2wxFLb+sp4P7QMGeGnUwBigWb90IKOZcN7IYgGLu5OYmlu9QbNcGmseckV+4gfJm86ljA9Q9i0Gz+TSYq24tBigWb33pNRR7tusbBij2+5NOd4pUPvTJ1oySRF460q/VVwHFzJQFv/baGI3r12LPaqD0ZetoePczgVpXhQfFRii7lCnNNGUPVleaXgEilk4w5c3R+DrlKwrveBVHG19QvCi3sFCM8tQ/N0XdT6m7oFGRxm9OkV9mq7WUFbsPMGZHSkoYQLF4D2QAxez3BR4yslDsTJ76F0rUNlS+vUmRCo/3kiR1Umaon3rXtlN6YQOlPpsp+RhjO1p+Nk2ZCa7HuTTqO0YZjAGKxVs3Aoq569uAYu7k5iaW31Bs+v4rKM38iPUMWcxXx9T5nUSZndXnd4Bi8daXnkOxb641QrHpNxx2kXtp+YJ/JWuUxlxGeOdcX585QDEOwMqPx4Yo06Kal0rqWmzNUeEMarslS8XyOD79DgYSVSrF/C1zVMeMcYRiWeq/EFBMrwzMzosTGWpOtVH/RIGKp6docLlkG4qxZZiFgrcTMZZHgDGzmqq8BigW74EMoFhlm691JbJQjBXs9BRN/TxPo9u3aPBL+5CTaqT04k7q3txPg4+O0/ihKdJUL4NiKzOU82F1ZVTBGKBYvHUjoFgtTWh+H1DMXC5+XPUbitX+YD9Cg63KHAhQzDj/ZRDwR0+uoccOP0gMGCXh30ufYs9eu84Ixd74lcMuVLIUK7cSKy2pBBTThOo/JGJWRAoQS12aoSndDh2F3ZuoQzY5nUP9u4wdqbYSchfe//JW5qu4cx01M9Nb+T+GUOzoXfT/s/f+33Fc9f3//NA/oKeYnDlJz+lbHLdFpz7Erk+OtcfnOPUe3EOU436KgmitN4Y4KgmOGhejKGAUt0RdDBGLiYNqF0cWJbAi2NlQHNZBJuvEmKxsnKxDnMgJJqs4DmyCgQ04sG8w7fNz7szc2ZnZmdV+mZn99tQ5e3Z2dubOncedudI89LqvO1IptDggwel2jbRupJh+yxVOxDGw3LgWlg9g6kxl0ZU/ZtleUdAzOIWszzOjUYyZ3aHnAqVYZ/8xQynmeel7ftHWUkw7qxxSYwMY2DqOqdkUMufySE/0QhlLo6xXvpxBfCyB3BVPHL580Y5ijFKss/tGSrH6bm1Ksfq41bNX06WYHF551S1IL5Y/A1qfVRgp1tn9pd+RYie2jdik2Fs/ea2OW0SfQEhzEIMJ5Odj5uypfs426awYI8Xc5MczMQxoMuj/Q/L58s4i97nrtMZRdyQ8wlLL97F2MLUuhy7FRJTcagXK6vdgSPtPQgdKscduhyra+PZ9oUX8ebV7q0sxvdMoolAolD942XqUAtI7o1CVHgxMppEXT2lX8kjtiEDdnKwQCmsrpOoPjYixN06dRKMzolRd0SZtSCnW2X/IUIrVfmO1vxRznnMeyc0Kovsdwyq1IZMqlL5gIsSctWg3MUYp1tl9I6WY8w6t7jOlWHWc/NiqqVJMPuMpCvo/d3jJ51hKsc7uL32XYv/yz3Yp9trF+m8ZqwwTcqz+kqrak1LMRYoVj+3E8Lrr0HvLHhRcvs/vjerG8pY9oQiVcKWYjJJ7F2KPdW5OsfyX3qO1YbSKXwheMsuv9e0hxZbqT3JI3RGBokYRO+EYp1NIYUQk7F9cqozav69XjD03tQevfPtw7Qdsoz0oxTr7DxlKsdpvxs6TYhmMKwrGT1hYhCzE5JHbSYxRinV230gpJu/K2t4pxWrj1cjWTZNi5xOIb7CMhHJ5xnU+21CKdXZ/6bcU+/5H77BJscsXX63rVikNlZSj1qpP31PXAQFQilXRIdg7CCmNFPR/YWnDbt+3vgiyMKVY4Svv1yKo9P8eyESMnRcpltmu32Tjh57Awt4PoP+dxi+Jd67FSGyfffrimq+R2tq5/aVYEZkJIcT6EXcbWqlJseBmR6tHjD3+wSE8def2evvNttiPUqyz/5ChFKv9Nuw4KXZ+GlHrPxxchFhxMYXpyTimZjPIcyildtFQinV230gpVnvfKPagFKuPWz17NUWKPb8P40aubPV9O7FwvrpnFUqxzu4vfZdi27fZpdirF2q8RUo5xQZmLbFh2kzb+rO7M9dYjQfw3JxSrAbhUXw+gcSt1+nD7lbfjkyVHUqjYiw0KXYqpudL2xhDTuPSqVLsMBI3iBvrLxFdezUUOZHC2h69bcWwytW3IO0ydLbRtnTbv92lWPF0DBEl4jm7WW5/P5SVcWQ9u6HGv6hFjImhk995399rr04eQkkp1tl/yFCK1d5vdJwUg4jQjSMjULgIMZyfRr+iIvrhcYwO9ujDKX3O7+hshXaIGKMU6+y+kVLMeVdW95lSrDpOfmwVthQrfm8nhv+PLhR6/sGeK9vtucS6jlKss/tL36XYx/7FfMYSz1qXL7xS4y2TQazCUMnMhLiOmWjfhBqaJJLC7NHbSwneFAW9f38Xsi9WZ9itHUu9y+Gc72Ek3vc2KFe9B4lT8tw6VIot7sOoljNOgfbfEmtbPj9jhhYrphyUPIJ5b28pVkByi4JVExnXfGPa7JWKipHDjiGV5t3s30K1YkwMnZRSrJOHUFKKdfYfMpRitfcdnSfFDAZuQgxA/uAQFGVcl2bQI3qDyO/obIlWF2OUYp3dN1KKOe/I6j5TilXHyY+twpRiua+835g47W2I7phxTQtU6fmUUqyz+0u/pdhTox81n7HEs9avXwkgd87FfCD5xRgpJsVXhffCVz6AyLrrEF33LvRImbL2A0iZ8igYWSI7qTCkWO5za6Eob8PQXuuQ0A6VYqdiGBZt6RXtd34fRrUZRt+G8UOZJZNQynaq9729pZgIc1URO13+Z0Lx3DSGVAURD2FWvkfja6oRY2LopJRinTyEklKss/+QoRSrvb/oWCl2JYfEdplUv4jc6QVo/4YwIsVGjxpzU2rDD4Ibym5tkVYWY5Rind03UopZ78TqlynFqmfV6JZhSbHc/e8xRsC8CyMHrM931T+3Uop1dn/puxS7c7v5jKVJsUXHRECN3jwB7k8pVkGGuUqOFw8hccu79Mix1bcju8RUtq5l1HjMoKVY8bHbtf8iqB9yTizQoVKsCv6ZMSPHWAgzjLa3FMsivtKR6BlA4XQc/aqCni1JhN0dVhJj1qGTUox16hBKSrHO/kOGUqz2v4w6VopZUWg5HFUj+b6IDlsFZWUMGeHFzk3pOcgamAzKeqillltVjFGKdXbfSCm21J3p/j2lmDuXINaGIcVyew0hdtV1iP33E3X/g59SrLP7S7+lWGbsYzYp9qvcyzXeQqWcYooRiFT+rg+f1JPx+zeUklKsCkFSLrYSiP+VPjZ75Cv1dzTl5bqb+0ClmJya96oPIF2WI617pZg5w+jYTN2/SGpq3xq7jFbaXAzRUftGkDiTR2Exi+TkAHpEHpudaT1aoQmV9RJjz35+0tZZCzHWqUMoKcU6+w8ZSrHaO5aukGJaNNgAElJ8XUphRFXQP6P/e6KQL7gOda+dZnV7tKIYoxTr7L6RUqy6e9O5FaWYk0hwnwOXYs9M6jmilXch9mhjI14oxTq7v/Rdit01anvO+tXLPw7uRvK5ZEqxuqTY08iM6VJs1acS4UiTOuu5pJhx5Esrt7H6ecr1A3vn2vt8JcfFJ1CoEOWXuz+qRwNSilXR5RSxMDuK/uX6tdJzwwimjllmDKmihCA2cRNjc+8fsHXWQop16hBKSrHO/kOGUqz2XqMrpBhymL5BwcCDpRjd7K5eKBumQ4/alS3UamKMUqyz+0ZKMXnn1fZOKVYbr0a2DlqKydEu8tmt0nvsUfeADPn8SCnW2f2l71Ls43fanrPe/PH5Rm6VUPelFJOSxPKe/cxaRFdfjejnvMdfZ7brAmDgfu9tZIfS6HugkWKP3YWoli9N5Ewrf/UaubV61+rfjX6l/aVY9lN/qQuv7V5RYBmkbzfaNywJGOpt3z0HcxNjctik9b0Th1BSinX2HzKUYrX3Y90hxQAsJjCk9mD4/jSyZ5IY71OgbE0tHbl7OYfssTTS8wsoXKmdb6U9WkmMUYp1dt9IKVbpTvT+jlLMm43f3wQrxUqjmSrJMPkdpZhdCgoJ+LXv3Ipvn30IQhh1wytx6ot45sL3fLnM5z8xZpdi53/kS7lhFEIpZpFhUl4VH/qALk3+6qPIunwPMxH7XyL+XfvNJMvw8z1QKeZ2fua6zhw+WTx0i5540nXI6NPAqRgGtHHMazGdCal9w7jbu/AYV956Cyd33GXroK0yTC534hBKSrHO/mOGUqz2Dq1rpJhAk08jvqkXqqKid1McmUuVeBWQ0Ya9K1BXRBHt64GyfBhJnyeNahUxRinW2X0jpVile937O0oxbzZ+fxOsFPP3uYWRYp3dX/odKTbveOZ680cv1XX7ZCYUKIMJfZZJLS2EHLnmXw4xZ8UoxUwBZO1EEoiv1uFH7tiD/KuW757dh9gGIwn7+yaRd93fsr0P31OK+csTPz2M6ajevur7dmLhRUv5pyYxItt+RwJFH9pvKUGqta/zzuTnugkIEfaTJ44hO/mZJWWYlGKdOIRSSLGJR2/liww65hr41rP/VXe/wB09CFzOIr5RhaL2I2YZ9p57UOSKjCPrsVu9qxsVY378A0NIsW7qG//90dt4vh3+e+B//vcP9d6S5n6UYiaKwBcoxSzPXSE8Zy31HGb9npFijV3+Jz/5cduzV+GlF2suUBNiipRfeSQGxTO7/ln7biJTc5nV7EAp5nUznprE8P+RVvJqRMTQwtVX6xFkigJ1w0eRLUtMH8xNTikWANdTe0z5pSjl7Ru5ZQ9yXteGz+spxarpqipvU48Ik0JMvnfiEMrK1PgtCZBAVxO4nEFsvQqlbwQpZ1RYMY1RJYrpANKB1CvGfr2Yw/Gtt3Z1k/HkSSAoApRiQZEtL5dSLIDnOp+ezSjFyq/XWtacHP+EXYq9eK6W3QHos08OzMrc1MZslFKEzcdMQVZjwUtuTilW6SZ68TBSsfdjwJRhVyOy8f2Y+tphFCrt5/N3lGIBdZ6vziHt1r6Hgs+bZv2vBKXYkv1UxQ2EEHtuag8e/+CQrSOWsqvadz8iECpWlF+SAAmQQMsQyCO5WQixcaTdhlbKWSydssyn+tcjxs7NTGt9vJBj/CEBEvCXAKWYvzwrldZOUuy1b0chnlO66XV/6p+6KrpWRE5/88yBSpds1d+dunuH7Vnsl+cWqt5X31CXYLF5YzdNgimwf5ZRZDUWvcTmlGI+Cyyr7PBruXlSLCAZtQTzrjzfJW5Ufl0dgTdOnaxbkHXiEMrqqHErEiCBbiNQODwCVR1CwlV6FZHZuQrKDcHOWFmrGDu+9cPaH9tCjvGHBEjAXwKUYv7yrFRaO0kx5hRjTrFK17Lzu1M7P2mXYgsvODdZ8rN1iKQ+lHIAiYtiN2MopYwaW7Kk2jagFFtC0PglthoppyslURu0SyNtat1Xa9/a7ltuXQWBegQZh1BWAZabkAAJtDmBHKZvUNC/3z3iKjc7BFWJIHa6GPh5VivGRHSYjPrlEMrAm4UH6EIClGLhNTqlWHOCLqzPXl7LHD7Z2H1w6l/Hzd/V4nf2L194vo4CZR4xPY2VHEqZnx0IbOikqCSlWBvIF0qx1u08vTrVWtZTitXRX9a4S7WCjEMoawTLzUmABNqQgBie0Iv4mfKq5w6PIKKoGJp1F2blezS+phoxJodOSjHGIZSNc2cJJGAlQClmpRHsMqVY6z7XUYo1du3/4N/utkmxXzx/trECQ9ybUoxSDLUInDC27UoJGOJN3+2HqiTIOISy268Onj8JdAMBPVJs5Ig1EqyIhZlh9Cgq+ndnYf0mDCJLiTE5dFJKMQ6hDKNVeIxuIkApFl5rU4pRir3weusMy0yc+iKeufA9X26AH3xqp12KnX3Ol3LDKIRSjFKMUqzJ1wAjxcLo6tyP4SbIOITSnRXXkgAJdA6B4nwMETWK0ZkU0o9MY3SwB4oSwcgj4UWIOWl6ibHzD83a/sgWYoxDKJ30+JkEGiNAKdYYv1r2phSjFOtUKXb6nn+1/b7++XM/rOXWaOq2lGJNFiLVRF51ZeRUG7RLNW1XzTaUYk3tA82DS0H22hNpcx0XSIAESKBTCRTOJhHbEkV0QxTDEwlk5AzoTTxhLzEmI8Ss7xxC2cSG4qE7jgClWHhNSilGKdaxUmzi3+xS7IfPhndjNXgkSrE2kC+UYq3beVYjvZbahlKswV6Mu5MACZAACXQMgWrFGIdQdkyT80RagAClWHiNQCnWus91Wk6xx27Bt88+hFYSV0HWxc/hk6f//VN2KfasS/LS8G61mo5UtxT73//9X4jXlStX8D//8z/ae01HbmBjSqLW7UyWEkDVfN+V7dvA/cBdSYAESIAESKCTCLz88EHbH9bWCDG5zCGUndTi3XUurRjlSCkW3jVIKda6z7GUYo3dB0/H7rH97r50JttYgSHuXZcUExLs7rvvxvXXX49169bh7W9/u/b+hz/8IZSqd6U0aYOItmqEVzXbdGX7hnLn8CAkQAIkEC4BkaPvyltvhXtQHq0tCQhRcO7LB7R8YVJ8LfXeinKhLeGz0qESOP+Nr0PM0tZKM7NRioV3CVCKUYoFGflVa9l+Roo9/ekJuxTLPhPejdXgkeqSYiJC7G/+5m/wZ3/2Z1AURXsJQSbWh/HTldKEUqzlJgSoRvBVs412PYdx4/AYJEACJBAyASHExMyBPz74EOVYyOzb4XD1iDCrKOMQynZoZdbRSUD0i49/cEh7eGwVOUYp5myl4D5TilGK1SqugtzeTyn2zK5/t0mxnz3ztL830nxM806xeX+LFaXVJcXEjnLopJRiO3fu9L92HiVSirVuZ1KNBFpqm65sX49rnatJgARIoN0JiKgIITIe/9D/pRxr98b0sf5icpOn7vyo7Q9oq/CqZplDKH1sEBYVKgHZL8rrvNlyjFIsvOanFGvd51gOn2zsPnjmMzHb7/SfPX26sQJd9s5MKFAGE/B7bqC6pZio4+Liohkp9t3vftel2sGs6kppwkgxRooFczuxVBIgARIIlIA1KoJyLFDUbVm4GGL7yrcP1y3IOISyLZu96yvt7BebLccoxcK7JCnFKMWCjPyqtWxfI8U++2m7FDv9gwBurAxiYqSiz2KsISk2OztrSrHf//73AZy0e5GUYq3bmSwVBVbN913Zvu6XOteSAAmQQEcQcEZFUI51RLP6fhL1CDIOofS9GVhgSATc+sVmyTFKsZAaHQClWOs+xzJSrLH7IHvvLpsUe+MHp2os0BBeRnouOSLR+z2GTI1H8Nq8bikmhk9u27ZNk2Ii2X5YSfbFiXSlNGGkGCPFvO5iricBEiCBFifgFRVBOdbiDdfE6lUryDiEsomNxEM3RKBSvxi2HKMUa6gpa9qZUoxSrNZoriC39zNSLDv5GbsUO3WypnujmRvXLcXEDJTXXXedJsW2b98e6jlQirVuZ1JNJNhS23Rl+4Z6B/FgJEACJBA+gUpREZRj4bdHOx1xKUHGIZTt1Jqsq5XAUv1iWHKMUszaKsEuU4q17nMsI8Uau/bPfO6zNin2+skAMuI3VkXPveuWYr/97W/NoZNzc3N44403MDMzgy9/+cvasucRffiiK6UJI8UYKebDvcMiSIAESKBZBKqJiqAca1brtM9x3QRZLUMonQ//Ujrw/e9tDzPk0Zo8gkrI77wv/vcPf2ifTsHHmv7uV28i+9lP+1hieVGUYpRiQUZ+1Vq2n5FiZ+L32n6PvD7v1+DG8vvI7zV1S7GjR4+aUmzXrl245ppr8Nd//dfaur/4i7/AY4895nddzfIoxVq3M1kqCqya77uyfc2rmwsk4B+Bc18+YPvlxIec1nzIYbu4twtnq/SvL+jUkqQgE3lMqv1xPvzz/nO//8iltbn4Lcec90U3SjEhxOY/Mab93RSkGKMUa93nWEaKVfub1H27M5+ftD135DNPuW/YgmvrlmKjo6OmFLvppptw8uRJLa/Y7373O02QXX311XjllVcCOeWulCaMFGOkWCB3EwvtZAKUYq39UMOHzurah3Ksk3up8M/N+fDP+7C6+5CcWovTD/51HL94/mz4N1CHHtEqxOS1HpQYE1JMPMu2yys/N9Cxz2DOYA0hxf7zmwP49tmHUGvEVbtu72ek2LO7P2eXYk99v216jLqkmMgn1tfXp0mx66+/HkKEWX+EJBOzBOzcudO62rdlSrHWNezOzqWez13Zvr7dHSyIBEoEKMVa6yFG/qHN99ra5fEPDkHk3RHDL/lDAo0SoBSr7f5jf9VavCjDGu0B3Pe/8pu3cPLuHbYHenHtByXG3GvRemt/+fwevP74pq6SYgePfoRSrM5L8dkvxG33UP77J+osKfzd6pJiFy5cMKPE9uzZY6u1mJXytttu076/5ZZbbN/59aErpQkjxTq2Q9auZ79uDpZDAhYClGKt9TDDh8va2oMyzHIzc5EESKAjCVSdaJ+RYYG3P8VYOWJKsec7PmLMz0ixH973eZsU++mJ75VfVC26pi4p9tBDD5lS7Ny5c7ZT+8Mf/gARPSYixcR7ED+UYowUqycCrVX3oRQLopdgmSRAAq1GQEu0/6H/a/uDyU0UUoa1WsuxPiRAAkEQqKZPZGRYEOS9y6QYs7OhFKMUs18RlT/9cM9u2994P/3e8co7tNC3dUkxmU9szZo1Wh4x6/kIKSaS7gspJiLGgvgREoEvMuikayCI+4RlkgAJkEArEVgqIoIyrJVai3UhARIImkClPpEyLGj63uVTjJXYhCfFMkjfrphBN8IjlL02xpAPeOSUyCkWzvDJZzCz5Pnei+OvBy/l/IwUe+7+L9ik2E+OP1m6mFp8qWYpJvKJXXfdddqFeuutt0IMl7T+vP766+ZFvHv3butXvi1PPHor+CKDTroGfLs5WBAJkAAJtCCBShERlGEt2GCsEgmQQKAEvPpEyrBAsVddOMWYjio8KZZA/K9cRJhVjnWUFDuEsRVLnW8bSrEv3meXYk8+UfU91+wNa5ZiV65cwZ/8yZ9o4uuBBx4oq/+DDz5oSrFvfvObZd/7sULIkHad4aGeevN8g7fk9bSLX/uI9uUPCZAACXQyAbeICMqwTm5xnhsJkEAlAs4+kTKsEq3mfEcxBoQmxV7cgxEhwP7qo8gGHA1WKZ1OaJFiL+3FJnG+K+7EwyFEg1V6ZvU1Umxqj12KPXGsOTdvHUetWYr9/ve/xx//8R9r4uvo0aO2Q4ooso985CPad/39/WVDK20bN/CBkqjzJVGlm7fTvqMUa6Az4K4kQAItT8AZEUEZ1vJNxgqSAAkESMDaJ1KGBQjah6K7XYyFJsUeux2qkES370OxG6TY3DYs0873ALIdJMXOTt1vk2KvHUv7cBeGU0TNUkyIr7/7u7/TxNfc3Jytli+99BLe/va344/+6I9w/HhwidUoxSjFOkmMUYrZuhF+IIEQCWQQE3+UKANIXKzjsPMxKEoMmTp2NXfRyrCE0A8mkDe/7IwFGRFBGdYZ7cmz6AYC7BuDbGXRJ1KGBUnY37K7WYyFJcXyX3qP5hainzuMSpFcQX8XVqTY8Qdu1M53TXyu6aPf/IwUO/sfX7RLsfTj/t6MAZZWsxQTOcR27typNeRdd91lVk3Isve///3aevG9+BzUD6UYpRilWFB3F8slgS4iIITUYAyxQQXKRENqqz5ohhCLzcvd80iIunSQGBMREce3fhjiIVAs84cESKANCLBvDLSRfr2YC7R8Fu4/gW4VY2FJscx2/Z+D44eewMLeD6D/nW/TnIL6zrUYie1D/tWnQ5FlYUmxxMf0870tOY9H992Mde9cpp3vsneuw6ZPH8Dx18J71vdTij2/d8omxS4+/l3/b8aASqxZiol6XLhwAVdffTXe/e534+TJkzh16hSGh4e1xtyzZ09gwyYlA0qx8G6UZsinbmxfeW3znQRIICwChoCayCA/O9B4xFcd1c5MuMi4iwkMKApKoqyOgltol9/+7A3KsBZqD1aFBJYmwL5xaUbcohsJdKMYC0eKHUbiBiGJ/hLRtVdDUa5GZN11iK7t0YdUioj+1bcg/XzwYiwcKTaHyX5xvr1Ys/YaKMo1WHn9GqxZ+w59SKV2vrdiZiGc531fpdi+/7BLse/aU221cr9RlxQT0WKPPfYY/vzP/1wTYWLK1Pe85z346le/GmiEmATZjdKkGXKqWcfsxvaV1zbfSYAEQiJglU/WZfPwxvAhW9SW8bAoh0xqkV6W4ZNGOaVpxC3fmeUutaAft1Ok2FJny+9JgARajIC1P7Qum9Vk32ii4ELXEeg2MRaKFFvch1EtlYUC9X07sfCiRX49P4P4Bj1qTNkYQy7gfGOhSLELB3Czcb7LBifw6EsW+bWQwNjf6lFjysZ7MRdCvjFfpdh/7rVLsaP2VFut3GHUJcXkCb355pt46qmn8Ktf/Srw6DB5TPHejdKkWYKqGcftxva1Xt9cJgESCJ6APTqsFBlhO7LjgVDfx5J/zCrFHNuKcrRIMJtUs5Xu/kEr03IM9624lgRIgAQCIcC+MRCsLLSDCHSTGAtFip2KYXjdu9Cz+nZkzluEmBRg5/dh9CoRWfU2jB/KBDqMMhQpdvpe3HT9tfjT1duQeNkixKQAe/kAbtbOdxluSz4TeM4xP6XYC1/aZ5Nir859p23u/IakWLPOshulSTPkVLOO2Y3t26x7icclge4k+q+w+gAAIABJREFUUC7ByoSXAcZ8QDSk18CsJQ2+VYr5IrOMetUq0rqzEXnWJEACvhNg3+g7UhbYkQS6RYyFIsWk/KrwnhkzcoztSLS/FJPyq8J74i4jx9gnD7WXFNv/n3Yp9p3H2ub+pxSrcEE2Swo5j9uNksjJoJM/i/blDwmQQIgEXAWWPiTIJr20KhlDhUSou1NWWaUYStuVl1HduWmRZfXOhFndIbgVCZAACXgTYN/ozYbftDeBK3lkZmOIHfRvkoNuEGOtIsXye6N6yqaxma6QYsf3vVs/37sSbSXFFh74kk2KXXjsSNv0G5RilGKB32y1Cq1ulIBt02OwoiTQAQR0+aTP/FPK/2V8doovwEjE75L83ibFBBgjysLIFSHKrjY3GIVYB1xYPAUSaHMC7BvbvAFZ/XIClxaQmhxCr6qgpy+CXiWCqbPlm9W7ptPFWGhSbPEJFBZdhk4a0WO5+ztMil2Yx8kLLkMnDS8x98U2lWLT++1S7Eiq3lsr9P0oxSjFKMWafA0wUiz0fo8H7GoCXhFhANyiJIxhk7o8cyTOL5NiVrBSkC2dH4xCzMqNyyRAAs0hwL6xOdx51CAIFM6nMLW1Hz2KAnX9MKaO5bGwvx/KDdPwL1ZMr3kni7EwpFj2U3+pR0Vt94oCyyB9u/6Py4G9c20fKfbwPb36+X7MKwrsGcwY57th35OBP6f7mVNs4cADNin2SurbQdzegZRJKdZkIVJNFFU3Rk5Vw6VTtqEUC6RvY6Ek4E7ATXyZWxpDICcyxhprji/nd1KiOUSZWZZY0PepFC1GIWYDxg8kQALNIsC+sVnkeVzfCBSRn5/G6A09mnToGYwhMW/kAS2mMa4qGH6k4NvRrAV1qhgLQ4oVD90CVUTYX/UBpN0S7Z+KYUCLwF+L6Yx3NBkq5CSr9rswEu1nk7dimXa+N2PGLdH+6XuxQTvfdZiY944m8+s52E8pdm5m2iHFHrXeJi29TClGKRa4ga71pu1GCdjSvQQrRwIdQ8AqudxPSpdUhuhyPiRqny1DIrXPHtuawy69pZlXcn/3mnEtCZAACQRFgH1jUGRZbggEjHxhQytUKIqK3hU9UFaOI3O5dGzt9606jnSxtM7vpU4UY2FIMfz0MKajeiSY+r6dWHjRIr5OTWJktf5dZEcCRR/EVyVBFoYUe+H1OUwY57tscAKPvmQRX6fvwybjfFd+8hCyIXgKX6XYlw/Ypdi3D/t9mwVWHqVYCBdbrVLIuX03SiIng07+zEixwPo3FkwCdgJuM0jatzCGUCqIfSuh/2fSjBrTN7RFdlmlmPjakGalPGWVhk4akWfafwONfGaW5XqT9TtPh59JgARIYEkC7BuXRMQNWpVAEdldEShKD/rHppHRAsNySG7pgbo+ZoixLOIrFayazAZ+Ep0mxsKRYk8Dp/aY8ktRrkZk3XWIrr5aH2aoKIjcsge5gIWYkGXhSLHn8cLpvab8UpRrsPL6NViz+hrzfFcO78VcSI7CTyn24n/N2KTY4qPfCvye8+sAlGIhXXCNSB1KMYtBb4P2qrWtKcX86s5YDgmQAAmQAAmQAAmQQHcRKKJgiQrTz70kxlIHR6Eq/Zg+Hw6VThJjoUkxIbxenUM69n4MmDLsakQ2vh9Th4LNI2aNHAtNionn2deexMynN2GDKcOuwcqNm3B3Mvg8YtZnVV+l2Fe+bJdih/87nJvOh6NQirWBZKEUoxTz4V5nESRAAiRAAiRAAiRAAiTQJQR0MaZFb29JwppNrDCfRrZMpPmHpVPEWKhSLIRIMKsAc1sOVYq1iIPwU4q99OB/2aRY7lvf9O+mCrgkSrEWuSCtxta5TClGKRZwP8DiSYAESIAESIAESIAESKCzCJyJY5WiYvyYPZlYdpcKdXsK9rX+nnoniDFKsc5+BhXOwVcp9tWv2KXYfz/i700VYGmUYpRiTLTf5GuAwycD7OFYNAmQAAmQAAmQAAmQQBcSKCC1VYWyMg57NrE8kpsVqLvsa4MA1O5ijFKMUqyW++Klrz1ol2LfTNaye1O3pRRrshBxRoW5fWakWGd3SJRiTe0DeXASIAESIAESIAESIIFOI3B+Gv2Kgv6ZnOPMsoipCkYOWwdUOjbx8WM7izFKsc5+BvU7UuxHia/apNjLjzzs450UbFGUYpRijBRr8jVAKRZsJ8fSSYAESIAESIAESIAEuotAbqYfijKM5CXHeeeTGFL6ET+SQfqRacR3jmBgy5Q9x9ilDBJHnTLNUU4NH9tVjFGKUYrVcJnjR7Nfs0ux5KFadm/qtpRiTRYibpFhznWMFOvsDolSrKl9IA9OAiRAAiRAAiRAAiTQcQQKyDx2Eq8vZkvya0MEPYoCLfm+oqJ3fRQDW8cRvz+B9HkZOVZEarsKdeMUFq74B6UdxRilWGc/g/odKXb+6wmbFPvxwwf9u4ECLolSrKIUm8ejM9tw09p3YJnWgTZnqtRmSbHsN27WzntbKtwOIbTzfWkO+2xT4Sr409XvxqZPH8Dx18I7Z0qxgHs5Fk8CJEACJEACJEACJNCFBIwZKJdHEN0yivhMEqnJAZc8YwaaSznkxKyUVwooBDA7ZbuJMUqx8J4HnUExYX32M9H++Ydm7VLs0Dfaps+hFPOUYvOY2Xat8Z+EZXjH2jVYs/oa8/O6ew4h67mvvzdQaJLIcj7Zx+/Euqv0/6R0pBQ7fR9u6pH/KboGK69fgzXXX4s/lf89Wr0J+077245enRulWNv0l6woCZAACZAACZAACZBAGxPI7l4FZWsKMi7MPJVLaYz3Kehx+87cqPGFdhJjlGLhPAt6PSOGsd5XKfaNr9ul2MGHGr9hQiqBUswigqwX3vEHbtSjw1bfipmF0g1x8skJ3KjJomuxbe6ZUPJxhS3F5mY2YaWUQ4qCzpNic5iI6kJs5ba99qiwlw5jYnCZLj833ovjHteH9VppdJlSLKTejochARIgARIgARIgARLoYgL6zJPR/Y58YYYQUzfG7bnFAiLVLmKMUqzkABp93mvV/f2UYj8++JBNip3/xtcDuoP8L5ZSzFV6HMLYCiFNejH2ePnNIIcVKv94H0667l++TyM3QlhSLHvmAMY2lqLhlnVqpNjjd6JXSL8Vd+Jht/Z7+QBu1s59DSbm/W1Lt+uAUsz/jo0lkgAJkAAJkAAJkAAJkICdQAbjioLRo8XSahchVjiXQfpYFnnLZqUd/FlqBzFGKRb8c6Dbs2GY63yVYoe+YZdiD836c7OEUAqlmJsUkdLk+gnMuX3/egK3aZFUm7DvpeBvlnCkWALbjOiwZWtvxuT3D2NyY2cOnzz+4M36UNi7Eh6Rfk+Geu6UYiH0dDwECZAACZAACZAACZBAlxMQOcYGMH3ewOAixLL3R6EqPYis74WqRhGbD86MtboYoxQL/jk/TAHmdiw/pdjLDx+0SbEffT3RNv0NpZiL9BJDJ7VZST7WOtLE7SL2d90hjL13GyZTTxqiKFwxZD2XcCRgpU5uDhPXhycEKcXapr9kRUmABEiABEiABEiABNqaQBFF4blchBiQRUxVMPCgPryycCKGiDqExGJwJ9zKYoxSrNLzYmd856sUSx6yS7HZrwV34/hcMqWYixR7+J5eTYr13nPII5LoeSTu0qXJhn1SIgV3YzRHEnWxFJORglfdipkLwbWrFIGUYj73aiyOBEiABEiABEiABEiABDwJFJGZiMDMIXa5gMIVsXEBqa0KlC1JMxF/ZqcCdSLjWZIfX7SqGKMUC/45UD4PNuvdVyn2yMN2KZb4qh+3RyhlUIq5SLFqhFc12/h1cVOKhdghvZzAttW68FwXn/OUon61rSiHUiyUvo4HIQESIAESIAESIAESIAGDQAGFy/pibqYfysZpaPFhZ+KIKKqRd6yI9JgCZSyN4AZR6nVoRTFGKRbiM6iLk/DzedOrLD+lWO6bSZsUe+lrD7ZNb0Mp5nIBViO8qtnG6+KrdT2lWEgd0suHMPa3+syTywbv9cgn539dKMXapr9kRUmABEiABEiABEiABDqMQGZCgWJGgwkRpkLpiyMrzvNSBplz4Zxwq4kxSjH/n/tq9QBBb++rFPvvR+xS7KtfCefG8eEolGKUYh7RUF02fHLhAG5bK4XYBB59ObxOkFLMh56MRZAACZAACZAACZAACZBAHQQKjwxDucGIFBP7n59Gv6IiNl9HYQ3u0kpijFIsvOfBoOWXV/l+SrHFb33TJsVefPC/GrwbwtudUsxFis3F12g5xdZUGD4nI8VufIA5xbxusnrXhx0Zl/3+BG7q0YdM/uk/3ou518LtACnFwuvweCSDQCGH1MwohjdE0GPMOquImZY2DGN0JoWFSx6k5mP6JCSDCeQ9NumK1ZcziPUpiOzW/odsO+XC+RSmtg4gukLVWSkqetcPI/bIgpmfxLZDox/yae14keV6H6Ysj2Bg6xTSF4MY6FFA7sgURgaj6FWN46m9iG6JIXm24HImOSQGFaibE/qQFJctuIoESIAESIAEmk8gh8RmFZE7kli4XETh6DhWVSvFigUUCgUUtZxk/pxJq4gxSrFwnwnrfXZuZD9fpdjh/7ZLsa982Z8bIoRSKMVcpFh3zj7pvOm7I1Js7sFNWKlJgWVY88kETrpcD410NNXsSykWQk/HQ5gExExKUSk0TCFmCA7zcw+GZxbK82dQigEwhlWoo0gbuUgk3NzscEkyLo8guiGKaF+PIceUUkJfuUOD78X5GCKyzeTxTBnXg+GD+uxZDR5G3/1KDoktpXPp6Ytq52fKOEVF/+5s+TVj5GYZmvWxLr6cEAshARIgARIgAQuBywtIbI9C1X6vqohuT1X+h07Bur0CRY1i9LB/v+taQYxRijmfjzvvs59S7JVHv2WTYuf+a8Zyg7X2IqWYmwSRsw9eP+GeV+rCAdysdZibsO+l4G+OsCOndJHT+VJs7os3YpnWjtdi00w4SfXdJBmlWGt3kh1Vu4tJDGlCTPyxN43MYsEiMYooLGYwbfmDcOSwI/qHUgzFE+K/xwoGZu2xcsXTUlBFMH4kb+EKIJ/CeJ8uHlW/kvVa2nJovz0KLX9k3JBlEcTP+HEFF5HdFdHlXt84Uo4otNLxZGJi6zGlRBxByisC0bo5l0mABEiABEigmQTETJSOf3o5q1M8N43h5QrU9aNInNH/ViqcncaQGkHstH+R2n6IsStvveWsftWfKcWCf853ezYMc52vUuzbj9ql2JcPVH2tNXtDSjE3Kfb6IYytEA8wvRh7vPxmyH7jZl2m/ON9oUQWUYqVt0GjncXcPkOIXbUG274175FXzf/jutWbUqzZ3WD3HD87uUoTG5XFjD5NuSKE8QZLfg2BqeulWBZxIbdWGsl3zUvHmJ1KURDdu2CutS1o+UnE75UBJC7avqnrQ3Z3pbYsIr1DH765ymWIZ80HLKYxqv0DIYopj2TDuf39ujRzG1prnLu6I/jZu2o+N+5AAiRAAiRAAjUQKJ6Jo19V0LMlgZxjyKT2u3lnpobSlt60ETEmhNhzU3uWPojHFpRi4TwLuj0fhrXOVymW+jbmP34n5j8xhvkdd+HczLTHldV6qynFXKXY8xBDKLUootW3Yt9zpRvi5JMTuPEqXZhtSz0TikyhFCvx96WDOHOf0YbXIqw2rFRvSrHW6xg7s0Z5Lb+TkF3OKKey8z0/jaiioKdv1B7d0+VSrHB4RBtWEd3vHB6RxdRGPc+Wd1LeHKY36NFi3tuUtYTHigIyu4e1oZmjR93/I517cECXVOZsWh5FVbP6zBT61/dCVWLw/FPfuGYU120KSG4R596P6fPVHJDbkAAJkAAJkEALElhMaBH3kTvch1ZqUsyviHDL6dcrxl57Io3HP/R/LSXVtkgp5vMzqId3qPScGPR3fkqx2q6u1tqaUszz4pzDvuFr9YcKZRnesXYN1qy+xvy87p5DyHru6+8NRCnmL8/EXfosk1okjBb9oD+oun3elvL32G4dG6VYa3WKnVubPJKb9Wt91WR5gviqztsqxa7kkZkZxYDMmVUx4bpeukhCPz2myxzzfhO5sDwStedndbGjSTyRu2Os30zw3tM3gJH708g7/ktrO4/CApITw5ak9z2IDI5g6kjOPen9xQQGjD6hXFzlMH2D4BetU+xkEV+p8y8v21ZrHz7oCe4F4/4Zp8DzoXi3Is7EtWGl7lIM0Gb2UhTUfe25HZPrSIAESIAESCA0AuLvKNV78pjLaYyqCoYfcaSe8Kl+9Yix7L27tOFsb5w6WVcthBQ794DSVa+DRz8C8WzWTa9nLnyvruujk3aiFKsotubx6Mw23LT2HUbuqWuwcuMm3J0MfsZJqzyhFPNTTMmhsd4izHxYVxRQinVSd8dzkWJCzDQ5MFlhlkkvVFKKbRjC8Hp9eJ5MuG7ORqhEEJt3Ri8Vkdklk9cqUFfoSdqjttkvVQwdtOfpMqXYxBRGjJxc2vG0qCX9HlbXx5Bxyf0hktCbEwoIYSeS3lv269mSLE+gW0mKyeGPZUMnvWA51sv9fRo+6Sjd+CjywqURH9QT4qvr48g6m8J9x4bXVhw+KUqXbOvl13ANWQAJkAAJkAAJNEBA++ePVwoEffZKpc+ZXqGB47nsWosYE0Mnv/O+v9dejQyhdKkGV5FAxxGgFKsoxfyUMfWX1RwpVn99rUKvnuVuPN+O61l4Qi1KwPijzRIhqa7ox8jOKSSOZJFzkUu2E5FSTOzfN4LEWct/Q6/kkRrT81yV5SKTUUTqEKat+4jCxX47jCTuDmEipZgmqvtGkFy01EYkrzfEnLo1ZY/8MoY3KIqKof1ZFKzRZJcyiG/UhV5kImNPiC/FjaLAGc1l1qWuXCEl7mV1tZxSI4syx5iU+pGxVOUoukYO5tzXwrtscgZzWxkpt8qn5P9mwVwgARIgARIggcAJaH8HbE7C/u87cdgC0uLvGHUICevfKQHVqFoxJoZOSinWyBDKgE6DxZJASxGgFKMUCyUvWi1yjFKspfoIVqbjCBSwMDuK/uXu0ZKaJPMalmhKMQ+xYUqlISQtfzVm9/Zr+a88h84tymGL9v1MEeWVi8o8njVXlSXJ/E6H9JJtaQxxqCXHVWanzmvJfGzyGOa7ZeKCAP9gzkwY0XByOKvICTc4hexSotOsZ50LlzOIyZk1NyfKo+/MYkuTETgjAs1NuEACJEACJEACLUpA5BVV3uv4PXclh+QdQohFXaLkgzuRasSYHDopxVi9QyiDOwuWTAKtQ4BSjFKMUqzJ14CQgPwhgfAJFFE4l0FyZhwjgxH0WKLHtGij5cOYPucYeyelmBqDe1ayDGJaOV7DC7zO0n0/U4o5I8HMYkqiZeBBmTsrg5gqBJaHuNP2Le1XnaApTVLgjCAzq+K6YB026jas1HWnxleKKLqqRFWDhxJCzIjWU/rch7Faj5DdpUfoKX4k/7cWzGUSqIZAIYfUzCiGbcO2exDZMIzRmQrDyWW/5zazajXH7ZRtDAEecZnRVuSLnNo6YMnfqKJ3/TBijyzYo3h9YhH28fLHpmy/J82clo5fkfrp6Tkd1Yr/JPAJBIsJl0Axi1ifiv5daeQKeSwcm8ao+B3o9vdSCDWrJMasQyelFOMQyhAahYdoWwKUYk0WItVEUHVj5FQ1XDplG0qxtu0/O6viV4rIn0sjMTFQEmTqSI2zT7rLLSeoYqGAwmIW6WNJTE+OYtiMbrLLNCnFSsLLWRJQNsuiGT0mHspk7rLy94iMlKtK0MjzKh9WWV4jucYYTqFJwghiJyxDTeUmQb6bOczUsqGgvhz2UtoUb5oQq+L0ZHtSivnSAiykBgKFE5Ycg85/AJifezA8s2AfUi2OQSkGQPwjQYWijiLtiD7NzQ6XfmeIiVNE/kazT1egboz7GrEa7vEskb7ajMz67xIzh+byYfuwfnlNnokjIobvz8p/1sgv+N72BEQKhk1iNmYFitqLoYkkFqr4/RfUeXuJscyd282hk1KKcQhlUK3AcjuBAKUYpRgjxZp8DVCKdUJX2mHnYOaIcsxeuOTDoZRHdrml0cmnMbW1v/TwZD6IKlCW9xjr7ftJiVJpyKLcxhQtphRzHx4qc26Z70FIscsLmN5sREWp/YifcQ0nCPiiySHxXmPIpxlF588hi+emtSnpBcNaHnjNtnLNyeJP3VgKCZQRuJg0rlcV0e3TyCwWLOJLTE6RwfR2ORGIirK8eEv2e2VH7LgVxRPj2uyyzr64eDqGiNaXRzB+JG/hCsAasTqWtn9XJ6Gwj5c/OGTID0c+TGsuTNfE6lIiOv6xVOd5czcSqETAS4xJGWZ95xDKSiT5XTcToBRrshCpJtqJkWLNS/pfTfs0ug2lWDd3weGde/7wqD60xXMoor0umQmXoW5LPhy6SzExE6T+4CQEWATRLaOIT04jeSyDhbwQRhmMaw9WtUux3P4oNMEl5ZYpxUaR9s1FyfOqIlJsMWXOlCkmI0iFkHTX3nKlTzIPmrrLfbBracvql3KHR8y2jNyRqpBDrLxMU4rJtirfhGtIwHcC2Ul9AhC1opixRARtmLZf10v2e75XucUKzCIuhmM7JkLRo8d08R7du+BeZzNi1d63u2+81NrSsPdwjicnB1ExetTll0kxjfFKQ/WNc1d3+CMEl6LD77ubQLVijEMou/s64dl7E6AUoxRjpFiTrwFKMe8Oit/4SGA+pv/HWxlByjH8xe0oMv+TTags+XAo5ZH1AUg+WCgQsz26jjIwRZZ1P8CUKJ4zPhaQ2mpEQ80amf2LaYxqgq1STjG3M660rpRTbPxEhe0Wkxg2hmXWEkFVoUT3ry6nMb4hisjyKKbPu28C5DC9QWdTXd40r3JK63MH5TApFf27szVHfrheU6XiuUQCARAo3bvOKKeyg52fRlQbIjda47DxspI6aoVILi6GikX3O4cCZjG1MQoxlNA712KpH/LeplpcIR+vkEF8i+hnvf7BUorGdT+3ApJbRB9snQim2nPldiRQGwERAfbDPbsx9w83lQ2btEaKcQhlbVzbaevf/uwNiBd/6iNAKdZkIVJNlBEjxRgpVt/tzb1IwEKgmEFspS5JIjvS7nJKbm7Ozqhi/JjlP+T1SLFLSQwbQyXdHxwsecEUDynmksdGq6o5a6V1vwJSd+hRbt6RITlM36Cgpy+KkYOWaTLl+bu8y6grz/xmzlkYr7gU4tsqvf4iQs5rRk853ElRhpG81PiBS9F+KobqGo5ZMAWmX5Ku8bNiCZ1PII/kZr3f87pXlmRg7feu5JGZGcWAzJml9iK6JYbkWVfdrxUtksJPjw3b8mzpEbPu+8l/BmgSr7CAxFi/Jp7E/W4meK/UvxQWkJwYtiS970FkcARTR3Lu/b75Twk3uSX7mkoCvhLB0j9FvPr/SnvX/l2IxzN//3hLr8Ijw1okc93XXu0AuEcXERAi7OzU/RCiyyq+llrmEMrOvUiOb/2wdk1QjtXexpRilGKMFGvyNcBIsdo7Lu5RH4GS2FCgrh/G1JEF5K1RY5fzWDgSx4CMdnLmfrI+HLpWocZIsSsFZGdLw/EULykmc1dZnzst+WoiuxxRS+aQHRXRnSnkrQ+QxTxSOyL6kEunbKvwcChyy2jDNF2HYImhV/oQrWpmYbSjk8wULBnJYtmxeHTUiPyLYOQRewRHYT6Ofm1Yj4KymeJkGzpYW4ouX7QK1YlMzRFieoHyYbXeh+vyanENCVRDQIoJRenBwGSFWSa9CpP3zIYhDBuzrQqhLhLKmwnXFbfZZa2zzypQV8gJP6yz/apwSmJTik1MmUOxteOtN5J7i/5wvftsr6KPjxr3vkgCriW9t+zXsyVpHxoqzrlCvwfZl5YNnfSC5Vgv96+lv3EUUdPHMI5XLCB3TP6eVBGddPz+sVZYsq2Xn7UsLpMAgHpFmFWUcQhl515Krz2RNgWpEKaUY9W3NaVYk4UII8XKo8C6MTKu+luWW5JAYwQKR8dLD01GBJcmexzLPVumsWAVZuKw8uFwMAH3+CopeKyRW4CZrFgcQz6obZAPhiL5dQyj2lA/FbHTpfOTD4fK4JCZKFubUXKphzwA9vPsQUTMiGYeU9TDJQG+fIBRXCIm5HduDzeWaDg3ls519ogJyaw2KSby+SzMyOGMRq42cY4rjFxwihCCLhGBsg1reEgtSQU94sZ5PvbPMWRKTVhaMoamleclKm3CJRIIhkAOCTnxhdHPqSv6MbJzCokjWeSc/ZyzEuY9o0DkCUxYo8JEwvUxQ4g7c5GdiWvJ6RXVkaRdlG9N1O7oU8x+T9S1b8Q+u6H4Z4Ah5lRnfkhzghQVQ/uzKFj/GSBmzNuo9w1iGLsl/reiFDPr4jmE3QnL+rnEvayu1s18Ww76eFLsy34wgtHD7r8JS6ck9/FzOH+pdC51H4Erb70FIT6y9+4y5YdVeFWzzCGUnX3diGgx63VAOVZde1OKUYoxUqzJ1wAjxarrrLiVjwSKeWRm4xgZFPlS5B/4eiTDwNYppM5ZQ7Isx5UPhzVKMVFC4WwSsS1ShOkSRzvWef1YMhm2dZiJ+UAmErNfymizV+qRGSp6N45g6phjtjNLVbXFfAYJMYxIDnUyhx+lkHM7RSm+3KQYZH4Yl4cbycUhFu2yqMTZHymmn6wYmjW1daDUjksN5zLraheXTnTWz5mJUt29zqm03l2KybZctdu/pP/WOnKZBCoTKGBhdhT9lv6udM2Kvq8fI/en7VGlskDznnG598U2Zr8xhKTFkWT39mt9j7VPk0Vq7+bwO/t+8l7xzEVlHs86bK+I9A5deq3a6ZBe8qDmsHjrfvJL93dz2LjM2ei+mctay8QF6hASgU84EsbxMogZ0X6l35s9GLi/QqQYSpMDOCMCXaBxFQnURKARQcYhlDWhbquNrdFilGPVNx2lWJOFCCPFGClGKVZ9h8Utu4uA+XDYIrMVFo+Na0MWPR9yG2ge8fBZy/DJBg7f4YcaAAAgAElEQVRlzPZZvRRr7Fhib5mXyJ/8Zo3XhyV0L4EiCucySM6MY2TQIuml0F4+jOlztjiqUoSsGoO70pXRnrXeU+77mf2eMxLMbLSSaCnlOMwgVmkmRG3f0n7VCZrSJAV2kW9WxGPBOmzUbVipx251rw77eHpF80fGjZl4VQzN2oewW09FTjCitMjvMWvduNw5BGoVZBxC2Tlt73YmzmgxyjE3SvZ1lGKUYowUa/I1QClm75T4iQQkAfPhsGUeJgy5o44j7XhulnWu712foW30qK+FeldFG8roNaOa9251f2MMI1vlHLZVd4HckQR8InCliPy5NBITA+iRYkwdqXH2SXe55axhsVBAYTGL9LEkpidHMWxGsNplmuz3SsLLWZJlchLZN5rRYyq0IebacHGZw6z0bkY4yf3Ki7askeflMpzcspV9sYC0zNko8qydcAvJte/R2Kewj2evbW5/v5Gf0j1CVmwt25NSzM6On4IjUI0g4xDK4Pi3Qsle0WKUY96tQynWZCHCSDFGilGKeXdQ/Ka7CbTiw4Sc1dHPqK7c7BBU30Wb17Wj591Rd6TteYW8Nm94vYhOUaE4RUPD5bIAEvCZgJmTS0H/jCXyRw6frGPYOPJpbdi3KdykeBPvy3sMEechxSoMWSzrG00pVuVQ5yCk2OUFTMvcbW45G31uLoR9PLf6m0NgBzyHiJpt5Zy4xq08riMBnwlUEmS1DKG8cOTbuHAkhQuPpXDhO0fw6ncew6tz4vUdvHr0O7j43Tlc/O5RXHxcvL6L19LfxWvHHsdrx9JaDrSfPHEMP3lSvJ7AT44/iZ9+T7yO46cnxOt7yH//BPJPidf3kc+I11N4fT6D10+K1zxePzWvTTLwxg9OQXud/gF+9rR4ncbPnnlae13KPoNLZ8Qri0vPnsHPxeuHz+Lnz/1Qe/3i7HPQXs+fxS9eeB6/FK+FF/TXuQUUzp1D4cVzKLz0ovZ680cv4c0f/Qhvnv8R3vzxefxKvF7+MX718sv4Ve5l/Hoxp79eWcSvX3kFly+8gsuvXtBfF1/F5YsX8dZr4vUa3vrJa3jrpz/Bb376U/wmL155/Ob1PH77xuv47RtvaAnxf/uzn6F46Wco/vwSij//OYq/+Dn+3y9+gf/3y1/qr0IBv3tTvN7E7371K+31+1//Gr+/LF6X8fu33oJo7yu/+Q2u/PY3ePIj/2TLLWYVYtblc18+oO3n86XXdsVRilGKMVKsydcApVjb9ZuscEgEzIeJqh7gQqqUliNGSJ5RpJdK0F1VlQpIbR/C1JmQosQupTC6aQpZX+pexQmeiSOiVB5eVEUp3IQE6iKQPzyqTz7hORTRXmxmwpiowtrn1CnFrLP9KssjiG4ZRXxyGsljGSzkxf2ewbgmyWqXYrn9UT1CSdbTlGJ+RoDWECm2mDJnyhSTA6SCziEW9vHsl4nlk2xD+yQxlg0YKWaFweWmEnAKslqGUB79x/dVJVissoXLf982zETk4I8PPtTVcoxSrMlChJFijBSjFGvq3wg8eAsTaE0pBuByBrE+BREmjV/i6skhMahA3ZyAJe5miX34NQn4SGA+puUBVJQRpKoQwTL/k7rLkj2sLikmZx1UIGZ7dB1EaIosdymmeM74WEBqqx4RZkasFtMY1QSbx2QAdSEt5RQbP1GhgMUkho0JDNSN8eCFe0jHK4qZmsWMxc5ZRa0o5Ky6in2yBOsmrteUdQMuk0ATCAhBVkuk2Nw/3NQ2gocyrn4Z181yjFKMUoyRYk2+BijFmvDXAA9JAiRAAiTQ+QSKGcRW6gIpsiPtLqckBXN2RhXjxyyRm/VIsUtJDBtDJb2S1OceHNCjvRQPKeYVjWodsndRVr6A1B16lJs65jU0Ws+J2NMXxchByzSZsgiXd3P2yQc9tLbxDwIxk6cmv6+4FOLnqjCPd34a/RVFYxGZnav0NtyS9Li2SgKzuskN/ITFskjAPwKUYvWLpnaSdI9/cAjnv/H1rowYoxRrshBhpBgjxSjF/PulzZJIgARIgARIwErAOoxRXT+MqSMLyFujxi7nsXAkjgEZ7eTM/VSPFEOFSLErBWRnR4yZC4Ww85BiQjSJyCtrmFk+hfE+Q/LtytrzApoSR0V0Zwp5q6Aq5pGSCfCdss2MWCtPqJ8/OKRLH1fRVkRmwpBCfTFkrEytDeC6XBqaaUa7uW5nXdnA8WQbOlhbSy9fNvIhCjHWN4KkdUjolQIyu/uNKMQI4mfK99bXyOsgiunzXttwPQm0PoGFAw9g4cB+LEzvx8IDX8IL4rX/P/HC/n144Uv78PyX9uL5/9yL5/f9B57fN4Wze8Xrizj7H1/E2an7cXZqD577onjdh+fuF68v4Id7duOH94nX5/HDL3wez34hjmd3fw7Pfl68JnEmLl734sznPoszk59FdvIzyN4rXruQ/eyn8Yx4fSaGZ3aJ17/j6U9P6K/YPXj63z+F0+I18W/6655/xQ8+tVN//dvd+MG/3Y1T/zqOUzs/qb/u3oGT4jX+CZwc/zhOfvLjmN9xl/76xBjmP3En5j9+JzJ3jeqvsY8hM7YdT925HU+NflR/fexf8P2PbcP3t2/D9z96B77/0X/GiX8RrxGc2DaCE3fcju/dsRXf+2fx+gi+N/IRHB+5DcdvvxXHt4rXh/HkR8Trn/DkbcN48tZhPHHrLXjiw+K1BU/80804NixeH8KxW8Trg0hv2Yz0zeL1AaQ/9AGISC8hth7fPISjQ++vOrqvm2WYvPsoxSjFGCnW5GuAUkx2R3wnARIgARIgAf8JFMRQOFWXSSKqyevVs2UaC065I4VKjYn2hVBS5bHUXkS1GSEjRnJ9FdHtMYxuEHWx56Myh40PDmFIq7Mxo+T6XrO8ni1J1yHJ9vPsQcR2TAWKWwL8ClIM8ruVcVgGlOoNZImG8+JpXW+PmKtDijVyPNmGNUkxMVR+AdNbeszrRUTZiXbsldeSGsX4Uau1dFy7cnilGz/HpvxIAiRAAn4SEJJtqSg1yrAScUqxJgsRRooxUoxSrNQhcYkESIAESIAEAiFQzCMzG8fIYBQRIypMSBt1RRQDW6eQOuchN6RQqVGKiXMonE0itkWKMDHjZEQ/1nn9WNlJPdJq1WRJOZlSTCTRv5TRZq/UJYyK3o0jmDqWt0eIOWHlM0hMDCPaZ5U5Axi5P4Wc2ylK8aWUR4oBBSS3CHHnkqtMcpHib4n3hqVYI8cz97VH5TnRuX8uIHdkCiODpXYU18zwRBILbjwthci2XMX8kxYqXCQBEgiawGtPpCsKMcqw8hagFKMUY6RYk68BSrHyjolrSIAESIAESKAbCUiRosiZJZsMoXhsXItQs4o7v6okcpZVP3yy0aOKmSLrkWL1HlfP4aYow0heqrcM7kcCJEACtREQkyiIYZRuUWKUYd4s21aKCZHAFxl0yjXgfYvyGxIgARIgARIggW4h0GpSDDDkjjqOtGX+gcbbI4fpDQpGj/paqHe1tKGMoz6fg/fhcCaOVYqCVROZypF9FYrgVyRAAiRQKwGRKN8pxCjDlqbYtlKsmmGHnbKNED+dci7VnEc3nu/Styq3IAESIAESIAES6HQCrSfFgOKJcU3w+BnVlZsdguq7aPO6OnJIbFah7vCamdNrv3rXG0n61RGkGCVWL0TuRwIkUCMBZ5QYZVj1ACnFmjx0jpKIOcWEBOQPCZAACZAACZAACbSiFAOk5BlF2jkRQV1NVkBq+xCmzoQUJXYphdFNU8j6UvcqTvhMHBFFxdBsroqNuQkJkAAJ+ENARolRhtXOk1KMUqzlotAYKVb7jcw9SIAESIAESIAE2p9Aa0oxMRNjBrE+BREmjV/iIsshMahA3ZxwnSF0iZ35NQmQAAnURUBEiYkZJ4UYE8v8qY0ApRilGKVYk68BRorV1mlxaxIgARIgARIgARIgARIgARIgAZ3Ab3/2BmVYAxcDpViThQiHT3L4JKVYAz0YdyUBEiABEiABEiABEiABEiCBuglkEFMUKPXOUDsfg6LEkKn7+AC0MkQdjNdgAvlGyuO+NRGgFKMUY6RYk68BSrGa+ixuTAIkQAIkQAIkQAIkQAIkQAL+EBBCajCG2KACZaIhtVVffQwhFpuXu+e1YdgKxZgEEvg7pViThQgjxRgpRikWeD/HA5AACZAACZAACZAACZAACZCAg4AhoCYy0HM6Nhjx5Si9mo+ZCRcZdzGBAUVBSZRVUxK3qZcApRilGCPFmnwNUIrV231xPxIgARIgARIgARIgARIgARKok4BVPlmXzeKMoZW2qC1DpMkhk87hk0Y55lBIuZ1ZZjUL+nEpxaph1fg2lGJNFiKMFGOkGKVY4x0ZSyABEiABEiABEiABEiABEiCBWgjYo8NKUWO2MhyyTN9nAImLxlZWKebYVmyhRYLZpJqtdPcPWpmWY7hvxbU+EaAUoxRjpFiTrwFKMZ96MxZDAiRAAiRAAiRAAiRAAiRAAlURKJdgZcLLKMeUZ4b0Gpi1pMG3SjFfZJZRr1pFWlXnzI3cCFCKNVmIMFKMkWKUYm5dE9eRAAmQAAmQAAmQAAmQAAmQQEAEXAWWPmzRJr20w8sZKhWUJcC3SjGUtisvo7rz0CLL6p0Js7pDcCsHAUoxSjFGijX5GqAUc/RK/EgCJEACJEACJEACJEACJEACARLQ5ZOCUu4vy7JLlJYeLeaS/N4mxUSFZc6xUnnV5gajEAuwwSsUTSnWZCHCSDFGilGKVeih+BUJkAAJkAAJkAAJkAAJkAAJ+ErAKyIMgFsEmS15vmOGyjIpZq2oFGRL5wejELNyC3eZUoxSjJFiTb4GKMXC7fR4NBIgARIgARIgARIgARIggS4m4Ca+TBzGEMiJjLHGmuPL+Z2UaA5RZpYlFvR9KkWLUYjZgIX+gVKsyUKEkWKMFKMUC73f4wFJgARIgARIgARIgARIgAS6koBVcrkD0CWVIbqcAk37bBlGaY0Uc24rBlPODkBRvKWZV3J/95pxbRAEKMUoxRgp1uRrgFIsiK6NZZIACZAACZAACZAACZAACZCAg4DbDJKOTfQhlApi30pgQFGgmFFj+oa2yC6rFBNfG9KslKus0tBJI/JMHMPlVW+yfufp8HNlApRiTRYijBRjpBilWOVOit+SAAmQAAmQAAmQAAmQAAmQAAmQQBAEKMUoxRgp1uRrgFIsiK6NZZIACZAACZAACZAACZAACZAACZBAZQKUYk0WIowUY6QYpVjlTorfkgAJkAAJkAAJkAAJkAAJkAAJkEAQBCjFKMUYKdbka4BSLIiujWWSAAmQAAmQAAmQAAmQAAmQAAmQQGUClGJNFiKMFGOkGKVY5U6K35IACZAACZAACZAACZAACZAACZBAEAQoxSpJsdeexMynN2HD6mv02SCuegfW/OM27HlyPtToKiFNqpFn/m8zh8mNYiaMd2PyTLm88v94+jHCOd9nMHO7+ywf5swfG+/F8UrXh0/fUYoF0bWxTBIgARIgARIgARIgARIgARIgARKoTIBSzEtsvJzAtrXLjKlRr8HK69dgjZRjyjKsu+cQsl77+rw+HElULr0evuda4/w7UYodwtgKSrHK3QO/JQESIAESIAESIAESIAESIAESIIHOJUAp5iqwRBSRLsSWDd6LuddKwujkkxO48SohU67F2OOl9UFFTYlymyHFsqltWKlIadSBUuylvdgkzm/FnXjY9RoIp21l+3ZuF8MzIwESIAESIAESIAESIAESIAESIIHWJEAp5iZEztyLDZoQGsCehXI5Mhdfo0VQLfvkoVCGNYYuxUSU3GoFyuobceP1Qox1oBSb24Zloo1vPxBaxJ+XOOXwydbsHFkrEiABEiABEiABEiABEiABEiCBziZAKeYixbJPTuCm69fgHcN7cdLl++P73q0PKxzeG4pQCVeKySi5a7FtrnNzih1/4EatDdfE50IRm15CjJFind3B8uxIgARIgARIgARIgARIgARIgARalwClmIv0qiQwXnhdSiMF6+4LR6iEKcVOPrhJi6Bap8miJzs20X7iY/rQ0NuS83h0381Y905juOw712HTpw/guGXIbOXroTySsNbtGSnWuh0ka0YCJEACJEACJEACJEACJEACJNC5BCjFapBi2YVDmLxtjT7sbvU2JF5uXIhUI1BCk2Kn79XzpW28F3Mal06VYnOY7BdSrBdr1oqZRY2JFNa+Q29bMaxy9a2YcRk6W0171boNpVjndrA8MxIgARIgARIgARIgARIgARIggdYlQClWjRRLbTNmYdSji97x3nE8/FI4QkwIlnCk2BwmB5dBuepGTJ6W59ahUuzCAdys5YxTsGxwAo9a23IhgbG/NWYdNeWg5BHMO6VY63aQrBkJkAAJkAAJkAAJkAAJkAAJkEDnEqAUq0KKnXzwZqy8fg3WXH8t/lTKlLU3Y58pj4KRJTLiKAwpNhdfB0VZhhv3WYeEdqgUO30vbhJt6RXt9/IB3KzNMLoMtyWfCTznGKVY53awPDMSIAESIAESIAESIAESIAESIIHWJUApVoUUk3JKe3/pMCaHr9Ujx1Zvw8MXghViYUSKZee2YaWiYNnNzokFOlSKVdHmibuMHGMhzDBKKda6HSRrRgIkQAIkQAIkQAIkQAIkQAIk0LkEKMWqECQ2KaZtfwhjK/ShlJsenA8lkqi8Dj7JuJcT2LZagXLVzZgpy5HWvVLMnGH0rkQo7du5XQzPjARIgARIgARIgARIgARIgARIgARakwClWF1S7Hkk7tKlWO89h0KRJoFJMUe+NMUYHur1vmHfk+19vrK9L8zjZIUov7kvvluPBqQUa82ei7UiARIgARIgARIgARIgARIgARIggQYJUIpJSWJ5f/iz67Bm9TVYE7fm17JHZiU+pkuxDV/03sYvkRVoTrG5cazR8qWJnGnlr3cYubXesVb/7uYH21+KPXxPry68PuYVBfYMZm432jckCdjgfczdSYAESIAESIAESIAESIAESIAESIAEaiRAKWaRYVJiZb9xsy5NVtyJh12+f8FMxN6LscftskyW4ed7oFLM7fzMdZ05fDKbvBXLRESc65DR5/HC6XuxQYuYW4eJ+XDat8b7lpuTAAmQAAmQAAmQAAmQAAmQAAmQAAk0SIBSzBRAVvlxCGMiz5aiYOW2vTj+muW75w5g298aSdgH78Nx1/0t2/vwPaWYvzxfeH0OE1G9fZcNTuDRlyzln74Pm2Tbf/IQsj6031KClIn2G+zFuDsJkAAJkAAJkAAJkAAJkAAJkAAJ1EGAUsxLepy+Dzf16OJEUa7BSjG0cPU1egSZmKnxb+/Ew2WJ6S1yxavcOtZTigXA9fReU365te/K4b2Yq6OtlhJgbt9TitXRc3EXEiABEiABEiABEiABEiABEiABEmiQAKVYJfHx0hz2fXoTNpgy7Bqs3LgJd8/O4WSl/Xz+jlIsACkm2ui1JzHj1r7J4POmWeUYpViDvRh3JwESIAESIAESIAESIAESIAESIIE6CFCK+SywrLLDr+XmSbGAZNQSzLvxfOu4d7kLCZAACZAACZAACZAACZAACZAACZBAAwQoxZYQNH6JrUbK6UZJ1AivdtuXkWIN9GDclQRIgARIgARIgARIgARIgARIgATqJEApRimGVpNI3SgB67x/uRsJkAAJkAAJkAAJkAAJkAAJ6AQKOaRmRjG8IYIeRebH7kFkwzBGZ1JYuOQBaj6m584eTCDvsUlXrL6cQaxPQWR3tux0C+dTmNo6gOgK1cgzrqJ3/TBijyygULa1Dyvyae14keVGOy6PYGDrFNIXiz4U7iyigNyRKYwMRtGrGsdTexHdEkPyrNvZ5ZAYVKBuTiDnLKoNP1OKUYpRijX5GmCkWBv2nKwyCZAACZAACZAACZAACbQQgcKJGKJSaJhCTIox+d6D4ZkFlGkVSjEARaTHVCjqKNKX7Q2bmx0uScblEUQ3RBHt6zEn4VM3xpF17GMvobZPxfkYIrIN5fFMGdeD4YM+qqgrOSS2lM6lpy+qnZ8p4xQV/buz5dfMmTgiioqhWR/rUhsm37amFGuyEKkmSqsbI6eq4dIp21CK+dafsSASIAESIAESIAESIAES6D4CF5MY0oSYiuj2aWQWCxaJUURhMYPp7VGommhRMXLYEf1DKYbiiXGsUhQMzNpj5YqnpaCKYPxI3sIVQD6F8T5dOKpjaft39V6FlrYc2m+PQssfGTdkWQTxM/UewLpfEdldEV3u9Y0j5YhCKx1PxehRp0qVEnEEKa8IROuhWniZUoxSjJFiTb4GKMVauIdk1UiABEiABEiABEiABEigxQlkJ1dpYqOymCkiM2EIkA3T9mFvXS/FsogLubUyDvvASSF+dOkV3bvgfhWcn0a/JhsHkLjovkkta7O7K7VlEekd+vDNVS5DPGs5jrZtMY1Rre5RTJ1z3zu3v1+XZm5Da41zV3f4JATdqxD4WkqxJguRaqKdGCnWnFkwq2kbP7ahFAu8n+MBSIAESIAESIAESIAESKBDCeS1/E6KS5RT2Qmfn0ZUUdDTN2qP7ulyKVY4PKJF0UX3O4cCZjG1Uc+zFZsvo2msyGF6gy7OvLfx2te5voDM7mFtaGZ5ZJa+be7BAV1STWScO9f++cwU+tf3QlVi8CzNuGYU120KSG4R596P6fO1H75V9qAUoxRjpFiTrwFKsVbpDlkPEiABEiABEiABEiABEmg3AnkkN+tSZtWkPc6p6jOxSrEreWRmRjEgc2ZVTLiuH0EkoZ8e02WOkHPaS+TC8kjUnp/VxY42VLGwgMRYv5ngvadvACP3p5G/UqH2hQUkJ4YtSe97EBkcwdSRnHvS+4sJDBj1KhdXOUzfIOocrVPsZBFfqZ9zedkVzqGur/QE94Jv/4xT4NVV4NI7nYlrw0rdpRhQeGRYa++6r72laxD4FpRiTRYi1UQaMVKMkWKB9wQ8AAmQAAmQAAmQAAmQAAmQQFsSkGJCUXowMFlhlkmvs5NSbMMQhtfrw/NkwnVzNkIlgth8eV6pzC6Zq0yBukJP0h61zX6pYuigPU+XKcUmpjBi5OTSjqdFLemCSV0fQ8Yleb1IQm9OKCCEnUh6b9mvZ0vSPjRUnHMlKSaHP5YNnfSC5Vgv91f8GT7pKN34KPLCpREf1BPiq+vjyDqbwn3HhtdWHD4pSpds6+XXcA0bL4BSjFKMkWJNvgYYKdZ4R8YSSIAESIAESIAESIAESKB7CeSQ2KzLLBmppa7ox8jOKSSOZJFzkUs2VlKKiWiqvhEkzloS8V/JIzWm57lSnLnIZBSROoRp6z6icLHfDiOHmUOYSCmm1bVvBMlFS21E8npDzKlbU/bIr8WEOaHA0P4sCtZosksZxDfqDCITGXvSeyluFAXOaC6zLjs9BxBaKudcLHEvq6tz0zo/yxxjsl0jY6nKUXR1Hsd1NwvvsskZzB1kpNwqn5L/mwWHtkAp1mQhwkix8iiwboyMC+2O54FIgARIgARIgARIgARIgAQ6kEABC7Oj6F9uDF+UwxiNd02SeQ1LNKWYh9gwpdIQkpagr+zefi3/lefQuUU5bNG+nymivHJRmcez5qqyJJnf6ZBesjUvpzGqzcJp3U9+6f6e2anzcs466b61da1l4gJ1CAmr2LNu1uByZsKIhpPDWUVOuMEpZJcSnQ0eF5cziMmZNTcnyqPvzPJLkxE4IwLNTVp8gVKMUoyRYk2+Bhgp1uK9JKtHAiRAAiRAAiRAAiRAAm1DoIjCuQySM+MYGYygxyHHlOXDmD7nGHsnpZgac8y+KE86g5hWTq1DBN33M6WYMxJMHg4l0TLwoMydlUFME14e4k7bt7RfdYKmNEmBM4LMrIrrQhGlYaNuw0pdd2p8pYiiq0pUNXgoIcSMaD2lz30Yq/UI2V1GlKIfyf+tBYe0TCnWZCHCSDFGilGKhdTb8TAkQAIkQAIkQAIkQAIk0G0ErhSRP5dGYmKgJMjUkRpnn3SXW06UxUIBhcUs0seSmJ4cxbAZ3WSXaVKKlYSXsySgbJZFM3pMRe96mbus/D0iI+WqEjTyvMqHVZbXSK4pIC2HhYo8aycsQ03lJkG+mznM1LKhoL4c9lLaFG+aEKvi9GR7KlUx96WWvhZCKUYpxkixJl8DlGK+9mksjARIgARIgARIgARIgARIwI2AmSPKMXuhjBQbTMAyOtJSgpRHdrmlbZBPY2prf0m4WSPTlvcY6+37SYlSacii3MYULaYUcx8eKnNume9VCRp5XlVKscsLmJa529R+xM84Iu4sxIJbzCHxXmPIpxlF58/RiuemjZxtCtSN8aqHaJpttTnpcf34U7+gSqEUa7IQYaQYI8UoxYLq3lguCZAACZAACZAACZAACXQ2gfzhUURXqFA8hyLazz8z4TLUrU4pJmaCjEgJtjyC6JZRxCenkTyWwUJeCKMMxl2GXUqJUkmK5fZHoQkuKbdMKTaKtG8uqgYptpgyZ8oUkxGkAsohZm8t908yD5q6K+u+QR1rc4dHzLaM3JGqkEOsvHDZnqbALN+kpddQilGKMVKsydcApVhL95GsHAmQAAmQAAmQAAmQAAm0LoH5GFRNPI0gVUXydZn/ySZU6pJictZBBWK2R9dRdqbIco8UUzxnfCwgtdWRAL+Yxqh2npVyitXaTKWcYuMnKuy7mMSwMSyzlgiqCiW6f3U5jfENUUSWRzF93n0TIIfpDTqb6vKmeZVTWp87OGxE9Kno3521z9xZ2sxzyfWa8ty69b6gFGuyEGGkGCPFKMVar2NkjUiABEiABEiABEiABEigLQgUM4it1CVJZEfaXU7JEzFnZ1QxfswSblWPFLuUxLARJeaVpN7MC6Z4SDF1FGk3kWfOWmndr4DUHXqUmzqW9hA3OUzfoKCnL4qRg+4DQSUK+S6jrjzzmzlnYbwi9wziXa+/iJDzmtGzeGIcqzTuw0hearwOpVQahzgAABR7SURBVGg/FUN1DccsCUy/JF3jZ1VbCZRilGKMFGvyNUApVlunxa1JgARIgARIgARIgARIgARKBEpiQ4G6fhhTRxaQt8qmy3ksHIljQEY7OXM/1SPFUCFS7EoB2dnScDzFS4opRu4qa5iZZYbFyC5H1JIlyXx0Zwp5q6Aq5pGSCfCdss2MWCvPHZY/OKQP03QVbUVkJlbp31cxC2OpRcRSaWhmpWGi9n2A4tFRI/IvgpFH5Myb+laF+Tj6tRk4FUR2O4ZOyjZ0sHaWb/tsFaoTGQ/RaNvD5YO8DipFt7ns1kKrKMWaLEQYKcZIMUqxFuoRWRUSIAESIAESIAESIAESaEMChaPjiBrCxEw2b0RyWT/3bJnGglWYiXOVQqXGRPtCKOlDNxUoai+iG8RskBFzKF50ewyj2lA/FbHTJahmDqrBISOxuzGj5Ppes7yeLUnXvFb28+xBxHZMUQ+XBPgVpBjkdyvjcGgmwBINZ2XotWyPmKtPigFFLMzI4YwKFJGrTZyjyBuntaeK6E6XiEDZhjVIscIjw0aZeqSh13np62PIlJqwtHR+GlFRLzd+pa1aeolSjFKMkWJNvgYoxVq6j2TlSIAESIAESIAESIAESKA9CBTzyMzGMTIo8lKVRIe6IoqBrVNInbOGZFlOSQqVGqWYKKFwNonYFinCdImjHeu8fqzspB5pZR0OaEoxkUT/UkabvbJXE3oqejeOYOpYvnLUUj6DxMQwon09ptTp6RvAyP0p5NxOUYovpTxSDCgguUWwcslVJrm4yEU3geSPFNPbpXA+hamtA6V2FNJxSwzJs24naBGbNUixzETpGnE7H/s6dykm23KVM3LNcnm1+iKlWJOFCCPFGClGKdbq3STrRwIkQAIkQAIkQAIkQAIk4BcBKVJaZbbC4rFxLULNKu78OleRs6yW4ZONHVfM9mnNw9ZYaUvvLXOg+ZPfbOnjBbNF20oxIRL4IoNOuQaCub1ZKgmQAAmQAAmQAAmQAAmQAAm0FoFWk2LajI43iKGX40hb5h9onJo+U+ToUV8L9a6WNpRx1Odz8D4czsS1pP+r6s5HVqHsEL9qSykWIh8eigRIgARIgARIgARIgARIgARIgARIwCcCrSfFADmro59RXbnZIai+izavRsghsVmFusNrZk6v/epdX0R6TIWijiDlwyyY9dbCj/0oxfygyDJIgARIgARIgARIgARIgARIgARIgASWJNCKUkwkuNclzyjSzokIljwjtw0KSG0fwtSZkKLELqUwumkKWV/q7nY+jnVn4ogoKoZm7TNkOrZqi4+UYm3RTKwkCZAACZAACZAACZAACZAACZAACbQ/gdaUYgAuZxDrUxBp46Tx4VwdOSQGFaibE64zhIZTB/+OQinmH0uWRAIkQAIkQAIkQAIkQAIkQAIkQAIkQAIk0CYEKMXapKFYTRIgARIgARIgARIgARIgARIgARIgARIgAf8IUIr5x5IlkQAJkAAJkAAJkAAJkAAJkAAJkAAJkAAJtAkBSrE2aShWkwRIgARIgARIgARIgARIgARIgARIgARIwD8ClGL+sWRJJEACJEACJEACJEACJEACJEACJEACJEACbUKAUqxNGorVJAESIAESIAESIAESIAESIAESIAESIAES8I8ApZh/LFkSCZAACZAACZAACZAACZAACZAACZAACZBAmxCgFGuThmI1SYAESIAESIAESIAESIAESIAESIAESIAE/CNAKeYfS5ZEAiRAAiRAAiRAAiRAAiRAAiRAAiRAAiTQJgQoxdqkoVhNEiABEiABEiABEiABEiABEiABEiABEiAB/whQivnHkiWRAAmQAAmQAAmQAAmQAAmQAAmQAAmQAAm0CQFKsTZpKFaTBEiABEiABEiABEiABEiABEiABEiABEjAPwKUYv6xZEkkQAIkQAIkQAIkQAIkQAIkQAIkQAIkQAJtQoBSrE0aitUkARIgARIgARIgARIgARIgARIgARIgARLwjwClmH8sWRIJkAAJkAAJkAAJkAAJkAAJkAAJkAAJkECbEKAUa5OGYjVJgARIgARIgARIgARIgARIgARIgARIgAT8I0Ap5h9LlkQCJEACJEACJEACJEACJEACJEACJEACJNAmBLpDihVySM2MYnhDBD2KAkV79SCyYRijMyksXHJvrfzsgL7tRMZ9g25ZezmDWJ+CyO7s0md8OYPxlYLxABIXl97cbYv8sSmMDJbaqqdvACP3p5Evum1dRGbnKih9MWQuu33PdSRAAiRAAiRAAiRAAiRAAiRAAiRAAiRQTqDjpVjhRAxRVYowr/ceDM8swOlcKMXEBVNEekyFoo4ivaR0MgSVJh3rkWJFZCYihrRU0NMXRXRDFL2y/ZYPI7lYfhHjUgojqoLIRKasDV225ioSIAESIAESIAESIAESIAESIAESIAESQGdLsYtJDGlCRUV0+zQyiwWLNCmisJjB9PYoVE3iqBg5XLBdEpRiQPHEOFYpCgZm8zY2bh/ktnokXu1SLH9wSG8LdQjTZy1tcSWP1A5DlvXF4RavltvfD0WJIH7GrWZcRwIkQAIkQAIkQAIkQAIkQAIkQAIkQAJ2Ah0txbKTq7SoI3UsbZFhdgAiEsqMTtowjZzla0qxLOJ9CpSV7iLKggq4nMaoEJCqakjGWqVYFnFt2KWK0aPOmD0RsJbGuCY4V7mLL3n8G+xtaKsjP5AACZAACZAACZAACZAACZAACZAACZCAQaCDpVgeiUF9uOSSUU7npxFVxHC9UaQs+cW6XYoVDo9ogiu636oK3e4dY4ilEkFsdgoD9QyfLGQQ3xJFZPko0i5ODMgh8V69PWPzbnUAdAmqYvyYawHuO3EtCZAACZAACZAACZAACZAACZAACZBAVxLoaCmW3KxLlFWTbgPulm5vmxQTyfonhxFdoeo5r5ZHMLB1CukKowrz8wnEtw6U9lEUqCuinvvJ42kSr7CAxFi/mU/LTDZ/xbvehbNJxLZYc3DpdUydtwxFtO5+MWEILAXloimH6RsEvyimz1t3Kl+W8kzL6WWWWWukWHm5tjWLsq793vU5E9eGeipbkvA4Y1uR/EACJEACJEACJEACJEACJEACJEACJNC9BDpYigGFR4aNpO09GJj0nmXSq/mlpFIGhzG8XAgiFb3rRfL30syIijqERFny9xySW3rKEsZH1/caQwtFWRHETtsjmuTxBiamMCKGLWrRa1FY91PXu82yWERml8yNpos3kaDeFHhKD4YPukR7mQLLRYqdn0a/iPhaauikkeTenP3RLNMnKVYsIHcsjgGDf3QyW2EobAYxbYjlMJKWiD+v9uV6EiABEiABEiABEiABEiABEiABEiCB7iXQ0VJMG3K32Yjs0ob0CWHUj5GdU0gcySK3xGyKUlIJOaVujNmjwgoLmDKGZyqOnGWmjOsbR8oZSVZYwLSs09aULaLJejylb8Q+02I+hfH1+rmojv1ys5YE9WfsMVKF+Tj6NVEUQWzeLuFgCqxyKWbWZWemwt2RR1I7F0vZZpmNSjGZY0yXg0Iijh52wnRWrYDUVn1756QJzi35mQRIgARIgARIgARIgARIgARIgARIoLsJdLgUE41bwMLsKPq1SCMpWErvmiS7P428y7BEUwwpHpFH8zFjtsSYZUbEAlJjepTW8CN2QWVeaifG9Sgy1bofUDqexxBBUzhZvrckoB8/4ZBexgGLR0f1etaQhD6zU2dUKR+bnC1SGzYpT86sY6NSLIPYChGVJ/KMyfbqwcD9lSLFgNz+qMZW3VXfkFl5GnwnARIgARIgARIgARIgARIgARIgARLobAJdIMVkAxZROJdBcmYcI4OW4Y9GBJmyfBjT5+xSyZRUm5NwjVEyBVAMleKpZA3Md4/9zOM5IsHM/fD/t3f/rnGcaRzA58/YVuDGkOLcaUsLXJzAjUDFqROuwlZBXBEWN0a4CMLFoeoQVwTkTlccSIVh3QTWRUDpnCKgFCm2cLGFiy1SPGF+7s56Z31rDWQifYqwmvW877zzeTfNl/d93rSgfRFWfV9shyyDuXXbHGejOMre8yAuVr7I/An5X/NDCj6tNVbc++t5HKQr0LaXtnNW73bbUKw+psnVMPrZO/Ti4PWKraDF7WlQl67sS/bPV89ZvVtXBAgQIECAAAECBAgQIECAwD0VuEeh2NIM/z6Lyc+jOH+xF1tlMNYbbHb6ZBUArQ/FZtNpTH4ex+jqPE6fD2K3LNaf1NuVodheGXgtDTm9vPl+Lw99XuQxXNkm6T3MVlVltcTSemK1/+YhYGPIVXvWOI4Lk9X338T58rbJsn1l0m4olr37v3erFXaNIeS7Y6FYORc+CRAgQIAAAQIECBAgQIAAgUaB+xuKLZKUq56SJHb/M1+FVAVORQC12CT7uwqA6uFW+m/ZSZD/WCysX24BTKL3YKsouF9vVz5v7ZbF1w2hWBnsfeZzdci1/GbrQ7Gyhllt22TZRWXSfigW1QmUeysONygGUIZiS1tTy+H5JECAAAECBAgQIECAAAECBAikAnc2FJv87yg/fbFxK2L9BzB+URTkXwjAypAqWfiu1qoKgOrhVhkaZQX6v9qJva+HcfKv87h8ex0301nMw516u/J560KxsmZWOaayzXKx/9o4N75YF4rNt1Zm2xQ/E8Kl96x7n82GNo5h9rxeHP/Y0LIMxWyfbADyNQECBAgQIECAAAECBAgQIJAK3NlQLMpaW8kgLj9zymQKcf2yONlxoUB7FThtEopNL2NQBDcHTdsgy+CmYftk0nji47Q6XbEMmtIi+lk4ta6m2Ma/9XnwNfxhufEkLr9Z3p65cP24XB3Xi4eP8+8/f2pkxOzNMHae9GPryVnM1+otPfuXs9jJbJtro1U1xZrqwC116ZIAAQIECBAgQIAAAQIECBC4nwJ3NxSbjeP4b/mWxf63o2g4BzKf9Y+jOEqLxie9GL6dF9v/olDsx5OiRlnT9sFZjJ8/yoOsplCsdxSjVUHe4vbB34ofbBrCFWM/ejMfe+3n/MtZ7CZb0X8yiIuyXe2GTy+q0yebgr1Pm+TfVKvnmt6/oWE2xnQOHsXJT6vuWXA7vGicz+tXua3TJ1cZ+o4AAQIECBAgQIAAAQIECBAoBe5uKBYRs3fHxYmFSfQeP4vTq/cxWQybPk7i/dVJ7D3Iw7Pe0uqiLwrF1q0Um01i9HK3qCeWPnP19sls2+XTk7heTPImlzHczsfZf3kdi/HXTVWAfieGV/XjJWe/zdv1/jmqtYsqwEpiudZYteJquU35y2n6rPpsCsXmWzPL1W55V+nJmsUW1u1BXPy68IDfpzF+Vbr1G0Kz9P5ptZKuMSBc6NafBAgQIECAAAECBAgQIECAwP0VuNOhWDqt03RbXraSKg+UmupgbR2exfvFwCwivigUi1lcv+wXK8GSSB7085Mgq22FW7H33XE8W7ENsHre/kEcFKu/si2IVdsktg4vVmwvnMbo+c48bCufub1VjaOXhmxL77cuFKv+bdNtmV8cikXEx/dxdjgf89Z2vv3yYTl/vZ0YvllMCpf+x52N4ihzHcTlmtuWWrkkQIAAAQIECBAgQIAAAQIE7qHAnQ/FsjmdTWL8+iQG+zvRL1aFZauxsiL4p3H58+oEpQqpNqkpVvyIJm9PY/C0rK+VRO+rnXj24jzG2UKuaVwc5iHds//On1173odxnH69G3kg1IuHTwdx+nZSX+m19IOdvDuP48PFd9yK/v4gTq9uVm83rAKsT1eKpauu8jE2bWdcenh5WfW56UqxsoNp3FydxmC/X2xDLe0u4v2cqry5/lnWkfs/D1eoN3ZFgAABAgQIECBAgAABAgQI3CeB+xGK/UVmtBaKdWDMs7fDbPXZo++uWx9NWrOsvn3yto+YxejbdPvlhiHebR+rPQECBAgQIECAAAECBAgQIPCXFBCKdWjauhaKRdzE2d+TSHrDGC0WMbu12U2cPUmi1bpfHy7yLan751GvqnbrweqAAAECBAgQIECAAAECBAgQuIMCQrEOTWr3QrGI2Q/DeJS0u6rr5vVB9FoO2vLDBtYV4e/QRBsKAQIECBAgQIAAAQIECBAg8KcLCMX+9CmYD6CLoVhEcSpk7yhGy4X650Pf4K9pXH5zEKc/tbj07MNlDHpJ9F+M19Zc22CQbiVAgAABAgQIECBAgAABAgTuuIBQrEMT3M1QLD0VchzH20n0X7VfW+z2/LMYP38UyfZxjFsJ7W4/Ij0QIECAAAECBAgQIECAAAEC3RcQinV/joyQAAECBAgQIECAAAECBAgQIECgZQGhWMuguiNAgAABAgQIECBAgAABAgQIEOi+gFCs+3NkhAQIECBAgAABAgQIECBAgAABAi0LCMVaBtUdAQIECBAgQIAAAQIECBAgQIBA9wWEYt2fIyMkQIAAAQIECBAgQIAAAQIECBBoWUAo1jKo7ggQIECAAAECBAgQIECAAAECBLovIBTr/hwZIQECBAgQIECAAAECBAgQIECAQMsCQrGWQXVHgAABAgQIECBAgAABAgQIECDQfQGhWPfnyAgJECBAgAABAgQIECBAgAABAgRaFhCKtQyqOwIECBAgQIAAAQIECBAgQIAAge4LCMW6P0dGSIAAAQIECBAgQIAAAQIECBAg0LKAUKxlUN0RIECAAAECBAgQIECAAAECBAh0X0Ao1v05MkICBAgQIECAAAECBAgQIECAAIGWBYRiLYPqjgABAgQIECBAgAABAgQIECBAoPsCQrHuz5EREiBAgAABAgQIECBAgAABAgQItCwgFGsZVHcECBAgQIAAAQIECBAgQIAAAQLdFxCKdX+OjJAAAQIECBAgQIAAAQIECBAgQKBlAaFYy6C6I0CAAAECBAgQIECAAAECBAgQ6L6AUKz7c2SEBAgQIECAAAECBAgQIECAAAECLQsIxVoG1R0BAgQIECBAgAABAgQIECBAgED3BYRi3Z8jIyRAgAABAgQIECBAgAABAgQIEGhZ4A96Qi1EqOoxSAAAAABJRU5ErkJggg==)"
      ]
    },
    {
      "cell_type": "code",
      "execution_count": null,
      "id": "august-jacob",
      "metadata": {
        "id": "august-jacob"
      },
      "outputs": [],
      "source": [
        "x = np.array([[0, 1, 2], [3, 4, 5]])\n",
        "z = np.array([[0, 1], [2, 3]])\n",
        "y = np.array([[0, 1, 2], [3, 4, 5]])"
      ]
    },
    {
      "cell_type": "markdown",
      "id": "significant-federal",
      "metadata": {
        "id": "significant-federal"
      },
      "source": [
        "And following are the results of operations as illustrated on image above:"
      ]
    },
    {
      "cell_type": "code",
      "execution_count": null,
      "id": "happy-speaking",
      "metadata": {
        "id": "happy-speaking",
        "outputId": "6fbad9d7-fe4a-48f2-c1a5-54f490111b17"
      },
      "outputs": [
        {
          "name": "stdout",
          "output_type": "stream",
          "text": [
            "(2, 5)\n",
            "(4, 3)\n",
            "[[[0 1 2]\n",
            "  [0 1 2]]\n",
            "\n",
            " [[3 4 5]\n",
            "  [3 4 5]]] (2, 2, 3)\n",
            "[[[0 1 2]\n",
            "  [3 4 5]]\n",
            "\n",
            " [[0 1 2]\n",
            "  [3 4 5]]] (2, 2, 3)\n",
            "[[[0 0]\n",
            "  [1 1]\n",
            "  [2 2]]\n",
            "\n",
            " [[3 3]\n",
            "  [4 4]\n",
            "  [5 5]]] (2, 3, 2)\n"
          ]
        }
      ],
      "source": [
        "a = np.hstack((x, z))\n",
        "print(a.shape)\n",
        "\n",
        "b = np.vstack((x, y))\n",
        "print(b.shape)\n",
        "\n",
        "c = np.stack((x, y), axis=1)\n",
        "print(c, c.shape)\n",
        "\n",
        "d = np.stack((x, y), axis=0)\n",
        "print(d, d.shape)\n",
        "\n",
        "e = np.stack((x, y), axis=2)\n",
        "print(e, e.shape)"
      ]
    },
    {
      "cell_type": "markdown",
      "id": "intelligent-enlargement",
      "metadata": {
        "id": "intelligent-enlargement"
      },
      "source": [
        "## Insert"
      ]
    },
    {
      "cell_type": "code",
      "execution_count": null,
      "id": "demanding-building",
      "metadata": {
        "id": "demanding-building",
        "outputId": "a325362a-0765-4d36-dcf6-f79dba45f088"
      },
      "outputs": [
        {
          "data": {
            "text/plain": [
              "(<function numpy.insert(arr, obj, values, axis=None)>,\n",
              " <function numpy.append(arr, values, axis=None)>)"
            ]
          },
          "execution_count": 35,
          "metadata": {},
          "output_type": "execute_result"
        }
      ],
      "source": [
        "np.insert, np.append"
      ]
    },
    {
      "cell_type": "markdown",
      "id": "leading-shaft",
      "metadata": {
        "id": "leading-shaft"
      },
      "source": [
        "## Delete\n",
        "Following are deletion operations on 2D arrays. Note you cannot remove a single value as the dimensions must match across the array, so beware of that especially when working with higher dimensional arrays"
      ]
    },
    {
      "cell_type": "markdown",
      "id": "automated-detector",
      "metadata": {
        "id": "automated-detector"
      },
      "source": [
        "![image_4.png](data:image/png;base64,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)"
      ]
    },
    {
      "cell_type": "code",
      "execution_count": null,
      "id": "quiet-carry",
      "metadata": {
        "id": "quiet-carry",
        "outputId": "7ef593e3-f051-4801-f07f-e0344ba81c35"
      },
      "outputs": [
        {
          "name": "stdout",
          "output_type": "stream",
          "text": [
            "[[0 1 2]\n",
            " [6 7 8]]\n",
            "[[1]\n",
            " [4]\n",
            " [7]]\n",
            "[[3 4 5]]\n"
          ]
        }
      ],
      "source": [
        "a = np.array([[0, 1, 2], [3, 4, 5], [6, 7, 8]])\n",
        "print( np.delete(a, 1, axis=0) )\n",
        "\n",
        "print( np.delete(a, [0, 2], axis=1) )\n",
        "\n",
        "print( np.delete(a, [0, 2], axis=0) )"
      ]
    },
    {
      "cell_type": "markdown",
      "id": "continent-movie",
      "metadata": {
        "id": "continent-movie"
      },
      "source": [
        "## 3D arrays"
      ]
    },
    {
      "cell_type": "markdown",
      "id": "distributed-october",
      "metadata": {
        "id": "distributed-october"
      },
      "source": [
        "There are two common ways of structuring and visualising 3D arrays.\n",
        "\n",
        "One follows the convention of the newest axis becomes the first one, so (z, y, x).\n",
        "\n",
        "However, for image data the images are formed in terms of (y, x, z) in order to return RGB values at a specific pixel.\n",
        "There are easy ways to convert data between both notation.\n",
        "\n",
        "![image.png](attachment:image.png)"
      ]
    },
    {
      "cell_type": "code",
      "execution_count": null,
      "id": "lonely-nomination",
      "metadata": {
        "id": "lonely-nomination",
        "outputId": "f2f10acc-386f-48d2-f6af-83c0f0cc13ed"
      },
      "outputs": [
        {
          "name": "stdout",
          "output_type": "stream",
          "text": [
            "(3, 3, 4)\n",
            "(3, 4, 3)\n"
          ]
        }
      ],
      "source": [
        "standard_x = np.array([\n",
        "    [\n",
        "        [0, 1, 2, 3],\n",
        "        [4, 5, 6, 7],\n",
        "        [8, 9, 10, 11]\n",
        "    ],\n",
        "    [\n",
        "        [0, 1, 2, 3],\n",
        "        [4, 5, 6, 7],\n",
        "        [8, 9, 10, 11]\n",
        "    ],\n",
        "    [\n",
        "        [0, 1, 2, 3],\n",
        "        [4, 5, 6, 7],\n",
        "        [8, 9, 10, 11]\n",
        "    ]\n",
        "])\n",
        "print(standard_x.shape)\n",
        "\n",
        "image_x = np.array([\n",
        "    [\n",
        "        [0, 0, 0],\n",
        "        [1, 1, 1],\n",
        "        [2, 2, 2],\n",
        "        [3, 3, 3]\n",
        "    ],\n",
        "    [\n",
        "        [4, 4, 4],\n",
        "        [5, 5, 5],\n",
        "        [6, 6, 6],\n",
        "        [7, 7, 7]\n",
        "    ],\n",
        "    [\n",
        "        [8, 8, 8],\n",
        "        [9, 9, 9],\n",
        "        [10, 10, 10],\n",
        "        [11, 11, 11]\n",
        "    ]\n",
        "])\n",
        "print(image_x.shape)"
      ]
    },
    {
      "cell_type": "markdown",
      "id": "ranking-nashville",
      "metadata": {
        "id": "ranking-nashville"
      },
      "source": [
        "## Standard array notation operations"
      ]
    },
    {
      "cell_type": "markdown",
      "id": "romantic-adventure",
      "metadata": {
        "id": "romantic-adventure"
      },
      "source": [
        "![image.png](attachment:image.png)"
      ]
    },
    {
      "cell_type": "code",
      "execution_count": null,
      "id": "focal-shirt",
      "metadata": {
        "id": "focal-shirt"
      },
      "outputs": [],
      "source": [
        "x = np.array([\n",
        "    [\n",
        "        [0, 1, 2, 3],\n",
        "        [4, 5, 6, 7],\n",
        "        [8, 9, 10, 11]\n",
        "    ],\n",
        "    [\n",
        "        [0, 1, 2, 3],\n",
        "        [4, 5, 6, 7],\n",
        "        [8, 9, 10, 11]\n",
        "    ]\n",
        "])\n",
        "y = np.array([\n",
        "    [\n",
        "        [0, 1, 2, 3],\n",
        "        [4, 5, 6, 7]\n",
        "    ],\n",
        "    [\n",
        "        [0, 1, 2, 3],\n",
        "        [4, 5, 6, 7]\n",
        "    ]\n",
        "])\n",
        "z = np.array([\n",
        "    [\n",
        "        [0, 1],\n",
        "        [4, 5],\n",
        "        [8, 9]\n",
        "    ],\n",
        "    [\n",
        "        [0, 1],\n",
        "        [4, 5],\n",
        "        [8, 9]\n",
        "    ]\n",
        "])\n",
        "q = np.array([\n",
        "    [\n",
        "        [0, 1, 2, 3],\n",
        "        [4, 5, 6, 7],\n",
        "        [8, 9, 10, 11]\n",
        "    ],\n",
        "    [\n",
        "        [0, 1, 2, 3],\n",
        "        [4, 5, 6, 7],\n",
        "        [8, 9, 10, 11]\n",
        "    ]\n",
        "])"
      ]
    },
    {
      "cell_type": "code",
      "execution_count": null,
      "id": "dramatic-artwork",
      "metadata": {
        "id": "dramatic-artwork",
        "outputId": "7b47f2af-c446-43c8-cecb-767d5280fbe0"
      },
      "outputs": [
        {
          "name": "stdout",
          "output_type": "stream",
          "text": [
            "(2, 3, 6)\n",
            "(2, 5, 4)\n",
            "(4, 3, 4)\n"
          ]
        }
      ],
      "source": [
        "a = np.concatenate((x, z), axis = 2)\n",
        "print(a.shape)\n",
        "\n",
        "b = np.concatenate((x, y), axis = 1)\n",
        "print(b.shape)\n",
        "\n",
        "c = np.concatenate((x, q), axis = 0)\n",
        "print(c.shape)"
      ]
    },
    {
      "cell_type": "markdown",
      "id": "optional-civilian",
      "metadata": {
        "id": "optional-civilian"
      },
      "source": [
        "## Image 3D array"
      ]
    },
    {
      "cell_type": "markdown",
      "id": "responsible-collaboration",
      "metadata": {
        "id": "responsible-collaboration"
      },
      "source": [
        "![image.png](attachment:image.png)"
      ]
    },
    {
      "cell_type": "markdown",
      "id": "featured-particle",
      "metadata": {
        "id": "featured-particle"
      },
      "source": [
        "![image-4.png](attachment:image-4.png)"
      ]
    },
    {
      "cell_type": "code",
      "execution_count": null,
      "id": "sorted-daily",
      "metadata": {
        "id": "sorted-daily"
      },
      "outputs": [],
      "source": [
        "x = np.array([\n",
        "    [\n",
        "        [0, 0],\n",
        "        [1, 1],\n",
        "        [2, 2],\n",
        "        [3, 3]\n",
        "    ],\n",
        "    [\n",
        "        [4, 4],\n",
        "        [5, 5],\n",
        "        [6, 6],\n",
        "        [7, 7]\n",
        "    ],\n",
        "    [\n",
        "        [8, 8],\n",
        "        [9, 9],\n",
        "        [10, 10],\n",
        "        [11, 11]\n",
        "    ]\n",
        "])\n",
        "\n",
        "z = np.array([[\n",
        "        [0, 0],\n",
        "        [1, 1],\n",
        "    ], [\n",
        "        [4, 4],\n",
        "        [5, 5],\n",
        "    ], [\n",
        "        [8, 8],\n",
        "        [9, 9],\n",
        "    ]\n",
        "])\n",
        "y = np.array([\n",
        "    [\n",
        "        [0, 0],\n",
        "        [1, 1],\n",
        "        [2, 2],\n",
        "        [3, 3]\n",
        "    ],\n",
        "    [\n",
        "        [4, 4],\n",
        "        [5, 5],\n",
        "        [6, 6],\n",
        "        [7, 7]\n",
        "    ]\n",
        "])\n",
        "q = x.copy()"
      ]
    },
    {
      "cell_type": "code",
      "execution_count": null,
      "id": "dated-agenda",
      "metadata": {
        "id": "dated-agenda",
        "outputId": "06a45a92-0abe-40e2-a4c8-708f6a1257f2"
      },
      "outputs": [
        {
          "name": "stdout",
          "output_type": "stream",
          "text": [
            "(3, 6, 2)\n",
            "(5, 4, 2)\n",
            "(3, 4, 4)\n"
          ]
        }
      ],
      "source": [
        "a = np.hstack((x, z))\n",
        "print(a.shape)\n",
        "\n",
        "b = np.vstack((x, y))\n",
        "print(b.shape)\n",
        "\n",
        "c = np.dstack((x, q))\n",
        "print(c.shape)"
      ]
    },
    {
      "cell_type": "markdown",
      "id": "comfortable-browser",
      "metadata": {
        "id": "comfortable-browser"
      },
      "source": [
        "## Pandas"
      ]
    },
    {
      "cell_type": "markdown",
      "id": "generous-carry",
      "metadata": {
        "id": "generous-carry"
      },
      "source": [
        "Objectives:\n",
        "   \n",
        "- Gain understanding of DataFrames\n",
        "   \n",
        "- Access and Manipulate DataFrames"
      ]
    },
    {
      "cell_type": "code",
      "execution_count": null,
      "id": "conditional-racing",
      "metadata": {
        "id": "conditional-racing"
      },
      "outputs": [],
      "source": [
        "import pandas as pd"
      ]
    },
    {
      "cell_type": "markdown",
      "id": "parliamentary-shift",
      "metadata": {
        "id": "parliamentary-shift"
      },
      "source": [
        "DataFrame is a labeled 2D array, with rows and named columns. Many ML frameworks support pandas data structures as inputs."
      ]
    },
    {
      "cell_type": "code",
      "execution_count": null,
      "id": "suited-unknown",
      "metadata": {
        "id": "suited-unknown",
        "outputId": "90099dc9-9ea6-4c3a-d2ea-57df2cf5b58d"
      },
      "outputs": [
        {
          "data": {
            "text/html": [
              "<div>\n",
              "<style scoped>\n",
              "    .dataframe tbody tr th:only-of-type {\n",
              "        vertical-align: middle;\n",
              "    }\n",
              "\n",
              "    .dataframe tbody tr th {\n",
              "        vertical-align: top;\n",
              "    }\n",
              "\n",
              "    .dataframe thead th {\n",
              "        text-align: right;\n",
              "    }\n",
              "</style>\n",
              "<table border=\"1\" class=\"dataframe\">\n",
              "  <thead>\n",
              "    <tr style=\"text-align: right;\">\n",
              "      <th></th>\n",
              "      <th>a</th>\n",
              "      <th>b</th>\n",
              "      <th>c</th>\n",
              "    </tr>\n",
              "  </thead>\n",
              "  <tbody>\n",
              "    <tr>\n",
              "      <th>0</th>\n",
              "      <td>7</td>\n",
              "      <td>2</td>\n",
              "      <td>8</td>\n",
              "    </tr>\n",
              "    <tr>\n",
              "      <th>1</th>\n",
              "      <td>8</td>\n",
              "      <td>7</td>\n",
              "      <td>1</td>\n",
              "    </tr>\n",
              "    <tr>\n",
              "      <th>2</th>\n",
              "      <td>9</td>\n",
              "      <td>9</td>\n",
              "      <td>13</td>\n",
              "    </tr>\n",
              "  </tbody>\n",
              "</table>\n",
              "</div>"
            ],
            "text/plain": [
              "   a  b   c\n",
              "0  7  2   8\n",
              "1  8  7   1\n",
              "2  9  9  13"
            ]
          },
          "execution_count": 43,
          "metadata": {},
          "output_type": "execute_result"
        }
      ],
      "source": [
        "df = pd.DataFrame(\n",
        "    {\n",
        "        \"a\": [7, 8, 9],\n",
        "        \"b\": [2, 7, 9],\n",
        "        \"c\": [8, 1, 13],\n",
        "    }\n",
        ")\n",
        "df"
      ]
    },
    {
      "cell_type": "markdown",
      "id": "protective-tyler",
      "metadata": {
        "id": "protective-tyler"
      },
      "source": [
        "Inspect the first few rows:"
      ]
    },
    {
      "cell_type": "code",
      "execution_count": null,
      "id": "median-palmer",
      "metadata": {
        "id": "median-palmer",
        "outputId": "cc943743-b95a-4ae1-b3f9-4b099c72ed95"
      },
      "outputs": [
        {
          "data": {
            "text/html": [
              "<div>\n",
              "<style scoped>\n",
              "    .dataframe tbody tr th:only-of-type {\n",
              "        vertical-align: middle;\n",
              "    }\n",
              "\n",
              "    .dataframe tbody tr th {\n",
              "        vertical-align: top;\n",
              "    }\n",
              "\n",
              "    .dataframe thead th {\n",
              "        text-align: right;\n",
              "    }\n",
              "</style>\n",
              "<table border=\"1\" class=\"dataframe\">\n",
              "  <thead>\n",
              "    <tr style=\"text-align: right;\">\n",
              "      <th></th>\n",
              "      <th>a</th>\n",
              "      <th>b</th>\n",
              "      <th>c</th>\n",
              "    </tr>\n",
              "  </thead>\n",
              "  <tbody>\n",
              "    <tr>\n",
              "      <th>0</th>\n",
              "      <td>7</td>\n",
              "      <td>2</td>\n",
              "      <td>8</td>\n",
              "    </tr>\n",
              "    <tr>\n",
              "      <th>1</th>\n",
              "      <td>8</td>\n",
              "      <td>7</td>\n",
              "      <td>1</td>\n",
              "    </tr>\n",
              "    <tr>\n",
              "      <th>2</th>\n",
              "      <td>9</td>\n",
              "      <td>9</td>\n",
              "      <td>13</td>\n",
              "    </tr>\n",
              "  </tbody>\n",
              "</table>\n",
              "</div>"
            ],
            "text/plain": [
              "   a  b   c\n",
              "0  7  2   8\n",
              "1  8  7   1\n",
              "2  9  9  13"
            ]
          },
          "execution_count": 44,
          "metadata": {},
          "output_type": "execute_result"
        }
      ],
      "source": [
        "df.head()"
      ]
    },
    {
      "cell_type": "markdown",
      "id": "built-stress",
      "metadata": {
        "id": "built-stress"
      },
      "source": [
        "Look at the statistics of the dataset"
      ]
    },
    {
      "cell_type": "code",
      "execution_count": null,
      "id": "bulgarian-tourism",
      "metadata": {
        "id": "bulgarian-tourism",
        "outputId": "4b3fd2f1-4495-47b0-f527-c42867728ce5"
      },
      "outputs": [
        {
          "data": {
            "text/html": [
              "<div>\n",
              "<style scoped>\n",
              "    .dataframe tbody tr th:only-of-type {\n",
              "        vertical-align: middle;\n",
              "    }\n",
              "\n",
              "    .dataframe tbody tr th {\n",
              "        vertical-align: top;\n",
              "    }\n",
              "\n",
              "    .dataframe thead th {\n",
              "        text-align: right;\n",
              "    }\n",
              "</style>\n",
              "<table border=\"1\" class=\"dataframe\">\n",
              "  <thead>\n",
              "    <tr style=\"text-align: right;\">\n",
              "      <th></th>\n",
              "      <th>a</th>\n",
              "      <th>b</th>\n",
              "      <th>c</th>\n",
              "    </tr>\n",
              "  </thead>\n",
              "  <tbody>\n",
              "    <tr>\n",
              "      <th>count</th>\n",
              "      <td>3.0</td>\n",
              "      <td>3.000000</td>\n",
              "      <td>3.000000</td>\n",
              "    </tr>\n",
              "    <tr>\n",
              "      <th>mean</th>\n",
              "      <td>8.0</td>\n",
              "      <td>6.000000</td>\n",
              "      <td>7.333333</td>\n",
              "    </tr>\n",
              "    <tr>\n",
              "      <th>std</th>\n",
              "      <td>1.0</td>\n",
              "      <td>3.605551</td>\n",
              "      <td>6.027714</td>\n",
              "    </tr>\n",
              "    <tr>\n",
              "      <th>min</th>\n",
              "      <td>7.0</td>\n",
              "      <td>2.000000</td>\n",
              "      <td>1.000000</td>\n",
              "    </tr>\n",
              "    <tr>\n",
              "      <th>25%</th>\n",
              "      <td>7.5</td>\n",
              "      <td>4.500000</td>\n",
              "      <td>4.500000</td>\n",
              "    </tr>\n",
              "    <tr>\n",
              "      <th>50%</th>\n",
              "      <td>8.0</td>\n",
              "      <td>7.000000</td>\n",
              "      <td>8.000000</td>\n",
              "    </tr>\n",
              "    <tr>\n",
              "      <th>75%</th>\n",
              "      <td>8.5</td>\n",
              "      <td>8.000000</td>\n",
              "      <td>10.500000</td>\n",
              "    </tr>\n",
              "    <tr>\n",
              "      <th>max</th>\n",
              "      <td>9.0</td>\n",
              "      <td>9.000000</td>\n",
              "      <td>13.000000</td>\n",
              "    </tr>\n",
              "  </tbody>\n",
              "</table>\n",
              "</div>"
            ],
            "text/plain": [
              "         a         b          c\n",
              "count  3.0  3.000000   3.000000\n",
              "mean   8.0  6.000000   7.333333\n",
              "std    1.0  3.605551   6.027714\n",
              "min    7.0  2.000000   1.000000\n",
              "25%    7.5  4.500000   4.500000\n",
              "50%    8.0  7.000000   8.000000\n",
              "75%    8.5  8.000000  10.500000\n",
              "max    9.0  9.000000  13.000000"
            ]
          },
          "execution_count": 45,
          "metadata": {},
          "output_type": "execute_result"
        }
      ],
      "source": [
        "df.describe()"
      ]
    },
    {
      "cell_type": "markdown",
      "id": "victorian-controversy",
      "metadata": {
        "id": "victorian-controversy"
      },
      "source": [
        "Another usefull feature in pandas are the visualisation methods, such as .hist()"
      ]
    },
    {
      "cell_type": "code",
      "execution_count": null,
      "id": "endless-elimination",
      "metadata": {
        "scrolled": true,
        "id": "endless-elimination",
        "outputId": "a05ec2b4-d2b2-42d9-97f0-eeb023f7680d"
      },
      "outputs": [
        {
          "data": {
            "text/plain": [
              "array([[<AxesSubplot:title={'center':'a'}>]], dtype=object)"
            ]
          },
          "execution_count": 46,
          "metadata": {},
          "output_type": "execute_result"
        },
        {
          "data": {
            "image/png": "[encoded data removed]",
            "text/plain": [
              "<Figure size 432x288 with 4 Axes>"
            ]
          },
          "metadata": {
            "needs_background": "light"
          },
          "output_type": "display_data"
        },
        {
          "data": {
            "image/png": "[encoded data removed]",
            "text/plain": [
              "<Figure size 432x288 with 1 Axes>"
            ]
          },
          "metadata": {
            "needs_background": "light"
          },
          "output_type": "display_data"
        }
      ],
      "source": [
        "#Plot all columns\n",
        "df.hist()\n",
        "#Or select a specific one\n",
        "df.hist(\"a\")"
      ]
    },
    {
      "cell_type": "markdown",
      "id": "psychological-creativity",
      "metadata": {
        "id": "psychological-creativity"
      },
      "source": [
        "### Accessing Data\n",
        "Similar syntax to arrays/dicts"
      ]
    },
    {
      "cell_type": "code",
      "execution_count": null,
      "id": "cardiac-norman",
      "metadata": {
        "id": "cardiac-norman",
        "outputId": "947e0807-4882-45bf-eb47-a246d1b880ac"
      },
      "outputs": [
        {
          "data": {
            "text/plain": [
              "0    7\n",
              "1    8\n",
              "2    9\n",
              "Name: a, dtype: int64"
            ]
          },
          "execution_count": 47,
          "metadata": {},
          "output_type": "execute_result"
        }
      ],
      "source": [
        "#Access the column\n",
        "df[\"a\"]"
      ]
    },
    {
      "cell_type": "markdown",
      "id": "attended-guatemala",
      "metadata": {
        "id": "attended-guatemala"
      },
      "source": [
        "In Pandas [] s used to select columns, so to select columns we can only use slice notation e.g [1:2], which will return rows from first to last element, excluding the last element"
      ]
    },
    {
      "cell_type": "code",
      "execution_count": null,
      "id": "manual-validity",
      "metadata": {
        "id": "manual-validity",
        "outputId": "75e72ce2-b595-49fc-97ae-7cc8c27da28a"
      },
      "outputs": [
        {
          "data": {
            "text/html": [
              "<div>\n",
              "<style scoped>\n",
              "    .dataframe tbody tr th:only-of-type {\n",
              "        vertical-align: middle;\n",
              "    }\n",
              "\n",
              "    .dataframe tbody tr th {\n",
              "        vertical-align: top;\n",
              "    }\n",
              "\n",
              "    .dataframe thead th {\n",
              "        text-align: right;\n",
              "    }\n",
              "</style>\n",
              "<table border=\"1\" class=\"dataframe\">\n",
              "  <thead>\n",
              "    <tr style=\"text-align: right;\">\n",
              "      <th></th>\n",
              "      <th>a</th>\n",
              "      <th>b</th>\n",
              "      <th>c</th>\n",
              "    </tr>\n",
              "  </thead>\n",
              "  <tbody>\n",
              "    <tr>\n",
              "      <th>1</th>\n",
              "      <td>8</td>\n",
              "      <td>7</td>\n",
              "      <td>1</td>\n",
              "    </tr>\n",
              "  </tbody>\n",
              "</table>\n",
              "</div>"
            ],
            "text/plain": [
              "   a  b  c\n",
              "1  8  7  1"
            ]
          },
          "execution_count": 48,
          "metadata": {},
          "output_type": "execute_result"
        }
      ],
      "source": [
        "# Or one row\n",
        "df[1: 2]"
      ]
    },
    {
      "cell_type": "code",
      "execution_count": null,
      "id": "spare-samuel",
      "metadata": {
        "id": "spare-samuel",
        "outputId": "a3581c52-a26f-4f1b-cfec-88eb4f0f8049"
      },
      "outputs": [
        {
          "data": {
            "text/html": [
              "<div>\n",
              "<style scoped>\n",
              "    .dataframe tbody tr th:only-of-type {\n",
              "        vertical-align: middle;\n",
              "    }\n",
              "\n",
              "    .dataframe tbody tr th {\n",
              "        vertical-align: top;\n",
              "    }\n",
              "\n",
              "    .dataframe thead th {\n",
              "        text-align: right;\n",
              "    }\n",
              "</style>\n",
              "<table border=\"1\" class=\"dataframe\">\n",
              "  <thead>\n",
              "    <tr style=\"text-align: right;\">\n",
              "      <th></th>\n",
              "      <th>a</th>\n",
              "      <th>b</th>\n",
              "      <th>c</th>\n",
              "    </tr>\n",
              "  </thead>\n",
              "  <tbody>\n",
              "    <tr>\n",
              "      <th>1</th>\n",
              "      <td>8</td>\n",
              "      <td>7</td>\n",
              "      <td>1</td>\n",
              "    </tr>\n",
              "  </tbody>\n",
              "</table>\n",
              "</div>"
            ],
            "text/plain": [
              "   a  b  c\n",
              "1  8  7  1"
            ]
          },
          "execution_count": 49,
          "metadata": {},
          "output_type": "execute_result"
        }
      ],
      "source": [
        "#Select from row 1 to 20 every 3rd row\n",
        "df[1:20:3]"
      ]
    },
    {
      "cell_type": "code",
      "execution_count": null,
      "id": "together-lithuania",
      "metadata": {
        "id": "together-lithuania",
        "outputId": "438a91f7-5d4a-434f-da44-0c080dc1fb8e"
      },
      "outputs": [
        {
          "data": {
            "text/plain": [
              "a    8\n",
              "b    7\n",
              "c    1\n",
              "Name: 1, dtype: int64"
            ]
          },
          "execution_count": 50,
          "metadata": {},
          "output_type": "execute_result"
        }
      ],
      "source": [
        "df.loc[1]"
      ]
    },
    {
      "cell_type": "markdown",
      "id": "fifteen-march",
      "metadata": {
        "id": "fifteen-march"
      },
      "source": [
        "### Selecting"
      ]
    },
    {
      "cell_type": "code",
      "execution_count": null,
      "id": "arbitrary-coordination",
      "metadata": {
        "id": "arbitrary-coordination",
        "outputId": "fb9b7773-19ad-4eb9-a611-376888ea6795"
      },
      "outputs": [
        {
          "data": {
            "text/html": [
              "<div>\n",
              "<style scoped>\n",
              "    .dataframe tbody tr th:only-of-type {\n",
              "        vertical-align: middle;\n",
              "    }\n",
              "\n",
              "    .dataframe tbody tr th {\n",
              "        vertical-align: top;\n",
              "    }\n",
              "\n",
              "    .dataframe thead th {\n",
              "        text-align: right;\n",
              "    }\n",
              "</style>\n",
              "<table border=\"1\" class=\"dataframe\">\n",
              "  <thead>\n",
              "    <tr style=\"text-align: right;\">\n",
              "      <th></th>\n",
              "      <th>a</th>\n",
              "      <th>b</th>\n",
              "      <th>c</th>\n",
              "    </tr>\n",
              "  </thead>\n",
              "  <tbody>\n",
              "    <tr>\n",
              "      <th>0</th>\n",
              "      <td>7</td>\n",
              "      <td>2</td>\n",
              "      <td>8</td>\n",
              "    </tr>\n",
              "  </tbody>\n",
              "</table>\n",
              "</div>"
            ],
            "text/plain": [
              "   a  b  c\n",
              "0  7  2  8"
            ]
          },
          "execution_count": 51,
          "metadata": {},
          "output_type": "execute_result"
        }
      ],
      "source": [
        "df[0:1]"
      ]
    },
    {
      "cell_type": "markdown",
      "id": "dried-defensive",
      "metadata": {
        "id": "dried-defensive"
      },
      "source": [
        "## Exercise 5\n",
        "\n",
        "Modify the 'df' table by adding a new boolean column called 'd' that is True if:\n",
        "- The entry at column 'b' is less than '8'"
      ]
    },
    {
      "cell_type": "code",
      "execution_count": null,
      "id": "handmade-consumer",
      "metadata": {
        "id": "handmade-consumer",
        "outputId": "964715ab-fd88-4c87-87f2-ab55588b0923"
      },
      "outputs": [
        {
          "ename": "NotImplementedError",
          "evalue": "Implement code and remove NotImplementedError line. Hint: use conditional operator on column and assign it to df['e']",
          "output_type": "error",
          "traceback": [
            "\u001b[0;31m---------------------------------------------------------------------------\u001b[0m",
            "\u001b[0;31mNotImplementedError\u001b[0m                       Traceback (most recent call last)",
            "\u001b[0;32m<ipython-input-52-a7b9c396ed4e>\u001b[0m in \u001b[0;36m<module>\u001b[0;34m\u001b[0m\n\u001b[1;32m      1\u001b[0m \u001b[0;31m##Implement code and remove NotImplementedError line\u001b[0m\u001b[0;34m\u001b[0m\u001b[0;34m\u001b[0m\u001b[0;34m\u001b[0m\u001b[0m\n\u001b[0;32m----> 2\u001b[0;31m \u001b[0;32mraise\u001b[0m \u001b[0mNotImplementedError\u001b[0m\u001b[0;34m(\u001b[0m\u001b[0;34m\"Implement code and remove NotImplementedError line. Hint: use conditional operator on column and assign it to df['e']\"\u001b[0m\u001b[0;34m)\u001b[0m\u001b[0;34m\u001b[0m\u001b[0;34m\u001b[0m\u001b[0m\n\u001b[0m",
            "\u001b[0;31mNotImplementedError\u001b[0m: Implement code and remove NotImplementedError line. Hint: use conditional operator on column and assign it to df['e']"
          ]
        }
      ],
      "source": [
        "##Implement code and remove NotImplementedError line\n",
        "raise NotImplementedError(\"Implement code and remove NotImplementedError line. Hint: use conditional operator on column and assign it to df['e']\")"
      ]
    },
    {
      "cell_type": "markdown",
      "id": "obvious-thunder",
      "metadata": {
        "id": "obvious-thunder"
      },
      "source": [
        ".apply() method can accept a method which will be applied to each value"
      ]
    },
    {
      "cell_type": "code",
      "execution_count": null,
      "id": "devoted-virgin",
      "metadata": {
        "id": "devoted-virgin",
        "outputId": "dcb6f0fd-bca4-470e-9f62-9a540450acaa"
      },
      "outputs": [
        {
          "data": {
            "text/html": [
              "<div>\n",
              "<style scoped>\n",
              "    .dataframe tbody tr th:only-of-type {\n",
              "        vertical-align: middle;\n",
              "    }\n",
              "\n",
              "    .dataframe tbody tr th {\n",
              "        vertical-align: top;\n",
              "    }\n",
              "\n",
              "    .dataframe thead th {\n",
              "        text-align: right;\n",
              "    }\n",
              "</style>\n",
              "<table border=\"1\" class=\"dataframe\">\n",
              "  <thead>\n",
              "    <tr style=\"text-align: right;\">\n",
              "      <th></th>\n",
              "      <th>a</th>\n",
              "      <th>b</th>\n",
              "      <th>c</th>\n",
              "    </tr>\n",
              "  </thead>\n",
              "  <tbody>\n",
              "    <tr>\n",
              "      <th>0</th>\n",
              "      <td>True</td>\n",
              "      <td>False</td>\n",
              "      <td>True</td>\n",
              "    </tr>\n",
              "    <tr>\n",
              "      <th>1</th>\n",
              "      <td>True</td>\n",
              "      <td>True</td>\n",
              "      <td>False</td>\n",
              "    </tr>\n",
              "    <tr>\n",
              "      <th>2</th>\n",
              "      <td>True</td>\n",
              "      <td>True</td>\n",
              "      <td>True</td>\n",
              "    </tr>\n",
              "  </tbody>\n",
              "</table>\n",
              "</div>"
            ],
            "text/plain": [
              "      a      b      c\n",
              "0  True  False   True\n",
              "1  True   True  False\n",
              "2  True   True   True"
            ]
          },
          "execution_count": 53,
          "metadata": {},
          "output_type": "execute_result"
        }
      ],
      "source": [
        "df.apply(lambda val: val > 5)"
      ]
    },
    {
      "cell_type": "code",
      "execution_count": null,
      "id": "charitable-safety",
      "metadata": {
        "id": "charitable-safety"
      },
      "outputs": [],
      "source": [
        "df['d'] = (df['c'] != 1 )"
      ]
    },
    {
      "cell_type": "code",
      "execution_count": null,
      "id": "dedicated-neutral",
      "metadata": {
        "id": "dedicated-neutral",
        "outputId": "f95f3059-f18f-4c94-d2b2-0a75ba6681f1"
      },
      "outputs": [
        {
          "data": {
            "text/html": [
              "<div>\n",
              "<style scoped>\n",
              "    .dataframe tbody tr th:only-of-type {\n",
              "        vertical-align: middle;\n",
              "    }\n",
              "\n",
              "    .dataframe tbody tr th {\n",
              "        vertical-align: top;\n",
              "    }\n",
              "\n",
              "    .dataframe thead th {\n",
              "        text-align: right;\n",
              "    }\n",
              "</style>\n",
              "<table border=\"1\" class=\"dataframe\">\n",
              "  <thead>\n",
              "    <tr style=\"text-align: right;\">\n",
              "      <th></th>\n",
              "      <th>a</th>\n",
              "      <th>b</th>\n",
              "      <th>c</th>\n",
              "      <th>d</th>\n",
              "    </tr>\n",
              "  </thead>\n",
              "  <tbody>\n",
              "    <tr>\n",
              "      <th>0</th>\n",
              "      <td>7</td>\n",
              "      <td>2</td>\n",
              "      <td>8</td>\n",
              "      <td>True</td>\n",
              "    </tr>\n",
              "    <tr>\n",
              "      <th>1</th>\n",
              "      <td>8</td>\n",
              "      <td>7</td>\n",
              "      <td>1</td>\n",
              "      <td>False</td>\n",
              "    </tr>\n",
              "    <tr>\n",
              "      <th>2</th>\n",
              "      <td>9</td>\n",
              "      <td>9</td>\n",
              "      <td>13</td>\n",
              "      <td>True</td>\n",
              "    </tr>\n",
              "  </tbody>\n",
              "</table>\n",
              "</div>"
            ],
            "text/plain": [
              "   a  b   c      d\n",
              "0  7  2   8   True\n",
              "1  8  7   1  False\n",
              "2  9  9  13   True"
            ]
          },
          "execution_count": 55,
          "metadata": {},
          "output_type": "execute_result"
        }
      ],
      "source": [
        "df"
      ]
    },
    {
      "cell_type": "markdown",
      "id": "appreciated-reliance",
      "metadata": {
        "id": "appreciated-reliance"
      },
      "source": [
        "## Load and Save Data"
      ]
    },
    {
      "cell_type": "code",
      "execution_count": null,
      "id": "entitled-librarian",
      "metadata": {
        "id": "entitled-librarian",
        "outputId": "f358eb1d-e3bc-47ff-b208-3a8d56509993"
      },
      "outputs": [
        {
          "data": {
            "text/plain": [
              "array([[1, 2, 3],\n",
              "       [4, 5, 6]])"
            ]
          },
          "execution_count": 56,
          "metadata": {},
          "output_type": "execute_result"
        }
      ],
      "source": [
        "np.save('123', np.array([[1, 2, 3], [4, 5, 6]]))\n",
        "np.load('123.npy')"
      ]
    },
    {
      "cell_type": "code",
      "execution_count": null,
      "id": "periodic-springer",
      "metadata": {
        "id": "periodic-springer"
      },
      "outputs": [],
      "source": [
        "df.to_csv(\"data.csv\", index=False)"
      ]
    },
    {
      "cell_type": "code",
      "execution_count": null,
      "id": "sharing-japan",
      "metadata": {
        "id": "sharing-japan",
        "outputId": "22d3d424-32e4-4cfc-f909-fdcf278393f3"
      },
      "outputs": [
        {
          "data": {
            "text/html": [
              "<div>\n",
              "<style scoped>\n",
              "    .dataframe tbody tr th:only-of-type {\n",
              "        vertical-align: middle;\n",
              "    }\n",
              "\n",
              "    .dataframe tbody tr th {\n",
              "        vertical-align: top;\n",
              "    }\n",
              "\n",
              "    .dataframe thead th {\n",
              "        text-align: right;\n",
              "    }\n",
              "</style>\n",
              "<table border=\"1\" class=\"dataframe\">\n",
              "  <thead>\n",
              "    <tr style=\"text-align: right;\">\n",
              "      <th></th>\n",
              "      <th>a</th>\n",
              "      <th>b</th>\n",
              "      <th>c</th>\n",
              "      <th>d</th>\n",
              "    </tr>\n",
              "  </thead>\n",
              "  <tbody>\n",
              "    <tr>\n",
              "      <th>0</th>\n",
              "      <td>7</td>\n",
              "      <td>2</td>\n",
              "      <td>8</td>\n",
              "      <td>True</td>\n",
              "    </tr>\n",
              "    <tr>\n",
              "      <th>1</th>\n",
              "      <td>8</td>\n",
              "      <td>7</td>\n",
              "      <td>1</td>\n",
              "      <td>False</td>\n",
              "    </tr>\n",
              "    <tr>\n",
              "      <th>2</th>\n",
              "      <td>9</td>\n",
              "      <td>9</td>\n",
              "      <td>13</td>\n",
              "      <td>True</td>\n",
              "    </tr>\n",
              "  </tbody>\n",
              "</table>\n",
              "</div>"
            ],
            "text/plain": [
              "   a  b   c      d\n",
              "0  7  2   8   True\n",
              "1  8  7   1  False\n",
              "2  9  9  13   True"
            ]
          },
          "execution_count": 58,
          "metadata": {},
          "output_type": "execute_result"
        }
      ],
      "source": [
        "pd.read_csv('data.csv')"
      ]
    },
    {
      "cell_type": "markdown",
      "id": "filled-unemployment",
      "metadata": {
        "id": "filled-unemployment"
      },
      "source": [
        "## Plots"
      ]
    },
    {
      "cell_type": "code",
      "execution_count": null,
      "id": "streaming-binary",
      "metadata": {
        "id": "streaming-binary"
      },
      "outputs": [],
      "source": [
        "import matplotlib.pyplot as plt"
      ]
    },
    {
      "cell_type": "markdown",
      "id": "aquatic-reduction",
      "metadata": {
        "id": "aquatic-reduction"
      },
      "source": [
        "#### Plot numpy line"
      ]
    },
    {
      "cell_type": "code",
      "execution_count": null,
      "id": "liberal-belly",
      "metadata": {
        "id": "liberal-belly",
        "outputId": "8cc378ca-1517-4fbe-b485-2229d831f998"
      },
      "outputs": [
        {
          "data": {
            "image/png": "[encoded data removed]",
            "text/plain": [
              "<Figure size 432x288 with 1 Axes>"
            ]
          },
          "metadata": {
            "needs_background": "light"
          },
          "output_type": "display_data"
        }
      ],
      "source": [
        "x  = [1, 2, 3, 4, 5, 6, 7, 8, 9, 10]\n",
        "y1 = [1, 5, 5, 3, 1, 3, 5, 2, 1, 2]\n",
        "y2 = [2, 6, 6, 4, 4, 4, 6, 3, 2, 3]\n",
        "plt.plot(x, y1, label=\"line L\")\n",
        "plt.plot(x, y2, label=\"line H\")\n",
        "plt.plot()\n",
        "\n",
        "plt.xlabel(\"x axis\")\n",
        "plt.ylabel(\"y axis\")\n",
        "plt.title(\"Line Graph Example\")\n",
        "plt.legend()\n",
        "plt.show()"
      ]
    },
    {
      "cell_type": "markdown",
      "id": "juvenile-bullet",
      "metadata": {
        "id": "juvenile-bullet"
      },
      "source": [
        "#### Plot numpy scatter plot"
      ]
    },
    {
      "cell_type": "code",
      "execution_count": null,
      "id": "finnish-north",
      "metadata": {
        "id": "finnish-north",
        "outputId": "52be1fb2-0e91-40a3-bd1c-d6bf0062c0ad"
      },
      "outputs": [
        {
          "data": {
            "image/png": "[encoded data removed]",
            "text/plain": [
              "<Figure size 432x288 with 1 Axes>"
            ]
          },
          "metadata": {
            "needs_background": "light"
          },
          "output_type": "display_data"
        }
      ],
      "source": [
        "import matplotlib.pyplot as plt\n",
        "\n",
        "x1 = [2, 3, 4]\n",
        "y1 = [5, 5, 5]\n",
        "\n",
        "x2 = [1, 2, 3, 4, 5]\n",
        "y2 = [2, 3, 2, 3, 4]\n",
        "y3 = [6, 8, 7, 8, 7]\n",
        "\n",
        "# Markers: https://matplotlib.org/api/markers_api.html\n",
        "\n",
        "plt.scatter(x1, y1)\n",
        "plt.scatter(x2, y2, marker='v', color='r')\n",
        "plt.scatter(x2, y3, marker='^', color='m')\n",
        "plt.title('Scatter Plot Example')\n",
        "plt.show()"
      ]
    },
    {
      "cell_type": "code",
      "execution_count": null,
      "id": "democratic-conspiracy",
      "metadata": {
        "id": "democratic-conspiracy"
      },
      "outputs": [],
      "source": [
        "##3d PLot"
      ]
    },
    {
      "cell_type": "code",
      "execution_count": null,
      "id": "challenging-barcelona",
      "metadata": {
        "id": "challenging-barcelona",
        "outputId": "1f0f9954-a2bf-4c45-e5d3-a51c16f3aee8"
      },
      "outputs": [
        {
          "data": {
            "image/png": "[encoded data removed]",
            "text/plain": [
              "<Figure size 432x288 with 1 Axes>"
            ]
          },
          "metadata": {
            "needs_background": "light"
          },
          "output_type": "display_data"
        }
      ],
      "source": [
        "import matplotlib.pyplot as plt\n",
        "import numpy as np\n",
        "from mpl_toolkits.mplot3d import axes3d\n",
        "\n",
        "fig = plt.figure()\n",
        "ax = fig.add_subplot(111, projection = '3d')\n",
        "\n",
        "x1 = [1, 2, 3, 4, 5, 6, 7, 8, 9, 10]\n",
        "y1 = np.random.randint(10, size=10)\n",
        "z1 = np.random.randint(10, size=10)\n",
        "\n",
        "x2 = [-1, -2, -3, -4, -5, -6, -7, -8, -9, -10]\n",
        "y2 = np.random.randint(-10, 0, size=10)\n",
        "z2 = np.random.randint(10, size=10)\n",
        "\n",
        "ax.scatter(x1, y1, z1, c='b', marker='o', label='blue')\n",
        "ax.scatter(x2, y2, z2, c='g', marker='D', label='green')\n",
        "\n",
        "ax.set_xlabel('x axis')\n",
        "ax.set_ylabel('y axis')\n",
        "ax.set_zlabel('z axis')\n",
        "plt.title(\"3D Scatter Plot Example\")\n",
        "plt.legend()\n",
        "plt.tight_layout()\n",
        "plt.show()"
      ]
    },
    {
      "cell_type": "markdown",
      "id": "flush-disclaimer",
      "metadata": {
        "id": "flush-disclaimer"
      },
      "source": [
        "# Data Science"
      ]
    },
    {
      "cell_type": "markdown",
      "id": "british-native",
      "metadata": {
        "id": "british-native"
      },
      "source": [
        "## Datasets\n",
        "We will be using two simple datasets today:\n",
        "\n",
        "- The Ultimate Halloween Candy Power Ranking - used to predict whether the candy contains chocolate or not (Classification)\n",
        "- Boston house prices dataset - used to predict the house price given certain features (Regression)"
      ]
    },
    {
      "cell_type": "markdown",
      "id": "nonprofit-reputation",
      "metadata": {
        "id": "nonprofit-reputation"
      },
      "source": [
        "## Load and inspect the candy data\n",
        "Participants were shown presenting two fun-sized candies and asked to click on the one they would prefer to receive. In total, more than 269 thousand votes were collected from 8,371 different IP addresses"
      ]
    },
    {
      "cell_type": "code",
      "execution_count": null,
      "id": "material-inventory",
      "metadata": {
        "id": "material-inventory"
      },
      "outputs": [],
      "source": [
        "import pandas as pd\n",
        "df = pd.read_csv(r\"candy-data.csv\")"
      ]
    },
    {
      "cell_type": "code",
      "execution_count": null,
      "id": "powered-steel",
      "metadata": {
        "id": "powered-steel",
        "outputId": "43ad3bb5-7632-45f0-bd69-04ff35b6bc72"
      },
      "outputs": [
        {
          "data": {
            "text/html": [
              "<div>\n",
              "<style scoped>\n",
              "    .dataframe tbody tr th:only-of-type {\n",
              "        vertical-align: middle;\n",
              "    }\n",
              "\n",
              "    .dataframe tbody tr th {\n",
              "        vertical-align: top;\n",
              "    }\n",
              "\n",
              "    .dataframe thead th {\n",
              "        text-align: right;\n",
              "    }\n",
              "</style>\n",
              "<table border=\"1\" class=\"dataframe\">\n",
              "  <thead>\n",
              "    <tr style=\"text-align: right;\">\n",
              "      <th></th>\n",
              "      <th>count</th>\n",
              "      <th>mean</th>\n",
              "      <th>std</th>\n",
              "      <th>min</th>\n",
              "      <th>25%</th>\n",
              "      <th>50%</th>\n",
              "      <th>75%</th>\n",
              "      <th>max</th>\n",
              "    </tr>\n",
              "  </thead>\n",
              "  <tbody>\n",
              "    <tr>\n",
              "      <th>chocolate</th>\n",
              "      <td>85.0</td>\n",
              "      <td>0.435294</td>\n",
              "      <td>0.498738</td>\n",
              "      <td>0.000000</td>\n",
              "      <td>0.000000</td>\n",
              "      <td>0.000000</td>\n",
              "      <td>1.000000</td>\n",
              "      <td>1.00000</td>\n",
              "    </tr>\n",
              "    <tr>\n",
              "      <th>fruity</th>\n",
              "      <td>85.0</td>\n",
              "      <td>0.447059</td>\n",
              "      <td>0.500140</td>\n",
              "      <td>0.000000</td>\n",
              "      <td>0.000000</td>\n",
              "      <td>0.000000</td>\n",
              "      <td>1.000000</td>\n",
              "      <td>1.00000</td>\n",
              "    </tr>\n",
              "    <tr>\n",
              "      <th>caramel</th>\n",
              "      <td>85.0</td>\n",
              "      <td>0.164706</td>\n",
              "      <td>0.373116</td>\n",
              "      <td>0.000000</td>\n",
              "      <td>0.000000</td>\n",
              "      <td>0.000000</td>\n",
              "      <td>0.000000</td>\n",
              "      <td>1.00000</td>\n",
              "    </tr>\n",
              "    <tr>\n",
              "      <th>peanutyalmondy</th>\n",
              "      <td>85.0</td>\n",
              "      <td>0.164706</td>\n",
              "      <td>0.373116</td>\n",
              "      <td>0.000000</td>\n",
              "      <td>0.000000</td>\n",
              "      <td>0.000000</td>\n",
              "      <td>0.000000</td>\n",
              "      <td>1.00000</td>\n",
              "    </tr>\n",
              "    <tr>\n",
              "      <th>nougat</th>\n",
              "      <td>85.0</td>\n",
              "      <td>0.082353</td>\n",
              "      <td>0.276533</td>\n",
              "      <td>0.000000</td>\n",
              "      <td>0.000000</td>\n",
              "      <td>0.000000</td>\n",
              "      <td>0.000000</td>\n",
              "      <td>1.00000</td>\n",
              "    </tr>\n",
              "    <tr>\n",
              "      <th>crispedricewafer</th>\n",
              "      <td>85.0</td>\n",
              "      <td>0.082353</td>\n",
              "      <td>0.276533</td>\n",
              "      <td>0.000000</td>\n",
              "      <td>0.000000</td>\n",
              "      <td>0.000000</td>\n",
              "      <td>0.000000</td>\n",
              "      <td>1.00000</td>\n",
              "    </tr>\n",
              "    <tr>\n",
              "      <th>hard</th>\n",
              "      <td>85.0</td>\n",
              "      <td>0.176471</td>\n",
              "      <td>0.383482</td>\n",
              "      <td>0.000000</td>\n",
              "      <td>0.000000</td>\n",
              "      <td>0.000000</td>\n",
              "      <td>0.000000</td>\n",
              "      <td>1.00000</td>\n",
              "    </tr>\n",
              "    <tr>\n",
              "      <th>bar</th>\n",
              "      <td>85.0</td>\n",
              "      <td>0.247059</td>\n",
              "      <td>0.433861</td>\n",
              "      <td>0.000000</td>\n",
              "      <td>0.000000</td>\n",
              "      <td>0.000000</td>\n",
              "      <td>0.000000</td>\n",
              "      <td>1.00000</td>\n",
              "    </tr>\n",
              "    <tr>\n",
              "      <th>pluribus</th>\n",
              "      <td>85.0</td>\n",
              "      <td>0.517647</td>\n",
              "      <td>0.502654</td>\n",
              "      <td>0.000000</td>\n",
              "      <td>0.000000</td>\n",
              "      <td>1.000000</td>\n",
              "      <td>1.000000</td>\n",
              "      <td>1.00000</td>\n",
              "    </tr>\n",
              "    <tr>\n",
              "      <th>sugarpercent</th>\n",
              "      <td>85.0</td>\n",
              "      <td>0.478647</td>\n",
              "      <td>0.282778</td>\n",
              "      <td>0.011000</td>\n",
              "      <td>0.220000</td>\n",
              "      <td>0.465000</td>\n",
              "      <td>0.732000</td>\n",
              "      <td>0.98800</td>\n",
              "    </tr>\n",
              "    <tr>\n",
              "      <th>pricepercent</th>\n",
              "      <td>85.0</td>\n",
              "      <td>0.468882</td>\n",
              "      <td>0.285740</td>\n",
              "      <td>0.011000</td>\n",
              "      <td>0.255000</td>\n",
              "      <td>0.465000</td>\n",
              "      <td>0.651000</td>\n",
              "      <td>0.97600</td>\n",
              "    </tr>\n",
              "    <tr>\n",
              "      <th>winpercent</th>\n",
              "      <td>85.0</td>\n",
              "      <td>50.316764</td>\n",
              "      <td>14.714357</td>\n",
              "      <td>22.445341</td>\n",
              "      <td>39.141056</td>\n",
              "      <td>47.829754</td>\n",
              "      <td>59.863998</td>\n",
              "      <td>84.18029</td>\n",
              "    </tr>\n",
              "  </tbody>\n",
              "</table>\n",
              "</div>"
            ],
            "text/plain": [
              "                  count       mean        std        min        25%  \\\n",
              "chocolate          85.0   0.435294   0.498738   0.000000   0.000000   \n",
              "fruity             85.0   0.447059   0.500140   0.000000   0.000000   \n",
              "caramel            85.0   0.164706   0.373116   0.000000   0.000000   \n",
              "peanutyalmondy     85.0   0.164706   0.373116   0.000000   0.000000   \n",
              "nougat             85.0   0.082353   0.276533   0.000000   0.000000   \n",
              "crispedricewafer   85.0   0.082353   0.276533   0.000000   0.000000   \n",
              "hard               85.0   0.176471   0.383482   0.000000   0.000000   \n",
              "bar                85.0   0.247059   0.433861   0.000000   0.000000   \n",
              "pluribus           85.0   0.517647   0.502654   0.000000   0.000000   \n",
              "sugarpercent       85.0   0.478647   0.282778   0.011000   0.220000   \n",
              "pricepercent       85.0   0.468882   0.285740   0.011000   0.255000   \n",
              "winpercent         85.0  50.316764  14.714357  22.445341  39.141056   \n",
              "\n",
              "                        50%        75%       max  \n",
              "chocolate          0.000000   1.000000   1.00000  \n",
              "fruity             0.000000   1.000000   1.00000  \n",
              "caramel            0.000000   0.000000   1.00000  \n",
              "peanutyalmondy     0.000000   0.000000   1.00000  \n",
              "nougat             0.000000   0.000000   1.00000  \n",
              "crispedricewafer   0.000000   0.000000   1.00000  \n",
              "hard               0.000000   0.000000   1.00000  \n",
              "bar                0.000000   0.000000   1.00000  \n",
              "pluribus           1.000000   1.000000   1.00000  \n",
              "sugarpercent       0.465000   0.732000   0.98800  \n",
              "pricepercent       0.465000   0.651000   0.97600  \n",
              "winpercent        47.829754  59.863998  84.18029  "
            ]
          },
          "execution_count": 65,
          "metadata": {},
          "output_type": "execute_result"
        }
      ],
      "source": [
        "df.describe().T"
      ]
    },
    {
      "cell_type": "markdown",
      "id": "stuffed-singles",
      "metadata": {
        "id": "stuffed-singles"
      },
      "source": [
        "We can see data is normalized except winpercent. Normalized values fall into a range of [0,1]. To get nrmalized win percentage we can divide by 100"
      ]
    },
    {
      "cell_type": "code",
      "execution_count": null,
      "id": "phantom-therapy",
      "metadata": {
        "id": "phantom-therapy"
      },
      "outputs": [],
      "source": [
        "df.winpercent = df.winpercent/100"
      ]
    },
    {
      "cell_type": "markdown",
      "id": "environmental-treatment",
      "metadata": {
        "id": "environmental-treatment"
      },
      "source": [
        "We can plot correlation matrix to see which values are correlated.\n",
        "\n",
        "E.g. To predict whether the candy is chocolate, we look at the win percentage and whether its peanuty/almondy.\n",
        "\n",
        "If the candy is fruity there is a negative correlation, meaning its very unlikely to be chocolate.\n",
        "\n",
        "Values close to 1 indicate strong correlation, 0 no correlation, and negative values indicate strong negative correlation, meaning as one variable increases the other one decreases."
      ]
    },
    {
      "cell_type": "code",
      "execution_count": null,
      "id": "velvet-canvas",
      "metadata": {
        "id": "velvet-canvas",
        "outputId": "b1407299-3916-4a05-90cf-f09b4ecdcd3c"
      },
      "outputs": [
        {
          "data": {
            "text/plain": [
              "<AxesSubplot:>"
            ]
          },
          "execution_count": 67,
          "metadata": {},
          "output_type": "execute_result"
        },
        {
          "data": {
            "image/png": "[encoded data removed]",
            "text/plain": [
              "<Figure size 864x432 with 2 Axes>"
            ]
          },
          "metadata": {
            "needs_background": "light"
          },
          "output_type": "display_data"
        }
      ],
      "source": [
        "import matplotlib.pyplot as plt\n",
        "import seaborn as sns\n",
        "\n",
        "df_cor = df.corr()\n",
        "plt.figure(figsize=(12,6))\n",
        "sns.heatmap(df_cor,cmap='RdYlBu',annot=True)"
      ]
    },
    {
      "cell_type": "code",
      "execution_count": null,
      "id": "isolated-antarctica",
      "metadata": {
        "id": "isolated-antarctica",
        "outputId": "9f25b9d4-ed04-4f42-d4c6-53f4c37d7f30"
      },
      "outputs": [
        {
          "data": {
            "text/plain": [
              "Text(0.5, 1.0, 'Normalized Candy Ranking')"
            ]
          },
          "execution_count": 68,
          "metadata": {},
          "output_type": "execute_result"
        },
        {
          "data": {
            "image/png": "[encoded data removed]",
            "text/plain": [
              "<Figure size 1080x1080 with 1 Axes>"
            ]
          },
          "metadata": {
            "needs_background": "light"
          },
          "output_type": "display_data"
        }
      ],
      "source": [
        "df_sorted = df.sort_values(by=\"winpercent\", ascending=False)\n",
        "\n",
        "plt.figure(figsize=(15,15))\n",
        "sns.barplot(y=df_sorted[\"competitorname\"], x=df_sorted[\"winpercent\"])\n",
        "plt.title('Normalized Candy Ranking')"
      ]
    },
    {
      "cell_type": "markdown",
      "id": "rising-rendering",
      "metadata": {
        "id": "rising-rendering"
      },
      "source": [
        "We will be using a very simple model from a library called sklearn"
      ]
    },
    {
      "cell_type": "code",
      "execution_count": null,
      "id": "artificial-workstation",
      "metadata": {
        "id": "artificial-workstation"
      },
      "outputs": [],
      "source": [
        "from sklearn.linear_model import LogisticRegression"
      ]
    },
    {
      "cell_type": "markdown",
      "id": "revolutionary-neighborhood",
      "metadata": {
        "id": "revolutionary-neighborhood"
      },
      "source": [
        "Our dataset contains feature we will try to predict, \"chocolate\". Therefore, we need to remove it and use it as a label/target. We also need to remove competitors name."
      ]
    },
    {
      "cell_type": "code",
      "execution_count": null,
      "id": "quality-swing",
      "metadata": {
        "id": "quality-swing",
        "outputId": "f51f5d6a-a75e-410b-9470-fc1f6f59b926"
      },
      "outputs": [
        {
          "data": {
            "text/html": [
              "<div>\n",
              "<style scoped>\n",
              "    .dataframe tbody tr th:only-of-type {\n",
              "        vertical-align: middle;\n",
              "    }\n",
              "\n",
              "    .dataframe tbody tr th {\n",
              "        vertical-align: top;\n",
              "    }\n",
              "\n",
              "    .dataframe thead th {\n",
              "        text-align: right;\n",
              "    }\n",
              "</style>\n",
              "<table border=\"1\" class=\"dataframe\">\n",
              "  <thead>\n",
              "    <tr style=\"text-align: right;\">\n",
              "      <th></th>\n",
              "      <th>fruity</th>\n",
              "      <th>caramel</th>\n",
              "      <th>peanutyalmondy</th>\n",
              "      <th>nougat</th>\n",
              "      <th>crispedricewafer</th>\n",
              "      <th>hard</th>\n",
              "      <th>bar</th>\n",
              "      <th>pluribus</th>\n",
              "      <th>sugarpercent</th>\n",
              "      <th>pricepercent</th>\n",
              "      <th>winpercent</th>\n",
              "    </tr>\n",
              "  </thead>\n",
              "  <tbody>\n",
              "    <tr>\n",
              "      <th>0</th>\n",
              "      <td>0</td>\n",
              "      <td>1</td>\n",
              "      <td>0</td>\n",
              "      <td>0</td>\n",
              "      <td>1</td>\n",
              "      <td>0</td>\n",
              "      <td>1</td>\n",
              "      <td>0</td>\n",
              "      <td>0.732</td>\n",
              "      <td>0.860</td>\n",
              "      <td>0.669717</td>\n",
              "    </tr>\n",
              "    <tr>\n",
              "      <th>1</th>\n",
              "      <td>0</td>\n",
              "      <td>0</td>\n",
              "      <td>0</td>\n",
              "      <td>1</td>\n",
              "      <td>0</td>\n",
              "      <td>0</td>\n",
              "      <td>1</td>\n",
              "      <td>0</td>\n",
              "      <td>0.604</td>\n",
              "      <td>0.511</td>\n",
              "      <td>0.676029</td>\n",
              "    </tr>\n",
              "    <tr>\n",
              "      <th>2</th>\n",
              "      <td>0</td>\n",
              "      <td>0</td>\n",
              "      <td>0</td>\n",
              "      <td>0</td>\n",
              "      <td>0</td>\n",
              "      <td>0</td>\n",
              "      <td>0</td>\n",
              "      <td>0</td>\n",
              "      <td>0.011</td>\n",
              "      <td>0.116</td>\n",
              "      <td>0.322611</td>\n",
              "    </tr>\n",
              "    <tr>\n",
              "      <th>3</th>\n",
              "      <td>0</td>\n",
              "      <td>0</td>\n",
              "      <td>0</td>\n",
              "      <td>0</td>\n",
              "      <td>0</td>\n",
              "      <td>0</td>\n",
              "      <td>0</td>\n",
              "      <td>0</td>\n",
              "      <td>0.011</td>\n",
              "      <td>0.511</td>\n",
              "      <td>0.461165</td>\n",
              "    </tr>\n",
              "    <tr>\n",
              "      <th>4</th>\n",
              "      <td>1</td>\n",
              "      <td>0</td>\n",
              "      <td>0</td>\n",
              "      <td>0</td>\n",
              "      <td>0</td>\n",
              "      <td>0</td>\n",
              "      <td>0</td>\n",
              "      <td>0</td>\n",
              "      <td>0.906</td>\n",
              "      <td>0.511</td>\n",
              "      <td>0.523415</td>\n",
              "    </tr>\n",
              "  </tbody>\n",
              "</table>\n",
              "</div>"
            ],
            "text/plain": [
              "   fruity  caramel  peanutyalmondy  nougat  crispedricewafer  hard  bar  \\\n",
              "0       0        1               0       0                 1     0    1   \n",
              "1       0        0               0       1                 0     0    1   \n",
              "2       0        0               0       0                 0     0    0   \n",
              "3       0        0               0       0                 0     0    0   \n",
              "4       1        0               0       0                 0     0    0   \n",
              "\n",
              "   pluribus  sugarpercent  pricepercent  winpercent  \n",
              "0         0         0.732         0.860    0.669717  \n",
              "1         0         0.604         0.511    0.676029  \n",
              "2         0         0.011         0.116    0.322611  \n",
              "3         0         0.011         0.511    0.461165  \n",
              "4         0         0.906         0.511    0.523415  "
            ]
          },
          "execution_count": 70,
          "metadata": {},
          "output_type": "execute_result"
        }
      ],
      "source": [
        "X = df.copy()\n",
        "X.drop('competitorname', axis=1, inplace=True)\n",
        "\n",
        "y = X['chocolate']\n",
        "X.drop(['chocolate'], axis=1, inplace=True)\n",
        "X.head()"
      ]
    },
    {
      "cell_type": "markdown",
      "id": "sporting-olympus",
      "metadata": {
        "id": "sporting-olympus"
      },
      "source": [
        "To ensure model generalises well to unseen data, a common practise is to remove part of the dataset and use it only for testing"
      ]
    },
    {
      "cell_type": "code",
      "execution_count": null,
      "id": "southeast-model",
      "metadata": {
        "id": "southeast-model"
      },
      "outputs": [],
      "source": [
        "# split in train and test set\n",
        "from sklearn.model_selection import train_test_split\n",
        "X_train, X_test, y_train, y_test = train_test_split(X, y, test_size=0.2,random_state=1)"
      ]
    },
    {
      "cell_type": "markdown",
      "id": "roman-orbit",
      "metadata": {
        "id": "roman-orbit"
      },
      "source": [
        "Train model and print accuracy of the test dataset"
      ]
    },
    {
      "cell_type": "code",
      "execution_count": null,
      "id": "whole-plumbing",
      "metadata": {
        "id": "whole-plumbing",
        "outputId": "f01ba95d-dda9-4fbf-9c48-b9ca88fe9b56"
      },
      "outputs": [
        {
          "name": "stdout",
          "output_type": "stream",
          "text": [
            "Model Accuracy: 0.8676470588235294\n",
            "Model Accuracy: 0.9411764705882353\n"
          ]
        }
      ],
      "source": [
        "#apply model\n",
        "model = LogisticRegression()\n",
        "model.fit(X_train, y_train)\n",
        "print(f\"Model Accuracy: {model.score(X_train, y_train)}\")\n",
        "print(f\"Model Accuracy: {model.score(X_test, y_test)}\")"
      ]
    },
    {
      "cell_type": "code",
      "execution_count": null,
      "id": "under-confidence",
      "metadata": {
        "id": "under-confidence",
        "outputId": "b4e64171-1f47-42c6-df9f-f9c4d7cb6001"
      },
      "outputs": [
        {
          "data": {
            "text/html": [
              "<div>\n",
              "<style scoped>\n",
              "    .dataframe tbody tr th:only-of-type {\n",
              "        vertical-align: middle;\n",
              "    }\n",
              "\n",
              "    .dataframe tbody tr th {\n",
              "        vertical-align: top;\n",
              "    }\n",
              "\n",
              "    .dataframe thead th {\n",
              "        text-align: right;\n",
              "    }\n",
              "</style>\n",
              "<table border=\"1\" class=\"dataframe\">\n",
              "  <thead>\n",
              "    <tr style=\"text-align: right;\">\n",
              "      <th></th>\n",
              "      <th>fruity</th>\n",
              "      <th>caramel</th>\n",
              "      <th>peanutyalmondy</th>\n",
              "      <th>nougat</th>\n",
              "      <th>crispedricewafer</th>\n",
              "      <th>hard</th>\n",
              "      <th>bar</th>\n",
              "      <th>pluribus</th>\n",
              "      <th>sugarpercent</th>\n",
              "      <th>pricepercent</th>\n",
              "      <th>winpercent</th>\n",
              "    </tr>\n",
              "  </thead>\n",
              "  <tbody>\n",
              "    <tr>\n",
              "      <th>36</th>\n",
              "      <td>0</td>\n",
              "      <td>1</td>\n",
              "      <td>0</td>\n",
              "      <td>1</td>\n",
              "      <td>0</td>\n",
              "      <td>0</td>\n",
              "      <td>1</td>\n",
              "      <td>0</td>\n",
              "      <td>0.604</td>\n",
              "      <td>0.651</td>\n",
              "      <td>0.730996</td>\n",
              "    </tr>\n",
              "  </tbody>\n",
              "</table>\n",
              "</div>"
            ],
            "text/plain": [
              "    fruity  caramel  peanutyalmondy  nougat  crispedricewafer  hard  bar  \\\n",
              "36       0        1               0       1                 0     0    1   \n",
              "\n",
              "    pluribus  sugarpercent  pricepercent  winpercent  \n",
              "36         0         0.604         0.651    0.730996  "
            ]
          },
          "execution_count": 73,
          "metadata": {},
          "output_type": "execute_result"
        }
      ],
      "source": [
        "#Select row which contains entry for\n",
        "test_example = df[(df == 'Milky Way').any(axis=1)].copy()\n",
        "test_example.drop('competitorname', axis=1, inplace=True)\n",
        "test_example.drop(['chocolate'], axis=1, inplace=True)\n",
        "test_example"
      ]
    },
    {
      "cell_type": "code",
      "execution_count": null,
      "id": "global-purchase",
      "metadata": {
        "id": "global-purchase",
        "outputId": "d7725719-e3e2-447e-eb3e-c75aff296e06"
      },
      "outputs": [
        {
          "data": {
            "text/plain": [
              "1"
            ]
          },
          "execution_count": 74,
          "metadata": {},
          "output_type": "execute_result"
        }
      ],
      "source": [
        "is_chocolate = model.predict(test_example)\n",
        "is_chocolate[0]"
      ]
    },
    {
      "cell_type": "markdown",
      "id": "closing-bulletin",
      "metadata": {
        "id": "closing-bulletin"
      },
      "source": [
        "## Excercise 7\n",
        "Set fruity value for milky way to 1 and check whether the model thinks the candy contains chocolate"
      ]
    },
    {
      "cell_type": "code",
      "execution_count": null,
      "id": "spatial-grounds",
      "metadata": {
        "id": "spatial-grounds",
        "outputId": "a80520b6-0552-4238-9243-8d4e9075cadf"
      },
      "outputs": [
        {
          "data": {
            "text/plain": [
              "0"
            ]
          },
          "execution_count": 75,
          "metadata": {},
          "output_type": "execute_result"
        }
      ],
      "source": [
        "test_example['fruity'] = 1\n",
        "\n",
        "is_chocolate = model.predict(test_example)\n",
        "is_chocolate[0]"
      ]
    },
    {
      "cell_type": "markdown",
      "id": "legislative-netherlands",
      "metadata": {
        "id": "legislative-netherlands"
      },
      "source": [
        "---- This concludes classification task -----"
      ]
    },
    {
      "cell_type": "markdown",
      "id": "affiliated-adrian",
      "metadata": {
        "id": "affiliated-adrian"
      },
      "source": [
        "## Regression"
      ]
    },
    {
      "cell_type": "markdown",
      "id": "inappropriate-mongolia",
      "metadata": {
        "id": "inappropriate-mongolia"
      },
      "source": [
        "## Load and inspect the housing data"
      ]
    },
    {
      "cell_type": "code",
      "execution_count": null,
      "id": "missing-popularity",
      "metadata": {
        "id": "missing-popularity"
      },
      "outputs": [],
      "source": [
        "import pandas\n",
        "#Lets load the dataset and sample some\n",
        "column_names = ['CRIM', 'ZN', 'INDUS', 'CHAS', 'NOX', 'RM', 'AGE', 'DIS', 'RAD', 'TAX', 'PTRATIO', 'B', 'LSTAT', 'MEDV']\n",
        "df = pd.read_csv('housing.csv', header=None, delimiter=r\"\\s+\", names=column_names)"
      ]
    },
    {
      "cell_type": "code",
      "execution_count": null,
      "id": "crazy-vulnerability",
      "metadata": {
        "id": "crazy-vulnerability",
        "outputId": "6e01d918-77af-48ce-9437-c6f40517e92a"
      },
      "outputs": [
        {
          "data": {
            "text/html": [
              "<div>\n",
              "<style scoped>\n",
              "    .dataframe tbody tr th:only-of-type {\n",
              "        vertical-align: middle;\n",
              "    }\n",
              "\n",
              "    .dataframe tbody tr th {\n",
              "        vertical-align: top;\n",
              "    }\n",
              "\n",
              "    .dataframe thead th {\n",
              "        text-align: right;\n",
              "    }\n",
              "</style>\n",
              "<table border=\"1\" class=\"dataframe\">\n",
              "  <thead>\n",
              "    <tr style=\"text-align: right;\">\n",
              "      <th></th>\n",
              "      <th>count</th>\n",
              "      <th>mean</th>\n",
              "      <th>std</th>\n",
              "      <th>min</th>\n",
              "      <th>25%</th>\n",
              "      <th>50%</th>\n",
              "      <th>75%</th>\n",
              "      <th>max</th>\n",
              "    </tr>\n",
              "  </thead>\n",
              "  <tbody>\n",
              "    <tr>\n",
              "      <th>CRIM</th>\n",
              "      <td>506.0</td>\n",
              "      <td>3.613524</td>\n",
              "      <td>8.601545</td>\n",
              "      <td>0.00632</td>\n",
              "      <td>0.082045</td>\n",
              "      <td>0.25651</td>\n",
              "      <td>3.677083</td>\n",
              "      <td>88.9762</td>\n",
              "    </tr>\n",
              "    <tr>\n",
              "      <th>ZN</th>\n",
              "      <td>506.0</td>\n",
              "      <td>11.363636</td>\n",
              "      <td>23.322453</td>\n",
              "      <td>0.00000</td>\n",
              "      <td>0.000000</td>\n",
              "      <td>0.00000</td>\n",
              "      <td>12.500000</td>\n",
              "      <td>100.0000</td>\n",
              "    </tr>\n",
              "    <tr>\n",
              "      <th>INDUS</th>\n",
              "      <td>506.0</td>\n",
              "      <td>11.136779</td>\n",
              "      <td>6.860353</td>\n",
              "      <td>0.46000</td>\n",
              "      <td>5.190000</td>\n",
              "      <td>9.69000</td>\n",
              "      <td>18.100000</td>\n",
              "      <td>27.7400</td>\n",
              "    </tr>\n",
              "    <tr>\n",
              "      <th>CHAS</th>\n",
              "      <td>506.0</td>\n",
              "      <td>0.069170</td>\n",
              "      <td>0.253994</td>\n",
              "      <td>0.00000</td>\n",
              "      <td>0.000000</td>\n",
              "      <td>0.00000</td>\n",
              "      <td>0.000000</td>\n",
              "      <td>1.0000</td>\n",
              "    </tr>\n",
              "    <tr>\n",
              "      <th>NOX</th>\n",
              "      <td>506.0</td>\n",
              "      <td>0.554695</td>\n",
              "      <td>0.115878</td>\n",
              "      <td>0.38500</td>\n",
              "      <td>0.449000</td>\n",
              "      <td>0.53800</td>\n",
              "      <td>0.624000</td>\n",
              "      <td>0.8710</td>\n",
              "    </tr>\n",
              "    <tr>\n",
              "      <th>RM</th>\n",
              "      <td>506.0</td>\n",
              "      <td>6.284634</td>\n",
              "      <td>0.702617</td>\n",
              "      <td>3.56100</td>\n",
              "      <td>5.885500</td>\n",
              "      <td>6.20850</td>\n",
              "      <td>6.623500</td>\n",
              "      <td>8.7800</td>\n",
              "    </tr>\n",
              "    <tr>\n",
              "      <th>AGE</th>\n",
              "      <td>506.0</td>\n",
              "      <td>68.574901</td>\n",
              "      <td>28.148861</td>\n",
              "      <td>2.90000</td>\n",
              "      <td>45.025000</td>\n",
              "      <td>77.50000</td>\n",
              "      <td>94.075000</td>\n",
              "      <td>100.0000</td>\n",
              "    </tr>\n",
              "    <tr>\n",
              "      <th>DIS</th>\n",
              "      <td>506.0</td>\n",
              "      <td>3.795043</td>\n",
              "      <td>2.105710</td>\n",
              "      <td>1.12960</td>\n",
              "      <td>2.100175</td>\n",
              "      <td>3.20745</td>\n",
              "      <td>5.188425</td>\n",
              "      <td>12.1265</td>\n",
              "    </tr>\n",
              "    <tr>\n",
              "      <th>RAD</th>\n",
              "      <td>506.0</td>\n",
              "      <td>9.549407</td>\n",
              "      <td>8.707259</td>\n",
              "      <td>1.00000</td>\n",
              "      <td>4.000000</td>\n",
              "      <td>5.00000</td>\n",
              "      <td>24.000000</td>\n",
              "      <td>24.0000</td>\n",
              "    </tr>\n",
              "    <tr>\n",
              "      <th>TAX</th>\n",
              "      <td>506.0</td>\n",
              "      <td>408.237154</td>\n",
              "      <td>168.537116</td>\n",
              "      <td>187.00000</td>\n",
              "      <td>279.000000</td>\n",
              "      <td>330.00000</td>\n",
              "      <td>666.000000</td>\n",
              "      <td>711.0000</td>\n",
              "    </tr>\n",
              "    <tr>\n",
              "      <th>PTRATIO</th>\n",
              "      <td>506.0</td>\n",
              "      <td>18.455534</td>\n",
              "      <td>2.164946</td>\n",
              "      <td>12.60000</td>\n",
              "      <td>17.400000</td>\n",
              "      <td>19.05000</td>\n",
              "      <td>20.200000</td>\n",
              "      <td>22.0000</td>\n",
              "    </tr>\n",
              "    <tr>\n",
              "      <th>B</th>\n",
              "      <td>506.0</td>\n",
              "      <td>356.674032</td>\n",
              "      <td>91.294864</td>\n",
              "      <td>0.32000</td>\n",
              "      <td>375.377500</td>\n",
              "      <td>391.44000</td>\n",
              "      <td>396.225000</td>\n",
              "      <td>396.9000</td>\n",
              "    </tr>\n",
              "    <tr>\n",
              "      <th>LSTAT</th>\n",
              "      <td>506.0</td>\n",
              "      <td>12.653063</td>\n",
              "      <td>7.141062</td>\n",
              "      <td>1.73000</td>\n",
              "      <td>6.950000</td>\n",
              "      <td>11.36000</td>\n",
              "      <td>16.955000</td>\n",
              "      <td>37.9700</td>\n",
              "    </tr>\n",
              "    <tr>\n",
              "      <th>MEDV</th>\n",
              "      <td>506.0</td>\n",
              "      <td>22.532806</td>\n",
              "      <td>9.197104</td>\n",
              "      <td>5.00000</td>\n",
              "      <td>17.025000</td>\n",
              "      <td>21.20000</td>\n",
              "      <td>25.000000</td>\n",
              "      <td>50.0000</td>\n",
              "    </tr>\n",
              "  </tbody>\n",
              "</table>\n",
              "</div>"
            ],
            "text/plain": [
              "         count        mean         std        min         25%        50%  \\\n",
              "CRIM     506.0    3.613524    8.601545    0.00632    0.082045    0.25651   \n",
              "ZN       506.0   11.363636   23.322453    0.00000    0.000000    0.00000   \n",
              "INDUS    506.0   11.136779    6.860353    0.46000    5.190000    9.69000   \n",
              "CHAS     506.0    0.069170    0.253994    0.00000    0.000000    0.00000   \n",
              "NOX      506.0    0.554695    0.115878    0.38500    0.449000    0.53800   \n",
              "RM       506.0    6.284634    0.702617    3.56100    5.885500    6.20850   \n",
              "AGE      506.0   68.574901   28.148861    2.90000   45.025000   77.50000   \n",
              "DIS      506.0    3.795043    2.105710    1.12960    2.100175    3.20745   \n",
              "RAD      506.0    9.549407    8.707259    1.00000    4.000000    5.00000   \n",
              "TAX      506.0  408.237154  168.537116  187.00000  279.000000  330.00000   \n",
              "PTRATIO  506.0   18.455534    2.164946   12.60000   17.400000   19.05000   \n",
              "B        506.0  356.674032   91.294864    0.32000  375.377500  391.44000   \n",
              "LSTAT    506.0   12.653063    7.141062    1.73000    6.950000   11.36000   \n",
              "MEDV     506.0   22.532806    9.197104    5.00000   17.025000   21.20000   \n",
              "\n",
              "                75%       max  \n",
              "CRIM       3.677083   88.9762  \n",
              "ZN        12.500000  100.0000  \n",
              "INDUS     18.100000   27.7400  \n",
              "CHAS       0.000000    1.0000  \n",
              "NOX        0.624000    0.8710  \n",
              "RM         6.623500    8.7800  \n",
              "AGE       94.075000  100.0000  \n",
              "DIS        5.188425   12.1265  \n",
              "RAD       24.000000   24.0000  \n",
              "TAX      666.000000  711.0000  \n",
              "PTRATIO   20.200000   22.0000  \n",
              "B        396.225000  396.9000  \n",
              "LSTAT     16.955000   37.9700  \n",
              "MEDV      25.000000   50.0000  "
            ]
          },
          "execution_count": 77,
          "metadata": {},
          "output_type": "execute_result"
        }
      ],
      "source": [
        "df.describe().T"
      ]
    },
    {
      "cell_type": "markdown",
      "id": "growing-islam",
      "metadata": {
        "id": "growing-islam"
      },
      "source": [
        "As we can see the table above the data is not normalized, and is not well distributed"
      ]
    },
    {
      "cell_type": "code",
      "execution_count": null,
      "id": "hindu-credits",
      "metadata": {
        "id": "hindu-credits"
      },
      "outputs": [],
      "source": [
        "df=(df-df.mean())/df.std()"
      ]
    },
    {
      "cell_type": "code",
      "execution_count": null,
      "id": "prepared-trout",
      "metadata": {
        "scrolled": true,
        "id": "prepared-trout",
        "outputId": "4c0b3b4f-0df4-48f6-bbc1-4e2a2814800a"
      },
      "outputs": [
        {
          "data": {
            "text/plain": [
              "<AxesSubplot:>"
            ]
          },
          "execution_count": 79,
          "metadata": {},
          "output_type": "execute_result"
        },
        {
          "data": {
            "image/png": "[encoded data removed]",
            "text/plain": [
              "<Figure size 864x432 with 2 Axes>"
            ]
          },
          "metadata": {
            "needs_background": "light"
          },
          "output_type": "display_data"
        }
      ],
      "source": [
        "df_cor = df.corr()\n",
        "plt.figure(figsize=(12,6))\n",
        "sns.heatmap(df_cor,cmap='RdYlBu',annot=True)"
      ]
    },
    {
      "cell_type": "markdown",
      "id": "retained-handbook",
      "metadata": {
        "id": "retained-handbook"
      },
      "source": [
        "There are many different techniques for preprocessing the data to make it more slear and well separated, which in turn will make the model perform better. They are outside of scope of this material but some of the techniques might be shown in later as EEG data can be very noisy, therefore preprocessing has a huge impact."
      ]
    },
    {
      "cell_type": "code",
      "execution_count": null,
      "id": "weekly-differential",
      "metadata": {
        "id": "weekly-differential",
        "outputId": "1c12265e-d6ea-4a81-920f-d8f9ee32db0f"
      },
      "outputs": [
        {
          "data": {
            "text/plain": [
              "<AxesSubplot:>"
            ]
          },
          "execution_count": 80,
          "metadata": {},
          "output_type": "execute_result"
        },
        {
          "data": {
            "image/png": "[encoded data removed]",
            "text/plain": [
              "<Figure size 1080x576 with 1 Axes>"
            ]
          },
          "metadata": {
            "needs_background": "light"
          },
          "output_type": "display_data"
        }
      ],
      "source": [
        "## As you can see the data cointains many outliers and could use some work\n",
        "from matplotlib import rcParams\n",
        "rcParams['figure.figsize'] = 15,8\n",
        "sns.boxplot(data=df)"
      ]
    },
    {
      "cell_type": "markdown",
      "id": "modified-entry",
      "metadata": {
        "id": "modified-entry"
      },
      "source": [
        "We can plo RM, the average no. of rooms per dwelling and LStat, percentage of lower status population and see how the dataset corresponds with the median price"
      ]
    },
    {
      "cell_type": "code",
      "execution_count": null,
      "id": "white-election",
      "metadata": {
        "id": "white-election",
        "outputId": "696c93d4-b6e9-4ccf-fb3c-05bb43308d43"
      },
      "outputs": [
        {
          "data": {
            "image/png": "[encoded data removed]",
            "text/plain": [
              "<Figure size 1440x360 with 2 Axes>"
            ]
          },
          "metadata": {
            "needs_background": "light"
          },
          "output_type": "display_data"
        }
      ],
      "source": [
        "plt.figure(figsize=(20, 5))\n",
        "\n",
        "for i, col in enumerate(['LSTAT', 'RM']):\n",
        "    plt.subplot(1, 2 , i+1)\n",
        "    x = df[col]\n",
        "    y = df['MEDV']\n",
        "    plt.scatter(x, y, marker='o')\n",
        "    plt.title(col)\n",
        "    plt.xlabel(col)\n",
        "    plt.ylabel('MEDV')"
      ]
    },
    {
      "cell_type": "markdown",
      "id": "precious-latter",
      "metadata": {
        "id": "precious-latter"
      },
      "source": [
        "The plot once again shows clear outliers, Especially the \"RM\" value plot"
      ]
    },
    {
      "cell_type": "markdown",
      "id": "impressed-mexican",
      "metadata": {
        "id": "impressed-mexican"
      },
      "source": [
        "## Remove the MEDV column and transform data into train/test sets"
      ]
    },
    {
      "cell_type": "code",
      "execution_count": null,
      "id": "suburban-bicycle",
      "metadata": {
        "id": "suburban-bicycle",
        "outputId": "e930886a-8824-4a57-889c-5e59ca41e50a"
      },
      "outputs": [
        {
          "data": {
            "text/html": [
              "<div>\n",
              "<style scoped>\n",
              "    .dataframe tbody tr th:only-of-type {\n",
              "        vertical-align: middle;\n",
              "    }\n",
              "\n",
              "    .dataframe tbody tr th {\n",
              "        vertical-align: top;\n",
              "    }\n",
              "\n",
              "    .dataframe thead th {\n",
              "        text-align: right;\n",
              "    }\n",
              "</style>\n",
              "<table border=\"1\" class=\"dataframe\">\n",
              "  <thead>\n",
              "    <tr style=\"text-align: right;\">\n",
              "      <th></th>\n",
              "      <th>CRIM</th>\n",
              "      <th>ZN</th>\n",
              "      <th>INDUS</th>\n",
              "      <th>CHAS</th>\n",
              "      <th>NOX</th>\n",
              "      <th>RM</th>\n",
              "      <th>AGE</th>\n",
              "      <th>DIS</th>\n",
              "      <th>RAD</th>\n",
              "      <th>TAX</th>\n",
              "      <th>PTRATIO</th>\n",
              "      <th>B</th>\n",
              "      <th>LSTAT</th>\n",
              "    </tr>\n",
              "  </thead>\n",
              "  <tbody>\n",
              "    <tr>\n",
              "      <th>0</th>\n",
              "      <td>-0.419367</td>\n",
              "      <td>0.284548</td>\n",
              "      <td>-1.286636</td>\n",
              "      <td>-0.272329</td>\n",
              "      <td>-0.144075</td>\n",
              "      <td>0.413263</td>\n",
              "      <td>-0.119895</td>\n",
              "      <td>0.140075</td>\n",
              "      <td>-0.981871</td>\n",
              "      <td>-0.665949</td>\n",
              "      <td>-1.457558</td>\n",
              "      <td>0.440616</td>\n",
              "      <td>-1.074499</td>\n",
              "    </tr>\n",
              "    <tr>\n",
              "      <th>1</th>\n",
              "      <td>-0.416927</td>\n",
              "      <td>-0.487240</td>\n",
              "      <td>-0.592794</td>\n",
              "      <td>-0.272329</td>\n",
              "      <td>-0.739530</td>\n",
              "      <td>0.194082</td>\n",
              "      <td>0.366803</td>\n",
              "      <td>0.556609</td>\n",
              "      <td>-0.867024</td>\n",
              "      <td>-0.986353</td>\n",
              "      <td>-0.302794</td>\n",
              "      <td>0.440616</td>\n",
              "      <td>-0.491953</td>\n",
              "    </tr>\n",
              "    <tr>\n",
              "      <th>2</th>\n",
              "      <td>-0.416929</td>\n",
              "      <td>-0.487240</td>\n",
              "      <td>-0.592794</td>\n",
              "      <td>-0.272329</td>\n",
              "      <td>-0.739530</td>\n",
              "      <td>1.281446</td>\n",
              "      <td>-0.265549</td>\n",
              "      <td>0.556609</td>\n",
              "      <td>-0.867024</td>\n",
              "      <td>-0.986353</td>\n",
              "      <td>-0.302794</td>\n",
              "      <td>0.396035</td>\n",
              "      <td>-1.207532</td>\n",
              "    </tr>\n",
              "    <tr>\n",
              "      <th>3</th>\n",
              "      <td>-0.416338</td>\n",
              "      <td>-0.487240</td>\n",
              "      <td>-1.305586</td>\n",
              "      <td>-0.272329</td>\n",
              "      <td>-0.834458</td>\n",
              "      <td>1.015298</td>\n",
              "      <td>-0.809088</td>\n",
              "      <td>1.076671</td>\n",
              "      <td>-0.752178</td>\n",
              "      <td>-1.105022</td>\n",
              "      <td>0.112920</td>\n",
              "      <td>0.415751</td>\n",
              "      <td>-1.360171</td>\n",
              "    </tr>\n",
              "    <tr>\n",
              "      <th>4</th>\n",
              "      <td>-0.412074</td>\n",
              "      <td>-0.487240</td>\n",
              "      <td>-1.305586</td>\n",
              "      <td>-0.272329</td>\n",
              "      <td>-0.834458</td>\n",
              "      <td>1.227362</td>\n",
              "      <td>-0.510674</td>\n",
              "      <td>1.076671</td>\n",
              "      <td>-0.752178</td>\n",
              "      <td>-1.105022</td>\n",
              "      <td>0.112920</td>\n",
              "      <td>0.440616</td>\n",
              "      <td>-1.025487</td>\n",
              "    </tr>\n",
              "  </tbody>\n",
              "</table>\n",
              "</div>"
            ],
            "text/plain": [
              "       CRIM        ZN     INDUS      CHAS       NOX        RM       AGE  \\\n",
              "0 -0.419367  0.284548 -1.286636 -0.272329 -0.144075  0.413263 -0.119895   \n",
              "1 -0.416927 -0.487240 -0.592794 -0.272329 -0.739530  0.194082  0.366803   \n",
              "2 -0.416929 -0.487240 -0.592794 -0.272329 -0.739530  1.281446 -0.265549   \n",
              "3 -0.416338 -0.487240 -1.305586 -0.272329 -0.834458  1.015298 -0.809088   \n",
              "4 -0.412074 -0.487240 -1.305586 -0.272329 -0.834458  1.227362 -0.510674   \n",
              "\n",
              "        DIS       RAD       TAX   PTRATIO         B     LSTAT  \n",
              "0  0.140075 -0.981871 -0.665949 -1.457558  0.440616 -1.074499  \n",
              "1  0.556609 -0.867024 -0.986353 -0.302794  0.440616 -0.491953  \n",
              "2  0.556609 -0.867024 -0.986353 -0.302794  0.396035 -1.207532  \n",
              "3  1.076671 -0.752178 -1.105022  0.112920  0.415751 -1.360171  \n",
              "4  1.076671 -0.752178 -1.105022  0.112920  0.440616 -1.025487  "
            ]
          },
          "execution_count": 82,
          "metadata": {},
          "output_type": "execute_result"
        }
      ],
      "source": [
        "X = df.copy()\n",
        "y = X['MEDV']\n",
        "X.drop(['MEDV'], axis=1, inplace=True)\n",
        "X.head()"
      ]
    },
    {
      "cell_type": "code",
      "execution_count": null,
      "id": "accompanied-boundary",
      "metadata": {
        "id": "accompanied-boundary"
      },
      "outputs": [],
      "source": [
        "# split in train and test set\n",
        "from sklearn.model_selection import train_test_split\n",
        "X_train, X_test, y_train, y_test = train_test_split(X, y, test_size=0.2,random_state=1)"
      ]
    },
    {
      "cell_type": "code",
      "execution_count": null,
      "id": "interim-anniversary",
      "metadata": {
        "id": "interim-anniversary"
      },
      "outputs": [],
      "source": []
    },
    {
      "cell_type": "code",
      "execution_count": null,
      "id": "actual-employment",
      "metadata": {
        "id": "actual-employment",
        "outputId": "f006ef29-a63f-4574-9eb3-81fed4aec163"
      },
      "outputs": [
        {
          "data": {
            "text/plain": [
              "LinearRegression()"
            ]
          },
          "execution_count": 84,
          "metadata": {},
          "output_type": "execute_result"
        }
      ],
      "source": [
        "from sklearn.linear_model import LinearRegression\n",
        "from sklearn.metrics import mean_squared_error\n",
        "\n",
        "lin_model = LinearRegression()\n",
        "lin_model.fit(X_train, y_train)"
      ]
    },
    {
      "cell_type": "markdown",
      "id": "fitting-namibia",
      "metadata": {
        "id": "fitting-namibia"
      },
      "source": [
        "Unlike classification task, we cannot check the accuracy of our predictions, instead we check how close the predicted value is to the target value. We can use RMSE and R2 scores to help determine whether the model is accurate or not. In general, R2 score over 0.7 is good and it shows there is a high correlation."
      ]
    },
    {
      "cell_type": "code",
      "execution_count": null,
      "id": "trying-island",
      "metadata": {
        "id": "trying-island",
        "outputId": "c7981a1d-07c0-4c15-bb33-0c4630055f80"
      },
      "outputs": [
        {
          "name": "stdout",
          "output_type": "stream",
          "text": [
            "RMSE is 0.5257495633691472\n",
            "R2 score is 0.763417443213847\n"
          ]
        }
      ],
      "source": [
        "import numpy as np\n",
        "from sklearn.metrics import r2_score\n",
        "\n",
        "y_test_predict = lin_model.predict(X_test)\n",
        "rmse = (np.sqrt(mean_squared_error(y_test, y_test_predict)))\n",
        "r2 = r2_score(y_test, y_test_predict)\n",
        "\n",
        "print(f'RMSE is {rmse}')\n",
        "print(f'R2 score is {r2}')"
      ]
    },
    {
      "cell_type": "markdown",
      "id": "gross-bones",
      "metadata": {
        "id": "gross-bones"
      },
      "source": [
        "## Neural Data Model - EEG brainwave data to detect emotions\n",
        "Dataset from: https://www.kaggle.com/birdy654/eeg-brainwave-dataset-feeling-emotions"
      ]
    },
    {
      "cell_type": "markdown",
      "id": "basic-burke",
      "metadata": {
        "id": "basic-burke"
      },
      "source": [
        "***Import dataset \"emotions.csv\" as pandas dataframe***"
      ]
    },
    {
      "cell_type": "code",
      "execution_count": null,
      "id": "junior-liechtenstein",
      "metadata": {
        "id": "junior-liechtenstein"
      },
      "outputs": [],
      "source": [
        "import pandas as pd\n",
        "##Implement the code. and remove NotImplementedError line\n",
        "raise NotImplementedError(\"Implement the code.\")"
      ]
    },
    {
      "cell_type": "markdown",
      "id": "powerful-camel",
      "metadata": {
        "id": "powerful-camel"
      },
      "source": [
        "***Print out the first 5 rows of the dataset***"
      ]
    },
    {
      "cell_type": "code",
      "execution_count": null,
      "id": "sharing-christopher",
      "metadata": {
        "id": "sharing-christopher",
        "outputId": "0c1ce40a-fdbf-4261-a27e-aff8a41d28a7"
      },
      "outputs": [
        {
          "data": {
            "text/html": [
              "<div>\n",
              "<style scoped>\n",
              "    .dataframe tbody tr th:only-of-type {\n",
              "        vertical-align: middle;\n",
              "    }\n",
              "\n",
              "    .dataframe tbody tr th {\n",
              "        vertical-align: top;\n",
              "    }\n",
              "\n",
              "    .dataframe thead th {\n",
              "        text-align: right;\n",
              "    }\n",
              "</style>\n",
              "<table border=\"1\" class=\"dataframe\">\n",
              "  <thead>\n",
              "    <tr style=\"text-align: right;\">\n",
              "      <th></th>\n",
              "      <th># mean_0_a</th>\n",
              "      <th>mean_1_a</th>\n",
              "      <th>mean_2_a</th>\n",
              "      <th>mean_3_a</th>\n",
              "      <th>mean_4_a</th>\n",
              "      <th>mean_d_0_a</th>\n",
              "      <th>mean_d_1_a</th>\n",
              "      <th>mean_d_2_a</th>\n",
              "      <th>mean_d_3_a</th>\n",
              "      <th>mean_d_4_a</th>\n",
              "      <th>...</th>\n",
              "      <th>fft_741_b</th>\n",
              "      <th>fft_742_b</th>\n",
              "      <th>fft_743_b</th>\n",
              "      <th>fft_744_b</th>\n",
              "      <th>fft_745_b</th>\n",
              "      <th>fft_746_b</th>\n",
              "      <th>fft_747_b</th>\n",
              "      <th>fft_748_b</th>\n",
              "      <th>fft_749_b</th>\n",
              "      <th>label</th>\n",
              "    </tr>\n",
              "  </thead>\n",
              "  <tbody>\n",
              "    <tr>\n",
              "      <th>0</th>\n",
              "      <td>4.62</td>\n",
              "      <td>30.3</td>\n",
              "      <td>-356.0</td>\n",
              "      <td>15.6</td>\n",
              "      <td>26.3</td>\n",
              "      <td>1.070</td>\n",
              "      <td>0.411</td>\n",
              "      <td>-15.70</td>\n",
              "      <td>2.06</td>\n",
              "      <td>3.15</td>\n",
              "      <td>...</td>\n",
              "      <td>23.5</td>\n",
              "      <td>20.3</td>\n",
              "      <td>20.3</td>\n",
              "      <td>23.5</td>\n",
              "      <td>-215.0</td>\n",
              "      <td>280.00</td>\n",
              "      <td>-162.00</td>\n",
              "      <td>-162.00</td>\n",
              "      <td>280.00</td>\n",
              "      <td>NEGATIVE</td>\n",
              "    </tr>\n",
              "    <tr>\n",
              "      <th>1</th>\n",
              "      <td>28.80</td>\n",
              "      <td>33.1</td>\n",
              "      <td>32.0</td>\n",
              "      <td>25.8</td>\n",
              "      <td>22.8</td>\n",
              "      <td>6.550</td>\n",
              "      <td>1.680</td>\n",
              "      <td>2.88</td>\n",
              "      <td>3.83</td>\n",
              "      <td>-4.82</td>\n",
              "      <td>...</td>\n",
              "      <td>-23.3</td>\n",
              "      <td>-21.8</td>\n",
              "      <td>-21.8</td>\n",
              "      <td>-23.3</td>\n",
              "      <td>182.0</td>\n",
              "      <td>2.57</td>\n",
              "      <td>-31.60</td>\n",
              "      <td>-31.60</td>\n",
              "      <td>2.57</td>\n",
              "      <td>NEUTRAL</td>\n",
              "    </tr>\n",
              "    <tr>\n",
              "      <th>2</th>\n",
              "      <td>8.90</td>\n",
              "      <td>29.4</td>\n",
              "      <td>-416.0</td>\n",
              "      <td>16.7</td>\n",
              "      <td>23.7</td>\n",
              "      <td>79.900</td>\n",
              "      <td>3.360</td>\n",
              "      <td>90.20</td>\n",
              "      <td>89.90</td>\n",
              "      <td>2.03</td>\n",
              "      <td>...</td>\n",
              "      <td>462.0</td>\n",
              "      <td>-233.0</td>\n",
              "      <td>-233.0</td>\n",
              "      <td>462.0</td>\n",
              "      <td>-267.0</td>\n",
              "      <td>281.00</td>\n",
              "      <td>-148.00</td>\n",
              "      <td>-148.00</td>\n",
              "      <td>281.00</td>\n",
              "      <td>POSITIVE</td>\n",
              "    </tr>\n",
              "    <tr>\n",
              "      <th>3</th>\n",
              "      <td>14.90</td>\n",
              "      <td>31.6</td>\n",
              "      <td>-143.0</td>\n",
              "      <td>19.8</td>\n",
              "      <td>24.3</td>\n",
              "      <td>-0.584</td>\n",
              "      <td>-0.284</td>\n",
              "      <td>8.82</td>\n",
              "      <td>2.30</td>\n",
              "      <td>-1.97</td>\n",
              "      <td>...</td>\n",
              "      <td>299.0</td>\n",
              "      <td>-243.0</td>\n",
              "      <td>-243.0</td>\n",
              "      <td>299.0</td>\n",
              "      <td>132.0</td>\n",
              "      <td>-12.40</td>\n",
              "      <td>9.53</td>\n",
              "      <td>9.53</td>\n",
              "      <td>-12.40</td>\n",
              "      <td>POSITIVE</td>\n",
              "    </tr>\n",
              "    <tr>\n",
              "      <th>4</th>\n",
              "      <td>28.30</td>\n",
              "      <td>31.3</td>\n",
              "      <td>45.2</td>\n",
              "      <td>27.3</td>\n",
              "      <td>24.5</td>\n",
              "      <td>34.800</td>\n",
              "      <td>-5.790</td>\n",
              "      <td>3.06</td>\n",
              "      <td>41.40</td>\n",
              "      <td>5.52</td>\n",
              "      <td>...</td>\n",
              "      <td>12.0</td>\n",
              "      <td>38.1</td>\n",
              "      <td>38.1</td>\n",
              "      <td>12.0</td>\n",
              "      <td>119.0</td>\n",
              "      <td>-17.60</td>\n",
              "      <td>23.90</td>\n",
              "      <td>23.90</td>\n",
              "      <td>-17.60</td>\n",
              "      <td>NEUTRAL</td>\n",
              "    </tr>\n",
              "  </tbody>\n",
              "</table>\n",
              "<p>5 rows × 2549 columns</p>\n",
              "</div>"
            ],
            "text/plain": [
              "   # mean_0_a  mean_1_a  mean_2_a  mean_3_a  mean_4_a  mean_d_0_a  mean_d_1_a  \\\n",
              "0        4.62      30.3    -356.0      15.6      26.3       1.070       0.411   \n",
              "1       28.80      33.1      32.0      25.8      22.8       6.550       1.680   \n",
              "2        8.90      29.4    -416.0      16.7      23.7      79.900       3.360   \n",
              "3       14.90      31.6    -143.0      19.8      24.3      -0.584      -0.284   \n",
              "4       28.30      31.3      45.2      27.3      24.5      34.800      -5.790   \n",
              "\n",
              "   mean_d_2_a  mean_d_3_a  mean_d_4_a  ...  fft_741_b  fft_742_b  fft_743_b  \\\n",
              "0      -15.70        2.06        3.15  ...       23.5       20.3       20.3   \n",
              "1        2.88        3.83       -4.82  ...      -23.3      -21.8      -21.8   \n",
              "2       90.20       89.90        2.03  ...      462.0     -233.0     -233.0   \n",
              "3        8.82        2.30       -1.97  ...      299.0     -243.0     -243.0   \n",
              "4        3.06       41.40        5.52  ...       12.0       38.1       38.1   \n",
              "\n",
              "   fft_744_b  fft_745_b  fft_746_b  fft_747_b  fft_748_b  fft_749_b     label  \n",
              "0       23.5     -215.0     280.00    -162.00    -162.00     280.00  NEGATIVE  \n",
              "1      -23.3      182.0       2.57     -31.60     -31.60       2.57   NEUTRAL  \n",
              "2      462.0     -267.0     281.00    -148.00    -148.00     281.00  POSITIVE  \n",
              "3      299.0      132.0     -12.40       9.53       9.53     -12.40  POSITIVE  \n",
              "4       12.0      119.0     -17.60      23.90      23.90     -17.60   NEUTRAL  \n",
              "\n",
              "[5 rows x 2549 columns]"
            ]
          },
          "execution_count": 87,
          "metadata": {},
          "output_type": "execute_result"
        }
      ],
      "source": [
        "##Implement the code. and remove NotImplementedError line\n",
        "raise NotImplementedError(\"Implement the code.\")"
      ]
    },
    {
      "cell_type": "markdown",
      "id": "unnecessary-switch",
      "metadata": {
        "id": "unnecessary-switch"
      },
      "source": [
        "***split the dataset into features X and label y and print out the first 5 rows of X***"
      ]
    },
    {
      "cell_type": "code",
      "execution_count": null,
      "id": "bibliographic-separate",
      "metadata": {
        "scrolled": false,
        "id": "bibliographic-separate",
        "outputId": "ae49d1c4-b847-4b4a-99db-da104534eb9b"
      },
      "outputs": [
        {
          "data": {
            "text/html": [
              "<div>\n",
              "<style scoped>\n",
              "    .dataframe tbody tr th:only-of-type {\n",
              "        vertical-align: middle;\n",
              "    }\n",
              "\n",
              "    .dataframe tbody tr th {\n",
              "        vertical-align: top;\n",
              "    }\n",
              "\n",
              "    .dataframe thead th {\n",
              "        text-align: right;\n",
              "    }\n",
              "</style>\n",
              "<table border=\"1\" class=\"dataframe\">\n",
              "  <thead>\n",
              "    <tr style=\"text-align: right;\">\n",
              "      <th></th>\n",
              "      <th># mean_0_a</th>\n",
              "      <th>mean_1_a</th>\n",
              "      <th>mean_2_a</th>\n",
              "      <th>mean_3_a</th>\n",
              "      <th>mean_4_a</th>\n",
              "      <th>mean_d_0_a</th>\n",
              "      <th>mean_d_1_a</th>\n",
              "      <th>mean_d_2_a</th>\n",
              "      <th>mean_d_3_a</th>\n",
              "      <th>mean_d_4_a</th>\n",
              "      <th>...</th>\n",
              "      <th>fft_740_b</th>\n",
              "      <th>fft_741_b</th>\n",
              "      <th>fft_742_b</th>\n",
              "      <th>fft_743_b</th>\n",
              "      <th>fft_744_b</th>\n",
              "      <th>fft_745_b</th>\n",
              "      <th>fft_746_b</th>\n",
              "      <th>fft_747_b</th>\n",
              "      <th>fft_748_b</th>\n",
              "      <th>fft_749_b</th>\n",
              "    </tr>\n",
              "  </thead>\n",
              "  <tbody>\n",
              "    <tr>\n",
              "      <th>0</th>\n",
              "      <td>4.62</td>\n",
              "      <td>30.3</td>\n",
              "      <td>-356.0</td>\n",
              "      <td>15.6</td>\n",
              "      <td>26.3</td>\n",
              "      <td>1.070</td>\n",
              "      <td>0.411</td>\n",
              "      <td>-15.70</td>\n",
              "      <td>2.06</td>\n",
              "      <td>3.15</td>\n",
              "      <td>...</td>\n",
              "      <td>74.3</td>\n",
              "      <td>23.5</td>\n",
              "      <td>20.3</td>\n",
              "      <td>20.3</td>\n",
              "      <td>23.5</td>\n",
              "      <td>-215.0</td>\n",
              "      <td>280.00</td>\n",
              "      <td>-162.00</td>\n",
              "      <td>-162.00</td>\n",
              "      <td>280.00</td>\n",
              "    </tr>\n",
              "    <tr>\n",
              "      <th>1</th>\n",
              "      <td>28.80</td>\n",
              "      <td>33.1</td>\n",
              "      <td>32.0</td>\n",
              "      <td>25.8</td>\n",
              "      <td>22.8</td>\n",
              "      <td>6.550</td>\n",
              "      <td>1.680</td>\n",
              "      <td>2.88</td>\n",
              "      <td>3.83</td>\n",
              "      <td>-4.82</td>\n",
              "      <td>...</td>\n",
              "      <td>130.0</td>\n",
              "      <td>-23.3</td>\n",
              "      <td>-21.8</td>\n",
              "      <td>-21.8</td>\n",
              "      <td>-23.3</td>\n",
              "      <td>182.0</td>\n",
              "      <td>2.57</td>\n",
              "      <td>-31.60</td>\n",
              "      <td>-31.60</td>\n",
              "      <td>2.57</td>\n",
              "    </tr>\n",
              "    <tr>\n",
              "      <th>2</th>\n",
              "      <td>8.90</td>\n",
              "      <td>29.4</td>\n",
              "      <td>-416.0</td>\n",
              "      <td>16.7</td>\n",
              "      <td>23.7</td>\n",
              "      <td>79.900</td>\n",
              "      <td>3.360</td>\n",
              "      <td>90.20</td>\n",
              "      <td>89.90</td>\n",
              "      <td>2.03</td>\n",
              "      <td>...</td>\n",
              "      <td>-534.0</td>\n",
              "      <td>462.0</td>\n",
              "      <td>-233.0</td>\n",
              "      <td>-233.0</td>\n",
              "      <td>462.0</td>\n",
              "      <td>-267.0</td>\n",
              "      <td>281.00</td>\n",
              "      <td>-148.00</td>\n",
              "      <td>-148.00</td>\n",
              "      <td>281.00</td>\n",
              "    </tr>\n",
              "    <tr>\n",
              "      <th>3</th>\n",
              "      <td>14.90</td>\n",
              "      <td>31.6</td>\n",
              "      <td>-143.0</td>\n",
              "      <td>19.8</td>\n",
              "      <td>24.3</td>\n",
              "      <td>-0.584</td>\n",
              "      <td>-0.284</td>\n",
              "      <td>8.82</td>\n",
              "      <td>2.30</td>\n",
              "      <td>-1.97</td>\n",
              "      <td>...</td>\n",
              "      <td>-183.0</td>\n",
              "      <td>299.0</td>\n",
              "      <td>-243.0</td>\n",
              "      <td>-243.0</td>\n",
              "      <td>299.0</td>\n",
              "      <td>132.0</td>\n",
              "      <td>-12.40</td>\n",
              "      <td>9.53</td>\n",
              "      <td>9.53</td>\n",
              "      <td>-12.40</td>\n",
              "    </tr>\n",
              "    <tr>\n",
              "      <th>4</th>\n",
              "      <td>28.30</td>\n",
              "      <td>31.3</td>\n",
              "      <td>45.2</td>\n",
              "      <td>27.3</td>\n",
              "      <td>24.5</td>\n",
              "      <td>34.800</td>\n",
              "      <td>-5.790</td>\n",
              "      <td>3.06</td>\n",
              "      <td>41.40</td>\n",
              "      <td>5.52</td>\n",
              "      <td>...</td>\n",
              "      <td>114.0</td>\n",
              "      <td>12.0</td>\n",
              "      <td>38.1</td>\n",
              "      <td>38.1</td>\n",
              "      <td>12.0</td>\n",
              "      <td>119.0</td>\n",
              "      <td>-17.60</td>\n",
              "      <td>23.90</td>\n",
              "      <td>23.90</td>\n",
              "      <td>-17.60</td>\n",
              "    </tr>\n",
              "  </tbody>\n",
              "</table>\n",
              "<p>5 rows × 2548 columns</p>\n",
              "</div>"
            ],
            "text/plain": [
              "   # mean_0_a  mean_1_a  mean_2_a  mean_3_a  mean_4_a  mean_d_0_a  mean_d_1_a  \\\n",
              "0        4.62      30.3    -356.0      15.6      26.3       1.070       0.411   \n",
              "1       28.80      33.1      32.0      25.8      22.8       6.550       1.680   \n",
              "2        8.90      29.4    -416.0      16.7      23.7      79.900       3.360   \n",
              "3       14.90      31.6    -143.0      19.8      24.3      -0.584      -0.284   \n",
              "4       28.30      31.3      45.2      27.3      24.5      34.800      -5.790   \n",
              "\n",
              "   mean_d_2_a  mean_d_3_a  mean_d_4_a  ...  fft_740_b  fft_741_b  fft_742_b  \\\n",
              "0      -15.70        2.06        3.15  ...       74.3       23.5       20.3   \n",
              "1        2.88        3.83       -4.82  ...      130.0      -23.3      -21.8   \n",
              "2       90.20       89.90        2.03  ...     -534.0      462.0     -233.0   \n",
              "3        8.82        2.30       -1.97  ...     -183.0      299.0     -243.0   \n",
              "4        3.06       41.40        5.52  ...      114.0       12.0       38.1   \n",
              "\n",
              "   fft_743_b  fft_744_b  fft_745_b  fft_746_b  fft_747_b  fft_748_b  fft_749_b  \n",
              "0       20.3       23.5     -215.0     280.00    -162.00    -162.00     280.00  \n",
              "1      -21.8      -23.3      182.0       2.57     -31.60     -31.60       2.57  \n",
              "2     -233.0      462.0     -267.0     281.00    -148.00    -148.00     281.00  \n",
              "3     -243.0      299.0      132.0     -12.40       9.53       9.53     -12.40  \n",
              "4       38.1       12.0      119.0     -17.60      23.90      23.90     -17.60  \n",
              "\n",
              "[5 rows x 2548 columns]"
            ]
          },
          "execution_count": 88,
          "metadata": {},
          "output_type": "execute_result"
        }
      ],
      "source": [
        "##Implement the code. and remove NotImplementedError line\n",
        "raise NotImplementedError(\"Implement the code.\")"
      ]
    },
    {
      "cell_type": "markdown",
      "id": "fitting-central",
      "metadata": {
        "id": "fitting-central"
      },
      "source": [
        "***Normalize dataset***"
      ]
    },
    {
      "cell_type": "code",
      "execution_count": null,
      "id": "first-rates",
      "metadata": {
        "id": "first-rates"
      },
      "outputs": [],
      "source": [
        "X=(X-X.mean())/X.std()"
      ]
    },
    {
      "cell_type": "markdown",
      "id": "reduced-brush",
      "metadata": {
        "id": "reduced-brush"
      },
      "source": [
        "***Plot Line Graph of sample df.iloc[0, :] from the dataset using pandas plot function***\n"
      ]
    },
    {
      "cell_type": "code",
      "execution_count": null,
      "id": "ethical-trauma",
      "metadata": {
        "id": "ethical-trauma",
        "outputId": "ccc7514b-ae09-4609-f119-01f73d22e3fd"
      },
      "outputs": [
        {
          "ename": "NotImplementedError",
          "evalue": "Split the tuple below",
          "output_type": "error",
          "traceback": [
            "\u001b[0;31m---------------------------------------------------------------------------\u001b[0m",
            "\u001b[0;31mNotImplementedError\u001b[0m                       Traceback (most recent call last)",
            "\u001b[0;32m<ipython-input-95-05a5d0b69189>\u001b[0m in \u001b[0;36m<module>\u001b[0;34m\u001b[0m\n\u001b[1;32m      1\u001b[0m \u001b[0;31m##Split the tuple and remove NotImplementedError line\u001b[0m\u001b[0;34m\u001b[0m\u001b[0;34m\u001b[0m\u001b[0;34m\u001b[0m\u001b[0m\n\u001b[0;32m----> 2\u001b[0;31m \u001b[0;32mraise\u001b[0m \u001b[0mNotImplementedError\u001b[0m\u001b[0;34m(\u001b[0m\u001b[0;34m\"Split the tuple below\"\u001b[0m\u001b[0;34m)\u001b[0m\u001b[0;34m\u001b[0m\u001b[0;34m\u001b[0m\u001b[0m\n\u001b[0m\u001b[1;32m      3\u001b[0m \u001b[0mX\u001b[0m\u001b[0;34m.\u001b[0m\u001b[0miloc\u001b[0m\u001b[0;34m[\u001b[0m\u001b[0;36m0\u001b[0m\u001b[0;34m,\u001b[0m\u001b[0;34m:\u001b[0m\u001b[0;34m]\u001b[0m \u001b[0;31m## ad plot function\u001b[0m\u001b[0;34m\u001b[0m\u001b[0;34m\u001b[0m\u001b[0m\n",
            "\u001b[0;31mNotImplementedError\u001b[0m: Split the tuple below"
          ]
        }
      ],
      "source": [
        "##Implement the code. and remove NotImplementedError line\n",
        "raise NotImplementedError(\"Implement the code.\")\n",
        "X.iloc[0,:] ## ad plot function"
      ]
    },
    {
      "cell_type": "markdown",
      "id": "centered-regard",
      "metadata": {
        "id": "centered-regard"
      },
      "source": [
        "***Labels y are a string, we need to convert them to reflect 3 different sinstictive states***"
      ]
    },
    {
      "cell_type": "code",
      "execution_count": null,
      "id": "realistic-cedar",
      "metadata": {
        "id": "realistic-cedar"
      },
      "outputs": [],
      "source": [
        "from sklearn.preprocessing import LabelEncoder\n",
        "\n",
        "##Implement the code. and remove NotImplementedError line\n",
        "raise NotImplementedError(\"Implement the code.\")"
      ]
    },
    {
      "cell_type": "code",
      "execution_count": null,
      "id": "conscious-vault",
      "metadata": {
        "id": "conscious-vault",
        "outputId": "269ffad3-d8b1-4176-b820-d6e5b95dd829"
      },
      "outputs": [
        {
          "data": {
            "text/plain": [
              "array([[0],\n",
              "       [1],\n",
              "       [2],\n",
              "       [2],\n",
              "       [1]])"
            ]
          },
          "execution_count": 92,
          "metadata": {},
          "output_type": "execute_result"
        }
      ],
      "source": [
        "y[:5]"
      ]
    },
    {
      "cell_type": "markdown",
      "id": "silent-short",
      "metadata": {
        "id": "silent-short"
      },
      "source": [
        "***Use train_test_split to split the dataset into 4 variables X_train, X_test, y_train, y_test with test_size = 0.33***"
      ]
    },
    {
      "cell_type": "code",
      "execution_count": null,
      "id": "international-script",
      "metadata": {
        "id": "international-script"
      },
      "outputs": [],
      "source": [
        "from sklearn.model_selection import train_test_split\n",
        "##Implement the code. and remove NotImplementedError line\n",
        "raise NotImplementedError(\"Implement the code.\")"
      ]
    },
    {
      "cell_type": "markdown",
      "id": "encouraging-bottle",
      "metadata": {
        "id": "encouraging-bottle"
      },
      "source": [
        "***Fit LogisticRegression(solver='liblinear') model and train on X_train, y_train***"
      ]
    },
    {
      "cell_type": "code",
      "execution_count": null,
      "id": "defined-samuel",
      "metadata": {
        "id": "defined-samuel",
        "outputId": "3c4b9e9e-c289-4264-a6ea-8b8c93f509ce"
      },
      "outputs": [
        {
          "ename": "SyntaxError",
          "evalue": "f-string: empty expression not allowed (<ipython-input-96-f2d1ac389e98>, line 6)",
          "output_type": "error",
          "traceback": [
            "\u001b[0;36m  File \u001b[0;32m\"<ipython-input-96-f2d1ac389e98>\"\u001b[0;36m, line \u001b[0;32m6\u001b[0m\n\u001b[0;31m    print(f\"Test model Accuracy: {}\")\u001b[0m\n\u001b[0m          ^\u001b[0m\n\u001b[0;31mSyntaxError\u001b[0m\u001b[0;31m:\u001b[0m f-string: empty expression not allowed\n"
          ]
        }
      ],
      "source": [
        "from sklearn.linear_model import LogisticRegression\n",
        "\n",
        "##Implement the code. and remove NotImplementedError line\n",
        "raise NotImplementedError(\"Implement the code.\")\n",
        "\n",
        "print(f\"Train model Accuracy: \")\n",
        "print(f\"Test model Accuracy: \")"
      ]
    },
    {
      "cell_type": "markdown",
      "id": "sixth-tissue",
      "metadata": {
        "id": "sixth-tissue"
      },
      "source": [
        "#### This concludes todays Python Intro tutorial."
      ]
    }
  ],
  "metadata": {
    "kernelspec": {
      "display_name": "Python 3",
      "language": "python",
      "name": "python3"
    },
    "language_info": {
      "codemirror_mode": {
        "name": "ipython",
        "version": 3
      },
      "file_extension": ".py",
      "mimetype": "text/x-python",
      "name": "python",
      "nbconvert_exporter": "python",
      "pygments_lexer": "ipython3",
      "version": "3.8.5"
    },
    "colab": {
      "provenance": []
    }
  },
  "nbformat": 4,
  "nbformat_minor": 5
}